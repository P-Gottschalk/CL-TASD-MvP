{
 "cells": [
  {
   "cell_type": "markdown",
   "metadata": {
    "id": "NlSm-XoyKuvo"
   },
   "source": [
    "### **Notebook Setup**"
   ]
  },
  {
   "cell_type": "markdown",
   "metadata": {
    "id": "IEAxUJ-S2dJB"
   },
   "source": [
    "**Mount Prep**"
   ]
  },
  {
   "cell_type": "code",
   "execution_count": null,
   "metadata": {
    "colab": {
     "base_uri": "https://localhost:8080/"
    },
    "executionInfo": {
     "elapsed": 15566,
     "status": "ok",
     "timestamp": 1753190606261,
     "user": {
      "displayName": "Philipp Gottschalk",
      "userId": "02502242344906393626"
     },
     "user_tz": -120
    },
    "id": "tZlNusdLTV0v",
    "outputId": "fa8f34ef-eda3-4be5-e787-f886ecb84dab"
   },
   "outputs": [],
   "source": [
    "from google.colab import drive\n",
    "drive.mount(\"/content/drive/\")"
   ]
  },
  {
   "cell_type": "markdown",
   "metadata": {
    "id": "vkx1Y9Qj5G_1"
   },
   "source": [
    "**Package Installation:**"
   ]
  },
  {
   "cell_type": "code",
   "execution_count": null,
   "metadata": {
    "colab": {
     "base_uri": "https://localhost:8080/"
    },
    "executionInfo": {
     "elapsed": 91534,
     "status": "ok",
     "timestamp": 1753190697798,
     "user": {
      "displayName": "Philipp Gottschalk",
      "userId": "02502242344906393626"
     },
     "user_tz": -120
    },
    "id": "g73H7C4N_aUN",
    "outputId": "65cfaef9-bc93-4057-88ab-1f036dfdfd7e"
   },
   "outputs": [],
   "source": [
    "! pip install transformers==4.53.2\n",
    "! pip install torch\n",
    "! pip install --upgrade pytorch-lightning\n",
    "! pip install sentencepiece\n",
    "! pip install parse\n",
    "! pip install --upgrade huggingface_hub"
   ]
  },
  {
   "cell_type": "markdown",
   "metadata": {
    "id": "nu6jBbPL2q4F"
   },
   "source": [
    "**GitHub Cloning:** 90-day access token is used"
   ]
  },
  {
   "cell_type": "code",
   "execution_count": null,
   "metadata": {
    "id": "C-qbm4XreAUf"
   },
   "outputs": [],
   "source": [
    "! rm -r CL-TASD-MvP #Remove GitHub whilst in session"
   ]
  },
  {
   "cell_type": "code",
   "execution_count": null,
   "metadata": {
    "colab": {
     "base_uri": "https://localhost:8080/"
    },
    "executionInfo": {
     "elapsed": 1329,
     "status": "ok",
     "timestamp": 1753190699131,
     "user": {
      "displayName": "Philipp Gottschalk",
      "userId": "02502242344906393626"
     },
     "user_tz": -120
    },
    "id": "g9Ovr3oPvWD7",
    "outputId": "34868cf5-4270-4347-dc1f-a381bc912385"
   },
   "outputs": [],
   "source": [
    "!git clone https://github.com/P-Gottschalk/CL-TASD-MvP.git"
   ]
  },
  {
   "cell_type": "markdown",
   "metadata": {
    "id": "IVyxSxqrCaiy"
   },
   "source": [
    "### **Model Training**"
   ]
  },
  {
   "cell_type": "markdown",
   "metadata": {
    "id": "zaVov8u3EXa3"
   },
   "source": [
    "Train the full model: MVP together with contrastive learning"
   ]
  },
  {
   "cell_type": "code",
   "execution_count": null,
   "metadata": {
    "collapsed": true,
    "id": "mSFVoznWwKWa"
   },
   "outputs": [],
   "source": [
    "! python /content/CL-TASD-MvP/model/main_train.py --task \"cl_mvp_tasd\" --num_beams \"1\"  --top_k 5 --do_contr_sent --do_contr_aspect --language \"Turkish\" --model_prefix \"Turkish_SemEval16\" --dataset \"SemEval16\" --do_train --train_batch_size 16 --eval_batch_size 64 --num_train_epochs 20 --cont_temp 0.25 --cont_loss 0.05 --weight_decay 0.1 --warmup_steps 0.1"
   ]
  },
  {
   "cell_type": "markdown",
   "metadata": {
    "id": "UU1ugT5NEnON"
   },
   "source": [
    "Train only MVP: no contrastive learning."
   ]
  },
  {
   "cell_type": "code",
   "execution_count": null,
   "metadata": {
    "collapsed": true,
    "id": "O0KXJwGxEnOO"
   },
   "outputs": [],
   "source": [
    "! python /content/CL-TASD-MvP/model/main_train.py --task \"cl_mvp_tasd\" --num_beams \"1\"  --top_k 5 --language \"Turkish\" --model_prefix \"Turkish_SemEval16\" --dataset \"SemEval16\" --do_train --train_batch_size 16 --eval_batch_size 64 --num_train_epochs 20 --cont_temp 0.25 --cont_loss 0.05 --weight_decay 0.1 --warmup_steps 0.1"
   ]
  },
  {
   "cell_type": "markdown",
   "metadata": {
    "id": "7jXsC8f1E0Md"
   },
   "source": [
    "Train only contrastive learning: no MVP"
   ]
  },
  {
   "cell_type": "code",
   "execution_count": null,
   "metadata": {
    "collapsed": true,
    "id": "40Z09BttE0Md"
   },
   "outputs": [],
   "source": [
    "! python /content/CL-TASD-MvP/model/main_train.py --task \"cl_mvp_tasd\" --num_beams \"1\"  --top_k 1 --do_contr_sent --do_contr_aspect --language \"Turkish\" --model_prefix \"Turkish_SemEval16\" --dataset \"SemEval16\" --do_train --train_batch_size 16 --eval_batch_size 64 --num_train_epochs 20 --cont_temp 0.25 --cont_loss 0.05 --weight_decay 0.1 --warmup_steps 0.1"
   ]
  },
  {
   "cell_type": "markdown",
   "metadata": {
    "id": "zmc_YHq_FQhc"
   },
   "source": [
    "Train base mT5 model"
   ]
  },
  {
   "cell_type": "code",
   "execution_count": null,
   "metadata": {
    "collapsed": true,
    "id": "yHsPy3VeFQhc"
   },
   "outputs": [],
   "source": [
    "! python /content/CL-TASD-MvP/model/main_train.py --task \"cl_mvp_tasd\" --num_beams \"1\"  --top_k 1 --language \"Turkish\" --model_prefix \"Turkish_SemEval16\" --dataset \"SemEval16\" --do_train --train_batch_size 16 --eval_batch_size 64 --num_train_epochs 20 --cont_temp 0.25 --cont_loss 0.05 --weight_decay 0.1 --warmup_steps 0.1"
   ]
  },
  {
   "cell_type": "markdown",
   "metadata": {
    "id": "v81yuufYIt3A"
   },
   "source": [
    "### **Model Evaluation: Turkish**\n"
   ]
  },
  {
   "cell_type": "markdown",
   "metadata": {
    "id": "5RGEBQMVIt3B"
   },
   "source": [
    "#### **Evaluation Full Model**"
   ]
  },
  {
   "cell_type": "markdown",
   "metadata": {
    "id": "Uj2u_afqIt3B"
   },
   "source": [
    "Evaluation on final training epoch:\n"
   ]
  },
  {
   "cell_type": "code",
   "execution_count": null,
   "metadata": {
    "colab": {
     "base_uri": "https://localhost:8080/"
    },
    "executionInfo": {
     "elapsed": 149579,
     "status": "ok",
     "timestamp": 1753190848742,
     "user": {
      "displayName": "Philipp Gottschalk",
      "userId": "02502242344906393626"
     },
     "user_tz": -120
    },
    "id": "kwdeLE9XIt3B",
    "outputId": "c67efb54-c3e8-45a9-8a09-d6dc113ebdf2"
   },
   "outputs": [],
   "source": [
    "! python /content/CL-TASD-MvP/model/main_train.py --task \"cl_mvp_tasd\" --num_beams \"1\" --dataset \"SemEval16\" --model_prefix \"Turkish_SemEval16\" --language \"Turkish\" --test_language \"Turkish\"   --top_k 5 --do_contr_sent --do_contr_aspect --num_train_epochs 20 --do_inference --train_batch_size 16 --eval_batch_size 64 --weight_decay 0.1 --warmup_steps 0.1 --model_name_or_path \"/content/drive/MyDrive/data/models/SemEval16Icl_mvp_tasdIgoogle/mt5-largeIbeamsI1IwdI0.1Imax_epochsI20IesI0IaccI1IlrI0.0001Icont_lossI0.05Icont_tempI0.25IseedI42ITurkish_SemEval16I5I0.1IsentIaspect/\""
   ]
  },
  {
   "cell_type": "code",
   "execution_count": null,
   "metadata": {
    "colab": {
     "base_uri": "https://localhost:8080/"
    },
    "executionInfo": {
     "elapsed": 147597,
     "status": "ok",
     "timestamp": 1753190996344,
     "user": {
      "displayName": "Philipp Gottschalk",
      "userId": "02502242344906393626"
     },
     "user_tz": -120
    },
    "id": "hfTBHsvMIt3B",
    "outputId": "8141fe6e-5d6c-4d0d-9b1a-ca6f0b337a1e"
   },
   "outputs": [],
   "source": [
    "! python /content/CL-TASD-MvP/model/main_train.py --do_con_dec --task \"cl_mvp_tasd\" --num_beams \"1\" --dataset \"SemEval16\" --model_prefix \"Turkish_SemEval16\" --language \"Turkish\" --test_language \"Turkish\"   --top_k 5 --do_contr_sent --do_contr_aspect --num_train_epochs 20 --do_inference --train_batch_size 16 --eval_batch_size 64 --weight_decay 0.1 --warmup_steps 0.1 --model_name_or_path \"/content/drive/MyDrive/data/models/SemEval16Icl_mvp_tasdIgoogle/mt5-largeIbeamsI1IwdI0.1Imax_epochsI20IesI0IaccI1IlrI0.0001Icont_lossI0.05Icont_tempI0.25IseedI42ITurkish_SemEval16I5I0.1IsentIaspect/\""
   ]
  },
  {
   "cell_type": "markdown",
   "metadata": {
    "id": "5G8wZ-XTIt3B"
   },
   "source": [
    "Evaluation on best checkpoint of the last 5 training epochs:\n"
   ]
  },
  {
   "cell_type": "code",
   "execution_count": null,
   "metadata": {
    "colab": {
     "base_uri": "https://localhost:8080/"
    },
    "executionInfo": {
     "elapsed": 118611,
     "status": "ok",
     "timestamp": 1753191124884,
     "user": {
      "displayName": "Philipp Gottschalk",
      "userId": "02502242344906393626"
     },
     "user_tz": -120
    },
    "id": "0qnc5EWqIt3B",
    "outputId": "aa8ef7ff-955b-4c9f-cbb5-3c6e247301fe"
   },
   "outputs": [],
   "source": [
    "! python /content/CL-TASD-MvP/model/main_train.py --task \"cl_mvp_tasd\" --num_beams \"1\" --dataset \"SemEval16\" --model_prefix \"Turkish_SemEval16\" --language \"Turkish\" --test_language \"Turkish\"   --top_k 5 --do_contr_sent --do_contr_aspect --num_train_epochs 20 --do_inference_best_5 --train_batch_size 16 --eval_batch_size 64 --weight_decay 0.1 --warmup_steps 0.1 --model_name_or_path \"/content/drive/MyDrive/data/models/SemEval16Icl_mvp_tasdIgoogle/mt5-largeIbeamsI1IwdI0.1Imax_epochsI20IesI0IaccI1IlrI0.0001Icont_lossI0.05Icont_tempI0.25IseedI42ITurkish_SemEval16I5I0.1IsentIaspect/\""
   ]
  },
  {
   "cell_type": "code",
   "execution_count": null,
   "metadata": {
    "colab": {
     "base_uri": "https://localhost:8080/"
    },
    "executionInfo": {
     "elapsed": 157235,
     "status": "ok",
     "timestamp": 1753191282125,
     "user": {
      "displayName": "Philipp Gottschalk",
      "userId": "02502242344906393626"
     },
     "user_tz": -120
    },
    "id": "5GykmzlIIt3B",
    "outputId": "ea71ba40-a73e-4780-f929-ca491a9e084c"
   },
   "outputs": [],
   "source": [
    "! python /content/CL-TASD-MvP/model/main_train.py --do_con_dec --task \"cl_mvp_tasd\" --num_beams \"1\" --dataset \"SemEval16\" --model_prefix \"Turkish_SemEval16\" --language \"Turkish\" --test_language \"Turkish\"   --top_k 5 --do_contr_sent --do_contr_aspect --num_train_epochs 20 --do_inference_best_5 --train_batch_size 16 --eval_batch_size 64 --weight_decay 0.1 --warmup_steps 0.1 --model_name_or_path \"/content/drive/MyDrive/data/models/SemEval16Icl_mvp_tasdIgoogle/mt5-largeIbeamsI1IwdI0.1Imax_epochsI20IesI0IaccI1IlrI0.0001Icont_lossI0.05Icont_tempI0.25IseedI42ITurkish_SemEval16I5I0.1IsentIaspect/\""
   ]
  },
  {
   "cell_type": "markdown",
   "metadata": {
    "id": "Kzl_2w7LIt3C"
   },
   "source": [
    "Evaluation on best checkpoint:\n"
   ]
  },
  {
   "cell_type": "code",
   "execution_count": null,
   "metadata": {
    "id": "e-JCgSL7It3C"
   },
   "outputs": [],
   "source": [
    "! python /content/CL-TASD-MvP/model/main_train.py --task \"cl_mvp_tasd\" --num_beams \"1\" --dataset \"SemEval16\" --model_prefix \"Turkish_SemEval16\" --language \"Turkish\" --test_language \"Turkish\"   --top_k 5 --do_contr_sent --do_contr_aspect --num_train_epochs 20 --do_inference_best_ckpt --train_batch_size 16 --eval_batch_size 64 --weight_decay 0.1 --warmup_steps 0.1 --model_name_or_path \"/content/drive/MyDrive/data/models/SemEval16Icl_mvp_tasdIgoogle/mt5-largeIbeamsI1IwdI0.1Imax_epochsI20IesI0IaccI1IlrI0.0001Icont_lossI0.05Icont_tempI0.25IseedI42ITurkish_SemEval16I5I0.1IsentIaspect/\""
   ]
  },
  {
   "cell_type": "code",
   "execution_count": null,
   "metadata": {
    "colab": {
     "base_uri": "https://localhost:8080/"
    },
    "executionInfo": {
     "elapsed": 157568,
     "status": "ok",
     "timestamp": 1753191566824,
     "user": {
      "displayName": "Philipp Gottschalk",
      "userId": "02502242344906393626"
     },
     "user_tz": -120
    },
    "id": "1cY61dKLIt3C",
    "outputId": "2465a4d9-cdf8-413f-e774-fe0aa1278f9b"
   },
   "outputs": [],
   "source": [
    "! python /content/CL-TASD-MvP/model/main_train.py --do_con_dec --task \"cl_mvp_tasd\" --num_beams \"1\" --dataset \"SemEval16\" --model_prefix \"Turkish_SemEval16\" --language \"Turkish\" --test_language \"Turkish\"   --top_k 5 --do_contr_sent --do_contr_aspect --num_train_epochs 20 --do_inference_best_ckpt --train_batch_size 16 --eval_batch_size 64 --weight_decay 0.1 --warmup_steps 0.1 --model_name_or_path \"/content/drive/MyDrive/data/models/SemEval16Icl_mvp_tasdIgoogle/mt5-largeIbeamsI1IwdI0.1Imax_epochsI20IesI0IaccI1IlrI0.0001Icont_lossI0.05Icont_tempI0.25IseedI42ITurkish_SemEval16I5I0.1IsentIaspect/\""
   ]
  },
  {
   "cell_type": "markdown",
   "metadata": {
    "id": "F3I0SoXLIt3C"
   },
   "source": [
    "#### **Evaluation MVP Only**"
   ]
  },
  {
   "cell_type": "markdown",
   "metadata": {
    "id": "a3CMJ1iAIt3C"
   },
   "source": [
    "Evaluation on final training epoch:\n"
   ]
  },
  {
   "cell_type": "code",
   "execution_count": null,
   "metadata": {
    "id": "Y5bVQC71It3C"
   },
   "outputs": [],
   "source": [
    "! python /content/CL-TASD-MvP/model/main_train.py --task \"cl_mvp_tasd\" --num_beams \"1\" --dataset \"SemEval16\" --model_prefix \"Turkish_SemEval16\" --language \"Turkish\" --test_language \"Turkish\"   --top_k 5 --num_train_epochs 20 --do_inference --train_batch_size 16 --eval_batch_size 64 --weight_decay 0.1 --warmup_steps 0.1 --model_name_or_path \"/content/drive/MyDrive/data/models/SemEval16Icl_mvp_tasdIgoogle/mt5-largeIbeamsI1IwdI0.1Imax_epochsI20IesI0IaccI1IlrI0.0001Icont_lossI0.05Icont_tempI0.25IseedI42ITurkish_SemEval16I5I0.1/\""
   ]
  },
  {
   "cell_type": "code",
   "execution_count": null,
   "metadata": {
    "id": "0SE0O-kEIt3C"
   },
   "outputs": [],
   "source": [
    "! python /content/CL-TASD-MvP/model/main_train.py --do_con_dec --task \"cl_mvp_tasd\" --num_beams \"1\" --dataset \"SemEval16\" --model_prefix \"Turkish_SemEval16\" --language \"Turkish\" --test_language \"Turkish\"   --top_k 5 --num_train_epochs 20 --do_inference --train_batch_size 16 --eval_batch_size 64 --weight_decay 0.1 --warmup_steps 0.1 --model_name_or_path \"/content/drive/MyDrive/data/models/SemEval16Icl_mvp_tasdIgoogle/mt5-largeIbeamsI1IwdI0.1Imax_epochsI20IesI0IaccI1IlrI0.0001Icont_lossI0.05Icont_tempI0.25IseedI42ITurkish_SemEval16I5I0.1/\""
   ]
  },
  {
   "cell_type": "markdown",
   "metadata": {
    "id": "P8gmuIIFIt3C"
   },
   "source": [
    "Evaluation on best checkpoint of the last 5 training epochs:\n"
   ]
  },
  {
   "cell_type": "code",
   "execution_count": null,
   "metadata": {
    "id": "1j3HQTCxIt3C"
   },
   "outputs": [],
   "source": [
    "! python /content/CL-TASD-MvP/model/main_train.py --task \"cl_mvp_tasd\" --num_beams \"1\" --dataset \"SemEval16\" --model_prefix \"Turkish_SemEval16\" --language \"Turkish\" --test_language \"Turkish\"   --top_k 5 --num_train_epochs 20 --do_inference_best_5 --train_batch_size 16 --eval_batch_size 64 --weight_decay 0.1 --warmup_steps 0.1 --model_name_or_path \"/content/drive/MyDrive/data/models/SemEval16Icl_mvp_tasdIgoogle/mt5-largeIbeamsI1IwdI0.1Imax_epochsI20IesI0IaccI1IlrI0.0001Icont_lossI0.05Icont_tempI0.25IseedI42ITurkish_SemEval16I5I0.1/\""
   ]
  },
  {
   "cell_type": "code",
   "execution_count": null,
   "metadata": {
    "id": "zlZqQUgIIt3C"
   },
   "outputs": [],
   "source": [
    "! python /content/CL-TASD-MvP/model/main_train.py --do_con_dec --task \"cl_mvp_tasd\" --num_beams \"1\" --dataset \"SemEval16\" --model_prefix \"Turkish_SemEval16\" --language \"Turkish\" --test_language \"Turkish\"   --top_k 5 --num_train_epochs 20 --do_inference_best_5 --train_batch_size 16 --eval_batch_size 64 --weight_decay 0.1 --warmup_steps 0.1 --model_name_or_path \"/content/drive/MyDrive/data/models/SemEval16Icl_mvp_tasdIgoogle/mt5-largeIbeamsI1IwdI0.1Imax_epochsI20IesI0IaccI1IlrI0.0001Icont_lossI0.05Icont_tempI0.25IseedI42ITurkish_SemEval16I5I0.1/\""
   ]
  },
  {
   "cell_type": "markdown",
   "metadata": {
    "id": "l0yoJAudIt3C"
   },
   "source": [
    "Evaluation on best checkpoint:\n"
   ]
  },
  {
   "cell_type": "code",
   "execution_count": null,
   "metadata": {
    "id": "2gTX8QAGIt3C"
   },
   "outputs": [],
   "source": [
    "! python /content/CL-TASD-MvP/model/main_train.py --task \"cl_mvp_tasd\" --num_beams \"1\" --dataset \"SemEval16\" --model_prefix \"Turkish_SemEval16\" --language \"Turkish\" --test_language \"Turkish\"   --top_k 5 --num_train_epochs 20 --do_inference_best_ckpt --train_batch_size 16 --eval_batch_size 64 --weight_decay 0.1 --warmup_steps 0.1 --model_name_or_path \"/content/drive/MyDrive/data/models/SemEval16Icl_mvp_tasdIgoogle/mt5-largeIbeamsI1IwdI0.1Imax_epochsI20IesI0IaccI1IlrI0.0001Icont_lossI0.05Icont_tempI0.25IseedI42ITurkish_SemEval16I5I0.1/\""
   ]
  },
  {
   "cell_type": "code",
   "execution_count": null,
   "metadata": {
    "id": "wwMebGc1It3C"
   },
   "outputs": [],
   "source": [
    "! python /content/CL-TASD-MvP/model/main_train.py --do_con_dec --task \"cl_mvp_tasd\" --num_beams \"1\" --dataset \"SemEval16\" --model_prefix \"Turkish_SemEval16\" --language \"Turkish\" --test_language \"Turkish\"   --top_k 5 --num_train_epochs 20 --do_inference_best_ckpt --train_batch_size 16 --eval_batch_size 64 --weight_decay 0.1 --warmup_steps 0.1 --model_name_or_path \"/content/drive/MyDrive/data/models/SemEval16Icl_mvp_tasdIgoogle/mt5-largeIbeamsI1IwdI0.1Imax_epochsI20IesI0IaccI1IlrI0.0001Icont_lossI0.05Icont_tempI0.25IseedI42ITurkish_SemEval16I5I0.1/\""
   ]
  },
  {
   "cell_type": "markdown",
   "metadata": {
    "id": "dgDX70iQIt3D"
   },
   "source": [
    "#### **Evaluation Only CL**"
   ]
  },
  {
   "cell_type": "markdown",
   "metadata": {
    "id": "ubqTEEW4It3D"
   },
   "source": [
    "Evaluation on final training epoch:\n"
   ]
  },
  {
   "cell_type": "code",
   "execution_count": null,
   "metadata": {
    "id": "8pbJ8G8-It3D"
   },
   "outputs": [],
   "source": [
    "! python /content/CL-TASD-MvP/model/main_train.py --task \"cl_mvp_tasd\" --num_beams \"1\" --dataset \"SemEval16\" --model_prefix \"Turkish_SemEval16\" --language \"Turkish\" --test_language \"Turkish\"   --top_k 1 --do_contr_sent --do_contr_aspect --num_train_epochs 20 --do_inference --train_batch_size 16 --eval_batch_size 64 --weight_decay 0.1 --warmup_steps 0.1 --model_name_or_path \"/content/drive/MyDrive/data/models/SemEval16Icl_mvp_tasdIgoogle/mt5-largeIbeamsI1IwdI0.1Imax_epochsI20IesI0IaccI1IlrI0.0001Icont_lossI0.05Icont_tempI0.25IseedI42ITurkish_SemEval16I1I0.1IsentIaspect/\""
   ]
  },
  {
   "cell_type": "code",
   "execution_count": null,
   "metadata": {
    "id": "wSundGStIt3D"
   },
   "outputs": [],
   "source": [
    "! python /content/CL-TASD-MvP/model/main_train.py --do_con_dec --task \"cl_mvp_tasd\" --num_beams \"1\" --dataset \"SemEval16\" --model_prefix \"Turkish_SemEval16\" --language \"Turkish\" --test_language \"Turkish\"   --top_k 1 --do_contr_sent --do_contr_aspect --num_train_epochs 20 --do_inference --train_batch_size 16 --eval_batch_size 64 --weight_decay 0.1 --warmup_steps 0.1 --model_name_or_path \"/content/drive/MyDrive/data/models/SemEval16Icl_mvp_tasdIgoogle/mt5-largeIbeamsI1IwdI0.1Imax_epochsI20IesI0IaccI1IlrI0.0001Icont_lossI0.05Icont_tempI0.25IseedI42ITurkish_SemEval16I1I0.1IsentIaspect/\""
   ]
  },
  {
   "cell_type": "markdown",
   "metadata": {
    "id": "ZhLIw-PbIt3D"
   },
   "source": [
    "Evaluation on best checkpoint of the last 5 training epochs:\n"
   ]
  },
  {
   "cell_type": "code",
   "execution_count": null,
   "metadata": {
    "id": "XR3KnUkWIt3D"
   },
   "outputs": [],
   "source": [
    "! python /content/CL-TASD-MvP/model/main_train.py --task \"cl_mvp_tasd\" --num_beams \"1\" --dataset \"SemEval16\" --model_prefix \"Turkish_SemEval16\" --language \"Turkish\" --test_language \"Turkish\"   --top_k 1 --do_contr_sent --do_contr_aspect --num_train_epochs 20 --do_inference_best_5 --train_batch_size 16 --eval_batch_size 64 --weight_decay 0.1 --warmup_steps 0.1 --model_name_or_path \"/content/drive/MyDrive/data/models/SemEval16Icl_mvp_tasdIgoogle/mt5-largeIbeamsI1IwdI0.1Imax_epochsI20IesI0IaccI1IlrI0.0001Icont_lossI0.05Icont_tempI0.25IseedI42ITurkish_SemEval16I1I0.1IsentIaspect/\""
   ]
  },
  {
   "cell_type": "code",
   "execution_count": null,
   "metadata": {
    "id": "rMfUug11It3D"
   },
   "outputs": [],
   "source": [
    "! python /content/CL-TASD-MvP/model/main_train.py --do_con_dec --task \"cl_mvp_tasd\" --num_beams \"1\" --dataset \"SemEval16\" --model_prefix \"Turkish_SemEval16\" --language \"Turkish\" --test_language \"Turkish\"   --top_k 1 --do_contr_sent --do_contr_aspect --num_train_epochs 20 --do_inference_best_5 --train_batch_size 16 --eval_batch_size 64 --weight_decay 0.1 --warmup_steps 0.1 --model_name_or_path \"/content/drive/MyDrive/data/models/SemEval16Icl_mvp_tasdIgoogle/mt5-largeIbeamsI1IwdI0.1Imax_epochsI20IesI0IaccI1IlrI0.0001Icont_lossI0.05Icont_tempI0.25IseedI42ITurkish_SemEval16I1I0.1IsentIaspect/\""
   ]
  },
  {
   "cell_type": "markdown",
   "metadata": {
    "id": "-HyXfSmGIt3D"
   },
   "source": [
    "Evaluation on best checkpoint:\n"
   ]
  },
  {
   "cell_type": "code",
   "execution_count": null,
   "metadata": {
    "id": "51G4Kua0It3D"
   },
   "outputs": [],
   "source": [
    "! python /content/CL-TASD-MvP/model/main_train.py --task \"cl_mvp_tasd\" --num_beams \"1\" --dataset \"SemEval16\" --model_prefix \"Turkish_SemEval16\" --language \"Turkish\" --test_language \"Turkish\"   --top_k 1 --do_contr_sent --do_contr_aspect --num_train_epochs 20 --do_inference_best_ckpt --train_batch_size 16 --eval_batch_size 64 --weight_decay 0.1 --warmup_steps 0.1 --model_name_or_path \"/content/drive/MyDrive/data/models/SemEval16Icl_mvp_tasdIgoogle/mt5-largeIbeamsI1IwdI0.1Imax_epochsI20IesI0IaccI1IlrI0.0001Icont_lossI0.05Icont_tempI0.25IseedI42ITurkish_SemEval16I1I0.1IsentIaspect/\""
   ]
  },
  {
   "cell_type": "code",
   "execution_count": null,
   "metadata": {
    "id": "KCAPUBYXIt3D"
   },
   "outputs": [],
   "source": [
    "! python /content/CL-TASD-MvP/model/main_train.py --do_con_dec --task \"cl_mvp_tasd\" --num_beams \"1\" --dataset \"SemEval16\" --model_prefix \"Turkish_SemEval16\" --language \"Turkish\" --test_language \"Turkish\"   --top_k 1 --do_contr_sent --do_contr_aspect --num_train_epochs 20 --do_inference_best_ckpt --train_batch_size 16 --eval_batch_size 64 --weight_decay 0.1 --warmup_steps 0.1 --model_name_or_path \"/content/drive/MyDrive/data/models/SemEval16Icl_mvp_tasdIgoogle/mt5-largeIbeamsI1IwdI0.1Imax_epochsI20IesI0IaccI1IlrI0.0001Icont_lossI0.05Icont_tempI0.25IseedI42ITurkish_SemEval16I1I0.1IsentIaspect/\""
   ]
  },
  {
   "cell_type": "markdown",
   "metadata": {
    "id": "-e2d8DE8It3D"
   },
   "source": [
    "#### **Evaluation Base MT5**"
   ]
  },
  {
   "cell_type": "markdown",
   "metadata": {
    "id": "iciYMC1kIt3E"
   },
   "source": [
    "Evaluation on final training epoch:\n"
   ]
  },
  {
   "cell_type": "code",
   "execution_count": null,
   "metadata": {
    "id": "AdANPs0RIt3E"
   },
   "outputs": [],
   "source": [
    "! python /content/CL-TASD-MvP/model/main_train.py --task \"cl_mvp_tasd\" --num_beams \"1\" --dataset \"SemEval16\" --model_prefix \"Turkish_SemEval16\" --language \"Turkish\" --test_language \"Turkish\"   --top_k 1 --num_train_epochs 20 --do_inference --train_batch_size 16 --eval_batch_size 64 --weight_decay 0.1 --warmup_steps 0.1 --model_name_or_path \"/content/drive/MyDrive/data/models/SemEval16Icl_mvp_tasdIgoogle/mt5-largeIbeamsI1IwdI0.1Imax_epochsI20IesI0IaccI1IlrI0.0001Icont_lossI0.05Icont_tempI0.25IseedI42ITurkish_SemEval16I1I0.1/\""
   ]
  },
  {
   "cell_type": "code",
   "execution_count": null,
   "metadata": {
    "id": "1NgKTHQFIt3E"
   },
   "outputs": [],
   "source": [
    "! python /content/CL-TASD-MvP/model/main_train.py --do_con_dec --task \"cl_mvp_tasd\" --num_beams \"1\" --dataset \"SemEval16\" --model_prefix \"Turkish_SemEval16\" --language \"Turkish\" --test_language \"Turkish\"   --top_k 1 --num_train_epochs 20 --do_inference --train_batch_size 16 --eval_batch_size 64 --weight_decay 0.1 --warmup_steps 0.1 --model_name_or_path \"/content/drive/MyDrive/data/models/SemEval16Icl_mvp_tasdIgoogle/mt5-largeIbeamsI1IwdI0.1Imax_epochsI20IesI0IaccI1IlrI0.0001Icont_lossI0.05Icont_tempI0.25IseedI42ITurkish_SemEval16I1I0.1/\""
   ]
  },
  {
   "cell_type": "markdown",
   "metadata": {
    "id": "x_5HqbXOIt3E"
   },
   "source": [
    "Evaluation on best checkpoint of the last 5 training epochs:\n"
   ]
  },
  {
   "cell_type": "code",
   "execution_count": null,
   "metadata": {
    "colab": {
     "base_uri": "https://localhost:8080/"
    },
    "executionInfo": {
     "elapsed": 1,
     "status": "ok",
     "timestamp": 1753191826201,
     "user": {
      "displayName": "Philipp Gottschalk",
      "userId": "02502242344906393626"
     },
     "user_tz": -120
    },
    "id": "MQlR7ilMIt3E",
    "outputId": "2c1424ad-8295-443b-ff30-1f4726c61ac0"
   },
   "outputs": [],
   "source": [
    "! python /content/CL-TASD-MvP/model/main_train.py --task \"cl_mvp_tasd\" --num_beams \"1\" --dataset \"SemEval16\" --model_prefix \"Turkish_SemEval16\" --language \"Turkish\" --test_language \"Turkish\"   --top_k 1 --num_train_epochs 20 --do_inference_best_5 --train_batch_size 16 --eval_batch_size 64 --weight_decay 0.1 --warmup_steps 0.1 --model_name_or_path \"/content/drive/MyDrive/data/models/SemEval16Icl_mvp_tasdIgoogle/mt5-largeIbeamsI1IwdI0.1Imax_epochsI20IesI0IaccI1IlrI0.0001Icont_lossI0.05Icont_tempI0.25IseedI42ITurkish_SemEval16I1I0.1/\""
   ]
  },
  {
   "cell_type": "code",
   "execution_count": null,
   "metadata": {
    "colab": {
     "base_uri": "https://localhost:8080/"
    },
    "executionInfo": {
     "elapsed": 52685,
     "status": "ok",
     "timestamp": 1753191878910,
     "user": {
      "displayName": "Philipp Gottschalk",
      "userId": "02502242344906393626"
     },
     "user_tz": -120
    },
    "id": "OqRQCfAHIt3E",
    "outputId": "e87ec0a1-008a-464e-b849-3a746d856b81"
   },
   "outputs": [],
   "source": [
    "! python /content/CL-TASD-MvP/model/main_train.py --do_con_dec --task \"cl_mvp_tasd\" --num_beams \"1\" --dataset \"SemEval16\" --model_prefix \"Turkish_SemEval16\" --language \"Turkish\" --test_language \"Turkish\"   --top_k 1 --num_train_epochs 20 --do_inference_best_5 --train_batch_size 16 --eval_batch_size 64 --weight_decay 0.1 --warmup_steps 0.1 --model_name_or_path \"/content/drive/MyDrive/data/models/SemEval16Icl_mvp_tasdIgoogle/mt5-largeIbeamsI1IwdI0.1Imax_epochsI20IesI0IaccI1IlrI0.0001Icont_lossI0.05Icont_tempI0.25IseedI42ITurkish_SemEval16I1I0.1/\""
   ]
  },
  {
   "cell_type": "markdown",
   "metadata": {
    "id": "GiPA0KcIIt3E"
   },
   "source": [
    "Evaluation on best checkpoint:\n"
   ]
  },
  {
   "cell_type": "code",
   "execution_count": null,
   "metadata": {
    "id": "kgHfPGBMIt3E"
   },
   "outputs": [],
   "source": [
    "! python /content/CL-TASD-MvP/model/main_train.py --task \"cl_mvp_tasd\" --num_beams \"1\" --dataset \"SemEval16\" --model_prefix \"Turkish_SemEval16\" --language \"Turkish\" --test_language \"Turkish\"   --top_k 1 --num_train_epochs 20 --do_inference_best_ckpt --train_batch_size 16 --eval_batch_size 64 --weight_decay 0.1 --warmup_steps 0.1 --model_name_or_path \"/content/drive/MyDrive/data/models/SemEval16Icl_mvp_tasdIgoogle/mt5-largeIbeamsI1IwdI0.1Imax_epochsI20IesI0IaccI1IlrI0.0001Icont_lossI0.05Icont_tempI0.25IseedI42ITurkish_SemEval16I1I0.1/\""
   ]
  },
  {
   "cell_type": "code",
   "execution_count": null,
   "metadata": {
    "colab": {
     "base_uri": "https://localhost:8080/"
    },
    "executionInfo": {
     "elapsed": 1,
     "status": "ok",
     "timestamp": 1753192018172,
     "user": {
      "displayName": "Philipp Gottschalk",
      "userId": "02502242344906393626"
     },
     "user_tz": -120
    },
    "id": "a3vp78PJIt3E",
    "outputId": "693058ff-c763-477c-817a-4d1603d76723"
   },
   "outputs": [],
   "source": [
    "! python /content/CL-TASD-MvP/model/main_train.py --do_con_dec --task \"cl_mvp_tasd\" --num_beams \"1\" --dataset \"SemEval16\" --model_prefix \"Turkish_SemEval16\" --language \"Turkish\" --test_language \"Turkish\"   --top_k 1 --num_train_epochs 20 --do_inference_best_ckpt --train_batch_size 16 --eval_batch_size 64 --weight_decay 0.1 --warmup_steps 0.1 --model_name_or_path \"/content/drive/MyDrive/data/models/SemEval16Icl_mvp_tasdIgoogle/mt5-largeIbeamsI1IwdI0.1Imax_epochsI20IesI0IaccI1IlrI0.0001Icont_lossI0.05Icont_tempI0.25IseedI42ITurkish_SemEval16I1I0.1/\""
   ]
  }
 ],
 "metadata": {
  "accelerator": "GPU",
  "colab": {
   "authorship_tag": "ABX9TyM/wrT0IZdZMlVD4+B6Wbx/",
   "gpuType": "L4",
   "machine_shape": "hm",
   "provenance": [
    {
     "file_id": "1iU7ckg9l7BSEO2Ryj4Dn6Ydv2pouGZ0L",
     "timestamp": 1753171506679
    },
    {
     "file_id": "1eApC8g-7Y8Rp1D07bFk6HkHgmasD4LqY",
     "timestamp": 1753171477935
    },
    {
     "file_id": "1WckKKH4_ANhCROvRSsq8Bs-R3yeZcaXq",
     "timestamp": 1753171444138
    },
    {
     "file_id": "1oK-Ew2HgvmcUFkiTvKvbT59NTGDZ41sh",
     "timestamp": 1753171376483
    },
    {
     "file_id": "11Fx9fj0LnMfQfsquZK0w-Um7RyxFFFle",
     "timestamp": 1753171233299
    },
    {
     "file_id": "1iDP1fPQGnypRPcfwfPS2OwvGZLt_Yvzu",
     "timestamp": 1753169717998
    }
   ]
  },
  "kernelspec": {
   "display_name": "Python 3",
   "name": "python3"
  },
  "language_info": {
   "name": "python"
  }
 },
 "nbformat": 4,
 "nbformat_minor": 0
}
