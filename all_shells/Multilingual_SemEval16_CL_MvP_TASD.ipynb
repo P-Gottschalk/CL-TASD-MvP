{
 "cells": [
  {
   "cell_type": "markdown",
   "metadata": {
    "id": "NlSm-XoyKuvo"
   },
   "source": [
    "### **Notebook Setup**"
   ]
  },
  {
   "cell_type": "markdown",
   "metadata": {
    "id": "IEAxUJ-S2dJB"
   },
   "source": [
    "**Mount Prep**"
   ]
  },
  {
   "cell_type": "code",
   "execution_count": null,
   "metadata": {
    "colab": {
     "base_uri": "https://localhost:8080/"
    },
    "executionInfo": {
     "elapsed": 18424,
     "status": "ok",
     "timestamp": 1753261321289,
     "user": {
      "displayName": "Philipp Gottschalk",
      "userId": "02502242344906393626"
     },
     "user_tz": -120
    },
    "id": "tZlNusdLTV0v",
    "outputId": "33d83c76-80d3-41f2-caac-64f491023c16"
   },
   "outputs": [],
   "source": [
    "from google.colab import drive\n",
    "drive.mount(\"/content/drive/\")"
   ]
  },
  {
   "cell_type": "markdown",
   "metadata": {
    "id": "vkx1Y9Qj5G_1"
   },
   "source": [
    "**Package Installation:**"
   ]
  },
  {
   "cell_type": "code",
   "execution_count": null,
   "metadata": {
    "colab": {
     "base_uri": "https://localhost:8080/"
    },
    "collapsed": true,
    "executionInfo": {
     "elapsed": 94368,
     "status": "ok",
     "timestamp": 1753262095559,
     "user": {
      "displayName": "Philipp Gottschalk",
      "userId": "02502242344906393626"
     },
     "user_tz": -120
    },
    "id": "g73H7C4N_aUN",
    "outputId": "c7e6f8fc-b813-4d17-8adf-765d62885ff3"
   },
   "outputs": [],
   "source": [
    "! pip install transformers==4.53.2\n",
    "! pip install torch\n",
    "! pip install --upgrade pytorch-lightning\n",
    "! pip install sentencepiece\n",
    "! pip install parse\n",
    "! pip install --upgrade huggingface_hub"
   ]
  },
  {
   "cell_type": "markdown",
   "metadata": {
    "id": "nu6jBbPL2q4F"
   },
   "source": [
    "**GitHub Cloning:** 90-day access token is used"
   ]
  },
  {
   "cell_type": "code",
   "execution_count": null,
   "metadata": {
    "id": "C-qbm4XreAUf"
   },
   "outputs": [],
   "source": [
    "! rm -r CL-TASD-MvP #Remove GitHub whilst in session"
   ]
  },
  {
   "cell_type": "code",
   "execution_count": null,
   "metadata": {
    "colab": {
     "base_uri": "https://localhost:8080/"
    },
    "executionInfo": {
     "elapsed": 1701,
     "status": "ok",
     "timestamp": 1753262097270,
     "user": {
      "displayName": "Philipp Gottschalk",
      "userId": "02502242344906393626"
     },
     "user_tz": -120
    },
    "id": "g9Ovr3oPvWD7",
    "outputId": "bc64fd3e-706a-414d-b3ce-0b50efdbcc10"
   },
   "outputs": [],
   "source": [
    "!git clone https://github.com/P-Gottschalk/CL-TASD-MvP.git"
   ]
  },
  {
   "cell_type": "markdown",
   "metadata": {
    "id": "IVyxSxqrCaiy"
   },
   "source": [
    "### **Model Training**"
   ]
  },
  {
   "cell_type": "markdown",
   "metadata": {
    "id": "zaVov8u3EXa3"
   },
   "source": [
    "Train the full model: MVP together with contrastive learning"
   ]
  },
  {
   "cell_type": "code",
   "execution_count": null,
   "metadata": {
    "collapsed": true,
    "id": "mSFVoznWwKWa"
   },
   "outputs": [],
   "source": [
    "! python /content/CL-TASD-MvP/model/main_train.py --task \"cl_mvp_tasd\" --num_beams \"1\"  --top_k 5 --do_contr_sent --do_contr_aspect --language \"Multilingual\" --model_prefix \"Multilingual_SemEval16\" --dataset \"SemEval16\" --do_train --train_batch_size 16 --eval_batch_size 64 --num_train_epochs 20 --cont_temp 0.25 --cont_loss 0.05 --weight_decay 0.1 --warmup_steps 0.1"
   ]
  },
  {
   "cell_type": "markdown",
   "metadata": {
    "id": "UU1ugT5NEnON"
   },
   "source": [
    "Train only MVP: no contrastive learning."
   ]
  },
  {
   "cell_type": "code",
   "execution_count": null,
   "metadata": {
    "colab": {
     "background_save": true,
     "base_uri": "https://localhost:8080/"
    },
    "collapsed": true,
    "id": "O0KXJwGxEnOO",
    "outputId": "6703b602-c307-44fa-d429-e6040eab87ab"
   },
   "outputs": [],
   "source": [
    "! python /content/CL-TASD-MvP/model/main_train.py --task \"cl_mvp_tasd\" --num_beams \"1\"  --top_k 5 --language \"Multilingual\" --model_prefix \"Multilingual_SemEval16\" --dataset \"SemEval16\" --do_train --train_batch_size 16 --eval_batch_size 64 --num_train_epochs 20 --cont_temp 0.25 --cont_loss 0.05 --weight_decay 0.1 --warmup_steps 0.1"
   ]
  },
  {
   "cell_type": "markdown",
   "metadata": {
    "id": "7jXsC8f1E0Md"
   },
   "source": [
    "Train only contrastive learning: no MVP"
   ]
  },
  {
   "cell_type": "code",
   "execution_count": null,
   "metadata": {
    "colab": {
     "base_uri": "https://localhost:8080/"
    },
    "collapsed": true,
    "executionInfo": {
     "elapsed": 4404034,
     "status": "ok",
     "timestamp": 1753261220401,
     "user": {
      "displayName": "Philipp Gottschalk",
      "userId": "02502242344906393626"
     },
     "user_tz": -120
    },
    "id": "40Z09BttE0Md",
    "outputId": "51b6b3d6-1b5e-4fd0-93ef-45522f291b83"
   },
   "outputs": [],
   "source": [
    "! python /content/CL-TASD-MvP/model/main_train.py --task \"cl_mvp_tasd\" --num_beams \"1\"  --top_k 1 --do_contr_sent --do_contr_aspect --language \"Multilingual\" --model_prefix \"Multilingual_SemEval16\" --dataset \"SemEval16\" --do_train --train_batch_size 16 --eval_batch_size 64 --num_train_epochs 20 --cont_temp 0.25 --cont_loss 0.05 --weight_decay 0.1 --warmup_steps 0.1"
   ]
  },
  {
   "cell_type": "markdown",
   "metadata": {
    "id": "zmc_YHq_FQhc"
   },
   "source": [
    "Train base mT5 model"
   ]
  },
  {
   "cell_type": "code",
   "execution_count": null,
   "metadata": {
    "collapsed": true,
    "id": "yHsPy3VeFQhc"
   },
   "outputs": [],
   "source": [
    "! python /content/CL-TASD-MvP/model/main_train.py --task \"cl_mvp_tasd\" --num_beams \"1\"  --top_k 1 --language \"Multilingual\" --model_prefix \"Multilingual_SemEval16\" --dataset \"SemEval16\" --do_train --train_batch_size 16 --eval_batch_size 64 --num_train_epochs 20 --cont_temp 0.25 --cont_loss 0.05 --weight_decay 0.1 --warmup_steps 0.1"
   ]
  },
  {
   "cell_type": "markdown",
   "metadata": {
    "id": "0ZhyefzDFdCm"
   },
   "source": [
    "### **Model Evaluation: English**\n"
   ]
  },
  {
   "cell_type": "markdown",
   "metadata": {
    "id": "kFQ_UfkbF8rH"
   },
   "source": [
    "#### **Evaluation Full Model**"
   ]
  },
  {
   "cell_type": "markdown",
   "metadata": {
    "id": "0P9lfzMGFl1h"
   },
   "source": [
    "Evaluation on final training epoch:\n"
   ]
  },
  {
   "cell_type": "code",
   "execution_count": null,
   "metadata": {
    "colab": {
     "base_uri": "https://localhost:8080/"
    },
    "executionInfo": {
     "elapsed": 333890,
     "status": "ok",
     "timestamp": 1753194071904,
     "user": {
      "displayName": "Philipp Gottschalk",
      "userId": "02502242344906393626"
     },
     "user_tz": -120
    },
    "id": "XdsrJ9A4GSs6",
    "outputId": "71d8ec96-0797-4ca3-e576-624888cc1d34"
   },
   "outputs": [],
   "source": [
    "! python /content/CL-TASD-MvP/model/main_train.py --task \"cl_mvp_tasd\" --num_beams \"1\" --dataset \"SemEval16\" --model_prefix \"Multilingual_SemEval16\" --language \"Multilingual\" --test_language \"English\"   --top_k 5 --do_contr_sent --do_contr_aspect --num_train_epochs 20 --do_inference --train_batch_size 16 --eval_batch_size 64 --weight_decay 0.1 --warmup_steps 0.1 --model_name_or_path \"/content/drive/MyDrive/data/models/SemEval16Icl_mvp_tasdIgoogle/mt5-largeIbeamsI1IwdI0.1Imax_epochsI20IesI0IaccI1IlrI0.0001Icont_lossI0.05Icont_tempI0.25IseedI42IMultilingual_SemEval16I5I0.1IsentIaspect/\""
   ]
  },
  {
   "cell_type": "code",
   "execution_count": null,
   "metadata": {
    "colab": {
     "base_uri": "https://localhost:8080/"
    },
    "executionInfo": {
     "elapsed": 617960,
     "status": "ok",
     "timestamp": 1753194689867,
     "user": {
      "displayName": "Philipp Gottschalk",
      "userId": "02502242344906393626"
     },
     "user_tz": -120
    },
    "id": "RCvbDp2BAeo1",
    "outputId": "69e6de16-a111-4717-ab64-ab01077c704f"
   },
   "outputs": [],
   "source": [
    "! python /content/CL-TASD-MvP/model/main_train.py --do_con_dec --task \"cl_mvp_tasd\" --num_beams \"1\" --dataset \"SemEval16\" --model_prefix \"Multilingual_SemEval16\" --language \"Multilingual\" --test_language \"English\"   --top_k 5 --do_contr_sent --do_contr_aspect --num_train_epochs 20 --do_inference --train_batch_size 16 --eval_batch_size 64 --weight_decay 0.1 --warmup_steps 0.1 --model_name_or_path \"/content/drive/MyDrive/data/models/SemEval16Icl_mvp_tasdIgoogle/mt5-largeIbeamsI1IwdI0.1Imax_epochsI20IesI0IaccI1IlrI0.0001Icont_lossI0.05Icont_tempI0.25IseedI42IMultilingual_SemEval16I5I0.1IsentIaspect/\""
   ]
  },
  {
   "cell_type": "markdown",
   "metadata": {
    "id": "_TjlYEr6GwdK"
   },
   "source": [
    "Evaluation on best checkpoint of the last 5 training epochs:\n"
   ]
  },
  {
   "cell_type": "code",
   "execution_count": null,
   "metadata": {
    "colab": {
     "base_uri": "https://localhost:8080/"
    },
    "executionInfo": {
     "elapsed": 315572,
     "status": "ok",
     "timestamp": 1753195005442,
     "user": {
      "displayName": "Philipp Gottschalk",
      "userId": "02502242344906393626"
     },
     "user_tz": -120
    },
    "id": "2LI5C2sRGwdK",
    "outputId": "4f8542c3-be12-46da-9251-2d02ef291912"
   },
   "outputs": [],
   "source": [
    "! python /content/CL-TASD-MvP/model/main_train.py --task \"cl_mvp_tasd\" --num_beams \"1\" --dataset \"SemEval16\" --model_prefix \"Multilingual_SemEval16\" --language \"Multilingual\" --test_language \"English\"   --top_k 5 --do_contr_sent --do_contr_aspect --num_train_epochs 20 --do_inference_best_5 --train_batch_size 16 --eval_batch_size 64 --weight_decay 0.1 --warmup_steps 0.1 --model_name_or_path \"/content/drive/MyDrive/data/models/SemEval16Icl_mvp_tasdIgoogle/mt5-largeIbeamsI1IwdI0.1Imax_epochsI20IesI0IaccI1IlrI0.0001Icont_lossI0.05Icont_tempI0.25IseedI42IMultilingual_SemEval16I5I0.1IsentIaspect/\""
   ]
  },
  {
   "cell_type": "code",
   "execution_count": null,
   "metadata": {
    "colab": {
     "base_uri": "https://localhost:8080/"
    },
    "executionInfo": {
     "elapsed": 638302,
     "status": "ok",
     "timestamp": 1753195643750,
     "user": {
      "displayName": "Philipp Gottschalk",
      "userId": "02502242344906393626"
     },
     "user_tz": -120
    },
    "id": "w7JNEDvtGwdK",
    "outputId": "52300345-8612-4eba-bc0a-6c685ff698c4"
   },
   "outputs": [],
   "source": [
    "! python /content/CL-TASD-MvP/model/main_train.py --do_con_dec --task \"cl_mvp_tasd\" --num_beams \"1\" --dataset \"SemEval16\" --model_prefix \"Multilingual_SemEval16\" --language \"Multilingual\" --test_language \"English\"   --top_k 5 --do_contr_sent --do_contr_aspect --num_train_epochs 20 --do_inference_best_5 --train_batch_size 16 --eval_batch_size 64 --weight_decay 0.1 --warmup_steps 0.1 --model_name_or_path \"/content/drive/MyDrive/data/models/SemEval16Icl_mvp_tasdIgoogle/mt5-largeIbeamsI1IwdI0.1Imax_epochsI20IesI0IaccI1IlrI0.0001Icont_lossI0.05Icont_tempI0.25IseedI42IMultilingual_SemEval16I5I0.1IsentIaspect/\""
   ]
  },
  {
   "cell_type": "markdown",
   "metadata": {
    "id": "_GvszztNHCzr"
   },
   "source": [
    "Evaluation on best checkpoint:\n"
   ]
  },
  {
   "cell_type": "code",
   "execution_count": null,
   "metadata": {
    "colab": {
     "base_uri": "https://localhost:8080/"
    },
    "executionInfo": {
     "elapsed": 328517,
     "status": "ok",
     "timestamp": 1753195972275,
     "user": {
      "displayName": "Philipp Gottschalk",
      "userId": "02502242344906393626"
     },
     "user_tz": -120
    },
    "id": "PTxJrMbkHCzr",
    "outputId": "3ec57105-6725-4c23-d847-4c6ae36487de"
   },
   "outputs": [],
   "source": [
    "! python /content/CL-TASD-MvP/model/main_train.py --task \"cl_mvp_tasd\" --num_beams \"1\" --dataset \"SemEval16\" --model_prefix \"Multilingual_SemEval16\" --language \"Multilingual\" --test_language \"English\"   --top_k 5 --do_contr_sent --do_contr_aspect --num_train_epochs 20 --do_inference_best_ckpt --train_batch_size 16 --eval_batch_size 64 --weight_decay 0.1 --warmup_steps 0.1 --model_name_or_path \"/content/drive/MyDrive/data/models/SemEval16Icl_mvp_tasdIgoogle/mt5-largeIbeamsI1IwdI0.1Imax_epochsI20IesI0IaccI1IlrI0.0001Icont_lossI0.05Icont_tempI0.25IseedI42IMultilingual_SemEval16I5I0.1IsentIaspect/\""
   ]
  },
  {
   "cell_type": "code",
   "execution_count": null,
   "metadata": {
    "colab": {
     "base_uri": "https://localhost:8080/"
    },
    "executionInfo": {
     "elapsed": 640893,
     "status": "ok",
     "timestamp": 1753196613177,
     "user": {
      "displayName": "Philipp Gottschalk",
      "userId": "02502242344906393626"
     },
     "user_tz": -120
    },
    "id": "UT7BZQwzHCzr",
    "outputId": "987194b3-97dd-48f0-bae1-3b6e07dc3cb5"
   },
   "outputs": [],
   "source": [
    "! python /content/CL-TASD-MvP/model/main_train.py --do_con_dec --task \"cl_mvp_tasd\" --num_beams \"1\" --dataset \"SemEval16\" --model_prefix \"Multilingual_SemEval16\" --language \"Multilingual\" --test_language \"English\"   --top_k 5 --do_contr_sent --do_contr_aspect --num_train_epochs 20 --do_inference_best_ckpt --train_batch_size 16 --eval_batch_size 64 --weight_decay 0.1 --warmup_steps 0.1 --model_name_or_path \"/content/drive/MyDrive/data/models/SemEval16Icl_mvp_tasdIgoogle/mt5-largeIbeamsI1IwdI0.1Imax_epochsI20IesI0IaccI1IlrI0.0001Icont_lossI0.05Icont_tempI0.25IseedI42IMultilingual_SemEval16I5I0.1IsentIaspect/\""
   ]
  },
  {
   "cell_type": "markdown",
   "metadata": {
    "id": "4R2SgzkWH47S"
   },
   "source": [
    "#### **Evaluation MVP Only**"
   ]
  },
  {
   "cell_type": "markdown",
   "metadata": {
    "id": "GNQQhChyH47S"
   },
   "source": [
    "Evaluation on final training epoch:\n"
   ]
  },
  {
   "cell_type": "code",
   "execution_count": null,
   "metadata": {
    "colab": {
     "background_save": true,
     "base_uri": "https://localhost:8080/"
    },
    "id": "qgRmWJiZH47T",
    "outputId": "62e90a18-58a4-4273-9028-1dbd2f9acc0e"
   },
   "outputs": [],
   "source": [
    "! python /content/CL-TASD-MvP/model/main_train.py --task \"cl_mvp_tasd\" --num_beams \"1\" --dataset \"SemEval16\" --model_prefix \"Multilingual_SemEval16\" --language \"Multilingual\" --test_language \"English\"   --top_k 5 --num_train_epochs 20 --do_inference --train_batch_size 16 --eval_batch_size 64 --weight_decay 0.1 --warmup_steps 0.1 --model_name_or_path \"/content/drive/MyDrive/data/models/SemEval16Icl_mvp_tasdIgoogle/mt5-largeIbeamsI1IwdI0.1Imax_epochsI20IesI0IaccI1IlrI0.0001Icont_lossI0.05Icont_tempI0.25IseedI42IMultilingual_SemEval16I5I0.1/\""
   ]
  },
  {
   "cell_type": "code",
   "execution_count": null,
   "metadata": {
    "colab": {
     "background_save": true
    },
    "id": "t9uy8bskH47T",
    "outputId": "ef9ea0d0-4438-4ba0-bb70-b48e9a14d996"
   },
   "outputs": [],
   "source": [
    "! python /content/CL-TASD-MvP/model/main_train.py --do_con_dec --task \"cl_mvp_tasd\" --num_beams \"1\" --dataset \"SemEval16\" --model_prefix \"Multilingual_SemEval16\" --language \"Multilingual\" --test_language \"English\"   --top_k 5 --num_train_epochs 20 --do_inference --train_batch_size 16 --eval_batch_size 64 --weight_decay 0.1 --warmup_steps 0.1 --model_name_or_path \"/content/drive/MyDrive/data/models/SemEval16Icl_mvp_tasdIgoogle/mt5-largeIbeamsI1IwdI0.1Imax_epochsI20IesI0IaccI1IlrI0.0001Icont_lossI0.05Icont_tempI0.25IseedI42IMultilingual_SemEval16I5I0.1/\""
   ]
  },
  {
   "cell_type": "markdown",
   "metadata": {
    "id": "8Jjm3GUHH47T"
   },
   "source": [
    "Evaluation on best checkpoint of the last 5 training epochs:\n"
   ]
  },
  {
   "cell_type": "code",
   "execution_count": null,
   "metadata": {
    "colab": {
     "background_save": true
    },
    "id": "3FJPY5aEH47T",
    "outputId": "32d6e069-0fdb-48e9-c652-5ab6766ffa5b"
   },
   "outputs": [],
   "source": [
    "! python /content/CL-TASD-MvP/model/main_train.py --task \"cl_mvp_tasd\" --num_beams \"1\" --dataset \"SemEval16\" --model_prefix \"Multilingual_SemEval16\" --language \"Multilingual\" --test_language \"English\"   --top_k 5 --num_train_epochs 20 --do_inference_best_5 --train_batch_size 16 --eval_batch_size 64 --weight_decay 0.1 --warmup_steps 0.1 --model_name_or_path \"/content/drive/MyDrive/data/models/SemEval16Icl_mvp_tasdIgoogle/mt5-largeIbeamsI1IwdI0.1Imax_epochsI20IesI0IaccI1IlrI0.0001Icont_lossI0.05Icont_tempI0.25IseedI42IMultilingual_SemEval16I5I0.1/\""
   ]
  },
  {
   "cell_type": "code",
   "execution_count": null,
   "metadata": {
    "colab": {
     "background_save": true
    },
    "id": "zep47NBYH47T",
    "outputId": "199f5c9f-c1c2-447a-9579-7f0557a12584"
   },
   "outputs": [],
   "source": [
    "! python /content/CL-TASD-MvP/model/main_train.py --do_con_dec --task \"cl_mvp_tasd\" --num_beams \"1\" --dataset \"SemEval16\" --model_prefix \"Multilingual_SemEval16\" --language \"Multilingual\" --test_language \"English\"   --top_k 5 --num_train_epochs 20 --do_inference_best_5 --train_batch_size 16 --eval_batch_size 64 --weight_decay 0.1 --warmup_steps 0.1 --model_name_or_path \"/content/drive/MyDrive/data/models/SemEval16Icl_mvp_tasdIgoogle/mt5-largeIbeamsI1IwdI0.1Imax_epochsI20IesI0IaccI1IlrI0.0001Icont_lossI0.05Icont_tempI0.25IseedI42IMultilingual_SemEval16I5I0.1/\""
   ]
  },
  {
   "cell_type": "markdown",
   "metadata": {
    "id": "bVodKvXMH47T"
   },
   "source": [
    "Evaluation on best checkpoint:\n"
   ]
  },
  {
   "cell_type": "code",
   "execution_count": null,
   "metadata": {
    "colab": {
     "background_save": true
    },
    "id": "qtqNhinpH47T",
    "outputId": "c659fb33-4be5-429d-dbe8-3d7b0b249e10"
   },
   "outputs": [],
   "source": [
    "! python /content/CL-TASD-MvP/model/main_train.py --task \"cl_mvp_tasd\" --num_beams \"1\" --dataset \"SemEval16\" --model_prefix \"Multilingual_SemEval16\" --language \"Multilingual\" --test_language \"English\"   --top_k 5 --num_train_epochs 20 --do_inference_best_ckpt --train_batch_size 16 --eval_batch_size 64 --weight_decay 0.1 --warmup_steps 0.1 --model_name_or_path \"/content/drive/MyDrive/data/models/SemEval16Icl_mvp_tasdIgoogle/mt5-largeIbeamsI1IwdI0.1Imax_epochsI20IesI0IaccI1IlrI0.0001Icont_lossI0.05Icont_tempI0.25IseedI42IMultilingual_SemEval16I5I0.1/\""
   ]
  },
  {
   "cell_type": "code",
   "execution_count": null,
   "metadata": {
    "colab": {
     "background_save": true
    },
    "id": "SAcA1rqYH47T",
    "outputId": "b38c3d7f-0b20-4fe6-c512-b5b62179a109"
   },
   "outputs": [],
   "source": [
    "! python /content/CL-TASD-MvP/model/main_train.py --do_con_dec --task \"cl_mvp_tasd\" --num_beams \"1\" --dataset \"SemEval16\" --model_prefix \"Multilingual_SemEval16\" --language \"Multilingual\" --test_language \"English\"   --top_k 5 --num_train_epochs 20 --do_inference_best_ckpt --train_batch_size 16 --eval_batch_size 64 --weight_decay 0.1 --warmup_steps 0.1 --model_name_or_path \"/content/drive/MyDrive/data/models/SemEval16Icl_mvp_tasdIgoogle/mt5-largeIbeamsI1IwdI0.1Imax_epochsI20IesI0IaccI1IlrI0.0001Icont_lossI0.05Icont_tempI0.25IseedI42IMultilingual_SemEval16I5I0.1/\""
   ]
  },
  {
   "cell_type": "markdown",
   "metadata": {
    "id": "SMNROHtjIZSt"
   },
   "source": [
    "#### **Evaluation Only CL**"
   ]
  },
  {
   "cell_type": "markdown",
   "metadata": {
    "id": "TYPL6kJoIZSu"
   },
   "source": [
    "Evaluation on final training epoch:\n"
   ]
  },
  {
   "cell_type": "code",
   "execution_count": null,
   "metadata": {
    "colab": {
     "background_save": true
    },
    "id": "AElw9ftgIZSu",
    "outputId": "fd0d6529-5fe8-469b-a4fc-aa544652efda"
   },
   "outputs": [],
   "source": [
    "! python /content/CL-TASD-MvP/model/main_train.py --task \"cl_mvp_tasd\" --num_beams \"1\" --dataset \"SemEval16\" --model_prefix \"Multilingual_SemEval16\" --language \"Multilingual\" --test_language \"English\"   --top_k 1 --do_contr_sent --do_contr_aspect --num_train_epochs 20 --do_inference --train_batch_size 16 --eval_batch_size 64 --weight_decay 0.1 --warmup_steps 0.1 --model_name_or_path \"/content/drive/MyDrive/data/models/SemEval16Icl_mvp_tasdIgoogle/mt5-largeIbeamsI1IwdI0.1Imax_epochsI20IesI0IaccI1IlrI0.0001Icont_lossI0.05Icont_tempI0.25IseedI42IMultilingual_SemEval16I1I0.1IsentIaspect/\""
   ]
  },
  {
   "cell_type": "code",
   "execution_count": null,
   "metadata": {
    "colab": {
     "background_save": true
    },
    "id": "6qqRx2aLIZSu",
    "outputId": "7e4bad96-146d-4e1f-caff-2fb339b1495f"
   },
   "outputs": [],
   "source": [
    "! python /content/CL-TASD-MvP/model/main_train.py --do_con_dec --task \"cl_mvp_tasd\" --num_beams \"1\" --dataset \"SemEval16\" --model_prefix \"Multilingual_SemEval16\" --language \"Multilingual\" --test_language \"English\"   --top_k 1 --do_contr_sent --do_contr_aspect --num_train_epochs 20 --do_inference --train_batch_size 16 --eval_batch_size 64 --weight_decay 0.1 --warmup_steps 0.1 --model_name_or_path \"/content/drive/MyDrive/data/models/SemEval16Icl_mvp_tasdIgoogle/mt5-largeIbeamsI1IwdI0.1Imax_epochsI20IesI0IaccI1IlrI0.0001Icont_lossI0.05Icont_tempI0.25IseedI42IMultilingual_SemEval16I1I0.1IsentIaspect/\""
   ]
  },
  {
   "cell_type": "markdown",
   "metadata": {
    "id": "jjJkCDmDIZSu"
   },
   "source": [
    "Evaluation on best checkpoint of the last 5 training epochs:\n"
   ]
  },
  {
   "cell_type": "code",
   "execution_count": null,
   "metadata": {
    "colab": {
     "background_save": true
    },
    "id": "XK4LYALIIZSu",
    "outputId": "95d336a1-12f0-477a-9ced-9503bd141a6c"
   },
   "outputs": [],
   "source": [
    "! python /content/CL-TASD-MvP/model/main_train.py --task \"cl_mvp_tasd\" --num_beams \"1\" --dataset \"SemEval16\" --model_prefix \"Multilingual_SemEval16\" --language \"Multilingual\" --test_language \"English\"   --top_k 1 --do_contr_sent --do_contr_aspect --num_train_epochs 20 --do_inference_best_5 --train_batch_size 16 --eval_batch_size 64 --weight_decay 0.1 --warmup_steps 0.1 --model_name_or_path \"/content/drive/MyDrive/data/models/SemEval16Icl_mvp_tasdIgoogle/mt5-largeIbeamsI1IwdI0.1Imax_epochsI20IesI0IaccI1IlrI0.0001Icont_lossI0.05Icont_tempI0.25IseedI42IMultilingual_SemEval16I1I0.1IsentIaspect/\""
   ]
  },
  {
   "cell_type": "code",
   "execution_count": null,
   "metadata": {
    "colab": {
     "background_save": true
    },
    "id": "Yckm04MjIZSu",
    "outputId": "028b7945-f0db-40f0-8511-5e5ab0531d05"
   },
   "outputs": [],
   "source": [
    "! python /content/CL-TASD-MvP/model/main_train.py --do_con_dec --task \"cl_mvp_tasd\" --num_beams \"1\" --dataset \"SemEval16\" --model_prefix \"Multilingual_SemEval16\" --language \"Multilingual\" --test_language \"English\"   --top_k 1 --do_contr_sent --do_contr_aspect --num_train_epochs 20 --do_inference_best_5 --train_batch_size 16 --eval_batch_size 64 --weight_decay 0.1 --warmup_steps 0.1 --model_name_or_path \"/content/drive/MyDrive/data/models/SemEval16Icl_mvp_tasdIgoogle/mt5-largeIbeamsI1IwdI0.1Imax_epochsI20IesI0IaccI1IlrI0.0001Icont_lossI0.05Icont_tempI0.25IseedI42IMultilingual_SemEval16I1I0.1IsentIaspect/\""
   ]
  },
  {
   "cell_type": "markdown",
   "metadata": {
    "id": "xjXcrc1CIZSu"
   },
   "source": [
    "Evaluation on best checkpoint:\n"
   ]
  },
  {
   "cell_type": "code",
   "execution_count": null,
   "metadata": {
    "colab": {
     "background_save": true
    },
    "id": "nqlT_7iBIZSu",
    "outputId": "62b73d29-6bba-4c4a-9190-8c3ec6ab375e"
   },
   "outputs": [],
   "source": [
    "! python /content/CL-TASD-MvP/model/main_train.py --task \"cl_mvp_tasd\" --num_beams \"1\" --dataset \"SemEval16\" --model_prefix \"Multilingual_SemEval16\" --language \"Multilingual\" --test_language \"English\"   --top_k 1 --do_contr_sent --do_contr_aspect --num_train_epochs 20 --do_inference_best_ckpt --train_batch_size 16 --eval_batch_size 64 --weight_decay 0.1 --warmup_steps 0.1 --model_name_or_path \"/content/drive/MyDrive/data/models/SemEval16Icl_mvp_tasdIgoogle/mt5-largeIbeamsI1IwdI0.1Imax_epochsI20IesI0IaccI1IlrI0.0001Icont_lossI0.05Icont_tempI0.25IseedI42IMultilingual_SemEval16I1I0.1IsentIaspect/\""
   ]
  },
  {
   "cell_type": "code",
   "execution_count": null,
   "metadata": {
    "colab": {
     "background_save": true
    },
    "id": "qA-q902PIZSu",
    "outputId": "d6db2588-c398-450b-abb2-f766d428c62b"
   },
   "outputs": [],
   "source": [
    "! python /content/CL-TASD-MvP/model/main_train.py --do_con_dec --task \"cl_mvp_tasd\" --num_beams \"1\" --dataset \"SemEval16\" --model_prefix \"Multilingual_SemEval16\" --language \"Multilingual\" --test_language \"English\"   --top_k 1 --do_contr_sent --do_contr_aspect --num_train_epochs 20 --do_inference_best_ckpt --train_batch_size 16 --eval_batch_size 64 --weight_decay 0.1 --warmup_steps 0.1 --model_name_or_path \"/content/drive/MyDrive/data/models/SemEval16Icl_mvp_tasdIgoogle/mt5-largeIbeamsI1IwdI0.1Imax_epochsI20IesI0IaccI1IlrI0.0001Icont_lossI0.05Icont_tempI0.25IseedI42IMultilingual_SemEval16I1I0.1IsentIaspect/\""
   ]
  },
  {
   "cell_type": "markdown",
   "metadata": {
    "id": "37XQO_cIHT8y"
   },
   "source": [
    "#### **Evaluation Base MT5**"
   ]
  },
  {
   "cell_type": "markdown",
   "metadata": {
    "id": "aYUatis9HT8y"
   },
   "source": [
    "Evaluation on final training epoch:\n"
   ]
  },
  {
   "cell_type": "code",
   "execution_count": null,
   "metadata": {
    "colab": {
     "base_uri": "https://localhost:8080/"
    },
    "executionInfo": {
     "elapsed": 154520,
     "status": "ok",
     "timestamp": 1753196898110,
     "user": {
      "displayName": "Philipp Gottschalk",
      "userId": "02502242344906393626"
     },
     "user_tz": -120
    },
    "id": "3haAmsVaHT8y",
    "outputId": "40500bb1-e612-48c3-c71e-9a8c747fa75e"
   },
   "outputs": [],
   "source": [
    "! python /content/CL-TASD-MvP/model/main_train.py --task \"cl_mvp_tasd\" --num_beams \"1\" --dataset \"SemEval16\" --model_prefix \"Multilingual_SemEval16\" --language \"Multilingual\" --test_language \"English\"   --top_k 1 --num_train_epochs 20 --do_inference --train_batch_size 16 --eval_batch_size 64 --weight_decay 0.1 --warmup_steps 0.1 --model_name_or_path \"/content/drive/MyDrive/data/models/SemEval16Icl_mvp_tasdIgoogle/mt5-largeIbeamsI1IwdI0.1Imax_epochsI20IesI0IaccI1IlrI0.0001Icont_lossI0.05Icont_tempI0.25IseedI42IMultilingual_SemEval16I1I0.1/\""
   ]
  },
  {
   "cell_type": "code",
   "execution_count": null,
   "metadata": {
    "colab": {
     "base_uri": "https://localhost:8080/"
    },
    "executionInfo": {
     "elapsed": 177980,
     "status": "ok",
     "timestamp": 1753197076105,
     "user": {
      "displayName": "Philipp Gottschalk",
      "userId": "02502242344906393626"
     },
     "user_tz": -120
    },
    "id": "clXaXe6lHT8y",
    "outputId": "9cb2f21c-c9f3-4e39-f261-c8436bb24770"
   },
   "outputs": [],
   "source": [
    "! python /content/CL-TASD-MvP/model/main_train.py --do_con_dec --task \"cl_mvp_tasd\" --num_beams \"1\" --dataset \"SemEval16\" --model_prefix \"Multilingual_SemEval16\" --language \"Multilingual\" --test_language \"English\"   --top_k 1 --num_train_epochs 20 --do_inference --train_batch_size 16 --eval_batch_size 64 --weight_decay 0.1 --warmup_steps 0.1 --model_name_or_path \"/content/drive/MyDrive/data/models/SemEval16Icl_mvp_tasdIgoogle/mt5-largeIbeamsI1IwdI0.1Imax_epochsI20IesI0IaccI1IlrI0.0001Icont_lossI0.05Icont_tempI0.25IseedI42IMultilingual_SemEval16I1I0.1/\""
   ]
  },
  {
   "cell_type": "markdown",
   "metadata": {
    "id": "J8m9Jx3THT8y"
   },
   "source": [
    "Evaluation on best checkpoint of the last 5 training epochs:\n"
   ]
  },
  {
   "cell_type": "code",
   "execution_count": null,
   "metadata": {
    "colab": {
     "base_uri": "https://localhost:8080/"
    },
    "executionInfo": {
     "elapsed": 131765,
     "status": "ok",
     "timestamp": 1753197207875,
     "user": {
      "displayName": "Philipp Gottschalk",
      "userId": "02502242344906393626"
     },
     "user_tz": -120
    },
    "id": "AqYYC7HbHT8z",
    "outputId": "c86f9518-187b-4b03-8182-a325c13b8eb5"
   },
   "outputs": [],
   "source": [
    "! python /content/CL-TASD-MvP/model/main_train.py --task \"cl_mvp_tasd\" --num_beams \"1\" --dataset \"SemEval16\" --model_prefix \"Multilingual_SemEval16\" --language \"Multilingual\" --test_language \"English\"   --top_k 1 --num_train_epochs 20 --do_inference_best_5 --train_batch_size 16 --eval_batch_size 64 --weight_decay 0.1 --warmup_steps 0.1 --model_name_or_path \"/content/drive/MyDrive/data/models/SemEval16Icl_mvp_tasdIgoogle/mt5-largeIbeamsI1IwdI0.1Imax_epochsI20IesI0IaccI1IlrI0.0001Icont_lossI0.05Icont_tempI0.25IseedI42IMultilingual_SemEval16I1I0.1/\""
   ]
  },
  {
   "cell_type": "code",
   "execution_count": null,
   "metadata": {
    "colab": {
     "base_uri": "https://localhost:8080/"
    },
    "executionInfo": {
     "elapsed": 184213,
     "status": "ok",
     "timestamp": 1753197392119,
     "user": {
      "displayName": "Philipp Gottschalk",
      "userId": "02502242344906393626"
     },
     "user_tz": -120
    },
    "id": "YRqiY5lyHT8z",
    "outputId": "d67be1d3-4f52-4dd8-f50e-637e3a7584cc"
   },
   "outputs": [],
   "source": [
    "! python /content/CL-TASD-MvP/model/main_train.py --do_con_dec --task \"cl_mvp_tasd\" --num_beams \"1\" --dataset \"SemEval16\" --model_prefix \"Multilingual_SemEval16\" --language \"Multilingual\" --test_language \"English\"   --top_k 1 --num_train_epochs 20 --do_inference_best_5 --train_batch_size 16 --eval_batch_size 64 --weight_decay 0.1 --warmup_steps 0.1 --model_name_or_path \"/content/drive/MyDrive/data/models/SemEval16Icl_mvp_tasdIgoogle/mt5-largeIbeamsI1IwdI0.1Imax_epochsI20IesI0IaccI1IlrI0.0001Icont_lossI0.05Icont_tempI0.25IseedI42IMultilingual_SemEval16I1I0.1/\""
   ]
  },
  {
   "cell_type": "markdown",
   "metadata": {
    "id": "QhGezUkaHT8z"
   },
   "source": [
    "Evaluation on best checkpoint:\n"
   ]
  },
  {
   "cell_type": "code",
   "execution_count": null,
   "metadata": {
    "colab": {
     "base_uri": "https://localhost:8080/"
    },
    "executionInfo": {
     "elapsed": 152594,
     "status": "ok",
     "timestamp": 1753197544716,
     "user": {
      "displayName": "Philipp Gottschalk",
      "userId": "02502242344906393626"
     },
     "user_tz": -120
    },
    "id": "wBJQb4JoHT8z",
    "outputId": "d79c4485-ad8c-4312-e3b2-072326f72cf5"
   },
   "outputs": [],
   "source": [
    "! python /content/CL-TASD-MvP/model/main_train.py --task \"cl_mvp_tasd\" --num_beams \"1\" --dataset \"SemEval16\" --model_prefix \"Multilingual_SemEval16\" --language \"Multilingual\" --test_language \"English\"   --top_k 1 --num_train_epochs 20 --do_inference_best_ckpt --train_batch_size 16 --eval_batch_size 64 --weight_decay 0.1 --warmup_steps 0.1 --model_name_or_path \"/content/drive/MyDrive/data/models/SemEval16Icl_mvp_tasdIgoogle/mt5-largeIbeamsI1IwdI0.1Imax_epochsI20IesI0IaccI1IlrI0.0001Icont_lossI0.05Icont_tempI0.25IseedI42IMultilingual_SemEval16I1I0.1/\""
   ]
  },
  {
   "cell_type": "code",
   "execution_count": null,
   "metadata": {
    "colab": {
     "base_uri": "https://localhost:8080/"
    },
    "executionInfo": {
     "elapsed": 205197,
     "status": "ok",
     "timestamp": 1753197749915,
     "user": {
      "displayName": "Philipp Gottschalk",
      "userId": "02502242344906393626"
     },
     "user_tz": -120
    },
    "id": "FPUnG8l1HT8z",
    "outputId": "23494e7a-4c2a-4048-b14e-5fdc05405bec"
   },
   "outputs": [],
   "source": [
    "! python /content/CL-TASD-MvP/model/main_train.py --do_con_dec --task \"cl_mvp_tasd\" --num_beams \"1\" --dataset \"SemEval16\" --model_prefix \"Multilingual_SemEval16\" --language \"Multilingual\" --test_language \"English\"   --top_k 1 --num_train_epochs 20 --do_inference_best_ckpt --train_batch_size 16 --eval_batch_size 64 --weight_decay 0.1 --warmup_steps 0.1 --model_name_or_path \"/content/drive/MyDrive/data/models/SemEval16Icl_mvp_tasdIgoogle/mt5-largeIbeamsI1IwdI0.1Imax_epochsI20IesI0IaccI1IlrI0.0001Icont_lossI0.05Icont_tempI0.25IseedI42IMultilingual_SemEval16I1I0.1/\""
   ]
  },
  {
   "cell_type": "markdown",
   "metadata": {
    "id": "v81yuufYIt3A"
   },
   "source": [
    "### **Model Evaluation: French**\n"
   ]
  },
  {
   "cell_type": "markdown",
   "metadata": {
    "id": "5RGEBQMVIt3B"
   },
   "source": [
    "#### **Evaluation Full Model**"
   ]
  },
  {
   "cell_type": "markdown",
   "metadata": {
    "id": "Uj2u_afqIt3B"
   },
   "source": [
    "Evaluation on final training epoch:\n"
   ]
  },
  {
   "cell_type": "code",
   "execution_count": null,
   "metadata": {
    "id": "kwdeLE9XIt3B"
   },
   "outputs": [],
   "source": [
    "! python /content/CL-TASD-MvP/model/main_train.py --task \"cl_mvp_tasd\" --num_beams \"1\" --dataset \"SemEval16\" --model_prefix \"Multilingual_SemEval16\" --language \"Multilingual\" --test_language \"French\"   --top_k 5 --do_contr_sent --do_contr_aspect --num_train_epochs 20 --do_inference --train_batch_size 16 --eval_batch_size 64 --weight_decay 0.1 --warmup_steps 0.1 --model_name_or_path \"/content/drive/MyDrive/data/models/SemEval16Icl_mvp_tasdIgoogle/mt5-largeIbeamsI1IwdI0.1Imax_epochsI20IesI0IaccI1IlrI0.0001Icont_lossI0.05Icont_tempI0.25IseedI42IMultilingual_SemEval16I5I0.1IsentIaspect/\""
   ]
  },
  {
   "cell_type": "code",
   "execution_count": null,
   "metadata": {
    "id": "hfTBHsvMIt3B"
   },
   "outputs": [],
   "source": [
    "! python /content/CL-TASD-MvP/model/main_train.py --do_con_dec --task \"cl_mvp_tasd\" --num_beams \"1\" --dataset \"SemEval16\" --model_prefix \"Multilingual_SemEval16\" --language \"Multilingual\" --test_language \"French\"   --top_k 5 --do_contr_sent --do_contr_aspect --num_train_epochs 20 --do_inference --train_batch_size 16 --eval_batch_size 64 --weight_decay 0.1 --warmup_steps 0.1 --model_name_or_path \"/content/drive/MyDrive/data/models/SemEval16Icl_mvp_tasdIgoogle/mt5-largeIbeamsI1IwdI0.1Imax_epochsI20IesI0IaccI1IlrI0.0001Icont_lossI0.05Icont_tempI0.25IseedI42IMultilingual_SemEval16I5I0.1IsentIaspect/\""
   ]
  },
  {
   "cell_type": "markdown",
   "metadata": {
    "id": "5G8wZ-XTIt3B"
   },
   "source": [
    "Evaluation on best checkpoint of the last 5 training epochs:\n"
   ]
  },
  {
   "cell_type": "code",
   "execution_count": null,
   "metadata": {
    "id": "0qnc5EWqIt3B"
   },
   "outputs": [],
   "source": [
    "! python /content/CL-TASD-MvP/model/main_train.py --task \"cl_mvp_tasd\" --num_beams \"1\" --dataset \"SemEval16\" --model_prefix \"Multilingual_SemEval16\" --language \"Multilingual\" --test_language \"French\"   --top_k 5 --do_contr_sent --do_contr_aspect --num_train_epochs 20 --do_inference_best_5 --train_batch_size 16 --eval_batch_size 64 --weight_decay 0.1 --warmup_steps 0.1 --model_name_or_path \"/content/drive/MyDrive/data/models/SemEval16Icl_mvp_tasdIgoogle/mt5-largeIbeamsI1IwdI0.1Imax_epochsI20IesI0IaccI1IlrI0.0001Icont_lossI0.05Icont_tempI0.25IseedI42IMultilingual_SemEval16I5I0.1IsentIaspect/\""
   ]
  },
  {
   "cell_type": "code",
   "execution_count": null,
   "metadata": {
    "id": "5GykmzlIIt3B"
   },
   "outputs": [],
   "source": [
    "! python /content/CL-TASD-MvP/model/main_train.py --do_con_dec --task \"cl_mvp_tasd\" --num_beams \"1\" --dataset \"SemEval16\" --model_prefix \"Multilingual_SemEval16\" --language \"Multilingual\" --test_language \"French\"   --top_k 5 --do_contr_sent --do_contr_aspect --num_train_epochs 20 --do_inference_best_5 --train_batch_size 16 --eval_batch_size 64 --weight_decay 0.1 --warmup_steps 0.1 --model_name_or_path \"/content/drive/MyDrive/data/models/SemEval16Icl_mvp_tasdIgoogle/mt5-largeIbeamsI1IwdI0.1Imax_epochsI20IesI0IaccI1IlrI0.0001Icont_lossI0.05Icont_tempI0.25IseedI42IMultilingual_SemEval16I5I0.1IsentIaspect/\""
   ]
  },
  {
   "cell_type": "markdown",
   "metadata": {
    "id": "Kzl_2w7LIt3C"
   },
   "source": [
    "Evaluation on best checkpoint:\n"
   ]
  },
  {
   "cell_type": "code",
   "execution_count": null,
   "metadata": {
    "id": "e-JCgSL7It3C"
   },
   "outputs": [],
   "source": [
    "! python /content/CL-TASD-MvP/model/main_train.py --task \"cl_mvp_tasd\" --num_beams \"1\" --dataset \"SemEval16\" --model_prefix \"Multilingual_SemEval16\" --language \"Multilingual\" --test_language \"French\"   --top_k 5 --do_contr_sent --do_contr_aspect --num_train_epochs 20 --do_inference_best_ckpt --train_batch_size 16 --eval_batch_size 64 --weight_decay 0.1 --warmup_steps 0.1 --model_name_or_path \"/content/drive/MyDrive/data/models/SemEval16Icl_mvp_tasdIgoogle/mt5-largeIbeamsI1IwdI0.1Imax_epochsI20IesI0IaccI1IlrI0.0001Icont_lossI0.05Icont_tempI0.25IseedI42IMultilingual_SemEval16I5I0.1IsentIaspect/\""
   ]
  },
  {
   "cell_type": "code",
   "execution_count": null,
   "metadata": {
    "id": "1cY61dKLIt3C"
   },
   "outputs": [],
   "source": [
    "! python /content/CL-TASD-MvP/model/main_train.py --do_con_dec --task \"cl_mvp_tasd\" --num_beams \"1\" --dataset \"SemEval16\" --model_prefix \"Multilingual_SemEval16\" --language \"Multilingual\" --test_language \"French\"   --top_k 5 --do_contr_sent --do_contr_aspect --num_train_epochs 20 --do_inference_best_ckpt --train_batch_size 16 --eval_batch_size 64 --weight_decay 0.1 --warmup_steps 0.1 --model_name_or_path \"/content/drive/MyDrive/data/models/SemEval16Icl_mvp_tasdIgoogle/mt5-largeIbeamsI1IwdI0.1Imax_epochsI20IesI0IaccI1IlrI0.0001Icont_lossI0.05Icont_tempI0.25IseedI42IMultilingual_SemEval16I5I0.1IsentIaspect/\""
   ]
  },
  {
   "cell_type": "markdown",
   "metadata": {
    "id": "F3I0SoXLIt3C"
   },
   "source": [
    "#### **Evaluation MVP Only**"
   ]
  },
  {
   "cell_type": "markdown",
   "metadata": {
    "id": "a3CMJ1iAIt3C"
   },
   "source": [
    "Evaluation on final training epoch:\n"
   ]
  },
  {
   "cell_type": "code",
   "execution_count": null,
   "metadata": {
    "colab": {
     "background_save": true
    },
    "id": "Y5bVQC71It3C",
    "outputId": "83a32f88-d12f-4d2a-c027-1439084faa3a"
   },
   "outputs": [],
   "source": [
    "! python /content/CL-TASD-MvP/model/main_train.py --task \"cl_mvp_tasd\" --num_beams \"1\" --dataset \"SemEval16\" --model_prefix \"Multilingual_SemEval16\" --language \"Multilingual\" --test_language \"French\"   --top_k 5 --num_train_epochs 20 --do_inference --train_batch_size 16 --eval_batch_size 64 --weight_decay 0.1 --warmup_steps 0.1 --model_name_or_path \"/content/drive/MyDrive/data/models/SemEval16Icl_mvp_tasdIgoogle/mt5-largeIbeamsI1IwdI0.1Imax_epochsI20IesI0IaccI1IlrI0.0001Icont_lossI0.05Icont_tempI0.25IseedI42IMultilingual_SemEval16I5I0.1/\""
   ]
  },
  {
   "cell_type": "code",
   "execution_count": null,
   "metadata": {
    "colab": {
     "background_save": true
    },
    "id": "0SE0O-kEIt3C",
    "outputId": "fe955d18-e203-46ca-ccb7-3a858541c86f"
   },
   "outputs": [],
   "source": [
    "! python /content/CL-TASD-MvP/model/main_train.py --do_con_dec --task \"cl_mvp_tasd\" --num_beams \"1\" --dataset \"SemEval16\" --model_prefix \"Multilingual_SemEval16\" --language \"Multilingual\" --test_language \"French\"   --top_k 5 --num_train_epochs 20 --do_inference --train_batch_size 16 --eval_batch_size 64 --weight_decay 0.1 --warmup_steps 0.1 --model_name_or_path \"/content/drive/MyDrive/data/models/SemEval16Icl_mvp_tasdIgoogle/mt5-largeIbeamsI1IwdI0.1Imax_epochsI20IesI0IaccI1IlrI0.0001Icont_lossI0.05Icont_tempI0.25IseedI42IMultilingual_SemEval16I5I0.1/\""
   ]
  },
  {
   "cell_type": "markdown",
   "metadata": {
    "id": "P8gmuIIFIt3C"
   },
   "source": [
    "Evaluation on best checkpoint of the last 5 training epochs:\n"
   ]
  },
  {
   "cell_type": "code",
   "execution_count": null,
   "metadata": {
    "colab": {
     "background_save": true
    },
    "id": "1j3HQTCxIt3C",
    "outputId": "4f249245-5d69-4c3c-f41c-e982fd2ed9bf"
   },
   "outputs": [],
   "source": [
    "! python /content/CL-TASD-MvP/model/main_train.py --task \"cl_mvp_tasd\" --num_beams \"1\" --dataset \"SemEval16\" --model_prefix \"Multilingual_SemEval16\" --language \"Multilingual\" --test_language \"French\"   --top_k 5 --num_train_epochs 20 --do_inference_best_5 --train_batch_size 16 --eval_batch_size 64 --weight_decay 0.1 --warmup_steps 0.1 --model_name_or_path \"/content/drive/MyDrive/data/models/SemEval16Icl_mvp_tasdIgoogle/mt5-largeIbeamsI1IwdI0.1Imax_epochsI20IesI0IaccI1IlrI0.0001Icont_lossI0.05Icont_tempI0.25IseedI42IMultilingual_SemEval16I5I0.1/\""
   ]
  },
  {
   "cell_type": "code",
   "execution_count": null,
   "metadata": {
    "colab": {
     "background_save": true
    },
    "id": "zlZqQUgIIt3C",
    "outputId": "02d68b8f-522f-46d0-eb3d-0c8341f75f07"
   },
   "outputs": [],
   "source": [
    "! python /content/CL-TASD-MvP/model/main_train.py --do_con_dec --task \"cl_mvp_tasd\" --num_beams \"1\" --dataset \"SemEval16\" --model_prefix \"Multilingual_SemEval16\" --language \"Multilingual\" --test_language \"French\"   --top_k 5 --num_train_epochs 20 --do_inference_best_5 --train_batch_size 16 --eval_batch_size 64 --weight_decay 0.1 --warmup_steps 0.1 --model_name_or_path \"/content/drive/MyDrive/data/models/SemEval16Icl_mvp_tasdIgoogle/mt5-largeIbeamsI1IwdI0.1Imax_epochsI20IesI0IaccI1IlrI0.0001Icont_lossI0.05Icont_tempI0.25IseedI42IMultilingual_SemEval16I5I0.1/\""
   ]
  },
  {
   "cell_type": "markdown",
   "metadata": {
    "id": "l0yoJAudIt3C"
   },
   "source": [
    "Evaluation on best checkpoint:\n"
   ]
  },
  {
   "cell_type": "code",
   "execution_count": null,
   "metadata": {
    "colab": {
     "background_save": true,
     "base_uri": "https://localhost:8080/"
    },
    "id": "2gTX8QAGIt3C",
    "outputId": "963ab55d-c6f8-4b9f-e745-bd56b5e4fd2c"
   },
   "outputs": [],
   "source": [
    "! python /content/CL-TASD-MvP/model/main_train.py --task \"cl_mvp_tasd\" --num_beams \"1\" --dataset \"SemEval16\" --model_prefix \"Multilingual_SemEval16\" --language \"Multilingual\" --test_language \"French\"   --top_k 5 --num_train_epochs 20 --do_inference_best_ckpt --train_batch_size 16 --eval_batch_size 64 --weight_decay 0.1 --warmup_steps 0.1 --model_name_or_path \"/content/drive/MyDrive/data/models/SemEval16Icl_mvp_tasdIgoogle/mt5-largeIbeamsI1IwdI0.1Imax_epochsI20IesI0IaccI1IlrI0.0001Icont_lossI0.05Icont_tempI0.25IseedI42IMultilingual_SemEval16I5I0.1/\""
   ]
  },
  {
   "cell_type": "code",
   "execution_count": null,
   "metadata": {
    "colab": {
     "background_save": true
    },
    "id": "wwMebGc1It3C",
    "outputId": "8e7f4411-1f87-4eb4-cf07-3ac468773d86"
   },
   "outputs": [],
   "source": [
    "! python /content/CL-TASD-MvP/model/main_train.py --do_con_dec --task \"cl_mvp_tasd\" --num_beams \"1\" --dataset \"SemEval16\" --model_prefix \"Multilingual_SemEval16\" --language \"Multilingual\" --test_language \"French\"   --top_k 5 --num_train_epochs 20 --do_inference_best_ckpt --train_batch_size 16 --eval_batch_size 64 --weight_decay 0.1 --warmup_steps 0.1 --model_name_or_path \"/content/drive/MyDrive/data/models/SemEval16Icl_mvp_tasdIgoogle/mt5-largeIbeamsI1IwdI0.1Imax_epochsI20IesI0IaccI1IlrI0.0001Icont_lossI0.05Icont_tempI0.25IseedI42IMultilingual_SemEval16I5I0.1/\""
   ]
  },
  {
   "cell_type": "markdown",
   "metadata": {
    "id": "dgDX70iQIt3D"
   },
   "source": [
    "#### **Evaluation Only CL**"
   ]
  },
  {
   "cell_type": "markdown",
   "metadata": {
    "id": "ubqTEEW4It3D"
   },
   "source": [
    "Evaluation on final training epoch:\n"
   ]
  },
  {
   "cell_type": "code",
   "execution_count": null,
   "metadata": {
    "colab": {
     "background_save": true
    },
    "id": "8pbJ8G8-It3D",
    "outputId": "81222cf4-deea-4e0f-b9bc-690f8739ea62"
   },
   "outputs": [],
   "source": [
    "! python /content/CL-TASD-MvP/model/main_train.py --task \"cl_mvp_tasd\" --num_beams \"1\" --dataset \"SemEval16\" --model_prefix \"Multilingual_SemEval16\" --language \"Multilingual\" --test_language \"French\"   --top_k 1 --do_contr_sent --do_contr_aspect --num_train_epochs 20 --do_inference --train_batch_size 16 --eval_batch_size 64 --weight_decay 0.1 --warmup_steps 0.1 --model_name_or_path \"/content/drive/MyDrive/data/models/SemEval16Icl_mvp_tasdIgoogle/mt5-largeIbeamsI1IwdI0.1Imax_epochsI20IesI0IaccI1IlrI0.0001Icont_lossI0.05Icont_tempI0.25IseedI42IMultilingual_SemEval16I1I0.1IsentIaspect/\""
   ]
  },
  {
   "cell_type": "code",
   "execution_count": null,
   "metadata": {
    "colab": {
     "background_save": true
    },
    "id": "wSundGStIt3D",
    "outputId": "f2295634-8f49-49fd-a6a7-51a3280e2e19"
   },
   "outputs": [],
   "source": [
    "! python /content/CL-TASD-MvP/model/main_train.py --do_con_dec --task \"cl_mvp_tasd\" --num_beams \"1\" --dataset \"SemEval16\" --model_prefix \"Multilingual_SemEval16\" --language \"Multilingual\" --test_language \"French\"   --top_k 1 --do_contr_sent --do_contr_aspect --num_train_epochs 20 --do_inference --train_batch_size 16 --eval_batch_size 64 --weight_decay 0.1 --warmup_steps 0.1 --model_name_or_path \"/content/drive/MyDrive/data/models/SemEval16Icl_mvp_tasdIgoogle/mt5-largeIbeamsI1IwdI0.1Imax_epochsI20IesI0IaccI1IlrI0.0001Icont_lossI0.05Icont_tempI0.25IseedI42IMultilingual_SemEval16I1I0.1IsentIaspect/\""
   ]
  },
  {
   "cell_type": "markdown",
   "metadata": {
    "id": "ZhLIw-PbIt3D"
   },
   "source": [
    "Evaluation on best checkpoint of the last 5 training epochs:\n"
   ]
  },
  {
   "cell_type": "code",
   "execution_count": null,
   "metadata": {
    "colab": {
     "background_save": true
    },
    "id": "XR3KnUkWIt3D",
    "outputId": "6a210114-9c8b-49fc-f77a-1d0a53d814e5"
   },
   "outputs": [],
   "source": [
    "! python /content/CL-TASD-MvP/model/main_train.py --task \"cl_mvp_tasd\" --num_beams \"1\" --dataset \"SemEval16\" --model_prefix \"Multilingual_SemEval16\" --language \"Multilingual\" --test_language \"French\"   --top_k 1 --do_contr_sent --do_contr_aspect --num_train_epochs 20 --do_inference_best_5 --train_batch_size 16 --eval_batch_size 64 --weight_decay 0.1 --warmup_steps 0.1 --model_name_or_path \"/content/drive/MyDrive/data/models/SemEval16Icl_mvp_tasdIgoogle/mt5-largeIbeamsI1IwdI0.1Imax_epochsI20IesI0IaccI1IlrI0.0001Icont_lossI0.05Icont_tempI0.25IseedI42IMultilingual_SemEval16I1I0.1IsentIaspect/\""
   ]
  },
  {
   "cell_type": "code",
   "execution_count": null,
   "metadata": {
    "colab": {
     "background_save": true
    },
    "id": "rMfUug11It3D",
    "outputId": "7b471c11-8902-4021-e3e7-3276d0b41448"
   },
   "outputs": [],
   "source": [
    "! python /content/CL-TASD-MvP/model/main_train.py --do_con_dec --task \"cl_mvp_tasd\" --num_beams \"1\" --dataset \"SemEval16\" --model_prefix \"Multilingual_SemEval16\" --language \"Multilingual\" --test_language \"French\"   --top_k 1 --do_contr_sent --do_contr_aspect --num_train_epochs 20 --do_inference_best_5 --train_batch_size 16 --eval_batch_size 64 --weight_decay 0.1 --warmup_steps 0.1 --model_name_or_path \"/content/drive/MyDrive/data/models/SemEval16Icl_mvp_tasdIgoogle/mt5-largeIbeamsI1IwdI0.1Imax_epochsI20IesI0IaccI1IlrI0.0001Icont_lossI0.05Icont_tempI0.25IseedI42IMultilingual_SemEval16I1I0.1IsentIaspect/\""
   ]
  },
  {
   "cell_type": "markdown",
   "metadata": {
    "id": "-HyXfSmGIt3D"
   },
   "source": [
    "Evaluation on best checkpoint:\n"
   ]
  },
  {
   "cell_type": "code",
   "execution_count": null,
   "metadata": {
    "colab": {
     "background_save": true
    },
    "id": "51G4Kua0It3D",
    "outputId": "e1a59b91-a5e3-45e7-fe0f-fcd8a9fe49cd"
   },
   "outputs": [],
   "source": [
    "! python /content/CL-TASD-MvP/model/main_train.py --task \"cl_mvp_tasd\" --num_beams \"1\" --dataset \"SemEval16\" --model_prefix \"Multilingual_SemEval16\" --language \"Multilingual\" --test_language \"French\"   --top_k 1 --do_contr_sent --do_contr_aspect --num_train_epochs 20 --do_inference_best_ckpt --train_batch_size 16 --eval_batch_size 64 --weight_decay 0.1 --warmup_steps 0.1 --model_name_or_path \"/content/drive/MyDrive/data/models/SemEval16Icl_mvp_tasdIgoogle/mt5-largeIbeamsI1IwdI0.1Imax_epochsI20IesI0IaccI1IlrI0.0001Icont_lossI0.05Icont_tempI0.25IseedI42IMultilingual_SemEval16I1I0.1IsentIaspect/\""
   ]
  },
  {
   "cell_type": "code",
   "execution_count": null,
   "metadata": {
    "colab": {
     "background_save": true
    },
    "id": "KCAPUBYXIt3D",
    "outputId": "77633158-6fe9-4523-9964-d75a91b57853"
   },
   "outputs": [],
   "source": [
    "! python /content/CL-TASD-MvP/model/main_train.py --do_con_dec --task \"cl_mvp_tasd\" --num_beams \"1\" --dataset \"SemEval16\" --model_prefix \"Multilingual_SemEval16\" --language \"Multilingual\" --test_language \"French\"   --top_k 1 --do_contr_sent --do_contr_aspect --num_train_epochs 20 --do_inference_best_ckpt --train_batch_size 16 --eval_batch_size 64 --weight_decay 0.1 --warmup_steps 0.1 --model_name_or_path \"/content/drive/MyDrive/data/models/SemEval16Icl_mvp_tasdIgoogle/mt5-largeIbeamsI1IwdI0.1Imax_epochsI20IesI0IaccI1IlrI0.0001Icont_lossI0.05Icont_tempI0.25IseedI42IMultilingual_SemEval16I1I0.1IsentIaspect/\""
   ]
  },
  {
   "cell_type": "markdown",
   "metadata": {
    "id": "-e2d8DE8It3D"
   },
   "source": [
    "#### **Evaluation Base MT5**"
   ]
  },
  {
   "cell_type": "markdown",
   "metadata": {
    "id": "iciYMC1kIt3E"
   },
   "source": [
    "Evaluation on final training epoch:\n"
   ]
  },
  {
   "cell_type": "code",
   "execution_count": null,
   "metadata": {
    "id": "AdANPs0RIt3E"
   },
   "outputs": [],
   "source": [
    "! python /content/CL-TASD-MvP/model/main_train.py --task \"cl_mvp_tasd\" --num_beams \"1\" --dataset \"SemEval16\" --model_prefix \"Multilingual_SemEval16\" --language \"Multilingual\" --test_language \"French\"   --top_k 1 --num_train_epochs 20 --do_inference --train_batch_size 16 --eval_batch_size 64 --weight_decay 0.1 --warmup_steps 0.1 --model_name_or_path \"/content/drive/MyDrive/data/models/SemEval16Icl_mvp_tasdIgoogle/mt5-largeIbeamsI1IwdI0.1Imax_epochsI20IesI0IaccI1IlrI0.0001Icont_lossI0.05Icont_tempI0.25IseedI42IMultilingual_SemEval16I1I0.1/\""
   ]
  },
  {
   "cell_type": "code",
   "execution_count": null,
   "metadata": {
    "id": "1NgKTHQFIt3E"
   },
   "outputs": [],
   "source": [
    "! python /content/CL-TASD-MvP/model/main_train.py --do_con_dec --task \"cl_mvp_tasd\" --num_beams \"1\" --dataset \"SemEval16\" --model_prefix \"Multilingual_SemEval16\" --language \"Multilingual\" --test_language \"French\"   --top_k 1 --num_train_epochs 20 --do_inference --train_batch_size 16 --eval_batch_size 64 --weight_decay 0.1 --warmup_steps 0.1 --model_name_or_path \"/content/drive/MyDrive/data/models/SemEval16Icl_mvp_tasdIgoogle/mt5-largeIbeamsI1IwdI0.1Imax_epochsI20IesI0IaccI1IlrI0.0001Icont_lossI0.05Icont_tempI0.25IseedI42IMultilingual_SemEval16I1I0.1/\""
   ]
  },
  {
   "cell_type": "markdown",
   "metadata": {
    "id": "x_5HqbXOIt3E"
   },
   "source": [
    "Evaluation on best checkpoint of the last 5 training epochs:\n"
   ]
  },
  {
   "cell_type": "code",
   "execution_count": null,
   "metadata": {
    "id": "MQlR7ilMIt3E"
   },
   "outputs": [],
   "source": [
    "! python /content/CL-TASD-MvP/model/main_train.py --task \"cl_mvp_tasd\" --num_beams \"1\" --dataset \"SemEval16\" --model_prefix \"Multilingual_SemEval16\" --language \"Multilingual\" --test_language \"French\"   --top_k 1 --num_train_epochs 20 --do_inference_best_5 --train_batch_size 16 --eval_batch_size 64 --weight_decay 0.1 --warmup_steps 0.1 --model_name_or_path \"/content/drive/MyDrive/data/models/SemEval16Icl_mvp_tasdIgoogle/mt5-largeIbeamsI1IwdI0.1Imax_epochsI20IesI0IaccI1IlrI0.0001Icont_lossI0.05Icont_tempI0.25IseedI42IMultilingual_SemEval16I1I0.1/\""
   ]
  },
  {
   "cell_type": "code",
   "execution_count": null,
   "metadata": {
    "id": "OqRQCfAHIt3E"
   },
   "outputs": [],
   "source": [
    "! python /content/CL-TASD-MvP/model/main_train.py --do_con_dec --task \"cl_mvp_tasd\" --num_beams \"1\" --dataset \"SemEval16\" --model_prefix \"Multilingual_SemEval16\" --language \"Multilingual\" --test_language \"French\"   --top_k 1 --num_train_epochs 20 --do_inference_best_5 --train_batch_size 16 --eval_batch_size 64 --weight_decay 0.1 --warmup_steps 0.1 --model_name_or_path \"/content/drive/MyDrive/data/models/SemEval16Icl_mvp_tasdIgoogle/mt5-largeIbeamsI1IwdI0.1Imax_epochsI20IesI0IaccI1IlrI0.0001Icont_lossI0.05Icont_tempI0.25IseedI42IMultilingual_SemEval16I1I0.1/\""
   ]
  },
  {
   "cell_type": "markdown",
   "metadata": {
    "id": "GiPA0KcIIt3E"
   },
   "source": [
    "Evaluation on best checkpoint:\n"
   ]
  },
  {
   "cell_type": "code",
   "execution_count": null,
   "metadata": {
    "id": "kgHfPGBMIt3E"
   },
   "outputs": [],
   "source": [
    "! python /content/CL-TASD-MvP/model/main_train.py --task \"cl_mvp_tasd\" --num_beams \"1\" --dataset \"SemEval16\" --model_prefix \"Multilingual_SemEval16\" --language \"Multilingual\" --test_language \"French\"   --top_k 1 --num_train_epochs 20 --do_inference_best_ckpt --train_batch_size 16 --eval_batch_size 64 --weight_decay 0.1 --warmup_steps 0.1 --model_name_or_path \"/content/drive/MyDrive/data/models/SemEval16Icl_mvp_tasdIgoogle/mt5-largeIbeamsI1IwdI0.1Imax_epochsI20IesI0IaccI1IlrI0.0001Icont_lossI0.05Icont_tempI0.25IseedI42IMultilingual_SemEval16I1I0.1/\""
   ]
  },
  {
   "cell_type": "code",
   "execution_count": null,
   "metadata": {
    "id": "a3vp78PJIt3E"
   },
   "outputs": [],
   "source": [
    "! python /content/CL-TASD-MvP/model/main_train.py --do_con_dec --task \"cl_mvp_tasd\" --num_beams \"1\" --dataset \"SemEval16\" --model_prefix \"Multilingual_SemEval16\" --language \"Multilingual\" --test_language \"French\"   --top_k 1 --num_train_epochs 20 --do_inference_best_ckpt --train_batch_size 16 --eval_batch_size 64 --weight_decay 0.1 --warmup_steps 0.1 --model_name_or_path \"/content/drive/MyDrive/data/models/SemEval16Icl_mvp_tasdIgoogle/mt5-largeIbeamsI1IwdI0.1Imax_epochsI20IesI0IaccI1IlrI0.0001Icont_lossI0.05Icont_tempI0.25IseedI42IMultilingual_SemEval16I1I0.1/\""
   ]
  },
  {
   "cell_type": "markdown",
   "metadata": {
    "id": "sGrVUZeiJMem"
   },
   "source": [
    "### **Model Evaluation: Spanish**\n"
   ]
  },
  {
   "cell_type": "markdown",
   "metadata": {
    "id": "3YCgdisXJMem"
   },
   "source": [
    "#### **Evaluation Full Model**"
   ]
  },
  {
   "cell_type": "markdown",
   "metadata": {
    "id": "LCBgyuPlJMem"
   },
   "source": [
    "Evaluation on final training epoch:\n"
   ]
  },
  {
   "cell_type": "code",
   "execution_count": null,
   "metadata": {
    "id": "PVKZvaRFJMen"
   },
   "outputs": [],
   "source": [
    "! python /content/CL-TASD-MvP/model/main_train.py --task \"cl_mvp_tasd\" --num_beams \"1\" --dataset \"SemEval16\" --model_prefix \"Multilingual_SemEval16\" --language \"Multilingual\" --test_language \"Spanish\"   --top_k 5 --do_contr_sent --do_contr_aspect --num_train_epochs 20 --do_inference --train_batch_size 16 --eval_batch_size 64 --weight_decay 0.1 --warmup_steps 0.1 --model_name_or_path \"/content/drive/MyDrive/data/models/SemEval16Icl_mvp_tasdIgoogle/mt5-largeIbeamsI1IwdI0.1Imax_epochsI20IesI0IaccI1IlrI0.0001Icont_lossI0.05Icont_tempI0.25IseedI42IMultilingual_SemEval16I5I0.1IsentIaspect/\""
   ]
  },
  {
   "cell_type": "code",
   "execution_count": null,
   "metadata": {
    "id": "oNrizqIHJMen"
   },
   "outputs": [],
   "source": [
    "! python /content/CL-TASD-MvP/model/main_train.py --do_con_dec --task \"cl_mvp_tasd\" --num_beams \"1\" --dataset \"SemEval16\" --model_prefix \"Multilingual_SemEval16\" --language \"Multilingual\" --test_language \"Spanish\"   --top_k 5 --do_contr_sent --do_contr_aspect --num_train_epochs 20 --do_inference --train_batch_size 16 --eval_batch_size 64 --weight_decay 0.1 --warmup_steps 0.1 --model_name_or_path \"/content/drive/MyDrive/data/models/SemEval16Icl_mvp_tasdIgoogle/mt5-largeIbeamsI1IwdI0.1Imax_epochsI20IesI0IaccI1IlrI0.0001Icont_lossI0.05Icont_tempI0.25IseedI42IMultilingual_SemEval16I5I0.1IsentIaspect/\""
   ]
  },
  {
   "cell_type": "markdown",
   "metadata": {
    "id": "LmBDXtHlJMen"
   },
   "source": [
    "Evaluation on best checkpoint of the last 5 training epochs:\n"
   ]
  },
  {
   "cell_type": "code",
   "execution_count": null,
   "metadata": {
    "id": "8KjOStx_JMen"
   },
   "outputs": [],
   "source": [
    "! python /content/CL-TASD-MvP/model/main_train.py --task \"cl_mvp_tasd\" --num_beams \"1\" --dataset \"SemEval16\" --model_prefix \"Multilingual_SemEval16\" --language \"Multilingual\" --test_language \"Spanish\"   --top_k 5 --do_contr_sent --do_contr_aspect --num_train_epochs 20 --do_inference_best_5 --train_batch_size 16 --eval_batch_size 64 --weight_decay 0.1 --warmup_steps 0.1 --model_name_or_path \"/content/drive/MyDrive/data/models/SemEval16Icl_mvp_tasdIgoogle/mt5-largeIbeamsI1IwdI0.1Imax_epochsI20IesI0IaccI1IlrI0.0001Icont_lossI0.05Icont_tempI0.25IseedI42IMultilingual_SemEval16I5I0.1IsentIaspect/\""
   ]
  },
  {
   "cell_type": "code",
   "execution_count": null,
   "metadata": {
    "id": "3mhHzhPpJMen"
   },
   "outputs": [],
   "source": [
    "! python /content/CL-TASD-MvP/model/main_train.py --do_con_dec --task \"cl_mvp_tasd\" --num_beams \"1\" --dataset \"SemEval16\" --model_prefix \"Multilingual_SemEval16\" --language \"Multilingual\" --test_language \"Spanish\"   --top_k 5 --do_contr_sent --do_contr_aspect --num_train_epochs 20 --do_inference_best_5 --train_batch_size 16 --eval_batch_size 64 --weight_decay 0.1 --warmup_steps 0.1 --model_name_or_path \"/content/drive/MyDrive/data/models/SemEval16Icl_mvp_tasdIgoogle/mt5-largeIbeamsI1IwdI0.1Imax_epochsI20IesI0IaccI1IlrI0.0001Icont_lossI0.05Icont_tempI0.25IseedI42IMultilingual_SemEval16I5I0.1IsentIaspect/\""
   ]
  },
  {
   "cell_type": "markdown",
   "metadata": {
    "id": "4wxqra7TJMen"
   },
   "source": [
    "Evaluation on best checkpoint:\n"
   ]
  },
  {
   "cell_type": "code",
   "execution_count": null,
   "metadata": {
    "id": "K52h4jCtJMen"
   },
   "outputs": [],
   "source": [
    "! python /content/CL-TASD-MvP/model/main_train.py --task \"cl_mvp_tasd\" --num_beams \"1\" --dataset \"SemEval16\" --model_prefix \"Multilingual_SemEval16\" --language \"Multilingual\" --test_language \"Spanish\"   --top_k 5 --do_contr_sent --do_contr_aspect --num_train_epochs 20 --do_inference_best_ckpt --train_batch_size 16 --eval_batch_size 64 --weight_decay 0.1 --warmup_steps 0.1 --model_name_or_path \"/content/drive/MyDrive/data/models/SemEval16Icl_mvp_tasdIgoogle/mt5-largeIbeamsI1IwdI0.1Imax_epochsI20IesI0IaccI1IlrI0.0001Icont_lossI0.05Icont_tempI0.25IseedI42IMultilingual_SemEval16I5I0.1IsentIaspect/\""
   ]
  },
  {
   "cell_type": "code",
   "execution_count": null,
   "metadata": {
    "id": "qJkjyhyHJMeo"
   },
   "outputs": [],
   "source": [
    "! python /content/CL-TASD-MvP/model/main_train.py --do_con_dec --task \"cl_mvp_tasd\" --num_beams \"1\" --dataset \"SemEval16\" --model_prefix \"Multilingual_SemEval16\" --language \"Multilingual\" --test_language \"Spanish\"   --top_k 5 --do_contr_sent --do_contr_aspect --num_train_epochs 20 --do_inference_best_ckpt --train_batch_size 16 --eval_batch_size 64 --weight_decay 0.1 --warmup_steps 0.1 --model_name_or_path \"/content/drive/MyDrive/data/models/SemEval16Icl_mvp_tasdIgoogle/mt5-largeIbeamsI1IwdI0.1Imax_epochsI20IesI0IaccI1IlrI0.0001Icont_lossI0.05Icont_tempI0.25IseedI42IMultilingual_SemEval16I5I0.1IsentIaspect/\""
   ]
  },
  {
   "cell_type": "markdown",
   "metadata": {
    "id": "qitXqciIJMeo"
   },
   "source": [
    "#### **Evaluation MVP Only**"
   ]
  },
  {
   "cell_type": "markdown",
   "metadata": {
    "id": "Y9uvSiXSJMeo"
   },
   "source": [
    "Evaluation on final training epoch:\n"
   ]
  },
  {
   "cell_type": "code",
   "execution_count": null,
   "metadata": {
    "colab": {
     "background_save": true
    },
    "id": "mo9rM0_BJMeo",
    "outputId": "99e55f16-6491-42a6-b446-fbd045a8fd0d"
   },
   "outputs": [],
   "source": [
    "! python /content/CL-TASD-MvP/model/main_train.py --task \"cl_mvp_tasd\" --num_beams \"1\" --dataset \"SemEval16\" --model_prefix \"Multilingual_SemEval16\" --language \"Multilingual\" --test_language \"Spanish\"   --top_k 5 --num_train_epochs 20 --do_inference --train_batch_size 16 --eval_batch_size 64 --weight_decay 0.1 --warmup_steps 0.1 --model_name_or_path \"/content/drive/MyDrive/data/models/SemEval16Icl_mvp_tasdIgoogle/mt5-largeIbeamsI1IwdI0.1Imax_epochsI20IesI0IaccI1IlrI0.0001Icont_lossI0.05Icont_tempI0.25IseedI42IMultilingual_SemEval16I5I0.1/\""
   ]
  },
  {
   "cell_type": "code",
   "execution_count": null,
   "metadata": {
    "colab": {
     "background_save": true
    },
    "id": "_PNm70V0JMeo",
    "outputId": "51405022-7aa6-47d0-86c3-1e00c539e511"
   },
   "outputs": [],
   "source": [
    "! python /content/CL-TASD-MvP/model/main_train.py --do_con_dec --task \"cl_mvp_tasd\" --num_beams \"1\" --dataset \"SemEval16\" --model_prefix \"Multilingual_SemEval16\" --language \"Multilingual\" --test_language \"Spanish\"   --top_k 5 --num_train_epochs 20 --do_inference --train_batch_size 16 --eval_batch_size 64 --weight_decay 0.1 --warmup_steps 0.1 --model_name_or_path \"/content/drive/MyDrive/data/models/SemEval16Icl_mvp_tasdIgoogle/mt5-largeIbeamsI1IwdI0.1Imax_epochsI20IesI0IaccI1IlrI0.0001Icont_lossI0.05Icont_tempI0.25IseedI42IMultilingual_SemEval16I5I0.1/\""
   ]
  },
  {
   "cell_type": "markdown",
   "metadata": {
    "id": "t-UuZNLYJMeo"
   },
   "source": [
    "Evaluation on best checkpoint of the last 5 training epochs:\n"
   ]
  },
  {
   "cell_type": "code",
   "execution_count": null,
   "metadata": {
    "colab": {
     "background_save": true
    },
    "id": "mdrLVmw5JMeo",
    "outputId": "4d3e8b9f-796f-4e71-c5e3-0dcf310c969e"
   },
   "outputs": [],
   "source": [
    "! python /content/CL-TASD-MvP/model/main_train.py --task \"cl_mvp_tasd\" --num_beams \"1\" --dataset \"SemEval16\" --model_prefix \"Multilingual_SemEval16\" --language \"Multilingual\" --test_language \"Spanish\"   --top_k 5 --num_train_epochs 20 --do_inference_best_5 --train_batch_size 16 --eval_batch_size 64 --weight_decay 0.1 --warmup_steps 0.1 --model_name_or_path \"/content/drive/MyDrive/data/models/SemEval16Icl_mvp_tasdIgoogle/mt5-largeIbeamsI1IwdI0.1Imax_epochsI20IesI0IaccI1IlrI0.0001Icont_lossI0.05Icont_tempI0.25IseedI42IMultilingual_SemEval16I5I0.1/\""
   ]
  },
  {
   "cell_type": "code",
   "execution_count": null,
   "metadata": {
    "colab": {
     "background_save": true
    },
    "id": "pqICrFq6JMeo",
    "outputId": "c76d8d10-b13d-4df5-896b-14cf9b3419a2"
   },
   "outputs": [],
   "source": [
    "! python /content/CL-TASD-MvP/model/main_train.py --do_con_dec --task \"cl_mvp_tasd\" --num_beams \"1\" --dataset \"SemEval16\" --model_prefix \"Multilingual_SemEval16\" --language \"Multilingual\" --test_language \"Spanish\"   --top_k 5 --num_train_epochs 20 --do_inference_best_5 --train_batch_size 16 --eval_batch_size 64 --weight_decay 0.1 --warmup_steps 0.1 --model_name_or_path \"/content/drive/MyDrive/data/models/SemEval16Icl_mvp_tasdIgoogle/mt5-largeIbeamsI1IwdI0.1Imax_epochsI20IesI0IaccI1IlrI0.0001Icont_lossI0.05Icont_tempI0.25IseedI42IMultilingual_SemEval16I5I0.1/\""
   ]
  },
  {
   "cell_type": "markdown",
   "metadata": {
    "id": "Vu_JGPiFJMeo"
   },
   "source": [
    "Evaluation on best checkpoint:\n"
   ]
  },
  {
   "cell_type": "code",
   "execution_count": null,
   "metadata": {
    "colab": {
     "background_save": true
    },
    "id": "Y3TA0QeAJMep",
    "outputId": "4d10aefe-13a7-4986-b3db-8fc7b236a8f7"
   },
   "outputs": [],
   "source": [
    "! python /content/CL-TASD-MvP/model/main_train.py --task \"cl_mvp_tasd\" --num_beams \"1\" --dataset \"SemEval16\" --model_prefix \"Multilingual_SemEval16\" --language \"Multilingual\" --test_language \"Spanish\"   --top_k 5 --num_train_epochs 20 --do_inference_best_ckpt --train_batch_size 16 --eval_batch_size 64 --weight_decay 0.1 --warmup_steps 0.1 --model_name_or_path \"/content/drive/MyDrive/data/models/SemEval16Icl_mvp_tasdIgoogle/mt5-largeIbeamsI1IwdI0.1Imax_epochsI20IesI0IaccI1IlrI0.0001Icont_lossI0.05Icont_tempI0.25IseedI42IMultilingual_SemEval16I5I0.1/\""
   ]
  },
  {
   "cell_type": "code",
   "execution_count": null,
   "metadata": {
    "colab": {
     "background_save": true
    },
    "id": "YUuw9PSZJMep",
    "outputId": "ca90ed98-23e1-4756-a744-4618a2f70feb"
   },
   "outputs": [],
   "source": [
    "! python /content/CL-TASD-MvP/model/main_train.py --do_con_dec --task \"cl_mvp_tasd\" --num_beams \"1\" --dataset \"SemEval16\" --model_prefix \"Multilingual_SemEval16\" --language \"Multilingual\" --test_language \"Spanish\"   --top_k 5 --num_train_epochs 20 --do_inference_best_ckpt --train_batch_size 16 --eval_batch_size 64 --weight_decay 0.1 --warmup_steps 0.1 --model_name_or_path \"/content/drive/MyDrive/data/models/SemEval16Icl_mvp_tasdIgoogle/mt5-largeIbeamsI1IwdI0.1Imax_epochsI20IesI0IaccI1IlrI0.0001Icont_lossI0.05Icont_tempI0.25IseedI42IMultilingual_SemEval16I5I0.1/\""
   ]
  },
  {
   "cell_type": "markdown",
   "metadata": {
    "id": "hpnuT75cJMep"
   },
   "source": [
    "#### **Evaluation Only CL**"
   ]
  },
  {
   "cell_type": "markdown",
   "metadata": {
    "id": "0XgfAx1yJMep"
   },
   "source": [
    "Evaluation on final training epoch:\n"
   ]
  },
  {
   "cell_type": "code",
   "execution_count": null,
   "metadata": {
    "colab": {
     "background_save": true
    },
    "id": "1ygN8whBJMep",
    "outputId": "283a56d7-6451-417b-a0f5-d4cb594b3df8"
   },
   "outputs": [],
   "source": [
    "! python /content/CL-TASD-MvP/model/main_train.py --task \"cl_mvp_tasd\" --num_beams \"1\" --dataset \"SemEval16\" --model_prefix \"Multilingual_SemEval16\" --language \"Multilingual\" --test_language \"Spanish\"   --top_k 1 --do_contr_sent --do_contr_aspect --num_train_epochs 20 --do_inference --train_batch_size 16 --eval_batch_size 64 --weight_decay 0.1 --warmup_steps 0.1 --model_name_or_path \"/content/drive/MyDrive/data/models/SemEval16Icl_mvp_tasdIgoogle/mt5-largeIbeamsI1IwdI0.1Imax_epochsI20IesI0IaccI1IlrI0.0001Icont_lossI0.05Icont_tempI0.25IseedI42IMultilingual_SemEval16I1I0.1IsentIaspect/\""
   ]
  },
  {
   "cell_type": "code",
   "execution_count": null,
   "metadata": {
    "colab": {
     "background_save": true
    },
    "id": "jnbtlGSbJMep",
    "outputId": "fd697c02-7e91-4744-e601-cd225c17c0ce"
   },
   "outputs": [],
   "source": [
    "! python /content/CL-TASD-MvP/model/main_train.py --do_con_dec --task \"cl_mvp_tasd\" --num_beams \"1\" --dataset \"SemEval16\" --model_prefix \"Multilingual_SemEval16\" --language \"Multilingual\" --test_language \"Spanish\"   --top_k 1 --do_contr_sent --do_contr_aspect --num_train_epochs 20 --do_inference --train_batch_size 16 --eval_batch_size 64 --weight_decay 0.1 --warmup_steps 0.1 --model_name_or_path \"/content/drive/MyDrive/data/models/SemEval16Icl_mvp_tasdIgoogle/mt5-largeIbeamsI1IwdI0.1Imax_epochsI20IesI0IaccI1IlrI0.0001Icont_lossI0.05Icont_tempI0.25IseedI42IMultilingual_SemEval16I1I0.1IsentIaspect/\""
   ]
  },
  {
   "cell_type": "markdown",
   "metadata": {
    "id": "o9NeKIMwJMep"
   },
   "source": [
    "Evaluation on best checkpoint of the last 5 training epochs:\n"
   ]
  },
  {
   "cell_type": "code",
   "execution_count": null,
   "metadata": {
    "colab": {
     "background_save": true
    },
    "id": "K6o3GJJPJMep",
    "outputId": "2fcab4c3-df2b-4c64-a608-7ffe25b9de8e"
   },
   "outputs": [],
   "source": [
    "! python /content/CL-TASD-MvP/model/main_train.py --task \"cl_mvp_tasd\" --num_beams \"1\" --dataset \"SemEval16\" --model_prefix \"Multilingual_SemEval16\" --language \"Multilingual\" --test_language \"Spanish\"   --top_k 1 --do_contr_sent --do_contr_aspect --num_train_epochs 20 --do_inference_best_5 --train_batch_size 16 --eval_batch_size 64 --weight_decay 0.1 --warmup_steps 0.1 --model_name_or_path \"/content/drive/MyDrive/data/models/SemEval16Icl_mvp_tasdIgoogle/mt5-largeIbeamsI1IwdI0.1Imax_epochsI20IesI0IaccI1IlrI0.0001Icont_lossI0.05Icont_tempI0.25IseedI42IMultilingual_SemEval16I1I0.1IsentIaspect/\""
   ]
  },
  {
   "cell_type": "code",
   "execution_count": null,
   "metadata": {
    "colab": {
     "background_save": true
    },
    "id": "ocQJ3fyPJMep",
    "outputId": "d0cd7d49-f1fc-4ebf-a596-85c85e5bd268"
   },
   "outputs": [],
   "source": [
    "! python /content/CL-TASD-MvP/model/main_train.py --do_con_dec --task \"cl_mvp_tasd\" --num_beams \"1\" --dataset \"SemEval16\" --model_prefix \"Multilingual_SemEval16\" --language \"Multilingual\" --test_language \"Spanish\"   --top_k 1 --do_contr_sent --do_contr_aspect --num_train_epochs 20 --do_inference_best_5 --train_batch_size 16 --eval_batch_size 64 --weight_decay 0.1 --warmup_steps 0.1 --model_name_or_path \"/content/drive/MyDrive/data/models/SemEval16Icl_mvp_tasdIgoogle/mt5-largeIbeamsI1IwdI0.1Imax_epochsI20IesI0IaccI1IlrI0.0001Icont_lossI0.05Icont_tempI0.25IseedI42IMultilingual_SemEval16I1I0.1IsentIaspect/\""
   ]
  },
  {
   "cell_type": "markdown",
   "metadata": {
    "id": "AMvVk5cUJMep"
   },
   "source": [
    "Evaluation on best checkpoint:\n"
   ]
  },
  {
   "cell_type": "code",
   "execution_count": null,
   "metadata": {
    "colab": {
     "background_save": true
    },
    "id": "wcRBuimdJMep",
    "outputId": "6b0ad74c-55bc-4953-fe7a-de2e05d8af00"
   },
   "outputs": [],
   "source": [
    "! python /content/CL-TASD-MvP/model/main_train.py --task \"cl_mvp_tasd\" --num_beams \"1\" --dataset \"SemEval16\" --model_prefix \"Multilingual_SemEval16\" --language \"Multilingual\" --test_language \"Spanish\"   --top_k 1 --do_contr_sent --do_contr_aspect --num_train_epochs 20 --do_inference_best_ckpt --train_batch_size 16 --eval_batch_size 64 --weight_decay 0.1 --warmup_steps 0.1 --model_name_or_path \"/content/drive/MyDrive/data/models/SemEval16Icl_mvp_tasdIgoogle/mt5-largeIbeamsI1IwdI0.1Imax_epochsI20IesI0IaccI1IlrI0.0001Icont_lossI0.05Icont_tempI0.25IseedI42IMultilingual_SemEval16I1I0.1IsentIaspect/\""
   ]
  },
  {
   "cell_type": "code",
   "execution_count": null,
   "metadata": {
    "colab": {
     "background_save": true
    },
    "id": "YiWFIBe_JMep",
    "outputId": "f6b4bf83-0142-4078-948f-a8e6d186881d"
   },
   "outputs": [],
   "source": [
    "! python /content/CL-TASD-MvP/model/main_train.py --do_con_dec --task \"cl_mvp_tasd\" --num_beams \"1\" --dataset \"SemEval16\" --model_prefix \"Multilingual_SemEval16\" --language \"Multilingual\" --test_language \"Spanish\"   --top_k 1 --do_contr_sent --do_contr_aspect --num_train_epochs 20 --do_inference_best_ckpt --train_batch_size 16 --eval_batch_size 64 --weight_decay 0.1 --warmup_steps 0.1 --model_name_or_path \"/content/drive/MyDrive/data/models/SemEval16Icl_mvp_tasdIgoogle/mt5-largeIbeamsI1IwdI0.1Imax_epochsI20IesI0IaccI1IlrI0.0001Icont_lossI0.05Icont_tempI0.25IseedI42IMultilingual_SemEval16I1I0.1IsentIaspect/\""
   ]
  },
  {
   "cell_type": "markdown",
   "metadata": {
    "id": "ZsQE6iH8JMep"
   },
   "source": [
    "#### **Evaluation Base MT5**"
   ]
  },
  {
   "cell_type": "markdown",
   "metadata": {
    "id": "6ne-_VOiJMeq"
   },
   "source": [
    "Evaluation on final training epoch:\n"
   ]
  },
  {
   "cell_type": "code",
   "execution_count": null,
   "metadata": {
    "id": "S-1Ys9-_JMeq"
   },
   "outputs": [],
   "source": [
    "! python /content/CL-TASD-MvP/model/main_train.py --task \"cl_mvp_tasd\" --num_beams \"1\" --dataset \"SemEval16\" --model_prefix \"Multilingual_SemEval16\" --language \"Multilingual\" --test_language \"Spanish\"   --top_k 1 --num_train_epochs 20 --do_inference --train_batch_size 16 --eval_batch_size 64 --weight_decay 0.1 --warmup_steps 0.1 --model_name_or_path \"/content/drive/MyDrive/data/models/SemEval16Icl_mvp_tasdIgoogle/mt5-largeIbeamsI1IwdI0.1Imax_epochsI20IesI0IaccI1IlrI0.0001Icont_lossI0.05Icont_tempI0.25IseedI42IMultilingual_SemEval16I1I0.1/\""
   ]
  },
  {
   "cell_type": "code",
   "execution_count": null,
   "metadata": {
    "id": "GFdxRcsxJMeq"
   },
   "outputs": [],
   "source": [
    "! python /content/CL-TASD-MvP/model/main_train.py --do_con_dec --task \"cl_mvp_tasd\" --num_beams \"1\" --dataset \"SemEval16\" --model_prefix \"Multilingual_SemEval16\" --language \"Multilingual\" --test_language \"Spanish\"   --top_k 1 --num_train_epochs 20 --do_inference --train_batch_size 16 --eval_batch_size 64 --weight_decay 0.1 --warmup_steps 0.1 --model_name_or_path \"/content/drive/MyDrive/data/models/SemEval16Icl_mvp_tasdIgoogle/mt5-largeIbeamsI1IwdI0.1Imax_epochsI20IesI0IaccI1IlrI0.0001Icont_lossI0.05Icont_tempI0.25IseedI42IMultilingual_SemEval16I1I0.1/\""
   ]
  },
  {
   "cell_type": "markdown",
   "metadata": {
    "id": "Go0iP525JMeq"
   },
   "source": [
    "Evaluation on best checkpoint of the last 5 training epochs:\n"
   ]
  },
  {
   "cell_type": "code",
   "execution_count": null,
   "metadata": {
    "id": "TjHIjxOMJMeq"
   },
   "outputs": [],
   "source": [
    "! python /content/CL-TASD-MvP/model/main_train.py --task \"cl_mvp_tasd\" --num_beams \"1\" --dataset \"SemEval16\" --model_prefix \"Multilingual_SemEval16\" --language \"Multilingual\" --test_language \"Spanish\"   --top_k 1 --num_train_epochs 20 --do_inference_best_5 --train_batch_size 16 --eval_batch_size 64 --weight_decay 0.1 --warmup_steps 0.1 --model_name_or_path \"/content/drive/MyDrive/data/models/SemEval16Icl_mvp_tasdIgoogle/mt5-largeIbeamsI1IwdI0.1Imax_epochsI20IesI0IaccI1IlrI0.0001Icont_lossI0.05Icont_tempI0.25IseedI42IMultilingual_SemEval16I1I0.1/\""
   ]
  },
  {
   "cell_type": "code",
   "execution_count": null,
   "metadata": {
    "id": "MYl2h5gmJMeq"
   },
   "outputs": [],
   "source": [
    "! python /content/CL-TASD-MvP/model/main_train.py --do_con_dec --task \"cl_mvp_tasd\" --num_beams \"1\" --dataset \"SemEval16\" --model_prefix \"Multilingual_SemEval16\" --language \"Multilingual\" --test_language \"Spanish\"   --top_k 1 --num_train_epochs 20 --do_inference_best_5 --train_batch_size 16 --eval_batch_size 64 --weight_decay 0.1 --warmup_steps 0.1 --model_name_or_path \"/content/drive/MyDrive/data/models/SemEval16Icl_mvp_tasdIgoogle/mt5-largeIbeamsI1IwdI0.1Imax_epochsI20IesI0IaccI1IlrI0.0001Icont_lossI0.05Icont_tempI0.25IseedI42IMultilingual_SemEval16I1I0.1/\""
   ]
  },
  {
   "cell_type": "markdown",
   "metadata": {
    "id": "DiXCI2-mJMeq"
   },
   "source": [
    "Evaluation on best checkpoint:\n"
   ]
  },
  {
   "cell_type": "code",
   "execution_count": null,
   "metadata": {
    "id": "IrAejXN6JMeq"
   },
   "outputs": [],
   "source": [
    "! python /content/CL-TASD-MvP/model/main_train.py --task \"cl_mvp_tasd\" --num_beams \"1\" --dataset \"SemEval16\" --model_prefix \"Multilingual_SemEval16\" --language \"Multilingual\" --test_language \"Spanish\"   --top_k 1 --num_train_epochs 20 --do_inference_best_ckpt --train_batch_size 16 --eval_batch_size 64 --weight_decay 0.1 --warmup_steps 0.1 --model_name_or_path \"/content/drive/MyDrive/data/models/SemEval16Icl_mvp_tasdIgoogle/mt5-largeIbeamsI1IwdI0.1Imax_epochsI20IesI0IaccI1IlrI0.0001Icont_lossI0.05Icont_tempI0.25IseedI42IMultilingual_SemEval16I1I0.1/\""
   ]
  },
  {
   "cell_type": "code",
   "execution_count": null,
   "metadata": {
    "id": "jjqmQQwMJMeq"
   },
   "outputs": [],
   "source": [
    "! python /content/CL-TASD-MvP/model/main_train.py --do_con_dec --task \"cl_mvp_tasd\" --num_beams \"1\" --dataset \"SemEval16\" --model_prefix \"Multilingual_SemEval16\" --language \"Multilingual\" --test_language \"Spanish\"   --top_k 1 --num_train_epochs 20 --do_inference_best_ckpt --train_batch_size 16 --eval_batch_size 64 --weight_decay 0.1 --warmup_steps 0.1 --model_name_or_path \"/content/drive/MyDrive/data/models/SemEval16Icl_mvp_tasdIgoogle/mt5-largeIbeamsI1IwdI0.1Imax_epochsI20IesI0IaccI1IlrI0.0001Icont_lossI0.05Icont_tempI0.25IseedI42IMultilingual_SemEval16I1I0.1/\""
   ]
  },
  {
   "cell_type": "markdown",
   "metadata": {
    "id": "YLwE59RlJTpN"
   },
   "source": [
    "### **Model Evaluation: Dutch**\n"
   ]
  },
  {
   "cell_type": "markdown",
   "metadata": {
    "id": "C2c71h2CJTpO"
   },
   "source": [
    "#### **Evaluation Full Model**"
   ]
  },
  {
   "cell_type": "markdown",
   "metadata": {
    "id": "nkA43P5zJTpO"
   },
   "source": [
    "Evaluation on final training epoch:\n"
   ]
  },
  {
   "cell_type": "code",
   "execution_count": null,
   "metadata": {
    "id": "CnRDe72eJTpO"
   },
   "outputs": [],
   "source": [
    "! python /content/CL-TASD-MvP/model/main_train.py --task \"cl_mvp_tasd\" --num_beams \"1\" --dataset \"SemEval16\" --model_prefix \"Multilingual_SemEval16\" --language \"Multilingual\" --test_language \"Dutch\"   --top_k 5 --do_contr_sent --do_contr_aspect --num_train_epochs 20 --do_inference --train_batch_size 16 --eval_batch_size 64 --weight_decay 0.1 --warmup_steps 0.1 --model_name_or_path \"/content/drive/MyDrive/data/models/SemEval16Icl_mvp_tasdIgoogle/mt5-largeIbeamsI1IwdI0.1Imax_epochsI20IesI0IaccI1IlrI0.0001Icont_lossI0.05Icont_tempI0.25IseedI42IMultilingual_SemEval16I5I0.1IsentIaspect/\""
   ]
  },
  {
   "cell_type": "code",
   "execution_count": null,
   "metadata": {
    "id": "Y-f9KS1hJTpO"
   },
   "outputs": [],
   "source": [
    "! python /content/CL-TASD-MvP/model/main_train.py --do_con_dec --task \"cl_mvp_tasd\" --num_beams \"1\" --dataset \"SemEval16\" --model_prefix \"Multilingual_SemEval16\" --language \"Multilingual\" --test_language \"Dutch\"   --top_k 5 --do_contr_sent --do_contr_aspect --num_train_epochs 20 --do_inference --train_batch_size 16 --eval_batch_size 64 --weight_decay 0.1 --warmup_steps 0.1 --model_name_or_path \"/content/drive/MyDrive/data/models/SemEval16Icl_mvp_tasdIgoogle/mt5-largeIbeamsI1IwdI0.1Imax_epochsI20IesI0IaccI1IlrI0.0001Icont_lossI0.05Icont_tempI0.25IseedI42IMultilingual_SemEval16I5I0.1IsentIaspect/\""
   ]
  },
  {
   "cell_type": "markdown",
   "metadata": {
    "id": "1mGTksiuJTpO"
   },
   "source": [
    "Evaluation on best checkpoint of the last 5 training epochs:\n"
   ]
  },
  {
   "cell_type": "code",
   "execution_count": null,
   "metadata": {
    "id": "Rrv_NEqMJTpO"
   },
   "outputs": [],
   "source": [
    "! python /content/CL-TASD-MvP/model/main_train.py --task \"cl_mvp_tasd\" --num_beams \"1\" --dataset \"SemEval16\" --model_prefix \"Multilingual_SemEval16\" --language \"Multilingual\" --test_language \"Dutch\"   --top_k 5 --do_contr_sent --do_contr_aspect --num_train_epochs 20 --do_inference_best_5 --train_batch_size 16 --eval_batch_size 64 --weight_decay 0.1 --warmup_steps 0.1 --model_name_or_path \"/content/drive/MyDrive/data/models/SemEval16Icl_mvp_tasdIgoogle/mt5-largeIbeamsI1IwdI0.1Imax_epochsI20IesI0IaccI1IlrI0.0001Icont_lossI0.05Icont_tempI0.25IseedI42IMultilingual_SemEval16I5I0.1IsentIaspect/\""
   ]
  },
  {
   "cell_type": "code",
   "execution_count": null,
   "metadata": {
    "id": "wt1fnFKGJTpO"
   },
   "outputs": [],
   "source": [
    "! python /content/CL-TASD-MvP/model/main_train.py --do_con_dec --task \"cl_mvp_tasd\" --num_beams \"1\" --dataset \"SemEval16\" --model_prefix \"Multilingual_SemEval16\" --language \"Multilingual\" --test_language \"Dutch\"   --top_k 5 --do_contr_sent --do_contr_aspect --num_train_epochs 20 --do_inference_best_5 --train_batch_size 16 --eval_batch_size 64 --weight_decay 0.1 --warmup_steps 0.1 --model_name_or_path \"/content/drive/MyDrive/data/models/SemEval16Icl_mvp_tasdIgoogle/mt5-largeIbeamsI1IwdI0.1Imax_epochsI20IesI0IaccI1IlrI0.0001Icont_lossI0.05Icont_tempI0.25IseedI42IMultilingual_SemEval16I5I0.1IsentIaspect/\""
   ]
  },
  {
   "cell_type": "markdown",
   "metadata": {
    "id": "VpGVo3DYJTpO"
   },
   "source": [
    "Evaluation on best checkpoint:\n"
   ]
  },
  {
   "cell_type": "code",
   "execution_count": null,
   "metadata": {
    "id": "miGR1ytnJTpO"
   },
   "outputs": [],
   "source": [
    "! python /content/CL-TASD-MvP/model/main_train.py --task \"cl_mvp_tasd\" --num_beams \"1\" --dataset \"SemEval16\" --model_prefix \"Multilingual_SemEval16\" --language \"Multilingual\" --test_language \"Dutch\"   --top_k 5 --do_contr_sent --do_contr_aspect --num_train_epochs 20 --do_inference_best_ckpt --train_batch_size 16 --eval_batch_size 64 --weight_decay 0.1 --warmup_steps 0.1 --model_name_or_path \"/content/drive/MyDrive/data/models/SemEval16Icl_mvp_tasdIgoogle/mt5-largeIbeamsI1IwdI0.1Imax_epochsI20IesI0IaccI1IlrI0.0001Icont_lossI0.05Icont_tempI0.25IseedI42IMultilingual_SemEval16I5I0.1IsentIaspect/\""
   ]
  },
  {
   "cell_type": "code",
   "execution_count": null,
   "metadata": {
    "id": "2TjOOwmwJTpO"
   },
   "outputs": [],
   "source": [
    "! python /content/CL-TASD-MvP/model/main_train.py --do_con_dec --task \"cl_mvp_tasd\" --num_beams \"1\" --dataset \"SemEval16\" --model_prefix \"Multilingual_SemEval16\" --language \"Multilingual\" --test_language \"Dutch\"   --top_k 5 --do_contr_sent --do_contr_aspect --num_train_epochs 20 --do_inference_best_ckpt --train_batch_size 16 --eval_batch_size 64 --weight_decay 0.1 --warmup_steps 0.1 --model_name_or_path \"/content/drive/MyDrive/data/models/SemEval16Icl_mvp_tasdIgoogle/mt5-largeIbeamsI1IwdI0.1Imax_epochsI20IesI0IaccI1IlrI0.0001Icont_lossI0.05Icont_tempI0.25IseedI42IMultilingual_SemEval16I5I0.1IsentIaspect/\""
   ]
  },
  {
   "cell_type": "markdown",
   "metadata": {
    "id": "Wy64gmSYJTpO"
   },
   "source": [
    "#### **Evaluation MVP Only**"
   ]
  },
  {
   "cell_type": "markdown",
   "metadata": {
    "id": "68B0LTaaJTpO"
   },
   "source": [
    "Evaluation on final training epoch:\n"
   ]
  },
  {
   "cell_type": "code",
   "execution_count": null,
   "metadata": {
    "colab": {
     "background_save": true
    },
    "id": "KxfXqdhpJTpO",
    "outputId": "ab2cf85d-df69-4583-f342-b1abe16928c6"
   },
   "outputs": [],
   "source": [
    "! python /content/CL-TASD-MvP/model/main_train.py --task \"cl_mvp_tasd\" --num_beams \"1\" --dataset \"SemEval16\" --model_prefix \"Multilingual_SemEval16\" --language \"Multilingual\" --test_language \"Dutch\"   --top_k 5 --num_train_epochs 20 --do_inference --train_batch_size 16 --eval_batch_size 64 --weight_decay 0.1 --warmup_steps 0.1 --model_name_or_path \"/content/drive/MyDrive/data/models/SemEval16Icl_mvp_tasdIgoogle/mt5-largeIbeamsI1IwdI0.1Imax_epochsI20IesI0IaccI1IlrI0.0001Icont_lossI0.05Icont_tempI0.25IseedI42IMultilingual_SemEval16I5I0.1/\""
   ]
  },
  {
   "cell_type": "code",
   "execution_count": null,
   "metadata": {
    "colab": {
     "background_save": true
    },
    "id": "SLBSFO6SJTpO",
    "outputId": "4ef06a00-72dd-49ef-ac64-2bbd52c05485"
   },
   "outputs": [],
   "source": [
    "! python /content/CL-TASD-MvP/model/main_train.py --do_con_dec --task \"cl_mvp_tasd\" --num_beams \"1\" --dataset \"SemEval16\" --model_prefix \"Multilingual_SemEval16\" --language \"Multilingual\" --test_language \"Dutch\"   --top_k 5 --num_train_epochs 20 --do_inference --train_batch_size 16 --eval_batch_size 64 --weight_decay 0.1 --warmup_steps 0.1 --model_name_or_path \"/content/drive/MyDrive/data/models/SemEval16Icl_mvp_tasdIgoogle/mt5-largeIbeamsI1IwdI0.1Imax_epochsI20IesI0IaccI1IlrI0.0001Icont_lossI0.05Icont_tempI0.25IseedI42IMultilingual_SemEval16I5I0.1/\""
   ]
  },
  {
   "cell_type": "markdown",
   "metadata": {
    "id": "tAUoBzoPJTpP"
   },
   "source": [
    "Evaluation on best checkpoint of the last 5 training epochs:\n"
   ]
  },
  {
   "cell_type": "code",
   "execution_count": null,
   "metadata": {
    "colab": {
     "background_save": true
    },
    "id": "z9M9Qz5cJTpP",
    "outputId": "3e139704-0f91-43d1-f9b2-d616079f209c"
   },
   "outputs": [],
   "source": [
    "! python /content/CL-TASD-MvP/model/main_train.py --task \"cl_mvp_tasd\" --num_beams \"1\" --dataset \"SemEval16\" --model_prefix \"Multilingual_SemEval16\" --language \"Multilingual\" --test_language \"Dutch\"   --top_k 5 --num_train_epochs 20 --do_inference_best_5 --train_batch_size 16 --eval_batch_size 64 --weight_decay 0.1 --warmup_steps 0.1 --model_name_or_path \"/content/drive/MyDrive/data/models/SemEval16Icl_mvp_tasdIgoogle/mt5-largeIbeamsI1IwdI0.1Imax_epochsI20IesI0IaccI1IlrI0.0001Icont_lossI0.05Icont_tempI0.25IseedI42IMultilingual_SemEval16I5I0.1/\""
   ]
  },
  {
   "cell_type": "code",
   "execution_count": null,
   "metadata": {
    "colab": {
     "background_save": true
    },
    "id": "tBpsurF8JTpP",
    "outputId": "9332cc5f-dc48-46cf-8946-2ac4b142c871"
   },
   "outputs": [],
   "source": [
    "! python /content/CL-TASD-MvP/model/main_train.py --do_con_dec --task \"cl_mvp_tasd\" --num_beams \"1\" --dataset \"SemEval16\" --model_prefix \"Multilingual_SemEval16\" --language \"Multilingual\" --test_language \"Dutch\"   --top_k 5 --num_train_epochs 20 --do_inference_best_5 --train_batch_size 16 --eval_batch_size 64 --weight_decay 0.1 --warmup_steps 0.1 --model_name_or_path \"/content/drive/MyDrive/data/models/SemEval16Icl_mvp_tasdIgoogle/mt5-largeIbeamsI1IwdI0.1Imax_epochsI20IesI0IaccI1IlrI0.0001Icont_lossI0.05Icont_tempI0.25IseedI42IMultilingual_SemEval16I5I0.1/\""
   ]
  },
  {
   "cell_type": "markdown",
   "metadata": {
    "id": "HTte53ngJTpP"
   },
   "source": [
    "Evaluation on best checkpoint:\n"
   ]
  },
  {
   "cell_type": "code",
   "execution_count": null,
   "metadata": {
    "colab": {
     "background_save": true
    },
    "id": "mlOfn0wAJTpP",
    "outputId": "dcd88abb-d232-4dcf-996e-aedef3ae3e98"
   },
   "outputs": [],
   "source": [
    "! python /content/CL-TASD-MvP/model/main_train.py --task \"cl_mvp_tasd\" --num_beams \"1\" --dataset \"SemEval16\" --model_prefix \"Multilingual_SemEval16\" --language \"Multilingual\" --test_language \"Dutch\"   --top_k 5 --num_train_epochs 20 --do_inference_best_ckpt --train_batch_size 16 --eval_batch_size 64 --weight_decay 0.1 --warmup_steps 0.1 --model_name_or_path \"/content/drive/MyDrive/data/models/SemEval16Icl_mvp_tasdIgoogle/mt5-largeIbeamsI1IwdI0.1Imax_epochsI20IesI0IaccI1IlrI0.0001Icont_lossI0.05Icont_tempI0.25IseedI42IMultilingual_SemEval16I5I0.1/\""
   ]
  },
  {
   "cell_type": "code",
   "execution_count": null,
   "metadata": {
    "colab": {
     "background_save": true
    },
    "id": "Zp-TapZVJTpP",
    "outputId": "63fd5db3-145a-4789-8b97-80106f16d2d1"
   },
   "outputs": [],
   "source": [
    "! python /content/CL-TASD-MvP/model/main_train.py --do_con_dec --task \"cl_mvp_tasd\" --num_beams \"1\" --dataset \"SemEval16\" --model_prefix \"Multilingual_SemEval16\" --language \"Multilingual\" --test_language \"Dutch\"   --top_k 5 --num_train_epochs 20 --do_inference_best_ckpt --train_batch_size 16 --eval_batch_size 64 --weight_decay 0.1 --warmup_steps 0.1 --model_name_or_path \"/content/drive/MyDrive/data/models/SemEval16Icl_mvp_tasdIgoogle/mt5-largeIbeamsI1IwdI0.1Imax_epochsI20IesI0IaccI1IlrI0.0001Icont_lossI0.05Icont_tempI0.25IseedI42IMultilingual_SemEval16I5I0.1/\""
   ]
  },
  {
   "cell_type": "markdown",
   "metadata": {
    "id": "0XzpiZniJTpP"
   },
   "source": [
    "#### **Evaluation Only CL**"
   ]
  },
  {
   "cell_type": "markdown",
   "metadata": {
    "id": "STHa6rDgJTpP"
   },
   "source": [
    "Evaluation on final training epoch:\n"
   ]
  },
  {
   "cell_type": "code",
   "execution_count": null,
   "metadata": {
    "colab": {
     "background_save": true
    },
    "id": "XcAiWVyKJTpP",
    "outputId": "c920572e-ba39-4f8f-e65f-b411fa1ce502"
   },
   "outputs": [],
   "source": [
    "! python /content/CL-TASD-MvP/model/main_train.py --task \"cl_mvp_tasd\" --num_beams \"1\" --dataset \"SemEval16\" --model_prefix \"Multilingual_SemEval16\" --language \"Multilingual\" --test_language \"Dutch\"   --top_k 1 --do_contr_sent --do_contr_aspect --num_train_epochs 20 --do_inference --train_batch_size 16 --eval_batch_size 64 --weight_decay 0.1 --warmup_steps 0.1 --model_name_or_path \"/content/drive/MyDrive/data/models/SemEval16Icl_mvp_tasdIgoogle/mt5-largeIbeamsI1IwdI0.1Imax_epochsI20IesI0IaccI1IlrI0.0001Icont_lossI0.05Icont_tempI0.25IseedI42IMultilingual_SemEval16I1I0.1IsentIaspect/\""
   ]
  },
  {
   "cell_type": "code",
   "execution_count": null,
   "metadata": {
    "colab": {
     "background_save": true
    },
    "id": "arrCjFcOJTpP",
    "outputId": "157110e3-271c-4e29-cbb2-0840bcc1cc1e"
   },
   "outputs": [],
   "source": [
    "! python /content/CL-TASD-MvP/model/main_train.py --do_con_dec --task \"cl_mvp_tasd\" --num_beams \"1\" --dataset \"SemEval16\" --model_prefix \"Multilingual_SemEval16\" --language \"Multilingual\" --test_language \"Dutch\"   --top_k 1 --do_contr_sent --do_contr_aspect --num_train_epochs 20 --do_inference --train_batch_size 16 --eval_batch_size 64 --weight_decay 0.1 --warmup_steps 0.1 --model_name_or_path \"/content/drive/MyDrive/data/models/SemEval16Icl_mvp_tasdIgoogle/mt5-largeIbeamsI1IwdI0.1Imax_epochsI20IesI0IaccI1IlrI0.0001Icont_lossI0.05Icont_tempI0.25IseedI42IMultilingual_SemEval16I1I0.1IsentIaspect/\""
   ]
  },
  {
   "cell_type": "markdown",
   "metadata": {
    "id": "gYOBqcrDJTpP"
   },
   "source": [
    "Evaluation on best checkpoint of the last 5 training epochs:\n"
   ]
  },
  {
   "cell_type": "code",
   "execution_count": null,
   "metadata": {
    "colab": {
     "background_save": true
    },
    "id": "0pl16XfkJTpP",
    "outputId": "9ad6e6c1-d6dd-4e42-fcab-a13a6b659184"
   },
   "outputs": [],
   "source": [
    "! python /content/CL-TASD-MvP/model/main_train.py --task \"cl_mvp_tasd\" --num_beams \"1\" --dataset \"SemEval16\" --model_prefix \"Multilingual_SemEval16\" --language \"Multilingual\" --test_language \"Dutch\"   --top_k 1 --do_contr_sent --do_contr_aspect --num_train_epochs 20 --do_inference_best_5 --train_batch_size 16 --eval_batch_size 64 --weight_decay 0.1 --warmup_steps 0.1 --model_name_or_path \"/content/drive/MyDrive/data/models/SemEval16Icl_mvp_tasdIgoogle/mt5-largeIbeamsI1IwdI0.1Imax_epochsI20IesI0IaccI1IlrI0.0001Icont_lossI0.05Icont_tempI0.25IseedI42IMultilingual_SemEval16I1I0.1IsentIaspect/\""
   ]
  },
  {
   "cell_type": "code",
   "execution_count": null,
   "metadata": {
    "colab": {
     "background_save": true
    },
    "id": "nwUQ622WJTpP",
    "outputId": "434aa799-711f-4745-ea9e-122eb6657169"
   },
   "outputs": [],
   "source": [
    "! python /content/CL-TASD-MvP/model/main_train.py --do_con_dec --task \"cl_mvp_tasd\" --num_beams \"1\" --dataset \"SemEval16\" --model_prefix \"Multilingual_SemEval16\" --language \"Multilingual\" --test_language \"Dutch\"   --top_k 1 --do_contr_sent --do_contr_aspect --num_train_epochs 20 --do_inference_best_5 --train_batch_size 16 --eval_batch_size 64 --weight_decay 0.1 --warmup_steps 0.1 --model_name_or_path \"/content/drive/MyDrive/data/models/SemEval16Icl_mvp_tasdIgoogle/mt5-largeIbeamsI1IwdI0.1Imax_epochsI20IesI0IaccI1IlrI0.0001Icont_lossI0.05Icont_tempI0.25IseedI42IMultilingual_SemEval16I1I0.1IsentIaspect/\""
   ]
  },
  {
   "cell_type": "markdown",
   "metadata": {
    "id": "D0i80nd-JTpP"
   },
   "source": [
    "Evaluation on best checkpoint:\n"
   ]
  },
  {
   "cell_type": "code",
   "execution_count": null,
   "metadata": {
    "colab": {
     "background_save": true
    },
    "id": "plONvPGAJTpP",
    "outputId": "3465b03a-29ac-4b4c-d3e7-01c5b8e467ed"
   },
   "outputs": [],
   "source": [
    "! python /content/CL-TASD-MvP/model/main_train.py --task \"cl_mvp_tasd\" --num_beams \"1\" --dataset \"SemEval16\" --model_prefix \"Multilingual_SemEval16\" --language \"Multilingual\" --test_language \"Dutch\"   --top_k 1 --do_contr_sent --do_contr_aspect --num_train_epochs 20 --do_inference_best_ckpt --train_batch_size 16 --eval_batch_size 64 --weight_decay 0.1 --warmup_steps 0.1 --model_name_or_path \"/content/drive/MyDrive/data/models/SemEval16Icl_mvp_tasdIgoogle/mt5-largeIbeamsI1IwdI0.1Imax_epochsI20IesI0IaccI1IlrI0.0001Icont_lossI0.05Icont_tempI0.25IseedI42IMultilingual_SemEval16I1I0.1IsentIaspect/\""
   ]
  },
  {
   "cell_type": "code",
   "execution_count": null,
   "metadata": {
    "colab": {
     "background_save": true
    },
    "id": "In-FHkzjJTpP",
    "outputId": "92075e40-6ebf-4b31-9357-972727437bed"
   },
   "outputs": [],
   "source": [
    "! python /content/CL-TASD-MvP/model/main_train.py --do_con_dec --task \"cl_mvp_tasd\" --num_beams \"1\" --dataset \"SemEval16\" --model_prefix \"Multilingual_SemEval16\" --language \"Multilingual\" --test_language \"Dutch\"   --top_k 1 --do_contr_sent --do_contr_aspect --num_train_epochs 20 --do_inference_best_ckpt --train_batch_size 16 --eval_batch_size 64 --weight_decay 0.1 --warmup_steps 0.1 --model_name_or_path \"/content/drive/MyDrive/data/models/SemEval16Icl_mvp_tasdIgoogle/mt5-largeIbeamsI1IwdI0.1Imax_epochsI20IesI0IaccI1IlrI0.0001Icont_lossI0.05Icont_tempI0.25IseedI42IMultilingual_SemEval16I1I0.1IsentIaspect/\""
   ]
  },
  {
   "cell_type": "markdown",
   "metadata": {
    "id": "zabZvXENJTpP"
   },
   "source": [
    "#### **Evaluation Base MT5**"
   ]
  },
  {
   "cell_type": "markdown",
   "metadata": {
    "id": "Z_BaJwIRJTpP"
   },
   "source": [
    "Evaluation on final training epoch:\n"
   ]
  },
  {
   "cell_type": "code",
   "execution_count": null,
   "metadata": {
    "id": "2q1W26NvJTpP"
   },
   "outputs": [],
   "source": [
    "! python /content/CL-TASD-MvP/model/main_train.py --task \"cl_mvp_tasd\" --num_beams \"1\" --dataset \"SemEval16\" --model_prefix \"Multilingual_SemEval16\" --language \"Multilingual\" --test_language \"Dutch\"   --top_k 1 --num_train_epochs 20 --do_inference --train_batch_size 16 --eval_batch_size 64 --weight_decay 0.1 --warmup_steps 0.1 --model_name_or_path \"/content/drive/MyDrive/data/models/SemEval16Icl_mvp_tasdIgoogle/mt5-largeIbeamsI1IwdI0.1Imax_epochsI20IesI0IaccI1IlrI0.0001Icont_lossI0.05Icont_tempI0.25IseedI42IMultilingual_SemEval16I1I0.1/\""
   ]
  },
  {
   "cell_type": "code",
   "execution_count": null,
   "metadata": {
    "id": "R_JikJ76JTpQ"
   },
   "outputs": [],
   "source": [
    "! python /content/CL-TASD-MvP/model/main_train.py --do_con_dec --task \"cl_mvp_tasd\" --num_beams \"1\" --dataset \"SemEval16\" --model_prefix \"Multilingual_SemEval16\" --language \"Multilingual\" --test_language \"Dutch\"   --top_k 1 --num_train_epochs 20 --do_inference --train_batch_size 16 --eval_batch_size 64 --weight_decay 0.1 --warmup_steps 0.1 --model_name_or_path \"/content/drive/MyDrive/data/models/SemEval16Icl_mvp_tasdIgoogle/mt5-largeIbeamsI1IwdI0.1Imax_epochsI20IesI0IaccI1IlrI0.0001Icont_lossI0.05Icont_tempI0.25IseedI42IMultilingual_SemEval16I1I0.1/\""
   ]
  },
  {
   "cell_type": "markdown",
   "metadata": {
    "id": "7eXfPOtiJTpQ"
   },
   "source": [
    "Evaluation on best checkpoint of the last 5 training epochs:\n"
   ]
  },
  {
   "cell_type": "code",
   "execution_count": null,
   "metadata": {
    "id": "qM0JFb7KJTpQ"
   },
   "outputs": [],
   "source": [
    "! python /content/CL-TASD-MvP/model/main_train.py --task \"cl_mvp_tasd\" --num_beams \"1\" --dataset \"SemEval16\" --model_prefix \"Multilingual_SemEval16\" --language \"Multilingual\" --test_language \"Dutch\"   --top_k 1 --num_train_epochs 20 --do_inference_best_5 --train_batch_size 16 --eval_batch_size 64 --weight_decay 0.1 --warmup_steps 0.1 --model_name_or_path \"/content/drive/MyDrive/data/models/SemEval16Icl_mvp_tasdIgoogle/mt5-largeIbeamsI1IwdI0.1Imax_epochsI20IesI0IaccI1IlrI0.0001Icont_lossI0.05Icont_tempI0.25IseedI42IMultilingual_SemEval16I1I0.1/\""
   ]
  },
  {
   "cell_type": "code",
   "execution_count": null,
   "metadata": {
    "id": "9swuj8LqJTpQ"
   },
   "outputs": [],
   "source": [
    "! python /content/CL-TASD-MvP/model/main_train.py --do_con_dec --task \"cl_mvp_tasd\" --num_beams \"1\" --dataset \"SemEval16\" --model_prefix \"Multilingual_SemEval16\" --language \"Multilingual\" --test_language \"Dutch\"   --top_k 1 --num_train_epochs 20 --do_inference_best_5 --train_batch_size 16 --eval_batch_size 64 --weight_decay 0.1 --warmup_steps 0.1 --model_name_or_path \"/content/drive/MyDrive/data/models/SemEval16Icl_mvp_tasdIgoogle/mt5-largeIbeamsI1IwdI0.1Imax_epochsI20IesI0IaccI1IlrI0.0001Icont_lossI0.05Icont_tempI0.25IseedI42IMultilingual_SemEval16I1I0.1/\""
   ]
  },
  {
   "cell_type": "markdown",
   "metadata": {
    "id": "kZYTq9q7JTpQ"
   },
   "source": [
    "Evaluation on best checkpoint:\n"
   ]
  },
  {
   "cell_type": "code",
   "execution_count": null,
   "metadata": {
    "id": "8334ij8kJTpQ"
   },
   "outputs": [],
   "source": [
    "! python /content/CL-TASD-MvP/model/main_train.py --task \"cl_mvp_tasd\" --num_beams \"1\" --dataset \"SemEval16\" --model_prefix \"Multilingual_SemEval16\" --language \"Multilingual\" --test_language \"Dutch\"   --top_k 1 --num_train_epochs 20 --do_inference_best_ckpt --train_batch_size 16 --eval_batch_size 64 --weight_decay 0.1 --warmup_steps 0.1 --model_name_or_path \"/content/drive/MyDrive/data/models/SemEval16Icl_mvp_tasdIgoogle/mt5-largeIbeamsI1IwdI0.1Imax_epochsI20IesI0IaccI1IlrI0.0001Icont_lossI0.05Icont_tempI0.25IseedI42IMultilingual_SemEval16I1I0.1/\""
   ]
  },
  {
   "cell_type": "code",
   "execution_count": null,
   "metadata": {
    "id": "TF7A7IqwJTpQ"
   },
   "outputs": [],
   "source": [
    "! python /content/CL-TASD-MvP/model/main_train.py --do_con_dec --task \"cl_mvp_tasd\" --num_beams \"1\" --dataset \"SemEval16\" --model_prefix \"Multilingual_SemEval16\" --language \"Multilingual\" --test_language \"Dutch\"   --top_k 1 --num_train_epochs 20 --do_inference_best_ckpt --train_batch_size 16 --eval_batch_size 64 --weight_decay 0.1 --warmup_steps 0.1 --model_name_or_path \"/content/drive/MyDrive/data/models/SemEval16Icl_mvp_tasdIgoogle/mt5-largeIbeamsI1IwdI0.1Imax_epochsI20IesI0IaccI1IlrI0.0001Icont_lossI0.05Icont_tempI0.25IseedI42IMultilingual_SemEval16I1I0.1/\""
   ]
  },
  {
   "cell_type": "markdown",
   "metadata": {
    "id": "-buzMugRJbaf"
   },
   "source": [
    "### **Model Evaluation: Turkish**\n"
   ]
  },
  {
   "cell_type": "markdown",
   "metadata": {
    "id": "FkIZ8fo0Jbaf"
   },
   "source": [
    "#### **Evaluation Full Model**"
   ]
  },
  {
   "cell_type": "markdown",
   "metadata": {
    "id": "NeXa9ZpdJbaf"
   },
   "source": [
    "Evaluation on final training epoch:\n"
   ]
  },
  {
   "cell_type": "code",
   "execution_count": null,
   "metadata": {
    "id": "LPMVFSK0Jbag"
   },
   "outputs": [],
   "source": [
    "! python /content/CL-TASD-MvP/model/main_train.py --task \"cl_mvp_tasd\" --num_beams \"1\" --dataset \"SemEval16\" --model_prefix \"Multilingual_SemEval16\" --language \"Multilingual\" --test_language \"Turkish\"   --top_k 5 --do_contr_sent --do_contr_aspect --num_train_epochs 20 --do_inference --train_batch_size 16 --eval_batch_size 64 --weight_decay 0.1 --warmup_steps 0.1 --model_name_or_path \"/content/drive/MyDrive/data/models/SemEval16Icl_mvp_tasdIgoogle/mt5-largeIbeamsI1IwdI0.1Imax_epochsI20IesI0IaccI1IlrI0.0001Icont_lossI0.05Icont_tempI0.25IseedI42IMultilingual_SemEval16I5I0.1IsentIaspect/\""
   ]
  },
  {
   "cell_type": "code",
   "execution_count": null,
   "metadata": {
    "id": "rNzq18koJbag"
   },
   "outputs": [],
   "source": [
    "! python /content/CL-TASD-MvP/model/main_train.py --do_con_dec --task \"cl_mvp_tasd\" --num_beams \"1\" --dataset \"SemEval16\" --model_prefix \"Multilingual_SemEval16\" --language \"Multilingual\" --test_language \"Turkish\"   --top_k 5 --do_contr_sent --do_contr_aspect --num_train_epochs 20 --do_inference --train_batch_size 16 --eval_batch_size 64 --weight_decay 0.1 --warmup_steps 0.1 --model_name_or_path \"/content/drive/MyDrive/data/models/SemEval16Icl_mvp_tasdIgoogle/mt5-largeIbeamsI1IwdI0.1Imax_epochsI20IesI0IaccI1IlrI0.0001Icont_lossI0.05Icont_tempI0.25IseedI42IMultilingual_SemEval16I5I0.1IsentIaspect/\""
   ]
  },
  {
   "cell_type": "markdown",
   "metadata": {
    "id": "olUzH4sFJbag"
   },
   "source": [
    "Evaluation on best checkpoint of the last 5 training epochs:\n"
   ]
  },
  {
   "cell_type": "code",
   "execution_count": null,
   "metadata": {
    "id": "nE85IFQjJbag"
   },
   "outputs": [],
   "source": [
    "! python /content/CL-TASD-MvP/model/main_train.py --task \"cl_mvp_tasd\" --num_beams \"1\" --dataset \"SemEval16\" --model_prefix \"Multilingual_SemEval16\" --language \"Multilingual\" --test_language \"Turkish\"   --top_k 5 --do_contr_sent --do_contr_aspect --num_train_epochs 20 --do_inference_best_5 --train_batch_size 16 --eval_batch_size 64 --weight_decay 0.1 --warmup_steps 0.1 --model_name_or_path \"/content/drive/MyDrive/data/models/SemEval16Icl_mvp_tasdIgoogle/mt5-largeIbeamsI1IwdI0.1Imax_epochsI20IesI0IaccI1IlrI0.0001Icont_lossI0.05Icont_tempI0.25IseedI42IMultilingual_SemEval16I5I0.1IsentIaspect/\""
   ]
  },
  {
   "cell_type": "code",
   "execution_count": null,
   "metadata": {
    "id": "16afEh_kJbag"
   },
   "outputs": [],
   "source": [
    "! python /content/CL-TASD-MvP/model/main_train.py --do_con_dec --task \"cl_mvp_tasd\" --num_beams \"1\" --dataset \"SemEval16\" --model_prefix \"Multilingual_SemEval16\" --language \"Multilingual\" --test_language \"Turkish\"   --top_k 5 --do_contr_sent --do_contr_aspect --num_train_epochs 20 --do_inference_best_5 --train_batch_size 16 --eval_batch_size 64 --weight_decay 0.1 --warmup_steps 0.1 --model_name_or_path \"/content/drive/MyDrive/data/models/SemEval16Icl_mvp_tasdIgoogle/mt5-largeIbeamsI1IwdI0.1Imax_epochsI20IesI0IaccI1IlrI0.0001Icont_lossI0.05Icont_tempI0.25IseedI42IMultilingual_SemEval16I5I0.1IsentIaspect/\""
   ]
  },
  {
   "cell_type": "markdown",
   "metadata": {
    "id": "bLLlgp_-Jbag"
   },
   "source": [
    "Evaluation on best checkpoint:\n"
   ]
  },
  {
   "cell_type": "code",
   "execution_count": null,
   "metadata": {
    "id": "291kcRqWJbag"
   },
   "outputs": [],
   "source": [
    "! python /content/CL-TASD-MvP/model/main_train.py --task \"cl_mvp_tasd\" --num_beams \"1\" --dataset \"SemEval16\" --model_prefix \"Multilingual_SemEval16\" --language \"Multilingual\" --test_language \"Turkish\"   --top_k 5 --do_contr_sent --do_contr_aspect --num_train_epochs 20 --do_inference_best_ckpt --train_batch_size 16 --eval_batch_size 64 --weight_decay 0.1 --warmup_steps 0.1 --model_name_or_path \"/content/drive/MyDrive/data/models/SemEval16Icl_mvp_tasdIgoogle/mt5-largeIbeamsI1IwdI0.1Imax_epochsI20IesI0IaccI1IlrI0.0001Icont_lossI0.05Icont_tempI0.25IseedI42IMultilingual_SemEval16I5I0.1IsentIaspect/\""
   ]
  },
  {
   "cell_type": "code",
   "execution_count": null,
   "metadata": {
    "id": "MgYPDi9BJbag"
   },
   "outputs": [],
   "source": [
    "! python /content/CL-TASD-MvP/model/main_train.py --do_con_dec --task \"cl_mvp_tasd\" --num_beams \"1\" --dataset \"SemEval16\" --model_prefix \"Multilingual_SemEval16\" --language \"Multilingual\" --test_language \"Turkish\"   --top_k 5 --do_contr_sent --do_contr_aspect --num_train_epochs 20 --do_inference_best_ckpt --train_batch_size 16 --eval_batch_size 64 --weight_decay 0.1 --warmup_steps 0.1 --model_name_or_path \"/content/drive/MyDrive/data/models/SemEval16Icl_mvp_tasdIgoogle/mt5-largeIbeamsI1IwdI0.1Imax_epochsI20IesI0IaccI1IlrI0.0001Icont_lossI0.05Icont_tempI0.25IseedI42IMultilingual_SemEval16I5I0.1IsentIaspect/\""
   ]
  },
  {
   "cell_type": "markdown",
   "metadata": {
    "id": "kPxyevaqJbah"
   },
   "source": [
    "#### **Evaluation MVP Only**"
   ]
  },
  {
   "cell_type": "markdown",
   "metadata": {
    "id": "VQSc8iL9Jbah"
   },
   "source": [
    "Evaluation on final training epoch:\n"
   ]
  },
  {
   "cell_type": "code",
   "execution_count": null,
   "metadata": {
    "colab": {
     "background_save": true
    },
    "id": "fjjXLhs0Jbah",
    "outputId": "046b17fd-8515-402f-f47d-feecfef56708"
   },
   "outputs": [],
   "source": [
    "! python /content/CL-TASD-MvP/model/main_train.py --task \"cl_mvp_tasd\" --num_beams \"1\" --dataset \"SemEval16\" --model_prefix \"Multilingual_SemEval16\" --language \"Multilingual\" --test_language \"Turkish\"   --top_k 5 --num_train_epochs 20 --do_inference --train_batch_size 16 --eval_batch_size 64 --weight_decay 0.1 --warmup_steps 0.1 --model_name_or_path \"/content/drive/MyDrive/data/models/SemEval16Icl_mvp_tasdIgoogle/mt5-largeIbeamsI1IwdI0.1Imax_epochsI20IesI0IaccI1IlrI0.0001Icont_lossI0.05Icont_tempI0.25IseedI42IMultilingual_SemEval16I5I0.1/\""
   ]
  },
  {
   "cell_type": "code",
   "execution_count": null,
   "metadata": {
    "colab": {
     "background_save": true
    },
    "id": "Gh-ssRRNJbah",
    "outputId": "dfc67388-35bd-4796-c17b-afc014d79b41"
   },
   "outputs": [],
   "source": [
    "! python /content/CL-TASD-MvP/model/main_train.py --do_con_dec --task \"cl_mvp_tasd\" --num_beams \"1\" --dataset \"SemEval16\" --model_prefix \"Multilingual_SemEval16\" --language \"Multilingual\" --test_language \"Turkish\"   --top_k 5 --num_train_epochs 20 --do_inference --train_batch_size 16 --eval_batch_size 64 --weight_decay 0.1 --warmup_steps 0.1 --model_name_or_path \"/content/drive/MyDrive/data/models/SemEval16Icl_mvp_tasdIgoogle/mt5-largeIbeamsI1IwdI0.1Imax_epochsI20IesI0IaccI1IlrI0.0001Icont_lossI0.05Icont_tempI0.25IseedI42IMultilingual_SemEval16I5I0.1/\""
   ]
  },
  {
   "cell_type": "markdown",
   "metadata": {
    "id": "SFZwaLv0Jbah"
   },
   "source": [
    "Evaluation on best checkpoint of the last 5 training epochs:\n"
   ]
  },
  {
   "cell_type": "code",
   "execution_count": null,
   "metadata": {
    "colab": {
     "background_save": true
    },
    "id": "GKKWoEroJbah",
    "outputId": "fef3bdc9-a7c3-4f83-b753-e8f73240ef84"
   },
   "outputs": [],
   "source": [
    "! python /content/CL-TASD-MvP/model/main_train.py --task \"cl_mvp_tasd\" --num_beams \"1\" --dataset \"SemEval16\" --model_prefix \"Multilingual_SemEval16\" --language \"Multilingual\" --test_language \"Turkish\"   --top_k 5 --num_train_epochs 20 --do_inference_best_5 --train_batch_size 16 --eval_batch_size 64 --weight_decay 0.1 --warmup_steps 0.1 --model_name_or_path \"/content/drive/MyDrive/data/models/SemEval16Icl_mvp_tasdIgoogle/mt5-largeIbeamsI1IwdI0.1Imax_epochsI20IesI0IaccI1IlrI0.0001Icont_lossI0.05Icont_tempI0.25IseedI42IMultilingual_SemEval16I5I0.1/\""
   ]
  },
  {
   "cell_type": "code",
   "execution_count": null,
   "metadata": {
    "colab": {
     "background_save": true
    },
    "id": "OJFTSehbJbah",
    "outputId": "d965de8a-4a51-4d5a-8692-4ada8a503a08"
   },
   "outputs": [],
   "source": [
    "! python /content/CL-TASD-MvP/model/main_train.py --do_con_dec --task \"cl_mvp_tasd\" --num_beams \"1\" --dataset \"SemEval16\" --model_prefix \"Multilingual_SemEval16\" --language \"Multilingual\" --test_language \"Turkish\"   --top_k 5 --num_train_epochs 20 --do_inference_best_5 --train_batch_size 16 --eval_batch_size 64 --weight_decay 0.1 --warmup_steps 0.1 --model_name_or_path \"/content/drive/MyDrive/data/models/SemEval16Icl_mvp_tasdIgoogle/mt5-largeIbeamsI1IwdI0.1Imax_epochsI20IesI0IaccI1IlrI0.0001Icont_lossI0.05Icont_tempI0.25IseedI42IMultilingual_SemEval16I5I0.1/\""
   ]
  },
  {
   "cell_type": "markdown",
   "metadata": {
    "id": "ye2Xkpm_Jbah"
   },
   "source": [
    "Evaluation on best checkpoint:\n"
   ]
  },
  {
   "cell_type": "code",
   "execution_count": null,
   "metadata": {
    "colab": {
     "background_save": true
    },
    "id": "xgPn51D7Jbai",
    "outputId": "438a4b4d-22be-4845-d5d1-a18212948a30"
   },
   "outputs": [],
   "source": [
    "! python /content/CL-TASD-MvP/model/main_train.py --task \"cl_mvp_tasd\" --num_beams \"1\" --dataset \"SemEval16\" --model_prefix \"Multilingual_SemEval16\" --language \"Multilingual\" --test_language \"Turkish\"   --top_k 5 --num_train_epochs 20 --do_inference_best_ckpt --train_batch_size 16 --eval_batch_size 64 --weight_decay 0.1 --warmup_steps 0.1 --model_name_or_path \"/content/drive/MyDrive/data/models/SemEval16Icl_mvp_tasdIgoogle/mt5-largeIbeamsI1IwdI0.1Imax_epochsI20IesI0IaccI1IlrI0.0001Icont_lossI0.05Icont_tempI0.25IseedI42IMultilingual_SemEval16I5I0.1/\""
   ]
  },
  {
   "cell_type": "code",
   "execution_count": null,
   "metadata": {
    "colab": {
     "background_save": true
    },
    "id": "kREprt83Jbai",
    "outputId": "108d0572-18c1-44cc-c3fa-4de5166342f1"
   },
   "outputs": [],
   "source": [
    "! python /content/CL-TASD-MvP/model/main_train.py --do_con_dec --task \"cl_mvp_tasd\" --num_beams \"1\" --dataset \"SemEval16\" --model_prefix \"Multilingual_SemEval16\" --language \"Multilingual\" --test_language \"Turkish\"   --top_k 5 --num_train_epochs 20 --do_inference_best_ckpt --train_batch_size 16 --eval_batch_size 64 --weight_decay 0.1 --warmup_steps 0.1 --model_name_or_path \"/content/drive/MyDrive/data/models/SemEval16Icl_mvp_tasdIgoogle/mt5-largeIbeamsI1IwdI0.1Imax_epochsI20IesI0IaccI1IlrI0.0001Icont_lossI0.05Icont_tempI0.25IseedI42IMultilingual_SemEval16I5I0.1/\""
   ]
  },
  {
   "cell_type": "markdown",
   "metadata": {
    "id": "X3HnZaquJbai"
   },
   "source": [
    "#### **Evaluation Only CL**"
   ]
  },
  {
   "cell_type": "markdown",
   "metadata": {
    "id": "3Mti2KQUJbai"
   },
   "source": [
    "Evaluation on final training epoch:\n"
   ]
  },
  {
   "cell_type": "code",
   "execution_count": null,
   "metadata": {
    "colab": {
     "background_save": true
    },
    "id": "Yi_JA3tkJbai",
    "outputId": "1233d6e7-48d1-4e56-e5df-8eb0aa815b71"
   },
   "outputs": [],
   "source": [
    "! python /content/CL-TASD-MvP/model/main_train.py --task \"cl_mvp_tasd\" --num_beams \"1\" --dataset \"SemEval16\" --model_prefix \"Multilingual_SemEval16\" --language \"Multilingual\" --test_language \"Turkish\"   --top_k 1 --do_contr_sent --do_contr_aspect --num_train_epochs 20 --do_inference --train_batch_size 16 --eval_batch_size 64 --weight_decay 0.1 --warmup_steps 0.1 --model_name_or_path \"/content/drive/MyDrive/data/models/SemEval16Icl_mvp_tasdIgoogle/mt5-largeIbeamsI1IwdI0.1Imax_epochsI20IesI0IaccI1IlrI0.0001Icont_lossI0.05Icont_tempI0.25IseedI42IMultilingual_SemEval16I1I0.1IsentIaspect/\""
   ]
  },
  {
   "cell_type": "code",
   "execution_count": null,
   "metadata": {
    "colab": {
     "background_save": true
    },
    "id": "KT4qQmt4Jbai",
    "outputId": "548ea614-37dd-4a51-8164-835962da4639"
   },
   "outputs": [],
   "source": [
    "! python /content/CL-TASD-MvP/model/main_train.py --do_con_dec --task \"cl_mvp_tasd\" --num_beams \"1\" --dataset \"SemEval16\" --model_prefix \"Multilingual_SemEval16\" --language \"Multilingual\" --test_language \"Turkish\"   --top_k 1 --do_contr_sent --do_contr_aspect --num_train_epochs 20 --do_inference --train_batch_size 16 --eval_batch_size 64 --weight_decay 0.1 --warmup_steps 0.1 --model_name_or_path \"/content/drive/MyDrive/data/models/SemEval16Icl_mvp_tasdIgoogle/mt5-largeIbeamsI1IwdI0.1Imax_epochsI20IesI0IaccI1IlrI0.0001Icont_lossI0.05Icont_tempI0.25IseedI42IMultilingual_SemEval16I1I0.1IsentIaspect/\""
   ]
  },
  {
   "cell_type": "markdown",
   "metadata": {
    "id": "as6imwPaJbai"
   },
   "source": [
    "Evaluation on best checkpoint of the last 5 training epochs:\n"
   ]
  },
  {
   "cell_type": "code",
   "execution_count": null,
   "metadata": {
    "colab": {
     "background_save": true
    },
    "id": "ip1BO4y7Jbai",
    "outputId": "4309c8f1-6f04-431d-8fd5-f7aa90404340"
   },
   "outputs": [],
   "source": [
    "! python /content/CL-TASD-MvP/model/main_train.py --task \"cl_mvp_tasd\" --num_beams \"1\" --dataset \"SemEval16\" --model_prefix \"Multilingual_SemEval16\" --language \"Multilingual\" --test_language \"Turkish\"   --top_k 1 --do_contr_sent --do_contr_aspect --num_train_epochs 20 --do_inference_best_5 --train_batch_size 16 --eval_batch_size 64 --weight_decay 0.1 --warmup_steps 0.1 --model_name_or_path \"/content/drive/MyDrive/data/models/SemEval16Icl_mvp_tasdIgoogle/mt5-largeIbeamsI1IwdI0.1Imax_epochsI20IesI0IaccI1IlrI0.0001Icont_lossI0.05Icont_tempI0.25IseedI42IMultilingual_SemEval16I1I0.1IsentIaspect/\""
   ]
  },
  {
   "cell_type": "code",
   "execution_count": null,
   "metadata": {
    "colab": {
     "background_save": true
    },
    "id": "xhRqBMQ_Jbai",
    "outputId": "011dd41e-0378-4eb1-feb5-2bd6289a3490"
   },
   "outputs": [],
   "source": [
    "! python /content/CL-TASD-MvP/model/main_train.py --do_con_dec --task \"cl_mvp_tasd\" --num_beams \"1\" --dataset \"SemEval16\" --model_prefix \"Multilingual_SemEval16\" --language \"Multilingual\" --test_language \"Turkish\"   --top_k 1 --do_contr_sent --do_contr_aspect --num_train_epochs 20 --do_inference_best_5 --train_batch_size 16 --eval_batch_size 64 --weight_decay 0.1 --warmup_steps 0.1 --model_name_or_path \"/content/drive/MyDrive/data/models/SemEval16Icl_mvp_tasdIgoogle/mt5-largeIbeamsI1IwdI0.1Imax_epochsI20IesI0IaccI1IlrI0.0001Icont_lossI0.05Icont_tempI0.25IseedI42IMultilingual_SemEval16I1I0.1IsentIaspect/\""
   ]
  },
  {
   "cell_type": "markdown",
   "metadata": {
    "id": "5_4fUoNNJbai"
   },
   "source": [
    "Evaluation on best checkpoint:\n"
   ]
  },
  {
   "cell_type": "code",
   "execution_count": null,
   "metadata": {
    "colab": {
     "background_save": true
    },
    "id": "d4wQBHt1Jbai",
    "outputId": "78784195-a203-426d-af85-04e3ba8a0558"
   },
   "outputs": [],
   "source": [
    "! python /content/CL-TASD-MvP/model/main_train.py --task \"cl_mvp_tasd\" --num_beams \"1\" --dataset \"SemEval16\" --model_prefix \"Multilingual_SemEval16\" --language \"Multilingual\" --test_language \"Turkish\"   --top_k 1 --do_contr_sent --do_contr_aspect --num_train_epochs 20 --do_inference_best_ckpt --train_batch_size 16 --eval_batch_size 64 --weight_decay 0.1 --warmup_steps 0.1 --model_name_or_path \"/content/drive/MyDrive/data/models/SemEval16Icl_mvp_tasdIgoogle/mt5-largeIbeamsI1IwdI0.1Imax_epochsI20IesI0IaccI1IlrI0.0001Icont_lossI0.05Icont_tempI0.25IseedI42IMultilingual_SemEval16I1I0.1IsentIaspect/\""
   ]
  },
  {
   "cell_type": "code",
   "execution_count": null,
   "metadata": {
    "id": "YdPk9QM0Jbai"
   },
   "outputs": [],
   "source": [
    "! python /content/CL-TASD-MvP/model/main_train.py --do_con_dec --task \"cl_mvp_tasd\" --num_beams \"1\" --dataset \"SemEval16\" --model_prefix \"Multilingual_SemEval16\" --language \"Multilingual\" --test_language \"Turkish\"   --top_k 1 --do_contr_sent --do_contr_aspect --num_train_epochs 20 --do_inference_best_ckpt --train_batch_size 16 --eval_batch_size 64 --weight_decay 0.1 --warmup_steps 0.1 --model_name_or_path \"/content/drive/MyDrive/data/models/SemEval16Icl_mvp_tasdIgoogle/mt5-largeIbeamsI1IwdI0.1Imax_epochsI20IesI0IaccI1IlrI0.0001Icont_lossI0.05Icont_tempI0.25IseedI42IMultilingual_SemEval16I1I0.1IsentIaspect/\""
   ]
  },
  {
   "cell_type": "markdown",
   "metadata": {
    "id": "mND8sQReJbai"
   },
   "source": [
    "#### **Evaluation Base MT5**"
   ]
  },
  {
   "cell_type": "markdown",
   "metadata": {
    "id": "6XpN5c94Jbai"
   },
   "source": [
    "Evaluation on final training epoch:\n"
   ]
  },
  {
   "cell_type": "code",
   "execution_count": null,
   "metadata": {
    "id": "afWNciLcJbai"
   },
   "outputs": [],
   "source": [
    "! python /content/CL-TASD-MvP/model/main_train.py --task \"cl_mvp_tasd\" --num_beams \"1\" --dataset \"SemEval16\" --model_prefix \"Multilingual_SemEval16\" --language \"Multilingual\" --test_language \"Turkish\"   --top_k 1 --num_train_epochs 20 --do_inference --train_batch_size 16 --eval_batch_size 64 --weight_decay 0.1 --warmup_steps 0.1 --model_name_or_path \"/content/drive/MyDrive/data/models/SemEval16Icl_mvp_tasdIgoogle/mt5-largeIbeamsI1IwdI0.1Imax_epochsI20IesI0IaccI1IlrI0.0001Icont_lossI0.05Icont_tempI0.25IseedI42IMultilingual_SemEval16I1I0.1/\""
   ]
  },
  {
   "cell_type": "code",
   "execution_count": null,
   "metadata": {
    "id": "ibX-j_lGJbai"
   },
   "outputs": [],
   "source": [
    "! python /content/CL-TASD-MvP/model/main_train.py --do_con_dec --task \"cl_mvp_tasd\" --num_beams \"1\" --dataset \"SemEval16\" --model_prefix \"Multilingual_SemEval16\" --language \"Multilingual\" --test_language \"Turkish\"   --top_k 1 --num_train_epochs 20 --do_inference --train_batch_size 16 --eval_batch_size 64 --weight_decay 0.1 --warmup_steps 0.1 --model_name_or_path \"/content/drive/MyDrive/data/models/SemEval16Icl_mvp_tasdIgoogle/mt5-largeIbeamsI1IwdI0.1Imax_epochsI20IesI0IaccI1IlrI0.0001Icont_lossI0.05Icont_tempI0.25IseedI42IMultilingual_SemEval16I1I0.1/\""
   ]
  },
  {
   "cell_type": "markdown",
   "metadata": {
    "id": "U4MPgsyUJbai"
   },
   "source": [
    "Evaluation on best checkpoint of the last 5 training epochs:\n"
   ]
  },
  {
   "cell_type": "code",
   "execution_count": null,
   "metadata": {
    "id": "fOxzg2s2Jbaj"
   },
   "outputs": [],
   "source": [
    "! python /content/CL-TASD-MvP/model/main_train.py --task \"cl_mvp_tasd\" --num_beams \"1\" --dataset \"SemEval16\" --model_prefix \"Multilingual_SemEval16\" --language \"Multilingual\" --test_language \"Turkish\"   --top_k 1 --num_train_epochs 20 --do_inference_best_5 --train_batch_size 16 --eval_batch_size 64 --weight_decay 0.1 --warmup_steps 0.1 --model_name_or_path \"/content/drive/MyDrive/data/models/SemEval16Icl_mvp_tasdIgoogle/mt5-largeIbeamsI1IwdI0.1Imax_epochsI20IesI0IaccI1IlrI0.0001Icont_lossI0.05Icont_tempI0.25IseedI42IMultilingual_SemEval16I1I0.1/\""
   ]
  },
  {
   "cell_type": "code",
   "execution_count": null,
   "metadata": {
    "id": "ARlQVCBpJbaj"
   },
   "outputs": [],
   "source": [
    "! python /content/CL-TASD-MvP/model/main_train.py --do_con_dec --task \"cl_mvp_tasd\" --num_beams \"1\" --dataset \"SemEval16\" --model_prefix \"Multilingual_SemEval16\" --language \"Multilingual\" --test_language \"Turkish\"   --top_k 1 --num_train_epochs 20 --do_inference_best_5 --train_batch_size 16 --eval_batch_size 64 --weight_decay 0.1 --warmup_steps 0.1 --model_name_or_path \"/content/drive/MyDrive/data/models/SemEval16Icl_mvp_tasdIgoogle/mt5-largeIbeamsI1IwdI0.1Imax_epochsI20IesI0IaccI1IlrI0.0001Icont_lossI0.05Icont_tempI0.25IseedI42IMultilingual_SemEval16I1I0.1/\""
   ]
  },
  {
   "cell_type": "markdown",
   "metadata": {
    "id": "y6jaUpjDJbaj"
   },
   "source": [
    "Evaluation on best checkpoint:\n"
   ]
  },
  {
   "cell_type": "code",
   "execution_count": null,
   "metadata": {
    "id": "-irLAMpoJbaj"
   },
   "outputs": [],
   "source": [
    "! python /content/CL-TASD-MvP/model/main_train.py --task \"cl_mvp_tasd\" --num_beams \"1\" --dataset \"SemEval16\" --model_prefix \"Multilingual_SemEval16\" --language \"Multilingual\" --test_language \"Turkish\"   --top_k 1 --num_train_epochs 20 --do_inference_best_ckpt --train_batch_size 16 --eval_batch_size 64 --weight_decay 0.1 --warmup_steps 0.1 --model_name_or_path \"/content/drive/MyDrive/data/models/SemEval16Icl_mvp_tasdIgoogle/mt5-largeIbeamsI1IwdI0.1Imax_epochsI20IesI0IaccI1IlrI0.0001Icont_lossI0.05Icont_tempI0.25IseedI42IMultilingual_SemEval16I1I0.1/\""
   ]
  },
  {
   "cell_type": "code",
   "execution_count": null,
   "metadata": {
    "id": "qTHVeB6UJbaj"
   },
   "outputs": [],
   "source": [
    "! python /content/CL-TASD-MvP/model/main_train.py --do_con_dec --task \"cl_mvp_tasd\" --num_beams \"1\" --dataset \"SemEval16\" --model_prefix \"Multilingual_SemEval16\" --language \"Multilingual\" --test_language \"Turkish\"   --top_k 1 --num_train_epochs 20 --do_inference_best_ckpt --train_batch_size 16 --eval_batch_size 64 --weight_decay 0.1 --warmup_steps 0.1 --model_name_or_path \"/content/drive/MyDrive/data/models/SemEval16Icl_mvp_tasdIgoogle/mt5-largeIbeamsI1IwdI0.1Imax_epochsI20IesI0IaccI1IlrI0.0001Icont_lossI0.05Icont_tempI0.25IseedI42IMultilingual_SemEval16I1I0.1/\""
   ]
  }
 ],
 "metadata": {
  "accelerator": "GPU",
  "colab": {
   "authorship_tag": "ABX9TyOv3KpRzhvV3fUfEuyxlmZH",
   "collapsed_sections": [
    "0ZhyefzDFdCm",
    "kFQ_UfkbF8rH",
    "SMNROHtjIZSt",
    "37XQO_cIHT8y",
    "v81yuufYIt3A",
    "sGrVUZeiJMem",
    "YLwE59RlJTpN",
    "-buzMugRJbaf"
   ],
   "gpuType": "L4",
   "machine_shape": "hm",
   "provenance": [
    {
     "file_id": "11Fx9fj0LnMfQfsquZK0w-Um7RyxFFFle",
     "timestamp": 1753171233299
    },
    {
     "file_id": "1iDP1fPQGnypRPcfwfPS2OwvGZLt_Yvzu",
     "timestamp": 1753169717998
    }
   ]
  },
  "kernelspec": {
   "display_name": "Python 3",
   "name": "python3"
  },
  "language_info": {
   "name": "python"
  }
 },
 "nbformat": 4,
 "nbformat_minor": 0
}
