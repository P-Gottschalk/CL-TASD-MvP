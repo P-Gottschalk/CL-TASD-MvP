{
 "cells": [
  {
   "cell_type": "markdown",
   "metadata": {
    "id": "NlSm-XoyKuvo"
   },
   "source": [
    "### **Notebook Setup**"
   ]
  },
  {
   "cell_type": "markdown",
   "metadata": {
    "id": "IEAxUJ-S2dJB"
   },
   "source": [
    "**Mount Prep**"
   ]
  },
  {
   "cell_type": "code",
   "execution_count": null,
   "metadata": {
    "id": "tZlNusdLTV0v"
   },
   "outputs": [],
   "source": [
    "from google.colab import drive\n",
    "drive.mount(\"/content/drive/\")"
   ]
  },
  {
   "cell_type": "markdown",
   "metadata": {
    "id": "vkx1Y9Qj5G_1"
   },
   "source": [
    "**Package Installation:**"
   ]
  },
  {
   "cell_type": "markdown",
   "metadata": {
    "id": "nu6jBbPL2q4F"
   },
   "source": [
    "**GitHub Cloning:** 90-day access token is used"
   ]
  },
  {
   "cell_type": "code",
   "execution_count": null,
   "metadata": {
    "id": "C-qbm4XreAUf"
   },
   "outputs": [],
   "source": [
    "! rm -r CL-TASD-MvP #Remove GitHub whilst in session"
   ]
  },
  {
   "cell_type": "code",
   "execution_count": null,
   "metadata": {
    "id": "g9Ovr3oPvWD7"
   },
   "outputs": [],
   "source": [
    "!git clone https://github.com/P-Gottschalk/CL-TASD-MvP.git"
   ]
  },
  {
   "cell_type": "markdown",
   "metadata": {
    "id": "4fyX0JTkfI6L"
   },
   "source": [
    "###**SemEval-2016 Conversion**"
   ]
  },
  {
   "cell_type": "markdown",
   "metadata": {
    "id": "d7u7eeRMfRd8"
   },
   "source": [
    "Converts all the SemEval-2016 into the same txt file format as the M-ABSA dataset"
   ]
  },
  {
   "cell_type": "markdown",
   "metadata": {
    "id": "gjLbW1Lifc5z"
   },
   "source": [
    "**English Data:** Test and Training"
   ]
  },
  {
   "cell_type": "code",
   "execution_count": null,
   "metadata": {
    "id": "tsiX7MAEfo_7"
   },
   "outputs": [],
   "source": [
    "! python /content/CL-TASD-MvP/data/xml_to_txt.py --language \"English\" --phase \"Train\" --overwrite"
   ]
  },
  {
   "cell_type": "code",
   "execution_count": null,
   "metadata": {
    "id": "R6h4AzJQjJPq"
   },
   "outputs": [],
   "source": [
    "! python /content/CL-TASD-MvP/data/xml_to_txt.py --language \"English\" --phase \"Test\" --overwrite"
   ]
  },
  {
   "cell_type": "markdown",
   "metadata": {
    "id": "HYrqtmuOjP42"
   },
   "source": [
    "**French Data:** Test and Training"
   ]
  },
  {
   "cell_type": "code",
   "execution_count": null,
   "metadata": {
    "id": "xXyFVZoljP42"
   },
   "outputs": [],
   "source": [
    "! python /content/CL-TASD-MvP/data/xml_to_txt.py --language \"French\" --phase \"Train\" --overwrite"
   ]
  },
  {
   "cell_type": "code",
   "execution_count": null,
   "metadata": {
    "id": "t6T6kz6IjP42"
   },
   "outputs": [],
   "source": [
    "! python /content/CL-TASD-MvP/data/xml_to_txt.py --language \"French\" --phase \"Test\" --overwrite"
   ]
  },
  {
   "cell_type": "markdown",
   "metadata": {
    "id": "hJNTD-hqjUcL"
   },
   "source": [
    "**Spanish Data:** Test and Training"
   ]
  },
  {
   "cell_type": "code",
   "execution_count": null,
   "metadata": {
    "id": "Ax557DHLjUcL"
   },
   "outputs": [],
   "source": [
    "! python /content/CL-TASD-MvP/data/xml_to_txt.py --language \"Spanish\" --phase \"Train\" --overwrite"
   ]
  },
  {
   "cell_type": "code",
   "execution_count": null,
   "metadata": {
    "id": "iJiGHu4VjUcL"
   },
   "outputs": [],
   "source": [
    "! python /content/CL-TASD-MvP/data/xml_to_txt.py --language \"Spanish\" --phase \"Test\" --overwrite"
   ]
  },
  {
   "cell_type": "markdown",
   "metadata": {
    "id": "CzMoPC0FjYp1"
   },
   "source": [
    "**Dutch Data:** Test and Training"
   ]
  },
  {
   "cell_type": "code",
   "execution_count": null,
   "metadata": {
    "id": "t3uHIvhcjYp2"
   },
   "outputs": [],
   "source": [
    "! python /content/CL-TASD-MvP/data/xml_to_txt.py --language \"Dutch\" --phase \"Train\" --overwrite"
   ]
  },
  {
   "cell_type": "code",
   "execution_count": null,
   "metadata": {
    "id": "tR3KR31WjYp2"
   },
   "outputs": [],
   "source": [
    "! python /content/CL-TASD-MvP/data/xml_to_txt.py --language \"Dutch\" --phase \"Test\" --overwrite"
   ]
  },
  {
   "cell_type": "markdown",
   "metadata": {
    "id": "IH_6xEfUjeUD"
   },
   "source": [
    "**Turkish Data:** Test and Training"
   ]
  },
  {
   "cell_type": "code",
   "execution_count": null,
   "metadata": {
    "id": "v4HMS_z5jeUD"
   },
   "outputs": [],
   "source": [
    "! python /content/CL-TASD-MvP/data/xml_to_txt.py --language \"Turkish\" --phase \"Train\" --overwrite"
   ]
  },
  {
   "cell_type": "code",
   "execution_count": null,
   "metadata": {
    "id": "3XeVjtifjeUE"
   },
   "outputs": [],
   "source": [
    "! python /content/CL-TASD-MvP/data/xml_to_txt.py --language \"Turkish\" --phase \"Test\" --overwrite"
   ]
  },
  {
   "cell_type": "markdown",
   "metadata": {
    "id": "8kG63qQQg1W8"
   },
   "source": [
    "###**Extract Information From .txt Files**"
   ]
  },
  {
   "cell_type": "markdown",
   "metadata": {
    "id": "1NFiWrO_g-SQ"
   },
   "source": [
    "Extracts all the information from the text files, makes them usable and dumps them into .json files. Also filters all instances which have empty labels attached to them."
   ]
  },
  {
   "cell_type": "markdown",
   "metadata": {
    "id": "m721-wWthNIE"
   },
   "source": [
    "**SemEval-2016:** Conversion and Extraction"
   ]
  },
  {
   "cell_type": "code",
   "execution_count": null,
   "metadata": {
    "id": "1nvG8GjKhV8J"
   },
   "outputs": [],
   "source": [
    "! python /content/CL-TASD-MvP/data/basic_data_read.py --language \"English\" --phase \"Train\" --dataset \"SemEval16\" --overwrite\n",
    "! python /content/CL-TASD-MvP/data/basic_data_read.py --language \"English\" --phase \"Test\" --dataset \"SemEval16\" --overwrite\n",
    "! python /content/CL-TASD-MvP/data/basic_data_read.py --language \"English\" --phase \"Dev\" --dataset \"SemEval16\" --overwrite"
   ]
  },
  {
   "cell_type": "code",
   "execution_count": null,
   "metadata": {
    "id": "EqbcGlYokRLt"
   },
   "outputs": [],
   "source": [
    "! python /content/CL-TASD-MvP/data/basic_data_read.py --language \"Spanish\" --phase \"Train\" --dataset \"SemEval16\" --overwrite\n",
    "! python /content/CL-TASD-MvP/data/basic_data_read.py --language \"Spanish\" --phase \"Test\" --dataset \"SemEval16\" --overwrite\n",
    "! python /content/CL-TASD-MvP/data/basic_data_read.py --language \"Spanish\" --phase \"Dev\" --dataset \"SemEval16\" --overwrite"
   ]
  },
  {
   "cell_type": "code",
   "execution_count": null,
   "metadata": {
    "id": "4zlTzl00kZQx"
   },
   "outputs": [],
   "source": [
    "! python /content/CL-TASD-MvP/data/basic_data_read.py --language \"French\" --phase \"Train\" --dataset \"SemEval16\" --overwrite\n",
    "! python /content/CL-TASD-MvP/data/basic_data_read.py --language \"French\" --phase \"Test\" --dataset \"SemEval16\" --overwrite\n",
    "! python /content/CL-TASD-MvP/data/basic_data_read.py --language \"French\" --phase \"Dev\" --dataset \"SemEval16\" --overwrite"
   ]
  },
  {
   "cell_type": "code",
   "execution_count": null,
   "metadata": {
    "id": "W08wy-rZkc18"
   },
   "outputs": [],
   "source": [
    "! python /content/CL-TASD-MvP/data/basic_data_read.py --language \"Dutch\" --phase \"Train\" --dataset \"SemEval16\" --overwrite\n",
    "! python /content/CL-TASD-MvP/data/basic_data_read.py --language \"Dutch\" --phase \"Test\" --dataset \"SemEval16\" --overwrite\n",
    "! python /content/CL-TASD-MvP/data/basic_data_read.py --language \"Dutch\" --phase \"Dev\" --dataset \"SemEval16\" --overwrite"
   ]
  },
  {
   "cell_type": "code",
   "execution_count": null,
   "metadata": {
    "id": "l_hNnKiGkgjN"
   },
   "outputs": [],
   "source": [
    "! python /content/CL-TASD-MvP/data/basic_data_read.py --language \"Turkish\" --phase \"Train\" --dataset \"SemEval16\" --overwrite\n",
    "! python /content/CL-TASD-MvP/data/basic_data_read.py --language \"Turkish\" --phase \"Test\" --dataset \"SemEval16\" --overwrite\n",
    "! python /content/CL-TASD-MvP/data/basic_data_read.py --language \"Turkish\" --phase \"Dev\" --dataset \"SemEval16\" --overwrite"
   ]
  },
  {
   "cell_type": "markdown",
   "metadata": {
    "id": "AphSp3FMlYQD"
   },
   "source": [
    "**M-ABSA:** Conversion and Extraction"
   ]
  },
  {
   "cell_type": "code",
   "execution_count": null,
   "metadata": {
    "id": "lJfp_4Sold8U"
   },
   "outputs": [],
   "source": [
    "! python /content/CL-TASD-MvP/data/basic_data_read.py --language \"English\" --phase \"Train\" --dataset \"MABSA\" --overwrite\n",
    "! python /content/CL-TASD-MvP/data/basic_data_read.py --language \"English\" --phase \"Test\" --dataset \"MABSA\" --overwrite\n",
    "! python /content/CL-TASD-MvP/data/basic_data_read.py --language \"English\" --phase \"Dev\" --dataset \"MABSA\" --overwrite"
   ]
  },
  {
   "cell_type": "code",
   "execution_count": null,
   "metadata": {
    "id": "NO-whn9wlnmA"
   },
   "outputs": [],
   "source": [
    "! python /content/CL-TASD-MvP/data/basic_data_read.py --language \"Spanish\" --phase \"Train\" --dataset \"MABSA\" --overwrite\n",
    "! python /content/CL-TASD-MvP/data/basic_data_read.py --language \"Spanish\" --phase \"Test\" --dataset \"MABSA\" --overwrite\n",
    "! python /content/CL-TASD-MvP/data/basic_data_read.py --language \"Spanish\" --phase \"Dev\" --dataset \"MABSA\" --overwrite"
   ]
  },
  {
   "cell_type": "code",
   "execution_count": null,
   "metadata": {
    "id": "LCfiQkX2pvgf"
   },
   "outputs": [],
   "source": [
    "! python /content/CL-TASD-MvP/data/basic_data_read.py --language \"French\" --phase \"Train\" --dataset \"MABSA\" --overwrite\n",
    "! python /content/CL-TASD-MvP/data/basic_data_read.py --language \"French\" --phase \"Test\" --dataset \"MABSA\" --overwrite\n",
    "! python /content/CL-TASD-MvP/data/basic_data_read.py --language \"French\" --phase \"Dev\" --dataset \"MABSA\" --overwrite"
   ]
  },
  {
   "cell_type": "code",
   "execution_count": null,
   "metadata": {
    "id": "q4gXsd61pyN4"
   },
   "outputs": [],
   "source": [
    "! python /content/CL-TASD-MvP/data/basic_data_read.py --language \"Dutch\" --phase \"Train\" --dataset \"MABSA\" --overwrite\n",
    "! python /content/CL-TASD-MvP/data/basic_data_read.py --language \"Dutch\" --phase \"Test\" --dataset \"MABSA\" --overwrite\n",
    "! python /content/CL-TASD-MvP/data/basic_data_read.py --language \"Dutch\" --phase \"Dev\" --dataset \"MABSA\" --overwrite"
   ]
  },
  {
   "cell_type": "code",
   "execution_count": null,
   "metadata": {
    "id": "YqYdrMWdp0wc"
   },
   "outputs": [],
   "source": [
    "! python /content/CL-TASD-MvP/data/basic_data_read.py --language \"Turkish\" --phase \"Train\" --dataset \"MABSA\" --overwrite\n",
    "! python /content/CL-TASD-MvP/data/basic_data_read.py --language \"Turkish\" --phase \"Test\" --dataset \"MABSA\" --overwrite\n",
    "! python /content/CL-TASD-MvP/data/basic_data_read.py --language \"Turkish\" --phase \"Dev\" --dataset \"MABSA\" --overwrite"
   ]
  },
  {
   "cell_type": "code",
   "execution_count": null,
   "metadata": {
    "id": "Qtg8MVZWsIrI"
   },
   "outputs": [],
   "source": [
    "! python /content/CL-TASD-MvP/data/basic_data_read.py --language \"Croatian\" --phase \"Train\" --dataset \"MABSA\" --overwrite\n",
    "! python /content/CL-TASD-MvP/data/basic_data_read.py --language \"Croatian\" --phase \"Test\" --dataset \"MABSA\" --overwrite\n",
    "! python /content/CL-TASD-MvP/data/basic_data_read.py --language \"Croatian\" --phase \"Dev\" --dataset \"MABSA\" --overwrite"
   ]
  },
  {
   "cell_type": "code",
   "execution_count": null,
   "metadata": {
    "id": "5_wdbaYisvx2"
   },
   "outputs": [],
   "source": [
    "! python /content/CL-TASD-MvP/data/basic_data_read.py --language \"Danish\" --phase \"Train\" --dataset \"MABSA\" --overwrite\n",
    "! python /content/CL-TASD-MvP/data/basic_data_read.py --language \"Danish\" --phase \"Test\" --dataset \"MABSA\" --overwrite\n",
    "! python /content/CL-TASD-MvP/data/basic_data_read.py --language \"Danish\" --phase \"Dev\" --dataset \"MABSA\" --overwrite"
   ]
  },
  {
   "cell_type": "code",
   "execution_count": null,
   "metadata": {
    "id": "d3plTfMTsx4P"
   },
   "outputs": [],
   "source": [
    "! python /content/CL-TASD-MvP/data/basic_data_read.py --language \"German\" --phase \"Train\" --dataset \"MABSA\" --overwrite\n",
    "! python /content/CL-TASD-MvP/data/basic_data_read.py --language \"German\" --phase \"Test\" --dataset \"MABSA\" --overwrite\n",
    "! python /content/CL-TASD-MvP/data/basic_data_read.py --language \"German\" --phase \"Dev\" --dataset \"MABSA\" --overwrite"
   ]
  },
  {
   "cell_type": "code",
   "execution_count": null,
   "metadata": {
    "id": "jgtADCWCs-rY"
   },
   "outputs": [],
   "source": [
    "! python /content/CL-TASD-MvP/data/basic_data_read.py --language \"Indonesian\" --phase \"Train\" --dataset \"MABSA\" --overwrite\n",
    "! python /content/CL-TASD-MvP/data/basic_data_read.py --language \"Indonesian\" --phase \"Test\" --dataset \"MABSA\" --overwrite\n",
    "! python /content/CL-TASD-MvP/data/basic_data_read.py --language \"Indonesian\" --phase \"Dev\" --dataset \"MABSA\" --overwrite"
   ]
  },
  {
   "cell_type": "code",
   "execution_count": null,
   "metadata": {
    "id": "ieABmaOWtNx6"
   },
   "outputs": [],
   "source": [
    "! python /content/CL-TASD-MvP/data/basic_data_read.py --language \"Portuguese\" --phase \"Train\" --dataset \"MABSA\" --overwrite\n",
    "! python /content/CL-TASD-MvP/data/basic_data_read.py --language \"Portuguese\" --phase \"Test\" --dataset \"MABSA\" --overwrite\n",
    "! python /content/CL-TASD-MvP/data/basic_data_read.py --language \"Portuguese\" --phase \"Dev\" --dataset \"MABSA\" --overwrite"
   ]
  },
  {
   "cell_type": "code",
   "execution_count": null,
   "metadata": {
    "id": "FQCopOZxtUi4"
   },
   "outputs": [],
   "source": [
    "! python /content/CL-TASD-MvP/data/basic_data_read.py --language \"Slovak\" --phase \"Train\" --dataset \"MABSA\" --overwrite\n",
    "! python /content/CL-TASD-MvP/data/basic_data_read.py --language \"Slovak\" --phase \"Test\" --dataset \"MABSA\" --overwrite\n",
    "! python /content/CL-TASD-MvP/data/basic_data_read.py --language \"Slovak\" --phase \"Dev\" --dataset \"MABSA\" --overwrite"
   ]
  },
  {
   "cell_type": "code",
   "execution_count": null,
   "metadata": {
    "id": "x5fZMRastbEx"
   },
   "outputs": [],
   "source": [
    "! python /content/CL-TASD-MvP/data/basic_data_read.py --language \"Swahili\" --phase \"Train\" --dataset \"MABSA\" --overwrite\n",
    "! python /content/CL-TASD-MvP/data/basic_data_read.py --language \"Swahili\" --phase \"Test\" --dataset \"MABSA\" --overwrite\n",
    "! python /content/CL-TASD-MvP/data/basic_data_read.py --language \"Swahili\" --phase \"Dev\" --dataset \"MABSA\" --overwrite"
   ]
  },
  {
   "cell_type": "code",
   "execution_count": null,
   "metadata": {
    "id": "tZ6CTN9ztdzS"
   },
   "outputs": [],
   "source": [
    "! python /content/CL-TASD-MvP/data/basic_data_read.py --language \"Swedish\" --phase \"Train\" --dataset \"MABSA\" --overwrite\n",
    "! python /content/CL-TASD-MvP/data/basic_data_read.py --language \"Swedish\" --phase \"Test\" --dataset \"MABSA\" --overwrite\n",
    "! python /content/CL-TASD-MvP/data/basic_data_read.py --language \"Swedish\" --phase \"Dev\" --dataset \"MABSA\" --overwrite"
   ]
  },
  {
   "cell_type": "code",
   "execution_count": null,
   "metadata": {
    "id": "fXvJ-FAntkM4"
   },
   "outputs": [],
   "source": [
    "! python /content/CL-TASD-MvP/data/basic_data_read.py --language \"Vietnamese\" --phase \"Train\" --dataset \"MABSA\" --overwrite\n",
    "! python /content/CL-TASD-MvP/data/basic_data_read.py --language \"Vietnamese\" --phase \"Test\" --dataset \"MABSA\" --overwrite\n",
    "! python /content/CL-TASD-MvP/data/basic_data_read.py --language \"Vietnamese\" --phase \"Dev\" --dataset \"MABSA\" --overwrite"
   ]
  },
  {
   "cell_type": "markdown",
   "metadata": {
    "id": "Gyys1GMPU6EE"
   },
   "source": [
    "###**Create Multilingual Datasets**"
   ]
  },
  {
   "cell_type": "markdown",
   "metadata": {
    "id": "OoKLRylbVEk1"
   },
   "source": [
    "Creates multilingual train and dev sets that can be used for models."
   ]
  },
  {
   "cell_type": "code",
   "execution_count": null,
   "metadata": {
    "id": "XlZBzOv8VMY4"
   },
   "outputs": [],
   "source": [
    "! python /content/CL-TASD-MvP/data/create_multilingual.py --phase \"Train\" --dataset \"SemEval16\"  --overwrite\n",
    "! python /content/CL-TASD-MvP/data/create_multilingual.py --phase \"Dev\" --dataset \"SemEval16\"  --overwrite"
   ]
  },
  {
   "cell_type": "code",
   "execution_count": null,
   "metadata": {
    "id": "CxPoy5t3Yja-"
   },
   "outputs": [],
   "source": [
    "! python /content/CL-TASD-MvP/data/create_multilingual.py --phase \"Train\" --dataset \"MABSA\"  --overwrite\n",
    "! python /content/CL-TASD-MvP/data/create_multilingual.py --phase \"Dev\" --dataset \"MABSA\"  --overwrite"
   ]
  },
  {
   "cell_type": "code",
   "execution_count": null,
   "metadata": {
    "id": "v46OIHXnkQTB"
   },
   "outputs": [],
   "source": [
    "! python /content/CL-TASD-MvP/data/create_multilingual.py --phase \"Train\" --dataset \"MABSA\" --overwrite --size_limit\n",
    "! python /content/CL-TASD-MvP/data/create_multilingual.py --phase \"Dev\" --dataset \"MABSA\"  --overwrite --size_limit"
   ]
  },
  {
   "cell_type": "code",
   "execution_count": null,
   "metadata": {
    "id": "HRALbR7UYmoR"
   },
   "outputs": [],
   "source": [
    "! python /content/CL-TASD-MvP/data/create_multilingual.py --phase \"Train\" --dataset \"MABSA\" --overwrite --full_data\n",
    "! python /content/CL-TASD-MvP/data/create_multilingual.py --phase \"Dev\" --dataset \"MABSA\"  --overwrite --full_data"
   ]
  },
  {
   "cell_type": "code",
   "execution_count": null,
   "metadata": {
    "id": "Dhh4nnGZj4Co"
   },
   "outputs": [],
   "source": [
    "! python /content/CL-TASD-MvP/data/create_multilingual.py --phase \"Train\" --dataset \"MABSA\" --overwrite --full_data --size_limit\n",
    "! python /content/CL-TASD-MvP/data/create_multilingual.py --phase \"Dev\" --dataset \"MABSA\"  --overwrite --full_data --size_limit"
   ]
  },
  {
   "cell_type": "markdown",
   "metadata": {
    "id": "ozt1Ufufe75N"
   },
   "source": [
    "###**Create LLM Finetuning Datasets**"
   ]
  },
  {
   "cell_type": "markdown",
   "metadata": {
    "id": "DcpJpndBe75O"
   },
   "source": [
    "Creates training and dev sets that can be used for model finetuning."
   ]
  },
  {
   "cell_type": "markdown",
   "metadata": {
    "id": "fRTaoQT8lruJ"
   },
   "source": [
    "**SemEval-2016:**"
   ]
  },
  {
   "cell_type": "code",
   "execution_count": null,
   "metadata": {
    "id": "Z1-n4r1RehYU"
   },
   "outputs": [],
   "source": [
    "! python /content/CL-TASD-MvP/data/create_llm_data.py --phase \"Train\" --language \"English\" --dataset \"SemEval16\" --overwrite\n",
    "! python /content/CL-TASD-MvP/data/create_llm_data.py --phase \"Dev\" --language \"English\" --dataset \"SemEval16\" --overwrite"
   ]
  },
  {
   "cell_type": "code",
   "execution_count": null,
   "metadata": {
    "id": "FccAA9c1mK_1"
   },
   "outputs": [],
   "source": [
    "! python /content/CL-TASD-MvP/data/create_llm_data.py --phase \"Train\" --language \"French\" --dataset \"SemEval16\" --overwrite\n",
    "! python /content/CL-TASD-MvP/data/create_llm_data.py --phase \"Dev\" --language \"French\" --dataset \"SemEval16\" --overwrite"
   ]
  },
  {
   "cell_type": "code",
   "execution_count": null,
   "metadata": {
    "id": "PHQW4z83mYsF"
   },
   "outputs": [],
   "source": [
    "! python /content/CL-TASD-MvP/data/create_llm_data.py --phase \"Train\" --language \"Spanish\" --dataset \"SemEval16\" --overwrite\n",
    "! python /content/CL-TASD-MvP/data/create_llm_data.py --phase \"Dev\" --language \"Spanish\" --dataset \"SemEval16\" --overwrite"
   ]
  },
  {
   "cell_type": "code",
   "execution_count": null,
   "metadata": {
    "id": "-NQQ8buhmYsG"
   },
   "outputs": [],
   "source": [
    "! python /content/CL-TASD-MvP/data/create_llm_data.py --phase \"Train\" --language \"Dutch\" --dataset \"SemEval16\" --overwrite\n",
    "! python /content/CL-TASD-MvP/data/create_llm_data.py --phase \"Dev\" --language \"Dutch\" --dataset \"SemEval16\" --overwrite"
   ]
  },
  {
   "cell_type": "code",
   "execution_count": null,
   "metadata": {
    "id": "OZpRsCl1mexL"
   },
   "outputs": [],
   "source": [
    "! python /content/CL-TASD-MvP/data/create_llm_data.py --phase \"Train\" --language \"Turkish\" --dataset \"SemEval16\" --overwrite\n",
    "! python /content/CL-TASD-MvP/data/create_llm_data.py --phase \"Dev\" --language \"Turkish\" --dataset \"SemEval16\" --overwrite"
   ]
  },
  {
   "cell_type": "code",
   "execution_count": null,
   "metadata": {
    "id": "GL_h77CCmexM"
   },
   "outputs": [],
   "source": [
    "! python /content/CL-TASD-MvP/data/create_llm_data.py --phase \"Train\" --language \"Multilingual\" --dataset \"SemEval16\" --overwrite\n",
    "! python /content/CL-TASD-MvP/data/create_llm_data.py --phase \"Dev\" --language \"Multilingual\" --dataset \"SemEval16\" --overwrite"
   ]
  },
  {
   "cell_type": "markdown",
   "metadata": {
    "id": "lBeyTTm9l5oK"
   },
   "source": [
    "**MABSA:**"
   ]
  },
  {
   "cell_type": "code",
   "execution_count": null,
   "metadata": {
    "id": "SYhfmJ2VlwMc"
   },
   "outputs": [],
   "source": [
    "! python /content/CL-TASD-MvP/data/create_llm_data.py --phase \"Train\" --language \"English\" --dataset \"MABSA\" --overwrite\n",
    "! python /content/CL-TASD-MvP/data/create_llm_data.py --phase \"Dev\" --language \"English\" --dataset \"MABSA\" --overwrite"
   ]
  },
  {
   "cell_type": "code",
   "execution_count": null,
   "metadata": {
    "id": "9c79BPZAmQBs"
   },
   "outputs": [],
   "source": [
    "! python /content/CL-TASD-MvP/data/create_llm_data.py --phase \"Train\" --language \"French\" --dataset \"MABSA\" --overwrite\n",
    "! python /content/CL-TASD-MvP/data/create_llm_data.py --phase \"Dev\" --language \"French\" --dataset \"MABSA\" --overwrite"
   ]
  },
  {
   "cell_type": "code",
   "execution_count": null,
   "metadata": {
    "id": "leNi3ei5moCx"
   },
   "outputs": [],
   "source": [
    "! python /content/CL-TASD-MvP/data/create_llm_data.py --phase \"Train\" --language \"Spanish\" --dataset \"MABSA\" --overwrite\n",
    "! python /content/CL-TASD-MvP/data/create_llm_data.py --phase \"Dev\" --language \"Spanish\" --dataset \"MABSA\" --overwrite"
   ]
  },
  {
   "cell_type": "code",
   "execution_count": null,
   "metadata": {
    "id": "NR7M0j5-moCx"
   },
   "outputs": [],
   "source": [
    "! python /content/CL-TASD-MvP/data/create_llm_data.py --phase \"Train\" --language \"Dutch\" --dataset \"MABSA\" --overwrite\n",
    "! python /content/CL-TASD-MvP/data/create_llm_data.py --phase \"Dev\" --language \"Dutch\" --dataset \"MABSA\" --overwrite"
   ]
  },
  {
   "cell_type": "code",
   "execution_count": null,
   "metadata": {
    "id": "snigqRTHmoCx"
   },
   "outputs": [],
   "source": [
    "! python /content/CL-TASD-MvP/data/create_llm_data.py --phase \"Train\" --language \"Turkish\" --dataset \"MABSA\" --overwrite\n",
    "! python /content/CL-TASD-MvP/data/create_llm_data.py --phase \"Dev\" --language \"Turkish\" --dataset \"MABSA\" --overwrite"
   ]
  },
  {
   "cell_type": "code",
   "execution_count": null,
   "metadata": {
    "id": "dyjBzeWQmoCy"
   },
   "outputs": [],
   "source": [
    "! python /content/CL-TASD-MvP/data/create_llm_data.py --phase \"Train\" --language \"Multilingual_Small\" --dataset \"MABSA\" --overwrite\n",
    "! python /content/CL-TASD-MvP/data/create_llm_data.py --phase \"Dev\" --language \"Multilingual_Small\" --dataset \"MABSA\" --overwrite"
   ]
  },
  {
   "cell_type": "code",
   "execution_count": null,
   "metadata": {
    "id": "HiFmAeWFCFSo"
   },
   "outputs": [],
   "source": [
    "! python /content/CL-TASD-MvP/data/create_llm_data.py --phase \"Train\" --language \"Multilingual_Small_Limited\" --dataset \"MABSA\" --overwrite\n",
    "! python /content/CL-TASD-MvP/data/create_llm_data.py --phase \"Dev\" --language \"Multilingual_Small_Limited\" --dataset \"MABSA\" --overwrite"
   ]
  },
  {
   "cell_type": "markdown",
   "metadata": {
    "id": "b661CV5kN9V4"
   },
   "source": [
    "###**Combine Results**"
   ]
  },
  {
   "cell_type": "markdown",
   "metadata": {
    "id": "lJXJJkAAOHsq"
   },
   "source": [
    "Used to combine results into a useful table."
   ]
  },
  {
   "cell_type": "code",
   "execution_count": null,
   "metadata": {
    "id": "zSnoWnIyOjhw"
   },
   "outputs": [],
   "source": [
    "! python /content/CL-TASD-MvP/data/results_collation.py --dataset 'SemEval16'--full_model --last_5 --best_ckpt --english --multilingual"
   ]
  },
  {
   "cell_type": "code",
   "execution_count": null,
   "metadata": {
    "id": "XgqN5DvhWmxt"
   },
   "outputs": [],
   "source": [
    "! python /content/CL-TASD-MvP/data/results_collation.py --dataset 'MABSA' --full_model --last_5 --best_ckpt --english --multilingual_small --multilingual_small_limited"
   ]
  },
  {
   "cell_type": "code",
   "execution_count": null,
   "metadata": {
    "id": "KRKNJbVkErbC"
   },
   "outputs": [],
   "source": [
    "! python /content/CL-TASD-MvP/data/results_collation.py --dataset 'SemEval16' --llm"
   ]
  },
  {
   "cell_type": "code",
   "execution_count": null,
   "metadata": {
    "id": "ep5Amhj7ErG8"
   },
   "outputs": [],
   "source": [
    "! python /content/CL-TASD-MvP/data/results_collation.py --dataset 'MABSA' --llm"
   ]
  }
 ],
 "metadata": {
  "colab": {
   "authorship_tag": "ABX9TyOB4LI/VIveDcQa+OCoCPWs",
   "private_outputs": true,
   "provenance": []
  },
  "kernelspec": {
   "display_name": "Python 3",
   "name": "python3"
  },
  "language_info": {
   "name": "python"
  }
 },
 "nbformat": 4,
 "nbformat_minor": 0
}
