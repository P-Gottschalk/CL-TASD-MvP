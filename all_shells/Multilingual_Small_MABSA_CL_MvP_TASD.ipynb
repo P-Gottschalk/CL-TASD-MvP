{
 "cells": [
  {
   "cell_type": "markdown",
   "metadata": {
    "id": "NlSm-XoyKuvo"
   },
   "source": [
    "### **Notebook Setup**"
   ]
  },
  {
   "cell_type": "markdown",
   "metadata": {
    "id": "IEAxUJ-S2dJB"
   },
   "source": [
    "**Mount Prep**"
   ]
  },
  {
   "cell_type": "code",
   "execution_count": null,
   "metadata": {
    "colab": {
     "base_uri": "https://localhost:8080/"
    },
    "executionInfo": {
     "elapsed": 18359,
     "status": "ok",
     "timestamp": 1754138712113,
     "user": {
      "displayName": "Philipp Gottschalk",
      "userId": "02502242344906393626"
     },
     "user_tz": -120
    },
    "id": "tZlNusdLTV0v",
    "outputId": "35a8acf6-078f-4592-be13-b1e2126740d4"
   },
   "outputs": [],
   "source": [
    "from google.colab import drive\n",
    "drive.mount(\"/content/drive/\")"
   ]
  },
  {
   "cell_type": "markdown",
   "metadata": {
    "id": "vkx1Y9Qj5G_1"
   },
   "source": [
    "**Package Installation:**"
   ]
  },
  {
   "cell_type": "code",
   "execution_count": null,
   "metadata": {
    "colab": {
     "base_uri": "https://localhost:8080/"
    },
    "collapsed": true,
    "executionInfo": {
     "elapsed": 104214,
     "status": "ok",
     "timestamp": 1754138816333,
     "user": {
      "displayName": "Philipp Gottschalk",
      "userId": "02502242344906393626"
     },
     "user_tz": -120
    },
    "id": "g73H7C4N_aUN",
    "outputId": "a0f77ff6-fd25-47d5-da46-fb412b112fb5"
   },
   "outputs": [],
   "source": [
    "! pip install transformers==4.53.2\n",
    "! pip install torch\n",
    "! pip install --upgrade pytorch-lightning\n",
    "! pip install sentencepiece\n",
    "! pip install parse\n",
    "! pip install --upgrade huggingface_hub"
   ]
  },
  {
   "cell_type": "markdown",
   "metadata": {
    "id": "nu6jBbPL2q4F"
   },
   "source": [
    "**GitHub Cloning:** 90-day access token is used"
   ]
  },
  {
   "cell_type": "code",
   "execution_count": null,
   "metadata": {
    "id": "C-qbm4XreAUf"
   },
   "outputs": [],
   "source": [
    "! rm -r CL-TASD-MvP #Remove GitHub whilst in session"
   ]
  },
  {
   "cell_type": "code",
   "execution_count": null,
   "metadata": {
    "colab": {
     "base_uri": "https://localhost:8080/"
    },
    "executionInfo": {
     "elapsed": 2111,
     "status": "ok",
     "timestamp": 1754138818452,
     "user": {
      "displayName": "Philipp Gottschalk",
      "userId": "02502242344906393626"
     },
     "user_tz": -120
    },
    "id": "g9Ovr3oPvWD7",
    "outputId": "ad1d3a9f-b69c-41bb-f7f2-7a059b0c2412"
   },
   "outputs": [],
   "source": [
    "!git clone https://github.com/P-Gottschalk/CL-TASD-MvP.git"
   ]
  },
  {
   "cell_type": "markdown",
   "metadata": {
    "id": "IVyxSxqrCaiy"
   },
   "source": [
    "### **Model Training**"
   ]
  },
  {
   "cell_type": "markdown",
   "metadata": {
    "id": "zaVov8u3EXa3"
   },
   "source": [
    "Train the full model: MVP together with contrastive learning"
   ]
  },
  {
   "cell_type": "code",
   "execution_count": null,
   "metadata": {
    "colab": {
     "background_save": true
    },
    "collapsed": true,
    "id": "mSFVoznWwKWa"
   },
   "outputs": [],
   "source": [
    "! python /content/CL-TASD-MvP/model/main_train.py --task \"cl_mvp_tasd\" --num_beams \"1\"  --top_k 5 --do_contr_sent --do_contr_aspect --language \"Multilingual_Small\" --model_prefix \"Multilingual_Small_MABSA\" --dataset \"MABSA\" --do_train --train_batch_size 16 --eval_batch_size 64 --num_train_epochs 20 --cont_temp 0.25 --cont_loss 0.05 --weight_decay 0.1 --warmup_steps 0.1"
   ]
  },
  {
   "cell_type": "markdown",
   "metadata": {
    "id": "UU1ugT5NEnON"
   },
   "source": [
    "Train only MVP: no contrastive learning."
   ]
  },
  {
   "cell_type": "code",
   "execution_count": null,
   "metadata": {
    "colab": {
     "background_save": true
    },
    "collapsed": true,
    "id": "O0KXJwGxEnOO"
   },
   "outputs": [],
   "source": [
    "! python /content/CL-TASD-MvP/model/main_train.py --task \"cl_mvp_tasd\" --num_beams \"1\"  --top_k 5 --language \"Multilingual_Small\" --model_prefix \"Multilingual_Small_MABSA\" --dataset \"MABSA\" --do_train --train_batch_size 16 --eval_batch_size 64 --num_train_epochs 20 --cont_temp 0.25 --cont_loss 0.05 --weight_decay 0.1 --warmup_steps 0.1"
   ]
  },
  {
   "cell_type": "markdown",
   "metadata": {
    "id": "7jXsC8f1E0Md"
   },
   "source": [
    "Train only contrastive learning: no MVP"
   ]
  },
  {
   "cell_type": "code",
   "execution_count": null,
   "metadata": {
    "colab": {
     "background_save": true
    },
    "collapsed": true,
    "id": "40Z09BttE0Md"
   },
   "outputs": [],
   "source": [
    "! python /content/CL-TASD-MvP/model/main_train.py --task \"cl_mvp_tasd\" --num_beams \"1\"  --top_k 1 --do_contr_sent --do_contr_aspect --language \"Multilingual_Small\" --model_prefix \"Multilingual_Small_MABSA\" --dataset \"MABSA\" --do_train --train_batch_size 16 --eval_batch_size 64 --num_train_epochs 20 --cont_temp 0.25 --cont_loss 0.05 --weight_decay 0.1 --warmup_steps 0.1"
   ]
  },
  {
   "cell_type": "markdown",
   "metadata": {
    "id": "zmc_YHq_FQhc"
   },
   "source": [
    "Train base mT5 model"
   ]
  },
  {
   "cell_type": "code",
   "execution_count": null,
   "metadata": {
    "colab": {
     "background_save": true
    },
    "id": "yHsPy3VeFQhc"
   },
   "outputs": [],
   "source": [
    "! python /content/CL-TASD-MvP/model/main_train.py --task \"cl_mvp_tasd\" --num_beams \"1\"  --top_k 1 --language \"Multilingual_Small\" --model_prefix \"Multilingual_Small_MABSA\" --dataset \"MABSA\" --do_train --train_batch_size 16 --eval_batch_size 64 --num_train_epochs 20 --cont_temp 0.25 --cont_loss 0.05 --weight_decay 0.1 --warmup_steps 0.1"
   ]
  },
  {
   "cell_type": "markdown",
   "metadata": {
    "id": "0ZhyefzDFdCm"
   },
   "source": [
    "### **Model Evaluation: English**\n"
   ]
  },
  {
   "cell_type": "markdown",
   "metadata": {
    "id": "kFQ_UfkbF8rH"
   },
   "source": [
    "#### **Evaluation Full Model**"
   ]
  },
  {
   "cell_type": "markdown",
   "metadata": {
    "id": "0P9lfzMGFl1h"
   },
   "source": [
    "Evaluation on final training epoch:\n"
   ]
  },
  {
   "cell_type": "code",
   "execution_count": null,
   "metadata": {
    "colab": {
     "background_save": true
    },
    "id": "XdsrJ9A4GSs6"
   },
   "outputs": [],
   "source": [
    "! python /content/CL-TASD-MvP/model/main_train.py --task \"cl_mvp_tasd\" --num_beams \"1\" --dataset \"MABSA\" --model_prefix \"Multilingual_Small_MABSA\" --language \"Multilingual_Small\" --test_language \"English\"   --top_k 5 --do_contr_sent --do_contr_aspect --num_train_epochs 20 --do_inference --train_batch_size 16 --eval_batch_size 64 --weight_decay 0.1 --warmup_steps 0.1 --model_name_or_path \"/content/drive/MyDrive/data/models/MABSAIcl_mvp_tasdIgoogle/mt5-largeIbeamsI1IwdI0.1Imax_epochsI20IesI0IaccI1IlrI0.0001Icont_lossI0.05Icont_tempI0.25IseedI42IMultilingual_Small_MABSAI5I0.1IsentIaspect/\""
   ]
  },
  {
   "cell_type": "code",
   "execution_count": null,
   "metadata": {
    "colab": {
     "background_save": true
    },
    "id": "RCvbDp2BAeo1"
   },
   "outputs": [],
   "source": [
    "! python /content/CL-TASD-MvP/model/main_train.py --do_con_dec --task \"cl_mvp_tasd\" --num_beams \"1\" --dataset \"MABSA\" --model_prefix \"Multilingual_Small_MABSA\" --language \"Multilingual_Small\" --test_language \"English\"   --top_k 5 --do_contr_sent --do_contr_aspect --num_train_epochs 20 --do_inference --train_batch_size 16 --eval_batch_size 64 --weight_decay 0.1 --warmup_steps 0.1 --model_name_or_path \"/content/drive/MyDrive/data/models/MABSAIcl_mvp_tasdIgoogle/mt5-largeIbeamsI1IwdI0.1Imax_epochsI20IesI0IaccI1IlrI0.0001Icont_lossI0.05Icont_tempI0.25IseedI42IMultilingual_Small_MABSAI5I0.1IsentIaspect/\""
   ]
  },
  {
   "cell_type": "markdown",
   "metadata": {
    "id": "_TjlYEr6GwdK"
   },
   "source": [
    "Evaluation on best checkpoint of the last 5 training epochs:\n"
   ]
  },
  {
   "cell_type": "code",
   "execution_count": null,
   "metadata": {
    "colab": {
     "background_save": true
    },
    "id": "2LI5C2sRGwdK"
   },
   "outputs": [],
   "source": [
    "! python /content/CL-TASD-MvP/model/main_train.py --task \"cl_mvp_tasd\" --num_beams \"1\" --dataset \"MABSA\" --model_prefix \"Multilingual_Small_MABSA\" --language \"Multilingual_Small\" --test_language \"English\"   --top_k 5 --do_contr_sent --do_contr_aspect --num_train_epochs 20 --do_inference_best_5 --train_batch_size 16 --eval_batch_size 64 --weight_decay 0.1 --warmup_steps 0.1 --model_name_or_path \"/content/drive/MyDrive/data/models/MABSAIcl_mvp_tasdIgoogle/mt5-largeIbeamsI1IwdI0.1Imax_epochsI20IesI0IaccI1IlrI0.0001Icont_lossI0.05Icont_tempI0.25IseedI42IMultilingual_Small_MABSAI5I0.1IsentIaspect/\""
   ]
  },
  {
   "cell_type": "code",
   "execution_count": null,
   "metadata": {
    "colab": {
     "background_save": true
    },
    "id": "w7JNEDvtGwdK"
   },
   "outputs": [],
   "source": [
    "! python /content/CL-TASD-MvP/model/main_train.py --do_con_dec --task \"cl_mvp_tasd\" --num_beams \"1\" --dataset \"MABSA\" --model_prefix \"Multilingual_Small_MABSA\" --language \"Multilingual_Small\" --test_language \"English\"   --top_k 5 --do_contr_sent --do_contr_aspect --num_train_epochs 20 --do_inference_best_5 --train_batch_size 16 --eval_batch_size 64 --weight_decay 0.1 --warmup_steps 0.1 --model_name_or_path \"/content/drive/MyDrive/data/models/MABSAIcl_mvp_tasdIgoogle/mt5-largeIbeamsI1IwdI0.1Imax_epochsI20IesI0IaccI1IlrI0.0001Icont_lossI0.05Icont_tempI0.25IseedI42IMultilingual_Small_MABSAI5I0.1IsentIaspect/\""
   ]
  },
  {
   "cell_type": "markdown",
   "metadata": {
    "id": "_GvszztNHCzr"
   },
   "source": [
    "Evaluation on best checkpoint:\n"
   ]
  },
  {
   "cell_type": "code",
   "execution_count": null,
   "metadata": {
    "colab": {
     "background_save": true
    },
    "id": "PTxJrMbkHCzr"
   },
   "outputs": [],
   "source": [
    "! python /content/CL-TASD-MvP/model/main_train.py --task \"cl_mvp_tasd\" --num_beams \"1\" --dataset \"MABSA\" --model_prefix \"Multilingual_Small_MABSA\" --language \"Multilingual_Small\" --test_language \"English\"   --top_k 5 --do_contr_sent --do_contr_aspect --num_train_epochs 20 --do_inference_best_ckpt --train_batch_size 16 --eval_batch_size 64 --weight_decay 0.1 --warmup_steps 0.1 --model_name_or_path \"/content/drive/MyDrive/data/models/MABSAIcl_mvp_tasdIgoogle/mt5-largeIbeamsI1IwdI0.1Imax_epochsI20IesI0IaccI1IlrI0.0001Icont_lossI0.05Icont_tempI0.25IseedI42IMultilingual_Small_MABSAI5I0.1IsentIaspect/\""
   ]
  },
  {
   "cell_type": "code",
   "execution_count": null,
   "metadata": {
    "colab": {
     "background_save": true
    },
    "id": "UT7BZQwzHCzr"
   },
   "outputs": [],
   "source": [
    "! python /content/CL-TASD-MvP/model/main_train.py --do_con_dec --task \"cl_mvp_tasd\" --num_beams \"1\" --dataset \"MABSA\" --model_prefix \"Multilingual_Small_MABSA\" --language \"Multilingual_Small\" --test_language \"English\"   --top_k 5 --do_contr_sent --do_contr_aspect --num_train_epochs 20 --do_inference_best_ckpt --train_batch_size 16 --eval_batch_size 64 --weight_decay 0.1 --warmup_steps 0.1 --model_name_or_path \"/content/drive/MyDrive/data/models/MABSAIcl_mvp_tasdIgoogle/mt5-largeIbeamsI1IwdI0.1Imax_epochsI20IesI0IaccI1IlrI0.0001Icont_lossI0.05Icont_tempI0.25IseedI42IMultilingual_Small_MABSAI5I0.1IsentIaspect/\""
   ]
  },
  {
   "cell_type": "markdown",
   "metadata": {
    "id": "4R2SgzkWH47S"
   },
   "source": [
    "#### **Evaluation MVP Only**"
   ]
  },
  {
   "cell_type": "markdown",
   "metadata": {
    "id": "GNQQhChyH47S"
   },
   "source": [
    "Evaluation on final training epoch:\n"
   ]
  },
  {
   "cell_type": "code",
   "execution_count": null,
   "metadata": {
    "colab": {
     "background_save": true
    },
    "id": "qgRmWJiZH47T"
   },
   "outputs": [],
   "source": [
    "! python /content/CL-TASD-MvP/model/main_train.py --task \"cl_mvp_tasd\" --num_beams \"1\" --dataset \"MABSA\" --model_prefix \"Multilingual_Small_MABSA\" --language \"Multilingual_Small\" --test_language \"English\"   --top_k 5 --num_train_epochs 20 --do_inference --train_batch_size 16 --eval_batch_size 64 --weight_decay 0.1 --warmup_steps 0.1 --model_name_or_path \"/content/drive/MyDrive/data/models/MABSAIcl_mvp_tasdIgoogle/mt5-largeIbeamsI1IwdI0.1Imax_epochsI20IesI0IaccI1IlrI0.0001Icont_lossI0.05Icont_tempI0.25IseedI42IMultilingual_Small_MABSAI5I0.1/\""
   ]
  },
  {
   "cell_type": "code",
   "execution_count": null,
   "metadata": {
    "colab": {
     "background_save": true
    },
    "id": "t9uy8bskH47T"
   },
   "outputs": [],
   "source": [
    "! python /content/CL-TASD-MvP/model/main_train.py --do_con_dec --task \"cl_mvp_tasd\" --num_beams \"1\" --dataset \"MABSA\" --model_prefix \"Multilingual_Small_MABSA\" --language \"Multilingual_Small\" --test_language \"English\"   --top_k 5 --num_train_epochs 20 --do_inference --train_batch_size 16 --eval_batch_size 64 --weight_decay 0.1 --warmup_steps 0.1 --model_name_or_path \"/content/drive/MyDrive/data/models/MABSAIcl_mvp_tasdIgoogle/mt5-largeIbeamsI1IwdI0.1Imax_epochsI20IesI0IaccI1IlrI0.0001Icont_lossI0.05Icont_tempI0.25IseedI42IMultilingual_Small_MABSAI5I0.1/\""
   ]
  },
  {
   "cell_type": "markdown",
   "metadata": {
    "id": "8Jjm3GUHH47T"
   },
   "source": [
    "Evaluation on best checkpoint of the last 5 training epochs:\n"
   ]
  },
  {
   "cell_type": "code",
   "execution_count": null,
   "metadata": {
    "colab": {
     "background_save": true
    },
    "id": "3FJPY5aEH47T"
   },
   "outputs": [],
   "source": [
    "! python /content/CL-TASD-MvP/model/main_train.py --task \"cl_mvp_tasd\" --num_beams \"1\" --dataset \"MABSA\" --model_prefix \"Multilingual_Small_MABSA\" --language \"Multilingual_Small\" --test_language \"English\"   --top_k 5 --num_train_epochs 20 --do_inference_best_5 --train_batch_size 16 --eval_batch_size 64 --weight_decay 0.1 --warmup_steps 0.1 --model_name_or_path \"/content/drive/MyDrive/data/models/MABSAIcl_mvp_tasdIgoogle/mt5-largeIbeamsI1IwdI0.1Imax_epochsI20IesI0IaccI1IlrI0.0001Icont_lossI0.05Icont_tempI0.25IseedI42IMultilingual_Small_MABSAI5I0.1/\""
   ]
  },
  {
   "cell_type": "code",
   "execution_count": null,
   "metadata": {
    "colab": {
     "background_save": true
    },
    "id": "zep47NBYH47T"
   },
   "outputs": [],
   "source": [
    "! python /content/CL-TASD-MvP/model/main_train.py --do_con_dec --task \"cl_mvp_tasd\" --num_beams \"1\" --dataset \"MABSA\" --model_prefix \"Multilingual_Small_MABSA\" --language \"Multilingual_Small\" --test_language \"English\"   --top_k 5 --num_train_epochs 20 --do_inference_best_5 --train_batch_size 16 --eval_batch_size 64 --weight_decay 0.1 --warmup_steps 0.1 --model_name_or_path \"/content/drive/MyDrive/data/models/MABSAIcl_mvp_tasdIgoogle/mt5-largeIbeamsI1IwdI0.1Imax_epochsI20IesI0IaccI1IlrI0.0001Icont_lossI0.05Icont_tempI0.25IseedI42IMultilingual_Small_MABSAI5I0.1/\""
   ]
  },
  {
   "cell_type": "markdown",
   "metadata": {
    "id": "bVodKvXMH47T"
   },
   "source": [
    "Evaluation on best checkpoint:\n"
   ]
  },
  {
   "cell_type": "code",
   "execution_count": null,
   "metadata": {
    "colab": {
     "background_save": true
    },
    "id": "qtqNhinpH47T"
   },
   "outputs": [],
   "source": [
    "! python /content/CL-TASD-MvP/model/main_train.py --task \"cl_mvp_tasd\" --num_beams \"1\" --dataset \"MABSA\" --model_prefix \"Multilingual_Small_MABSA\" --language \"Multilingual_Small\" --test_language \"English\"   --top_k 5 --num_train_epochs 20 --do_inference_best_ckpt --train_batch_size 16 --eval_batch_size 64 --weight_decay 0.1 --warmup_steps 0.1 --model_name_or_path \"/content/drive/MyDrive/data/models/MABSAIcl_mvp_tasdIgoogle/mt5-largeIbeamsI1IwdI0.1Imax_epochsI20IesI0IaccI1IlrI0.0001Icont_lossI0.05Icont_tempI0.25IseedI42IMultilingual_Small_MABSAI5I0.1/\""
   ]
  },
  {
   "cell_type": "code",
   "execution_count": null,
   "metadata": {
    "colab": {
     "background_save": true
    },
    "id": "SAcA1rqYH47T"
   },
   "outputs": [],
   "source": [
    "! python /content/CL-TASD-MvP/model/main_train.py --do_con_dec --task \"cl_mvp_tasd\" --num_beams \"1\" --dataset \"MABSA\" --model_prefix \"Multilingual_Small_MABSA\" --language \"Multilingual_Small\" --test_language \"English\"   --top_k 5 --num_train_epochs 20 --do_inference_best_ckpt --train_batch_size 16 --eval_batch_size 64 --weight_decay 0.1 --warmup_steps 0.1 --model_name_or_path \"/content/drive/MyDrive/data/models/MABSAIcl_mvp_tasdIgoogle/mt5-largeIbeamsI1IwdI0.1Imax_epochsI20IesI0IaccI1IlrI0.0001Icont_lossI0.05Icont_tempI0.25IseedI42IMultilingual_Small_MABSAI5I0.1/\""
   ]
  },
  {
   "cell_type": "markdown",
   "metadata": {
    "id": "SMNROHtjIZSt"
   },
   "source": [
    "#### **Evaluation Only CL**"
   ]
  },
  {
   "cell_type": "markdown",
   "metadata": {
    "id": "TYPL6kJoIZSu"
   },
   "source": [
    "Evaluation on final training epoch:\n"
   ]
  },
  {
   "cell_type": "code",
   "execution_count": null,
   "metadata": {
    "colab": {
     "background_save": true
    },
    "id": "AElw9ftgIZSu"
   },
   "outputs": [],
   "source": [
    "! python /content/CL-TASD-MvP/model/main_train.py --task \"cl_mvp_tasd\" --num_beams \"1\" --dataset \"MABSA\" --model_prefix \"Multilingual_Small_MABSA\" --language \"Multilingual_Small\" --test_language \"English\"   --top_k 1 --do_contr_sent --do_contr_aspect --num_train_epochs 20 --do_inference --train_batch_size 16 --eval_batch_size 64 --weight_decay 0.1 --warmup_steps 0.1 --model_name_or_path \"/content/drive/MyDrive/data/models/MABSAIcl_mvp_tasdIgoogle/mt5-largeIbeamsI1IwdI0.1Imax_epochsI20IesI0IaccI1IlrI0.0001Icont_lossI0.05Icont_tempI0.25IseedI42IMultilingual_Small_MABSAI1I0.1IsentIaspect/\""
   ]
  },
  {
   "cell_type": "code",
   "execution_count": null,
   "metadata": {
    "colab": {
     "background_save": true
    },
    "id": "6qqRx2aLIZSu"
   },
   "outputs": [],
   "source": [
    "! python /content/CL-TASD-MvP/model/main_train.py --do_con_dec --task \"cl_mvp_tasd\" --num_beams \"1\" --dataset \"MABSA\" --model_prefix \"Multilingual_Small_MABSA\" --language \"Multilingual_Small\" --test_language \"English\"   --top_k 1 --do_contr_sent --do_contr_aspect --num_train_epochs 20 --do_inference --train_batch_size 16 --eval_batch_size 64 --weight_decay 0.1 --warmup_steps 0.1 --model_name_or_path \"/content/drive/MyDrive/data/models/MABSAIcl_mvp_tasdIgoogle/mt5-largeIbeamsI1IwdI0.1Imax_epochsI20IesI0IaccI1IlrI0.0001Icont_lossI0.05Icont_tempI0.25IseedI42IMultilingual_Small_MABSAI1I0.1IsentIaspect/\""
   ]
  },
  {
   "cell_type": "markdown",
   "metadata": {
    "id": "jjJkCDmDIZSu"
   },
   "source": [
    "Evaluation on best checkpoint of the last 5 training epochs:\n"
   ]
  },
  {
   "cell_type": "code",
   "execution_count": null,
   "metadata": {
    "colab": {
     "background_save": true
    },
    "id": "XK4LYALIIZSu"
   },
   "outputs": [],
   "source": [
    "! python /content/CL-TASD-MvP/model/main_train.py --task \"cl_mvp_tasd\" --num_beams \"1\" --dataset \"MABSA\" --model_prefix \"Multilingual_Small_MABSA\" --language \"Multilingual_Small\" --test_language \"English\"   --top_k 1 --do_contr_sent --do_contr_aspect --num_train_epochs 20 --do_inference_best_5 --train_batch_size 16 --eval_batch_size 64 --weight_decay 0.1 --warmup_steps 0.1 --model_name_or_path \"/content/drive/MyDrive/data/models/MABSAIcl_mvp_tasdIgoogle/mt5-largeIbeamsI1IwdI0.1Imax_epochsI20IesI0IaccI1IlrI0.0001Icont_lossI0.05Icont_tempI0.25IseedI42IMultilingual_Small_MABSAI1I0.1IsentIaspect/\""
   ]
  },
  {
   "cell_type": "code",
   "execution_count": null,
   "metadata": {
    "colab": {
     "background_save": true
    },
    "id": "Yckm04MjIZSu"
   },
   "outputs": [],
   "source": [
    "! python /content/CL-TASD-MvP/model/main_train.py --do_con_dec --task \"cl_mvp_tasd\" --num_beams \"1\" --dataset \"MABSA\" --model_prefix \"Multilingual_Small_MABSA\" --language \"Multilingual_Small\" --test_language \"English\"   --top_k 1 --do_contr_sent --do_contr_aspect --num_train_epochs 20 --do_inference_best_5 --train_batch_size 16 --eval_batch_size 64 --weight_decay 0.1 --warmup_steps 0.1 --model_name_or_path \"/content/drive/MyDrive/data/models/MABSAIcl_mvp_tasdIgoogle/mt5-largeIbeamsI1IwdI0.1Imax_epochsI20IesI0IaccI1IlrI0.0001Icont_lossI0.05Icont_tempI0.25IseedI42IMultilingual_Small_MABSAI1I0.1IsentIaspect/\""
   ]
  },
  {
   "cell_type": "markdown",
   "metadata": {
    "id": "xjXcrc1CIZSu"
   },
   "source": [
    "Evaluation on best checkpoint:\n"
   ]
  },
  {
   "cell_type": "code",
   "execution_count": null,
   "metadata": {
    "colab": {
     "background_save": true
    },
    "id": "nqlT_7iBIZSu"
   },
   "outputs": [],
   "source": [
    "! python /content/CL-TASD-MvP/model/main_train.py --task \"cl_mvp_tasd\" --num_beams \"1\" --dataset \"MABSA\" --model_prefix \"Multilingual_Small_MABSA\" --language \"Multilingual_Small\" --test_language \"English\"   --top_k 1 --do_contr_sent --do_contr_aspect --num_train_epochs 20 --do_inference_best_ckpt --train_batch_size 16 --eval_batch_size 64 --weight_decay 0.1 --warmup_steps 0.1 --model_name_or_path \"/content/drive/MyDrive/data/models/MABSAIcl_mvp_tasdIgoogle/mt5-largeIbeamsI1IwdI0.1Imax_epochsI20IesI0IaccI1IlrI0.0001Icont_lossI0.05Icont_tempI0.25IseedI42IMultilingual_Small_MABSAI1I0.1IsentIaspect/\""
   ]
  },
  {
   "cell_type": "code",
   "execution_count": null,
   "metadata": {
    "colab": {
     "background_save": true
    },
    "id": "qA-q902PIZSu"
   },
   "outputs": [],
   "source": [
    "! python /content/CL-TASD-MvP/model/main_train.py --do_con_dec --task \"cl_mvp_tasd\" --num_beams \"1\" --dataset \"MABSA\" --model_prefix \"Multilingual_Small_MABSA\" --language \"Multilingual_Small\" --test_language \"English\"   --top_k 1 --do_contr_sent --do_contr_aspect --num_train_epochs 20 --do_inference_best_ckpt --train_batch_size 16 --eval_batch_size 64 --weight_decay 0.1 --warmup_steps 0.1 --model_name_or_path \"/content/drive/MyDrive/data/models/MABSAIcl_mvp_tasdIgoogle/mt5-largeIbeamsI1IwdI0.1Imax_epochsI20IesI0IaccI1IlrI0.0001Icont_lossI0.05Icont_tempI0.25IseedI42IMultilingual_Small_MABSAI1I0.1IsentIaspect/\""
   ]
  },
  {
   "cell_type": "markdown",
   "metadata": {
    "id": "37XQO_cIHT8y"
   },
   "source": [
    "#### **Evaluation Base MT5**"
   ]
  },
  {
   "cell_type": "markdown",
   "metadata": {
    "id": "aYUatis9HT8y"
   },
   "source": [
    "Evaluation on final training epoch:\n"
   ]
  },
  {
   "cell_type": "code",
   "execution_count": null,
   "metadata": {
    "colab": {
     "background_save": true
    },
    "id": "3haAmsVaHT8y"
   },
   "outputs": [],
   "source": [
    "! python /content/CL-TASD-MvP/model/main_train.py --task \"cl_mvp_tasd\" --num_beams \"1\" --dataset \"MABSA\" --model_prefix \"Multilingual_Small_MABSA\" --language \"Multilingual_Small\" --test_language \"English\"   --top_k 1 --num_train_epochs 20 --do_inference --train_batch_size 16 --eval_batch_size 64 --weight_decay 0.1 --warmup_steps 0.1 --model_name_or_path \"/content/drive/MyDrive/data/models/MABSAIcl_mvp_tasdIgoogle/mt5-largeIbeamsI1IwdI0.1Imax_epochsI20IesI0IaccI1IlrI0.0001Icont_lossI0.05Icont_tempI0.25IseedI42IMultilingual_Small_MABSAI1I0.1/\""
   ]
  },
  {
   "cell_type": "code",
   "execution_count": null,
   "metadata": {
    "colab": {
     "background_save": true
    },
    "id": "clXaXe6lHT8y"
   },
   "outputs": [],
   "source": [
    "! python /content/CL-TASD-MvP/model/main_train.py --do_con_dec --task \"cl_mvp_tasd\" --num_beams \"1\" --dataset \"MABSA\" --model_prefix \"Multilingual_Small_MABSA\" --language \"Multilingual_Small\" --test_language \"English\"   --top_k 1 --num_train_epochs 20 --do_inference --train_batch_size 16 --eval_batch_size 64 --weight_decay 0.1 --warmup_steps 0.1 --model_name_or_path \"/content/drive/MyDrive/data/models/MABSAIcl_mvp_tasdIgoogle/mt5-largeIbeamsI1IwdI0.1Imax_epochsI20IesI0IaccI1IlrI0.0001Icont_lossI0.05Icont_tempI0.25IseedI42IMultilingual_Small_MABSAI1I0.1/\""
   ]
  },
  {
   "cell_type": "markdown",
   "metadata": {
    "id": "J8m9Jx3THT8y"
   },
   "source": [
    "Evaluation on best checkpoint of the last 5 training epochs:\n"
   ]
  },
  {
   "cell_type": "code",
   "execution_count": null,
   "metadata": {
    "colab": {
     "background_save": true
    },
    "id": "AqYYC7HbHT8z"
   },
   "outputs": [],
   "source": [
    "! python /content/CL-TASD-MvP/model/main_train.py --task \"cl_mvp_tasd\" --num_beams \"1\" --dataset \"MABSA\" --model_prefix \"Multilingual_Small_MABSA\" --language \"Multilingual_Small\" --test_language \"English\"   --top_k 1 --num_train_epochs 20 --do_inference_best_5 --train_batch_size 16 --eval_batch_size 64 --weight_decay 0.1 --warmup_steps 0.1 --model_name_or_path \"/content/drive/MyDrive/data/models/MABSAIcl_mvp_tasdIgoogle/mt5-largeIbeamsI1IwdI0.1Imax_epochsI20IesI0IaccI1IlrI0.0001Icont_lossI0.05Icont_tempI0.25IseedI42IMultilingual_Small_MABSAI1I0.1/\""
   ]
  },
  {
   "cell_type": "code",
   "execution_count": null,
   "metadata": {
    "colab": {
     "background_save": true
    },
    "id": "YRqiY5lyHT8z"
   },
   "outputs": [],
   "source": [
    "! python /content/CL-TASD-MvP/model/main_train.py --do_con_dec --task \"cl_mvp_tasd\" --num_beams \"1\" --dataset \"MABSA\" --model_prefix \"Multilingual_Small_MABSA\" --language \"Multilingual_Small\" --test_language \"English\"   --top_k 1 --num_train_epochs 20 --do_inference_best_5 --train_batch_size 16 --eval_batch_size 64 --weight_decay 0.1 --warmup_steps 0.1 --model_name_or_path \"/content/drive/MyDrive/data/models/MABSAIcl_mvp_tasdIgoogle/mt5-largeIbeamsI1IwdI0.1Imax_epochsI20IesI0IaccI1IlrI0.0001Icont_lossI0.05Icont_tempI0.25IseedI42IMultilingual_Small_MABSAI1I0.1/\""
   ]
  },
  {
   "cell_type": "markdown",
   "metadata": {
    "id": "QhGezUkaHT8z"
   },
   "source": [
    "Evaluation on best checkpoint:\n"
   ]
  },
  {
   "cell_type": "code",
   "execution_count": null,
   "metadata": {
    "colab": {
     "background_save": true
    },
    "id": "wBJQb4JoHT8z"
   },
   "outputs": [],
   "source": [
    "! python /content/CL-TASD-MvP/model/main_train.py --task \"cl_mvp_tasd\" --num_beams \"1\" --dataset \"MABSA\" --model_prefix \"Multilingual_Small_MABSA\" --language \"Multilingual_Small\" --test_language \"English\"   --top_k 1 --num_train_epochs 20 --do_inference_best_ckpt --train_batch_size 16 --eval_batch_size 64 --weight_decay 0.1 --warmup_steps 0.1 --model_name_or_path \"/content/drive/MyDrive/data/models/MABSAIcl_mvp_tasdIgoogle/mt5-largeIbeamsI1IwdI0.1Imax_epochsI20IesI0IaccI1IlrI0.0001Icont_lossI0.05Icont_tempI0.25IseedI42IMultilingual_Small_MABSAI1I0.1/\""
   ]
  },
  {
   "cell_type": "code",
   "execution_count": null,
   "metadata": {
    "colab": {
     "background_save": true
    },
    "id": "FPUnG8l1HT8z"
   },
   "outputs": [],
   "source": [
    "! python /content/CL-TASD-MvP/model/main_train.py --do_con_dec --task \"cl_mvp_tasd\" --num_beams \"1\" --dataset \"MABSA\" --model_prefix \"Multilingual_Small_MABSA\" --language \"Multilingual_Small\" --test_language \"English\"   --top_k 1 --num_train_epochs 20 --do_inference_best_ckpt --train_batch_size 16 --eval_batch_size 64 --weight_decay 0.1 --warmup_steps 0.1 --model_name_or_path \"/content/drive/MyDrive/data/models/MABSAIcl_mvp_tasdIgoogle/mt5-largeIbeamsI1IwdI0.1Imax_epochsI20IesI0IaccI1IlrI0.0001Icont_lossI0.05Icont_tempI0.25IseedI42IMultilingual_Small_MABSAI1I0.1/\""
   ]
  },
  {
   "cell_type": "markdown",
   "metadata": {
    "id": "v81yuufYIt3A"
   },
   "source": [
    "### **Model Evaluation: French**\n"
   ]
  },
  {
   "cell_type": "markdown",
   "metadata": {
    "id": "5RGEBQMVIt3B"
   },
   "source": [
    "#### **Evaluation Full Model**"
   ]
  },
  {
   "cell_type": "markdown",
   "metadata": {
    "id": "Uj2u_afqIt3B"
   },
   "source": [
    "Evaluation on final training epoch:\n"
   ]
  },
  {
   "cell_type": "code",
   "execution_count": null,
   "metadata": {
    "colab": {
     "background_save": true
    },
    "id": "kwdeLE9XIt3B"
   },
   "outputs": [],
   "source": [
    "! python /content/CL-TASD-MvP/model/main_train.py --task \"cl_mvp_tasd\" --num_beams \"1\" --dataset \"MABSA\" --model_prefix \"Multilingual_Small_MABSA\" --language \"Multilingual_Small\" --test_language \"French\"   --top_k 5 --do_contr_sent --do_contr_aspect --num_train_epochs 20 --do_inference --train_batch_size 16 --eval_batch_size 64 --weight_decay 0.1 --warmup_steps 0.1 --model_name_or_path \"/content/drive/MyDrive/data/models/MABSAIcl_mvp_tasdIgoogle/mt5-largeIbeamsI1IwdI0.1Imax_epochsI20IesI0IaccI1IlrI0.0001Icont_lossI0.05Icont_tempI0.25IseedI42IMultilingual_Small_MABSAI5I0.1IsentIaspect/\""
   ]
  },
  {
   "cell_type": "code",
   "execution_count": null,
   "metadata": {
    "colab": {
     "background_save": true
    },
    "id": "hfTBHsvMIt3B"
   },
   "outputs": [],
   "source": [
    "! python /content/CL-TASD-MvP/model/main_train.py --do_con_dec --task \"cl_mvp_tasd\" --num_beams \"1\" --dataset \"MABSA\" --model_prefix \"Multilingual_Small_MABSA\" --language \"Multilingual_Small\" --test_language \"French\"   --top_k 5 --do_contr_sent --do_contr_aspect --num_train_epochs 20 --do_inference --train_batch_size 16 --eval_batch_size 64 --weight_decay 0.1 --warmup_steps 0.1 --model_name_or_path \"/content/drive/MyDrive/data/models/MABSAIcl_mvp_tasdIgoogle/mt5-largeIbeamsI1IwdI0.1Imax_epochsI20IesI0IaccI1IlrI0.0001Icont_lossI0.05Icont_tempI0.25IseedI42IMultilingual_Small_MABSAI5I0.1IsentIaspect/\""
   ]
  },
  {
   "cell_type": "markdown",
   "metadata": {
    "id": "5G8wZ-XTIt3B"
   },
   "source": [
    "Evaluation on best checkpoint of the last 5 training epochs:\n"
   ]
  },
  {
   "cell_type": "code",
   "execution_count": null,
   "metadata": {
    "colab": {
     "background_save": true
    },
    "id": "0qnc5EWqIt3B"
   },
   "outputs": [],
   "source": [
    "! python /content/CL-TASD-MvP/model/main_train.py --task \"cl_mvp_tasd\" --num_beams \"1\" --dataset \"MABSA\" --model_prefix \"Multilingual_Small_MABSA\" --language \"Multilingual_Small\" --test_language \"French\"   --top_k 5 --do_contr_sent --do_contr_aspect --num_train_epochs 20 --do_inference_best_5 --train_batch_size 16 --eval_batch_size 64 --weight_decay 0.1 --warmup_steps 0.1 --model_name_or_path \"/content/drive/MyDrive/data/models/MABSAIcl_mvp_tasdIgoogle/mt5-largeIbeamsI1IwdI0.1Imax_epochsI20IesI0IaccI1IlrI0.0001Icont_lossI0.05Icont_tempI0.25IseedI42IMultilingual_Small_MABSAI5I0.1IsentIaspect/\""
   ]
  },
  {
   "cell_type": "code",
   "execution_count": null,
   "metadata": {
    "colab": {
     "background_save": true
    },
    "id": "5GykmzlIIt3B"
   },
   "outputs": [],
   "source": [
    "! python /content/CL-TASD-MvP/model/main_train.py --do_con_dec --task \"cl_mvp_tasd\" --num_beams \"1\" --dataset \"MABSA\" --model_prefix \"Multilingual_Small_MABSA\" --language \"Multilingual_Small\" --test_language \"French\"   --top_k 5 --do_contr_sent --do_contr_aspect --num_train_epochs 20 --do_inference_best_5 --train_batch_size 16 --eval_batch_size 64 --weight_decay 0.1 --warmup_steps 0.1 --model_name_or_path \"/content/drive/MyDrive/data/models/MABSAIcl_mvp_tasdIgoogle/mt5-largeIbeamsI1IwdI0.1Imax_epochsI20IesI0IaccI1IlrI0.0001Icont_lossI0.05Icont_tempI0.25IseedI42IMultilingual_Small_MABSAI5I0.1IsentIaspect/\""
   ]
  },
  {
   "cell_type": "markdown",
   "metadata": {
    "id": "Kzl_2w7LIt3C"
   },
   "source": [
    "Evaluation on best checkpoint:\n"
   ]
  },
  {
   "cell_type": "code",
   "execution_count": null,
   "metadata": {
    "colab": {
     "background_save": true
    },
    "id": "e-JCgSL7It3C"
   },
   "outputs": [],
   "source": [
    "! python /content/CL-TASD-MvP/model/main_train.py --task \"cl_mvp_tasd\" --num_beams \"1\" --dataset \"MABSA\" --model_prefix \"Multilingual_Small_MABSA\" --language \"Multilingual_Small\" --test_language \"French\"   --top_k 5 --do_contr_sent --do_contr_aspect --num_train_epochs 20 --do_inference_best_ckpt --train_batch_size 16 --eval_batch_size 64 --weight_decay 0.1 --warmup_steps 0.1 --model_name_or_path \"/content/drive/MyDrive/data/models/MABSAIcl_mvp_tasdIgoogle/mt5-largeIbeamsI1IwdI0.1Imax_epochsI20IesI0IaccI1IlrI0.0001Icont_lossI0.05Icont_tempI0.25IseedI42IMultilingual_Small_MABSAI5I0.1IsentIaspect/\""
   ]
  },
  {
   "cell_type": "code",
   "execution_count": null,
   "metadata": {
    "colab": {
     "background_save": true
    },
    "id": "1cY61dKLIt3C"
   },
   "outputs": [],
   "source": [
    "! python /content/CL-TASD-MvP/model/main_train.py --do_con_dec --task \"cl_mvp_tasd\" --num_beams \"1\" --dataset \"MABSA\" --model_prefix \"Multilingual_Small_MABSA\" --language \"Multilingual_Small\" --test_language \"French\"   --top_k 5 --do_contr_sent --do_contr_aspect --num_train_epochs 20 --do_inference_best_ckpt --train_batch_size 16 --eval_batch_size 64 --weight_decay 0.1 --warmup_steps 0.1 --model_name_or_path \"/content/drive/MyDrive/data/models/MABSAIcl_mvp_tasdIgoogle/mt5-largeIbeamsI1IwdI0.1Imax_epochsI20IesI0IaccI1IlrI0.0001Icont_lossI0.05Icont_tempI0.25IseedI42IMultilingual_Small_MABSAI5I0.1IsentIaspect/\""
   ]
  },
  {
   "cell_type": "markdown",
   "metadata": {
    "id": "F3I0SoXLIt3C"
   },
   "source": [
    "#### **Evaluation MVP Only**"
   ]
  },
  {
   "cell_type": "markdown",
   "metadata": {
    "id": "a3CMJ1iAIt3C"
   },
   "source": [
    "Evaluation on final training epoch:\n"
   ]
  },
  {
   "cell_type": "code",
   "execution_count": null,
   "metadata": {
    "colab": {
     "background_save": true
    },
    "id": "Y5bVQC71It3C"
   },
   "outputs": [],
   "source": [
    "! python /content/CL-TASD-MvP/model/main_train.py --task \"cl_mvp_tasd\" --num_beams \"1\" --dataset \"MABSA\" --model_prefix \"Multilingual_Small_MABSA\" --language \"Multilingual_Small\" --test_language \"French\"   --top_k 5 --num_train_epochs 20 --do_inference --train_batch_size 16 --eval_batch_size 64 --weight_decay 0.1 --warmup_steps 0.1 --model_name_or_path \"/content/drive/MyDrive/data/models/MABSAIcl_mvp_tasdIgoogle/mt5-largeIbeamsI1IwdI0.1Imax_epochsI20IesI0IaccI1IlrI0.0001Icont_lossI0.05Icont_tempI0.25IseedI42IMultilingual_Small_MABSAI5I0.1/\""
   ]
  },
  {
   "cell_type": "code",
   "execution_count": null,
   "metadata": {
    "colab": {
     "background_save": true
    },
    "id": "0SE0O-kEIt3C"
   },
   "outputs": [],
   "source": [
    "! python /content/CL-TASD-MvP/model/main_train.py --do_con_dec --task \"cl_mvp_tasd\" --num_beams \"1\" --dataset \"MABSA\" --model_prefix \"Multilingual_Small_MABSA\" --language \"Multilingual_Small\" --test_language \"French\"   --top_k 5 --num_train_epochs 20 --do_inference --train_batch_size 16 --eval_batch_size 64 --weight_decay 0.1 --warmup_steps 0.1 --model_name_or_path \"/content/drive/MyDrive/data/models/MABSAIcl_mvp_tasdIgoogle/mt5-largeIbeamsI1IwdI0.1Imax_epochsI20IesI0IaccI1IlrI0.0001Icont_lossI0.05Icont_tempI0.25IseedI42IMultilingual_Small_MABSAI5I0.1/\""
   ]
  },
  {
   "cell_type": "markdown",
   "metadata": {
    "id": "P8gmuIIFIt3C"
   },
   "source": [
    "Evaluation on best checkpoint of the last 5 training epochs:\n"
   ]
  },
  {
   "cell_type": "code",
   "execution_count": null,
   "metadata": {
    "colab": {
     "background_save": true
    },
    "id": "1j3HQTCxIt3C"
   },
   "outputs": [],
   "source": [
    "! python /content/CL-TASD-MvP/model/main_train.py --task \"cl_mvp_tasd\" --num_beams \"1\" --dataset \"MABSA\" --model_prefix \"Multilingual_Small_MABSA\" --language \"Multilingual_Small\" --test_language \"French\"   --top_k 5 --num_train_epochs 20 --do_inference_best_5 --train_batch_size 16 --eval_batch_size 64 --weight_decay 0.1 --warmup_steps 0.1 --model_name_or_path \"/content/drive/MyDrive/data/models/MABSAIcl_mvp_tasdIgoogle/mt5-largeIbeamsI1IwdI0.1Imax_epochsI20IesI0IaccI1IlrI0.0001Icont_lossI0.05Icont_tempI0.25IseedI42IMultilingual_Small_MABSAI5I0.1/\""
   ]
  },
  {
   "cell_type": "code",
   "execution_count": null,
   "metadata": {
    "colab": {
     "background_save": true
    },
    "id": "zlZqQUgIIt3C"
   },
   "outputs": [],
   "source": [
    "! python /content/CL-TASD-MvP/model/main_train.py --do_con_dec --task \"cl_mvp_tasd\" --num_beams \"1\" --dataset \"MABSA\" --model_prefix \"Multilingual_Small_MABSA\" --language \"Multilingual_Small\" --test_language \"French\"   --top_k 5 --num_train_epochs 20 --do_inference_best_5 --train_batch_size 16 --eval_batch_size 64 --weight_decay 0.1 --warmup_steps 0.1 --model_name_or_path \"/content/drive/MyDrive/data/models/MABSAIcl_mvp_tasdIgoogle/mt5-largeIbeamsI1IwdI0.1Imax_epochsI20IesI0IaccI1IlrI0.0001Icont_lossI0.05Icont_tempI0.25IseedI42IMultilingual_Small_MABSAI5I0.1/\""
   ]
  },
  {
   "cell_type": "markdown",
   "metadata": {
    "id": "l0yoJAudIt3C"
   },
   "source": [
    "Evaluation on best checkpoint:\n"
   ]
  },
  {
   "cell_type": "code",
   "execution_count": null,
   "metadata": {
    "colab": {
     "background_save": true
    },
    "id": "2gTX8QAGIt3C"
   },
   "outputs": [],
   "source": [
    "! python /content/CL-TASD-MvP/model/main_train.py --task \"cl_mvp_tasd\" --num_beams \"1\" --dataset \"MABSA\" --model_prefix \"Multilingual_Small_MABSA\" --language \"Multilingual_Small\" --test_language \"French\"   --top_k 5 --num_train_epochs 20 --do_inference_best_ckpt --train_batch_size 16 --eval_batch_size 64 --weight_decay 0.1 --warmup_steps 0.1 --model_name_or_path \"/content/drive/MyDrive/data/models/MABSAIcl_mvp_tasdIgoogle/mt5-largeIbeamsI1IwdI0.1Imax_epochsI20IesI0IaccI1IlrI0.0001Icont_lossI0.05Icont_tempI0.25IseedI42IMultilingual_Small_MABSAI5I0.1/\""
   ]
  },
  {
   "cell_type": "code",
   "execution_count": null,
   "metadata": {
    "colab": {
     "background_save": true
    },
    "id": "wwMebGc1It3C"
   },
   "outputs": [],
   "source": [
    "! python /content/CL-TASD-MvP/model/main_train.py --do_con_dec --task \"cl_mvp_tasd\" --num_beams \"1\" --dataset \"MABSA\" --model_prefix \"Multilingual_Small_MABSA\" --language \"Multilingual_Small\" --test_language \"French\"   --top_k 5 --num_train_epochs 20 --do_inference_best_ckpt --train_batch_size 16 --eval_batch_size 64 --weight_decay 0.1 --warmup_steps 0.1 --model_name_or_path \"/content/drive/MyDrive/data/models/MABSAIcl_mvp_tasdIgoogle/mt5-largeIbeamsI1IwdI0.1Imax_epochsI20IesI0IaccI1IlrI0.0001Icont_lossI0.05Icont_tempI0.25IseedI42IMultilingual_Small_MABSAI5I0.1/\""
   ]
  },
  {
   "cell_type": "markdown",
   "metadata": {
    "id": "dgDX70iQIt3D"
   },
   "source": [
    "#### **Evaluation Only CL**"
   ]
  },
  {
   "cell_type": "markdown",
   "metadata": {
    "id": "ubqTEEW4It3D"
   },
   "source": [
    "Evaluation on final training epoch:\n"
   ]
  },
  {
   "cell_type": "code",
   "execution_count": null,
   "metadata": {
    "colab": {
     "background_save": true
    },
    "id": "8pbJ8G8-It3D"
   },
   "outputs": [],
   "source": [
    "! python /content/CL-TASD-MvP/model/main_train.py --task \"cl_mvp_tasd\" --num_beams \"1\" --dataset \"MABSA\" --model_prefix \"Multilingual_Small_MABSA\" --language \"Multilingual_Small\" --test_language \"French\"   --top_k 1 --do_contr_sent --do_contr_aspect --num_train_epochs 20 --do_inference --train_batch_size 16 --eval_batch_size 64 --weight_decay 0.1 --warmup_steps 0.1 --model_name_or_path \"/content/drive/MyDrive/data/models/MABSAIcl_mvp_tasdIgoogle/mt5-largeIbeamsI1IwdI0.1Imax_epochsI20IesI0IaccI1IlrI0.0001Icont_lossI0.05Icont_tempI0.25IseedI42IMultilingual_Small_MABSAI1I0.1IsentIaspect/\""
   ]
  },
  {
   "cell_type": "code",
   "execution_count": null,
   "metadata": {
    "colab": {
     "background_save": true
    },
    "id": "wSundGStIt3D"
   },
   "outputs": [],
   "source": [
    "! python /content/CL-TASD-MvP/model/main_train.py --do_con_dec --task \"cl_mvp_tasd\" --num_beams \"1\" --dataset \"MABSA\" --model_prefix \"Multilingual_Small_MABSA\" --language \"Multilingual_Small\" --test_language \"French\"   --top_k 1 --do_contr_sent --do_contr_aspect --num_train_epochs 20 --do_inference --train_batch_size 16 --eval_batch_size 64 --weight_decay 0.1 --warmup_steps 0.1 --model_name_or_path \"/content/drive/MyDrive/data/models/MABSAIcl_mvp_tasdIgoogle/mt5-largeIbeamsI1IwdI0.1Imax_epochsI20IesI0IaccI1IlrI0.0001Icont_lossI0.05Icont_tempI0.25IseedI42IMultilingual_Small_MABSAI1I0.1IsentIaspect/\""
   ]
  },
  {
   "cell_type": "markdown",
   "metadata": {
    "id": "ZhLIw-PbIt3D"
   },
   "source": [
    "Evaluation on best checkpoint of the last 5 training epochs:\n"
   ]
  },
  {
   "cell_type": "code",
   "execution_count": null,
   "metadata": {
    "colab": {
     "background_save": true
    },
    "id": "XR3KnUkWIt3D"
   },
   "outputs": [],
   "source": [
    "! python /content/CL-TASD-MvP/model/main_train.py --task \"cl_mvp_tasd\" --num_beams \"1\" --dataset \"MABSA\" --model_prefix \"Multilingual_Small_MABSA\" --language \"Multilingual_Small\" --test_language \"French\"   --top_k 1 --do_contr_sent --do_contr_aspect --num_train_epochs 20 --do_inference_best_5 --train_batch_size 16 --eval_batch_size 64 --weight_decay 0.1 --warmup_steps 0.1 --model_name_or_path \"/content/drive/MyDrive/data/models/MABSAIcl_mvp_tasdIgoogle/mt5-largeIbeamsI1IwdI0.1Imax_epochsI20IesI0IaccI1IlrI0.0001Icont_lossI0.05Icont_tempI0.25IseedI42IMultilingual_Small_MABSAI1I0.1IsentIaspect/\""
   ]
  },
  {
   "cell_type": "code",
   "execution_count": null,
   "metadata": {
    "colab": {
     "background_save": true
    },
    "id": "rMfUug11It3D"
   },
   "outputs": [],
   "source": [
    "! python /content/CL-TASD-MvP/model/main_train.py --do_con_dec --task \"cl_mvp_tasd\" --num_beams \"1\" --dataset \"MABSA\" --model_prefix \"Multilingual_Small_MABSA\" --language \"Multilingual_Small\" --test_language \"French\"   --top_k 1 --do_contr_sent --do_contr_aspect --num_train_epochs 20 --do_inference_best_5 --train_batch_size 16 --eval_batch_size 64 --weight_decay 0.1 --warmup_steps 0.1 --model_name_or_path \"/content/drive/MyDrive/data/models/MABSAIcl_mvp_tasdIgoogle/mt5-largeIbeamsI1IwdI0.1Imax_epochsI20IesI0IaccI1IlrI0.0001Icont_lossI0.05Icont_tempI0.25IseedI42IMultilingual_Small_MABSAI1I0.1IsentIaspect/\""
   ]
  },
  {
   "cell_type": "markdown",
   "metadata": {
    "id": "-HyXfSmGIt3D"
   },
   "source": [
    "Evaluation on best checkpoint:\n"
   ]
  },
  {
   "cell_type": "code",
   "execution_count": null,
   "metadata": {
    "colab": {
     "background_save": true
    },
    "id": "51G4Kua0It3D"
   },
   "outputs": [],
   "source": [
    "! python /content/CL-TASD-MvP/model/main_train.py --task \"cl_mvp_tasd\" --num_beams \"1\" --dataset \"MABSA\" --model_prefix \"Multilingual_Small_MABSA\" --language \"Multilingual_Small\" --test_language \"French\"   --top_k 1 --do_contr_sent --do_contr_aspect --num_train_epochs 20 --do_inference_best_ckpt --train_batch_size 16 --eval_batch_size 64 --weight_decay 0.1 --warmup_steps 0.1 --model_name_or_path \"/content/drive/MyDrive/data/models/MABSAIcl_mvp_tasdIgoogle/mt5-largeIbeamsI1IwdI0.1Imax_epochsI20IesI0IaccI1IlrI0.0001Icont_lossI0.05Icont_tempI0.25IseedI42IMultilingual_Small_MABSAI1I0.1IsentIaspect/\""
   ]
  },
  {
   "cell_type": "code",
   "execution_count": null,
   "metadata": {
    "colab": {
     "background_save": true
    },
    "id": "KCAPUBYXIt3D"
   },
   "outputs": [],
   "source": [
    "! python /content/CL-TASD-MvP/model/main_train.py --do_con_dec --task \"cl_mvp_tasd\" --num_beams \"1\" --dataset \"MABSA\" --model_prefix \"Multilingual_Small_MABSA\" --language \"Multilingual_Small\" --test_language \"French\"   --top_k 1 --do_contr_sent --do_contr_aspect --num_train_epochs 20 --do_inference_best_ckpt --train_batch_size 16 --eval_batch_size 64 --weight_decay 0.1 --warmup_steps 0.1 --model_name_or_path \"/content/drive/MyDrive/data/models/MABSAIcl_mvp_tasdIgoogle/mt5-largeIbeamsI1IwdI0.1Imax_epochsI20IesI0IaccI1IlrI0.0001Icont_lossI0.05Icont_tempI0.25IseedI42IMultilingual_Small_MABSAI1I0.1IsentIaspect/\""
   ]
  },
  {
   "cell_type": "markdown",
   "metadata": {
    "id": "-e2d8DE8It3D"
   },
   "source": [
    "#### **Evaluation Base MT5**"
   ]
  },
  {
   "cell_type": "markdown",
   "metadata": {
    "id": "iciYMC1kIt3E"
   },
   "source": [
    "Evaluation on final training epoch:\n"
   ]
  },
  {
   "cell_type": "code",
   "execution_count": null,
   "metadata": {
    "colab": {
     "background_save": true
    },
    "id": "AdANPs0RIt3E"
   },
   "outputs": [],
   "source": [
    "! python /content/CL-TASD-MvP/model/main_train.py --task \"cl_mvp_tasd\" --num_beams \"1\" --dataset \"MABSA\" --model_prefix \"Multilingual_Small_MABSA\" --language \"Multilingual_Small\" --test_language \"French\"   --top_k 1 --num_train_epochs 20 --do_inference --train_batch_size 16 --eval_batch_size 64 --weight_decay 0.1 --warmup_steps 0.1 --model_name_or_path \"/content/drive/MyDrive/data/models/MABSAIcl_mvp_tasdIgoogle/mt5-largeIbeamsI1IwdI0.1Imax_epochsI20IesI0IaccI1IlrI0.0001Icont_lossI0.05Icont_tempI0.25IseedI42IMultilingual_Small_MABSAI1I0.1/\""
   ]
  },
  {
   "cell_type": "code",
   "execution_count": null,
   "metadata": {
    "colab": {
     "background_save": true
    },
    "id": "1NgKTHQFIt3E"
   },
   "outputs": [],
   "source": [
    "! python /content/CL-TASD-MvP/model/main_train.py --do_con_dec --task \"cl_mvp_tasd\" --num_beams \"1\" --dataset \"MABSA\" --model_prefix \"Multilingual_Small_MABSA\" --language \"Multilingual_Small\" --test_language \"French\"   --top_k 1 --num_train_epochs 20 --do_inference --train_batch_size 16 --eval_batch_size 64 --weight_decay 0.1 --warmup_steps 0.1 --model_name_or_path \"/content/drive/MyDrive/data/models/MABSAIcl_mvp_tasdIgoogle/mt5-largeIbeamsI1IwdI0.1Imax_epochsI20IesI0IaccI1IlrI0.0001Icont_lossI0.05Icont_tempI0.25IseedI42IMultilingual_Small_MABSAI1I0.1/\""
   ]
  },
  {
   "cell_type": "markdown",
   "metadata": {
    "id": "x_5HqbXOIt3E"
   },
   "source": [
    "Evaluation on best checkpoint of the last 5 training epochs:\n"
   ]
  },
  {
   "cell_type": "code",
   "execution_count": null,
   "metadata": {
    "colab": {
     "background_save": true
    },
    "id": "MQlR7ilMIt3E"
   },
   "outputs": [],
   "source": [
    "! python /content/CL-TASD-MvP/model/main_train.py --task \"cl_mvp_tasd\" --num_beams \"1\" --dataset \"MABSA\" --model_prefix \"Multilingual_Small_MABSA\" --language \"Multilingual_Small\" --test_language \"French\"   --top_k 1 --num_train_epochs 20 --do_inference_best_5 --train_batch_size 16 --eval_batch_size 64 --weight_decay 0.1 --warmup_steps 0.1 --model_name_or_path \"/content/drive/MyDrive/data/models/MABSAIcl_mvp_tasdIgoogle/mt5-largeIbeamsI1IwdI0.1Imax_epochsI20IesI0IaccI1IlrI0.0001Icont_lossI0.05Icont_tempI0.25IseedI42IMultilingual_Small_MABSAI1I0.1/\""
   ]
  },
  {
   "cell_type": "code",
   "execution_count": null,
   "metadata": {
    "colab": {
     "background_save": true
    },
    "id": "OqRQCfAHIt3E"
   },
   "outputs": [],
   "source": [
    "! python /content/CL-TASD-MvP/model/main_train.py --do_con_dec --task \"cl_mvp_tasd\" --num_beams \"1\" --dataset \"MABSA\" --model_prefix \"Multilingual_Small_MABSA\" --language \"Multilingual_Small\" --test_language \"French\"   --top_k 1 --num_train_epochs 20 --do_inference_best_5 --train_batch_size 16 --eval_batch_size 64 --weight_decay 0.1 --warmup_steps 0.1 --model_name_or_path \"/content/drive/MyDrive/data/models/MABSAIcl_mvp_tasdIgoogle/mt5-largeIbeamsI1IwdI0.1Imax_epochsI20IesI0IaccI1IlrI0.0001Icont_lossI0.05Icont_tempI0.25IseedI42IMultilingual_Small_MABSAI1I0.1/\""
   ]
  },
  {
   "cell_type": "markdown",
   "metadata": {
    "id": "GiPA0KcIIt3E"
   },
   "source": [
    "Evaluation on best checkpoint:\n"
   ]
  },
  {
   "cell_type": "code",
   "execution_count": null,
   "metadata": {
    "colab": {
     "background_save": true
    },
    "id": "kgHfPGBMIt3E"
   },
   "outputs": [],
   "source": [
    "! python /content/CL-TASD-MvP/model/main_train.py --task \"cl_mvp_tasd\" --num_beams \"1\" --dataset \"MABSA\" --model_prefix \"Multilingual_Small_MABSA\" --language \"Multilingual_Small\" --test_language \"French\"   --top_k 1 --num_train_epochs 20 --do_inference_best_ckpt --train_batch_size 16 --eval_batch_size 64 --weight_decay 0.1 --warmup_steps 0.1 --model_name_or_path \"/content/drive/MyDrive/data/models/MABSAIcl_mvp_tasdIgoogle/mt5-largeIbeamsI1IwdI0.1Imax_epochsI20IesI0IaccI1IlrI0.0001Icont_lossI0.05Icont_tempI0.25IseedI42IMultilingual_Small_MABSAI1I0.1/\""
   ]
  },
  {
   "cell_type": "code",
   "execution_count": null,
   "metadata": {
    "colab": {
     "background_save": true
    },
    "id": "a3vp78PJIt3E"
   },
   "outputs": [],
   "source": [
    "! python /content/CL-TASD-MvP/model/main_train.py --do_con_dec --task \"cl_mvp_tasd\" --num_beams \"1\" --dataset \"MABSA\" --model_prefix \"Multilingual_Small_MABSA\" --language \"Multilingual_Small\" --test_language \"French\"   --top_k 1 --num_train_epochs 20 --do_inference_best_ckpt --train_batch_size 16 --eval_batch_size 64 --weight_decay 0.1 --warmup_steps 0.1 --model_name_or_path \"/content/drive/MyDrive/data/models/MABSAIcl_mvp_tasdIgoogle/mt5-largeIbeamsI1IwdI0.1Imax_epochsI20IesI0IaccI1IlrI0.0001Icont_lossI0.05Icont_tempI0.25IseedI42IMultilingual_Small_MABSAI1I0.1/\""
   ]
  },
  {
   "cell_type": "markdown",
   "metadata": {
    "id": "sGrVUZeiJMem"
   },
   "source": [
    "### **Model Evaluation: Spanish**\n"
   ]
  },
  {
   "cell_type": "markdown",
   "metadata": {
    "id": "3YCgdisXJMem"
   },
   "source": [
    "#### **Evaluation Full Model**"
   ]
  },
  {
   "cell_type": "markdown",
   "metadata": {
    "id": "LCBgyuPlJMem"
   },
   "source": [
    "Evaluation on final training epoch:\n"
   ]
  },
  {
   "cell_type": "code",
   "execution_count": null,
   "metadata": {
    "colab": {
     "background_save": true
    },
    "id": "PVKZvaRFJMen"
   },
   "outputs": [],
   "source": [
    "! python /content/CL-TASD-MvP/model/main_train.py --task \"cl_mvp_tasd\" --num_beams \"1\" --dataset \"MABSA\" --model_prefix \"Multilingual_Small_MABSA\" --language \"Multilingual_Small\" --test_language \"Spanish\"   --top_k 5 --do_contr_sent --do_contr_aspect --num_train_epochs 20 --do_inference --train_batch_size 16 --eval_batch_size 64 --weight_decay 0.1 --warmup_steps 0.1 --model_name_or_path \"/content/drive/MyDrive/data/models/MABSAIcl_mvp_tasdIgoogle/mt5-largeIbeamsI1IwdI0.1Imax_epochsI20IesI0IaccI1IlrI0.0001Icont_lossI0.05Icont_tempI0.25IseedI42IMultilingual_Small_MABSAI5I0.1IsentIaspect/\""
   ]
  },
  {
   "cell_type": "code",
   "execution_count": null,
   "metadata": {
    "colab": {
     "background_save": true
    },
    "id": "oNrizqIHJMen"
   },
   "outputs": [],
   "source": [
    "! python /content/CL-TASD-MvP/model/main_train.py --do_con_dec --task \"cl_mvp_tasd\" --num_beams \"1\" --dataset \"MABSA\" --model_prefix \"Multilingual_Small_MABSA\" --language \"Multilingual_Small\" --test_language \"Spanish\"   --top_k 5 --do_contr_sent --do_contr_aspect --num_train_epochs 20 --do_inference --train_batch_size 16 --eval_batch_size 64 --weight_decay 0.1 --warmup_steps 0.1 --model_name_or_path \"/content/drive/MyDrive/data/models/MABSAIcl_mvp_tasdIgoogle/mt5-largeIbeamsI1IwdI0.1Imax_epochsI20IesI0IaccI1IlrI0.0001Icont_lossI0.05Icont_tempI0.25IseedI42IMultilingual_Small_MABSAI5I0.1IsentIaspect/\""
   ]
  },
  {
   "cell_type": "markdown",
   "metadata": {
    "id": "LmBDXtHlJMen"
   },
   "source": [
    "Evaluation on best checkpoint of the last 5 training epochs:\n"
   ]
  },
  {
   "cell_type": "code",
   "execution_count": null,
   "metadata": {
    "colab": {
     "background_save": true
    },
    "id": "8KjOStx_JMen"
   },
   "outputs": [],
   "source": [
    "! python /content/CL-TASD-MvP/model/main_train.py --task \"cl_mvp_tasd\" --num_beams \"1\" --dataset \"MABSA\" --model_prefix \"Multilingual_Small_MABSA\" --language \"Multilingual_Small\" --test_language \"Spanish\"   --top_k 5 --do_contr_sent --do_contr_aspect --num_train_epochs 20 --do_inference_best_5 --train_batch_size 16 --eval_batch_size 64 --weight_decay 0.1 --warmup_steps 0.1 --model_name_or_path \"/content/drive/MyDrive/data/models/MABSAIcl_mvp_tasdIgoogle/mt5-largeIbeamsI1IwdI0.1Imax_epochsI20IesI0IaccI1IlrI0.0001Icont_lossI0.05Icont_tempI0.25IseedI42IMultilingual_Small_MABSAI5I0.1IsentIaspect/\""
   ]
  },
  {
   "cell_type": "code",
   "execution_count": null,
   "metadata": {
    "colab": {
     "background_save": true
    },
    "id": "3mhHzhPpJMen"
   },
   "outputs": [],
   "source": [
    "! python /content/CL-TASD-MvP/model/main_train.py --do_con_dec --task \"cl_mvp_tasd\" --num_beams \"1\" --dataset \"MABSA\" --model_prefix \"Multilingual_Small_MABSA\" --language \"Multilingual_Small\" --test_language \"Spanish\"   --top_k 5 --do_contr_sent --do_contr_aspect --num_train_epochs 20 --do_inference_best_5 --train_batch_size 16 --eval_batch_size 64 --weight_decay 0.1 --warmup_steps 0.1 --model_name_or_path \"/content/drive/MyDrive/data/models/MABSAIcl_mvp_tasdIgoogle/mt5-largeIbeamsI1IwdI0.1Imax_epochsI20IesI0IaccI1IlrI0.0001Icont_lossI0.05Icont_tempI0.25IseedI42IMultilingual_Small_MABSAI5I0.1IsentIaspect/\""
   ]
  },
  {
   "cell_type": "markdown",
   "metadata": {
    "id": "4wxqra7TJMen"
   },
   "source": [
    "Evaluation on best checkpoint:\n"
   ]
  },
  {
   "cell_type": "code",
   "execution_count": null,
   "metadata": {
    "colab": {
     "background_save": true
    },
    "id": "K52h4jCtJMen"
   },
   "outputs": [],
   "source": [
    "! python /content/CL-TASD-MvP/model/main_train.py --task \"cl_mvp_tasd\" --num_beams \"1\" --dataset \"MABSA\" --model_prefix \"Multilingual_Small_MABSA\" --language \"Multilingual_Small\" --test_language \"Spanish\"   --top_k 5 --do_contr_sent --do_contr_aspect --num_train_epochs 20 --do_inference_best_ckpt --train_batch_size 16 --eval_batch_size 64 --weight_decay 0.1 --warmup_steps 0.1 --model_name_or_path \"/content/drive/MyDrive/data/models/MABSAIcl_mvp_tasdIgoogle/mt5-largeIbeamsI1IwdI0.1Imax_epochsI20IesI0IaccI1IlrI0.0001Icont_lossI0.05Icont_tempI0.25IseedI42IMultilingual_Small_MABSAI5I0.1IsentIaspect/\""
   ]
  },
  {
   "cell_type": "code",
   "execution_count": null,
   "metadata": {
    "colab": {
     "background_save": true
    },
    "id": "qJkjyhyHJMeo"
   },
   "outputs": [],
   "source": [
    "! python /content/CL-TASD-MvP/model/main_train.py --do_con_dec --task \"cl_mvp_tasd\" --num_beams \"1\" --dataset \"MABSA\" --model_prefix \"Multilingual_Small_MABSA\" --language \"Multilingual_Small\" --test_language \"Spanish\"   --top_k 5 --do_contr_sent --do_contr_aspect --num_train_epochs 20 --do_inference_best_ckpt --train_batch_size 16 --eval_batch_size 64 --weight_decay 0.1 --warmup_steps 0.1 --model_name_or_path \"/content/drive/MyDrive/data/models/MABSAIcl_mvp_tasdIgoogle/mt5-largeIbeamsI1IwdI0.1Imax_epochsI20IesI0IaccI1IlrI0.0001Icont_lossI0.05Icont_tempI0.25IseedI42IMultilingual_Small_MABSAI5I0.1IsentIaspect/\""
   ]
  },
  {
   "cell_type": "markdown",
   "metadata": {
    "id": "qitXqciIJMeo"
   },
   "source": [
    "#### **Evaluation MVP Only**"
   ]
  },
  {
   "cell_type": "markdown",
   "metadata": {
    "id": "Y9uvSiXSJMeo"
   },
   "source": [
    "Evaluation on final training epoch:\n"
   ]
  },
  {
   "cell_type": "code",
   "execution_count": null,
   "metadata": {
    "colab": {
     "background_save": true
    },
    "id": "mo9rM0_BJMeo"
   },
   "outputs": [],
   "source": [
    "! python /content/CL-TASD-MvP/model/main_train.py --task \"cl_mvp_tasd\" --num_beams \"1\" --dataset \"MABSA\" --model_prefix \"Multilingual_Small_MABSA\" --language \"Multilingual_Small\" --test_language \"Spanish\"   --top_k 5 --num_train_epochs 20 --do_inference --train_batch_size 16 --eval_batch_size 64 --weight_decay 0.1 --warmup_steps 0.1 --model_name_or_path \"/content/drive/MyDrive/data/models/MABSAIcl_mvp_tasdIgoogle/mt5-largeIbeamsI1IwdI0.1Imax_epochsI20IesI0IaccI1IlrI0.0001Icont_lossI0.05Icont_tempI0.25IseedI42IMultilingual_Small_MABSAI5I0.1/\""
   ]
  },
  {
   "cell_type": "code",
   "execution_count": null,
   "metadata": {
    "colab": {
     "background_save": true
    },
    "id": "_PNm70V0JMeo"
   },
   "outputs": [],
   "source": [
    "! python /content/CL-TASD-MvP/model/main_train.py --do_con_dec --task \"cl_mvp_tasd\" --num_beams \"1\" --dataset \"MABSA\" --model_prefix \"Multilingual_Small_MABSA\" --language \"Multilingual_Small\" --test_language \"Spanish\"   --top_k 5 --num_train_epochs 20 --do_inference --train_batch_size 16 --eval_batch_size 64 --weight_decay 0.1 --warmup_steps 0.1 --model_name_or_path \"/content/drive/MyDrive/data/models/MABSAIcl_mvp_tasdIgoogle/mt5-largeIbeamsI1IwdI0.1Imax_epochsI20IesI0IaccI1IlrI0.0001Icont_lossI0.05Icont_tempI0.25IseedI42IMultilingual_Small_MABSAI5I0.1/\""
   ]
  },
  {
   "cell_type": "markdown",
   "metadata": {
    "id": "t-UuZNLYJMeo"
   },
   "source": [
    "Evaluation on best checkpoint of the last 5 training epochs:\n"
   ]
  },
  {
   "cell_type": "code",
   "execution_count": null,
   "metadata": {
    "colab": {
     "background_save": true
    },
    "id": "mdrLVmw5JMeo"
   },
   "outputs": [],
   "source": [
    "! python /content/CL-TASD-MvP/model/main_train.py --task \"cl_mvp_tasd\" --num_beams \"1\" --dataset \"MABSA\" --model_prefix \"Multilingual_Small_MABSA\" --language \"Multilingual_Small\" --test_language \"Spanish\"   --top_k 5 --num_train_epochs 20 --do_inference_best_5 --train_batch_size 16 --eval_batch_size 64 --weight_decay 0.1 --warmup_steps 0.1 --model_name_or_path \"/content/drive/MyDrive/data/models/MABSAIcl_mvp_tasdIgoogle/mt5-largeIbeamsI1IwdI0.1Imax_epochsI20IesI0IaccI1IlrI0.0001Icont_lossI0.05Icont_tempI0.25IseedI42IMultilingual_Small_MABSAI5I0.1/\""
   ]
  },
  {
   "cell_type": "code",
   "execution_count": null,
   "metadata": {
    "colab": {
     "background_save": true
    },
    "id": "pqICrFq6JMeo"
   },
   "outputs": [],
   "source": [
    "! python /content/CL-TASD-MvP/model/main_train.py --do_con_dec --task \"cl_mvp_tasd\" --num_beams \"1\" --dataset \"MABSA\" --model_prefix \"Multilingual_Small_MABSA\" --language \"Multilingual_Small\" --test_language \"Spanish\"   --top_k 5 --num_train_epochs 20 --do_inference_best_5 --train_batch_size 16 --eval_batch_size 64 --weight_decay 0.1 --warmup_steps 0.1 --model_name_or_path \"/content/drive/MyDrive/data/models/MABSAIcl_mvp_tasdIgoogle/mt5-largeIbeamsI1IwdI0.1Imax_epochsI20IesI0IaccI1IlrI0.0001Icont_lossI0.05Icont_tempI0.25IseedI42IMultilingual_Small_MABSAI5I0.1/\""
   ]
  },
  {
   "cell_type": "markdown",
   "metadata": {
    "id": "Vu_JGPiFJMeo"
   },
   "source": [
    "Evaluation on best checkpoint:\n"
   ]
  },
  {
   "cell_type": "code",
   "execution_count": null,
   "metadata": {
    "colab": {
     "background_save": true
    },
    "id": "Y3TA0QeAJMep"
   },
   "outputs": [],
   "source": [
    "! python /content/CL-TASD-MvP/model/main_train.py --task \"cl_mvp_tasd\" --num_beams \"1\" --dataset \"MABSA\" --model_prefix \"Multilingual_Small_MABSA\" --language \"Multilingual_Small\" --test_language \"Spanish\"   --top_k 5 --num_train_epochs 20 --do_inference_best_ckpt --train_batch_size 16 --eval_batch_size 64 --weight_decay 0.1 --warmup_steps 0.1 --model_name_or_path \"/content/drive/MyDrive/data/models/MABSAIcl_mvp_tasdIgoogle/mt5-largeIbeamsI1IwdI0.1Imax_epochsI20IesI0IaccI1IlrI0.0001Icont_lossI0.05Icont_tempI0.25IseedI42IMultilingual_Small_MABSAI5I0.1/\""
   ]
  },
  {
   "cell_type": "code",
   "execution_count": null,
   "metadata": {
    "colab": {
     "background_save": true
    },
    "id": "YUuw9PSZJMep"
   },
   "outputs": [],
   "source": [
    "! python /content/CL-TASD-MvP/model/main_train.py --do_con_dec --task \"cl_mvp_tasd\" --num_beams \"1\" --dataset \"MABSA\" --model_prefix \"Multilingual_Small_MABSA\" --language \"Multilingual_Small\" --test_language \"Spanish\"   --top_k 5 --num_train_epochs 20 --do_inference_best_ckpt --train_batch_size 16 --eval_batch_size 64 --weight_decay 0.1 --warmup_steps 0.1 --model_name_or_path \"/content/drive/MyDrive/data/models/MABSAIcl_mvp_tasdIgoogle/mt5-largeIbeamsI1IwdI0.1Imax_epochsI20IesI0IaccI1IlrI0.0001Icont_lossI0.05Icont_tempI0.25IseedI42IMultilingual_Small_MABSAI5I0.1/\""
   ]
  },
  {
   "cell_type": "markdown",
   "metadata": {
    "id": "hpnuT75cJMep"
   },
   "source": [
    "#### **Evaluation Only CL**"
   ]
  },
  {
   "cell_type": "markdown",
   "metadata": {
    "id": "0XgfAx1yJMep"
   },
   "source": [
    "Evaluation on final training epoch:\n"
   ]
  },
  {
   "cell_type": "code",
   "execution_count": null,
   "metadata": {
    "colab": {
     "background_save": true
    },
    "id": "1ygN8whBJMep"
   },
   "outputs": [],
   "source": [
    "! python /content/CL-TASD-MvP/model/main_train.py --task \"cl_mvp_tasd\" --num_beams \"1\" --dataset \"MABSA\" --model_prefix \"Multilingual_Small_MABSA\" --language \"Multilingual_Small\" --test_language \"Spanish\"   --top_k 1 --do_contr_sent --do_contr_aspect --num_train_epochs 20 --do_inference --train_batch_size 16 --eval_batch_size 64 --weight_decay 0.1 --warmup_steps 0.1 --model_name_or_path \"/content/drive/MyDrive/data/models/MABSAIcl_mvp_tasdIgoogle/mt5-largeIbeamsI1IwdI0.1Imax_epochsI20IesI0IaccI1IlrI0.0001Icont_lossI0.05Icont_tempI0.25IseedI42IMultilingual_Small_MABSAI1I0.1IsentIaspect/\""
   ]
  },
  {
   "cell_type": "code",
   "execution_count": null,
   "metadata": {
    "colab": {
     "background_save": true
    },
    "id": "jnbtlGSbJMep"
   },
   "outputs": [],
   "source": [
    "! python /content/CL-TASD-MvP/model/main_train.py --do_con_dec --task \"cl_mvp_tasd\" --num_beams \"1\" --dataset \"MABSA\" --model_prefix \"Multilingual_Small_MABSA\" --language \"Multilingual_Small\" --test_language \"Spanish\"   --top_k 1 --do_contr_sent --do_contr_aspect --num_train_epochs 20 --do_inference --train_batch_size 16 --eval_batch_size 64 --weight_decay 0.1 --warmup_steps 0.1 --model_name_or_path \"/content/drive/MyDrive/data/models/MABSAIcl_mvp_tasdIgoogle/mt5-largeIbeamsI1IwdI0.1Imax_epochsI20IesI0IaccI1IlrI0.0001Icont_lossI0.05Icont_tempI0.25IseedI42IMultilingual_Small_MABSAI1I0.1IsentIaspect/\""
   ]
  },
  {
   "cell_type": "markdown",
   "metadata": {
    "id": "o9NeKIMwJMep"
   },
   "source": [
    "Evaluation on best checkpoint of the last 5 training epochs:\n"
   ]
  },
  {
   "cell_type": "code",
   "execution_count": null,
   "metadata": {
    "colab": {
     "background_save": true
    },
    "id": "K6o3GJJPJMep"
   },
   "outputs": [],
   "source": [
    "! python /content/CL-TASD-MvP/model/main_train.py --task \"cl_mvp_tasd\" --num_beams \"1\" --dataset \"MABSA\" --model_prefix \"Multilingual_Small_MABSA\" --language \"Multilingual_Small\" --test_language \"Spanish\"   --top_k 1 --do_contr_sent --do_contr_aspect --num_train_epochs 20 --do_inference_best_5 --train_batch_size 16 --eval_batch_size 64 --weight_decay 0.1 --warmup_steps 0.1 --model_name_or_path \"/content/drive/MyDrive/data/models/MABSAIcl_mvp_tasdIgoogle/mt5-largeIbeamsI1IwdI0.1Imax_epochsI20IesI0IaccI1IlrI0.0001Icont_lossI0.05Icont_tempI0.25IseedI42IMultilingual_Small_MABSAI1I0.1IsentIaspect/\""
   ]
  },
  {
   "cell_type": "code",
   "execution_count": null,
   "metadata": {
    "colab": {
     "background_save": true
    },
    "id": "ocQJ3fyPJMep"
   },
   "outputs": [],
   "source": [
    "! python /content/CL-TASD-MvP/model/main_train.py --do_con_dec --task \"cl_mvp_tasd\" --num_beams \"1\" --dataset \"MABSA\" --model_prefix \"Multilingual_Small_MABSA\" --language \"Multilingual_Small\" --test_language \"Spanish\"   --top_k 1 --do_contr_sent --do_contr_aspect --num_train_epochs 20 --do_inference_best_5 --train_batch_size 16 --eval_batch_size 64 --weight_decay 0.1 --warmup_steps 0.1 --model_name_or_path \"/content/drive/MyDrive/data/models/MABSAIcl_mvp_tasdIgoogle/mt5-largeIbeamsI1IwdI0.1Imax_epochsI20IesI0IaccI1IlrI0.0001Icont_lossI0.05Icont_tempI0.25IseedI42IMultilingual_Small_MABSAI1I0.1IsentIaspect/\""
   ]
  },
  {
   "cell_type": "markdown",
   "metadata": {
    "id": "AMvVk5cUJMep"
   },
   "source": [
    "Evaluation on best checkpoint:\n"
   ]
  },
  {
   "cell_type": "code",
   "execution_count": null,
   "metadata": {
    "colab": {
     "background_save": true
    },
    "id": "wcRBuimdJMep"
   },
   "outputs": [],
   "source": [
    "! python /content/CL-TASD-MvP/model/main_train.py --task \"cl_mvp_tasd\" --num_beams \"1\" --dataset \"MABSA\" --model_prefix \"Multilingual_Small_MABSA\" --language \"Multilingual_Small\" --test_language \"Spanish\"   --top_k 1 --do_contr_sent --do_contr_aspect --num_train_epochs 20 --do_inference_best_ckpt --train_batch_size 16 --eval_batch_size 64 --weight_decay 0.1 --warmup_steps 0.1 --model_name_or_path \"/content/drive/MyDrive/data/models/MABSAIcl_mvp_tasdIgoogle/mt5-largeIbeamsI1IwdI0.1Imax_epochsI20IesI0IaccI1IlrI0.0001Icont_lossI0.05Icont_tempI0.25IseedI42IMultilingual_Small_MABSAI1I0.1IsentIaspect/\""
   ]
  },
  {
   "cell_type": "code",
   "execution_count": null,
   "metadata": {
    "colab": {
     "background_save": true
    },
    "id": "YiWFIBe_JMep"
   },
   "outputs": [],
   "source": [
    "! python /content/CL-TASD-MvP/model/main_train.py --do_con_dec --task \"cl_mvp_tasd\" --num_beams \"1\" --dataset \"MABSA\" --model_prefix \"Multilingual_Small_MABSA\" --language \"Multilingual_Small\" --test_language \"Spanish\"   --top_k 1 --do_contr_sent --do_contr_aspect --num_train_epochs 20 --do_inference_best_ckpt --train_batch_size 16 --eval_batch_size 64 --weight_decay 0.1 --warmup_steps 0.1 --model_name_or_path \"/content/drive/MyDrive/data/models/MABSAIcl_mvp_tasdIgoogle/mt5-largeIbeamsI1IwdI0.1Imax_epochsI20IesI0IaccI1IlrI0.0001Icont_lossI0.05Icont_tempI0.25IseedI42IMultilingual_Small_MABSAI1I0.1IsentIaspect/\""
   ]
  },
  {
   "cell_type": "markdown",
   "metadata": {
    "id": "ZsQE6iH8JMep"
   },
   "source": [
    "#### **Evaluation Base MT5**"
   ]
  },
  {
   "cell_type": "markdown",
   "metadata": {
    "id": "6ne-_VOiJMeq"
   },
   "source": [
    "Evaluation on final training epoch:\n"
   ]
  },
  {
   "cell_type": "code",
   "execution_count": null,
   "metadata": {
    "colab": {
     "background_save": true
    },
    "id": "S-1Ys9-_JMeq"
   },
   "outputs": [],
   "source": [
    "! python /content/CL-TASD-MvP/model/main_train.py --task \"cl_mvp_tasd\" --num_beams \"1\" --dataset \"MABSA\" --model_prefix \"Multilingual_Small_MABSA\" --language \"Multilingual_Small\" --test_language \"Spanish\"   --top_k 1 --num_train_epochs 20 --do_inference --train_batch_size 16 --eval_batch_size 64 --weight_decay 0.1 --warmup_steps 0.1 --model_name_or_path \"/content/drive/MyDrive/data/models/MABSAIcl_mvp_tasdIgoogle/mt5-largeIbeamsI1IwdI0.1Imax_epochsI20IesI0IaccI1IlrI0.0001Icont_lossI0.05Icont_tempI0.25IseedI42IMultilingual_Small_MABSAI1I0.1/\""
   ]
  },
  {
   "cell_type": "code",
   "execution_count": null,
   "metadata": {
    "colab": {
     "background_save": true
    },
    "id": "GFdxRcsxJMeq"
   },
   "outputs": [],
   "source": [
    "! python /content/CL-TASD-MvP/model/main_train.py --do_con_dec --task \"cl_mvp_tasd\" --num_beams \"1\" --dataset \"MABSA\" --model_prefix \"Multilingual_Small_MABSA\" --language \"Multilingual_Small\" --test_language \"Spanish\"   --top_k 1 --num_train_epochs 20 --do_inference --train_batch_size 16 --eval_batch_size 64 --weight_decay 0.1 --warmup_steps 0.1 --model_name_or_path \"/content/drive/MyDrive/data/models/MABSAIcl_mvp_tasdIgoogle/mt5-largeIbeamsI1IwdI0.1Imax_epochsI20IesI0IaccI1IlrI0.0001Icont_lossI0.05Icont_tempI0.25IseedI42IMultilingual_Small_MABSAI1I0.1/\""
   ]
  },
  {
   "cell_type": "markdown",
   "metadata": {
    "id": "Go0iP525JMeq"
   },
   "source": [
    "Evaluation on best checkpoint of the last 5 training epochs:\n"
   ]
  },
  {
   "cell_type": "code",
   "execution_count": null,
   "metadata": {
    "colab": {
     "background_save": true
    },
    "id": "TjHIjxOMJMeq"
   },
   "outputs": [],
   "source": [
    "! python /content/CL-TASD-MvP/model/main_train.py --task \"cl_mvp_tasd\" --num_beams \"1\" --dataset \"MABSA\" --model_prefix \"Multilingual_Small_MABSA\" --language \"Multilingual_Small\" --test_language \"Spanish\"   --top_k 1 --num_train_epochs 20 --do_inference_best_5 --train_batch_size 16 --eval_batch_size 64 --weight_decay 0.1 --warmup_steps 0.1 --model_name_or_path \"/content/drive/MyDrive/data/models/MABSAIcl_mvp_tasdIgoogle/mt5-largeIbeamsI1IwdI0.1Imax_epochsI20IesI0IaccI1IlrI0.0001Icont_lossI0.05Icont_tempI0.25IseedI42IMultilingual_Small_MABSAI1I0.1/\""
   ]
  },
  {
   "cell_type": "code",
   "execution_count": null,
   "metadata": {
    "colab": {
     "background_save": true
    },
    "id": "MYl2h5gmJMeq"
   },
   "outputs": [],
   "source": [
    "! python /content/CL-TASD-MvP/model/main_train.py --do_con_dec --task \"cl_mvp_tasd\" --num_beams \"1\" --dataset \"MABSA\" --model_prefix \"Multilingual_Small_MABSA\" --language \"Multilingual_Small\" --test_language \"Spanish\"   --top_k 1 --num_train_epochs 20 --do_inference_best_5 --train_batch_size 16 --eval_batch_size 64 --weight_decay 0.1 --warmup_steps 0.1 --model_name_or_path \"/content/drive/MyDrive/data/models/MABSAIcl_mvp_tasdIgoogle/mt5-largeIbeamsI1IwdI0.1Imax_epochsI20IesI0IaccI1IlrI0.0001Icont_lossI0.05Icont_tempI0.25IseedI42IMultilingual_Small_MABSAI1I0.1/\""
   ]
  },
  {
   "cell_type": "markdown",
   "metadata": {
    "id": "DiXCI2-mJMeq"
   },
   "source": [
    "Evaluation on best checkpoint:\n"
   ]
  },
  {
   "cell_type": "code",
   "execution_count": null,
   "metadata": {
    "colab": {
     "background_save": true
    },
    "id": "IrAejXN6JMeq"
   },
   "outputs": [],
   "source": [
    "! python /content/CL-TASD-MvP/model/main_train.py --task \"cl_mvp_tasd\" --num_beams \"1\" --dataset \"MABSA\" --model_prefix \"Multilingual_Small_MABSA\" --language \"Multilingual_Small\" --test_language \"Spanish\"   --top_k 1 --num_train_epochs 20 --do_inference_best_ckpt --train_batch_size 16 --eval_batch_size 64 --weight_decay 0.1 --warmup_steps 0.1 --model_name_or_path \"/content/drive/MyDrive/data/models/MABSAIcl_mvp_tasdIgoogle/mt5-largeIbeamsI1IwdI0.1Imax_epochsI20IesI0IaccI1IlrI0.0001Icont_lossI0.05Icont_tempI0.25IseedI42IMultilingual_Small_MABSAI1I0.1/\""
   ]
  },
  {
   "cell_type": "code",
   "execution_count": null,
   "metadata": {
    "colab": {
     "background_save": true
    },
    "id": "jjqmQQwMJMeq"
   },
   "outputs": [],
   "source": [
    "! python /content/CL-TASD-MvP/model/main_train.py --do_con_dec --task \"cl_mvp_tasd\" --num_beams \"1\" --dataset \"MABSA\" --model_prefix \"Multilingual_Small_MABSA\" --language \"Multilingual_Small\" --test_language \"Spanish\"   --top_k 1 --num_train_epochs 20 --do_inference_best_ckpt --train_batch_size 16 --eval_batch_size 64 --weight_decay 0.1 --warmup_steps 0.1 --model_name_or_path \"/content/drive/MyDrive/data/models/MABSAIcl_mvp_tasdIgoogle/mt5-largeIbeamsI1IwdI0.1Imax_epochsI20IesI0IaccI1IlrI0.0001Icont_lossI0.05Icont_tempI0.25IseedI42IMultilingual_Small_MABSAI1I0.1/\""
   ]
  },
  {
   "cell_type": "markdown",
   "metadata": {
    "id": "YLwE59RlJTpN"
   },
   "source": [
    "### **Model Evaluation: Dutch**\n"
   ]
  },
  {
   "cell_type": "markdown",
   "metadata": {
    "id": "C2c71h2CJTpO"
   },
   "source": [
    "#### **Evaluation Full Model**"
   ]
  },
  {
   "cell_type": "markdown",
   "metadata": {
    "id": "nkA43P5zJTpO"
   },
   "source": [
    "Evaluation on final training epoch:\n"
   ]
  },
  {
   "cell_type": "code",
   "execution_count": null,
   "metadata": {
    "colab": {
     "background_save": true
    },
    "id": "CnRDe72eJTpO"
   },
   "outputs": [],
   "source": [
    "! python /content/CL-TASD-MvP/model/main_train.py --task \"cl_mvp_tasd\" --num_beams \"1\" --dataset \"MABSA\" --model_prefix \"Multilingual_Small_MABSA\" --language \"Multilingual_Small\" --test_language \"Dutch\"   --top_k 5 --do_contr_sent --do_contr_aspect --num_train_epochs 20 --do_inference --train_batch_size 16 --eval_batch_size 64 --weight_decay 0.1 --warmup_steps 0.1 --model_name_or_path \"/content/drive/MyDrive/data/models/MABSAIcl_mvp_tasdIgoogle/mt5-largeIbeamsI1IwdI0.1Imax_epochsI20IesI0IaccI1IlrI0.0001Icont_lossI0.05Icont_tempI0.25IseedI42IMultilingual_Small_MABSAI5I0.1IsentIaspect/\""
   ]
  },
  {
   "cell_type": "code",
   "execution_count": null,
   "metadata": {
    "colab": {
     "background_save": true
    },
    "id": "Y-f9KS1hJTpO"
   },
   "outputs": [],
   "source": [
    "! python /content/CL-TASD-MvP/model/main_train.py --do_con_dec --task \"cl_mvp_tasd\" --num_beams \"1\" --dataset \"MABSA\" --model_prefix \"Multilingual_Small_MABSA\" --language \"Multilingual_Small\" --test_language \"Dutch\"   --top_k 5 --do_contr_sent --do_contr_aspect --num_train_epochs 20 --do_inference --train_batch_size 16 --eval_batch_size 64 --weight_decay 0.1 --warmup_steps 0.1 --model_name_or_path \"/content/drive/MyDrive/data/models/MABSAIcl_mvp_tasdIgoogle/mt5-largeIbeamsI1IwdI0.1Imax_epochsI20IesI0IaccI1IlrI0.0001Icont_lossI0.05Icont_tempI0.25IseedI42IMultilingual_Small_MABSAI5I0.1IsentIaspect/\""
   ]
  },
  {
   "cell_type": "markdown",
   "metadata": {
    "id": "1mGTksiuJTpO"
   },
   "source": [
    "Evaluation on best checkpoint of the last 5 training epochs:\n"
   ]
  },
  {
   "cell_type": "code",
   "execution_count": null,
   "metadata": {
    "colab": {
     "background_save": true
    },
    "id": "Rrv_NEqMJTpO"
   },
   "outputs": [],
   "source": [
    "! python /content/CL-TASD-MvP/model/main_train.py --task \"cl_mvp_tasd\" --num_beams \"1\" --dataset \"MABSA\" --model_prefix \"Multilingual_Small_MABSA\" --language \"Multilingual_Small\" --test_language \"Dutch\"   --top_k 5 --do_contr_sent --do_contr_aspect --num_train_epochs 20 --do_inference_best_5 --train_batch_size 16 --eval_batch_size 64 --weight_decay 0.1 --warmup_steps 0.1 --model_name_or_path \"/content/drive/MyDrive/data/models/MABSAIcl_mvp_tasdIgoogle/mt5-largeIbeamsI1IwdI0.1Imax_epochsI20IesI0IaccI1IlrI0.0001Icont_lossI0.05Icont_tempI0.25IseedI42IMultilingual_Small_MABSAI5I0.1IsentIaspect/\""
   ]
  },
  {
   "cell_type": "code",
   "execution_count": null,
   "metadata": {
    "colab": {
     "background_save": true
    },
    "id": "wt1fnFKGJTpO"
   },
   "outputs": [],
   "source": [
    "! python /content/CL-TASD-MvP/model/main_train.py --do_con_dec --task \"cl_mvp_tasd\" --num_beams \"1\" --dataset \"MABSA\" --model_prefix \"Multilingual_Small_MABSA\" --language \"Multilingual_Small\" --test_language \"Dutch\"   --top_k 5 --do_contr_sent --do_contr_aspect --num_train_epochs 20 --do_inference_best_5 --train_batch_size 16 --eval_batch_size 64 --weight_decay 0.1 --warmup_steps 0.1 --model_name_or_path \"/content/drive/MyDrive/data/models/MABSAIcl_mvp_tasdIgoogle/mt5-largeIbeamsI1IwdI0.1Imax_epochsI20IesI0IaccI1IlrI0.0001Icont_lossI0.05Icont_tempI0.25IseedI42IMultilingual_Small_MABSAI5I0.1IsentIaspect/\""
   ]
  },
  {
   "cell_type": "markdown",
   "metadata": {
    "id": "VpGVo3DYJTpO"
   },
   "source": [
    "Evaluation on best checkpoint:\n"
   ]
  },
  {
   "cell_type": "code",
   "execution_count": null,
   "metadata": {
    "colab": {
     "background_save": true
    },
    "id": "miGR1ytnJTpO"
   },
   "outputs": [],
   "source": [
    "! python /content/CL-TASD-MvP/model/main_train.py --task \"cl_mvp_tasd\" --num_beams \"1\" --dataset \"MABSA\" --model_prefix \"Multilingual_Small_MABSA\" --language \"Multilingual_Small\" --test_language \"Dutch\"   --top_k 5 --do_contr_sent --do_contr_aspect --num_train_epochs 20 --do_inference_best_ckpt --train_batch_size 16 --eval_batch_size 64 --weight_decay 0.1 --warmup_steps 0.1 --model_name_or_path \"/content/drive/MyDrive/data/models/MABSAIcl_mvp_tasdIgoogle/mt5-largeIbeamsI1IwdI0.1Imax_epochsI20IesI0IaccI1IlrI0.0001Icont_lossI0.05Icont_tempI0.25IseedI42IMultilingual_Small_MABSAI5I0.1IsentIaspect/\""
   ]
  },
  {
   "cell_type": "code",
   "execution_count": null,
   "metadata": {
    "colab": {
     "background_save": true
    },
    "id": "2TjOOwmwJTpO"
   },
   "outputs": [],
   "source": [
    "! python /content/CL-TASD-MvP/model/main_train.py --do_con_dec --task \"cl_mvp_tasd\" --num_beams \"1\" --dataset \"MABSA\" --model_prefix \"Multilingual_Small_MABSA\" --language \"Multilingual_Small\" --test_language \"Dutch\"   --top_k 5 --do_contr_sent --do_contr_aspect --num_train_epochs 20 --do_inference_best_ckpt --train_batch_size 16 --eval_batch_size 64 --weight_decay 0.1 --warmup_steps 0.1 --model_name_or_path \"/content/drive/MyDrive/data/models/MABSAIcl_mvp_tasdIgoogle/mt5-largeIbeamsI1IwdI0.1Imax_epochsI20IesI0IaccI1IlrI0.0001Icont_lossI0.05Icont_tempI0.25IseedI42IMultilingual_Small_MABSAI5I0.1IsentIaspect/\""
   ]
  },
  {
   "cell_type": "markdown",
   "metadata": {
    "id": "Wy64gmSYJTpO"
   },
   "source": [
    "#### **Evaluation MVP Only**"
   ]
  },
  {
   "cell_type": "markdown",
   "metadata": {
    "id": "68B0LTaaJTpO"
   },
   "source": [
    "Evaluation on final training epoch:\n"
   ]
  },
  {
   "cell_type": "code",
   "execution_count": null,
   "metadata": {
    "colab": {
     "background_save": true
    },
    "id": "KxfXqdhpJTpO"
   },
   "outputs": [],
   "source": [
    "! python /content/CL-TASD-MvP/model/main_train.py --task \"cl_mvp_tasd\" --num_beams \"1\" --dataset \"MABSA\" --model_prefix \"Multilingual_Small_MABSA\" --language \"Multilingual_Small\" --test_language \"Dutch\"   --top_k 5 --num_train_epochs 20 --do_inference --train_batch_size 16 --eval_batch_size 64 --weight_decay 0.1 --warmup_steps 0.1 --model_name_or_path \"/content/drive/MyDrive/data/models/MABSAIcl_mvp_tasdIgoogle/mt5-largeIbeamsI1IwdI0.1Imax_epochsI20IesI0IaccI1IlrI0.0001Icont_lossI0.05Icont_tempI0.25IseedI42IMultilingual_Small_MABSAI5I0.1/\""
   ]
  },
  {
   "cell_type": "code",
   "execution_count": null,
   "metadata": {
    "colab": {
     "background_save": true
    },
    "id": "SLBSFO6SJTpO"
   },
   "outputs": [],
   "source": [
    "! python /content/CL-TASD-MvP/model/main_train.py --do_con_dec --task \"cl_mvp_tasd\" --num_beams \"1\" --dataset \"MABSA\" --model_prefix \"Multilingual_Small_MABSA\" --language \"Multilingual_Small\" --test_language \"Dutch\"   --top_k 5 --num_train_epochs 20 --do_inference --train_batch_size 16 --eval_batch_size 64 --weight_decay 0.1 --warmup_steps 0.1 --model_name_or_path \"/content/drive/MyDrive/data/models/MABSAIcl_mvp_tasdIgoogle/mt5-largeIbeamsI1IwdI0.1Imax_epochsI20IesI0IaccI1IlrI0.0001Icont_lossI0.05Icont_tempI0.25IseedI42IMultilingual_Small_MABSAI5I0.1/\""
   ]
  },
  {
   "cell_type": "markdown",
   "metadata": {
    "id": "tAUoBzoPJTpP"
   },
   "source": [
    "Evaluation on best checkpoint of the last 5 training epochs:\n"
   ]
  },
  {
   "cell_type": "code",
   "execution_count": null,
   "metadata": {
    "colab": {
     "background_save": true
    },
    "id": "z9M9Qz5cJTpP"
   },
   "outputs": [],
   "source": [
    "! python /content/CL-TASD-MvP/model/main_train.py --task \"cl_mvp_tasd\" --num_beams \"1\" --dataset \"MABSA\" --model_prefix \"Multilingual_Small_MABSA\" --language \"Multilingual_Small\" --test_language \"Dutch\"   --top_k 5 --num_train_epochs 20 --do_inference_best_5 --train_batch_size 16 --eval_batch_size 64 --weight_decay 0.1 --warmup_steps 0.1 --model_name_or_path \"/content/drive/MyDrive/data/models/MABSAIcl_mvp_tasdIgoogle/mt5-largeIbeamsI1IwdI0.1Imax_epochsI20IesI0IaccI1IlrI0.0001Icont_lossI0.05Icont_tempI0.25IseedI42IMultilingual_Small_MABSAI5I0.1/\""
   ]
  },
  {
   "cell_type": "code",
   "execution_count": null,
   "metadata": {
    "colab": {
     "background_save": true
    },
    "id": "tBpsurF8JTpP"
   },
   "outputs": [],
   "source": [
    "! python /content/CL-TASD-MvP/model/main_train.py --do_con_dec --task \"cl_mvp_tasd\" --num_beams \"1\" --dataset \"MABSA\" --model_prefix \"Multilingual_Small_MABSA\" --language \"Multilingual_Small\" --test_language \"Dutch\"   --top_k 5 --num_train_epochs 20 --do_inference_best_5 --train_batch_size 16 --eval_batch_size 64 --weight_decay 0.1 --warmup_steps 0.1 --model_name_or_path \"/content/drive/MyDrive/data/models/MABSAIcl_mvp_tasdIgoogle/mt5-largeIbeamsI1IwdI0.1Imax_epochsI20IesI0IaccI1IlrI0.0001Icont_lossI0.05Icont_tempI0.25IseedI42IMultilingual_Small_MABSAI5I0.1/\""
   ]
  },
  {
   "cell_type": "markdown",
   "metadata": {
    "id": "HTte53ngJTpP"
   },
   "source": [
    "Evaluation on best checkpoint:\n"
   ]
  },
  {
   "cell_type": "code",
   "execution_count": null,
   "metadata": {
    "colab": {
     "background_save": true
    },
    "id": "mlOfn0wAJTpP"
   },
   "outputs": [],
   "source": [
    "! python /content/CL-TASD-MvP/model/main_train.py --task \"cl_mvp_tasd\" --num_beams \"1\" --dataset \"MABSA\" --model_prefix \"Multilingual_Small_MABSA\" --language \"Multilingual_Small\" --test_language \"Dutch\"   --top_k 5 --num_train_epochs 20 --do_inference_best_ckpt --train_batch_size 16 --eval_batch_size 64 --weight_decay 0.1 --warmup_steps 0.1 --model_name_or_path \"/content/drive/MyDrive/data/models/MABSAIcl_mvp_tasdIgoogle/mt5-largeIbeamsI1IwdI0.1Imax_epochsI20IesI0IaccI1IlrI0.0001Icont_lossI0.05Icont_tempI0.25IseedI42IMultilingual_Small_MABSAI5I0.1/\""
   ]
  },
  {
   "cell_type": "code",
   "execution_count": null,
   "metadata": {
    "colab": {
     "background_save": true
    },
    "id": "Zp-TapZVJTpP"
   },
   "outputs": [],
   "source": [
    "! python /content/CL-TASD-MvP/model/main_train.py --do_con_dec --task \"cl_mvp_tasd\" --num_beams \"1\" --dataset \"MABSA\" --model_prefix \"Multilingual_Small_MABSA\" --language \"Multilingual_Small\" --test_language \"Dutch\"   --top_k 5 --num_train_epochs 20 --do_inference_best_ckpt --train_batch_size 16 --eval_batch_size 64 --weight_decay 0.1 --warmup_steps 0.1 --model_name_or_path \"/content/drive/MyDrive/data/models/MABSAIcl_mvp_tasdIgoogle/mt5-largeIbeamsI1IwdI0.1Imax_epochsI20IesI0IaccI1IlrI0.0001Icont_lossI0.05Icont_tempI0.25IseedI42IMultilingual_Small_MABSAI5I0.1/\""
   ]
  },
  {
   "cell_type": "markdown",
   "metadata": {
    "id": "0XzpiZniJTpP"
   },
   "source": [
    "#### **Evaluation Only CL**"
   ]
  },
  {
   "cell_type": "markdown",
   "metadata": {
    "id": "STHa6rDgJTpP"
   },
   "source": [
    "Evaluation on final training epoch:\n"
   ]
  },
  {
   "cell_type": "code",
   "execution_count": null,
   "metadata": {
    "colab": {
     "background_save": true
    },
    "id": "XcAiWVyKJTpP"
   },
   "outputs": [],
   "source": [
    "! python /content/CL-TASD-MvP/model/main_train.py --task \"cl_mvp_tasd\" --num_beams \"1\" --dataset \"MABSA\" --model_prefix \"Multilingual_Small_MABSA\" --language \"Multilingual_Small\" --test_language \"Dutch\"   --top_k 1 --do_contr_sent --do_contr_aspect --num_train_epochs 20 --do_inference --train_batch_size 16 --eval_batch_size 64 --weight_decay 0.1 --warmup_steps 0.1 --model_name_or_path \"/content/drive/MyDrive/data/models/MABSAIcl_mvp_tasdIgoogle/mt5-largeIbeamsI1IwdI0.1Imax_epochsI20IesI0IaccI1IlrI0.0001Icont_lossI0.05Icont_tempI0.25IseedI42IMultilingual_Small_MABSAI1I0.1IsentIaspect/\""
   ]
  },
  {
   "cell_type": "code",
   "execution_count": null,
   "metadata": {
    "colab": {
     "background_save": true
    },
    "id": "arrCjFcOJTpP"
   },
   "outputs": [],
   "source": [
    "! python /content/CL-TASD-MvP/model/main_train.py --do_con_dec --task \"cl_mvp_tasd\" --num_beams \"1\" --dataset \"MABSA\" --model_prefix \"Multilingual_Small_MABSA\" --language \"Multilingual_Small\" --test_language \"Dutch\"   --top_k 1 --do_contr_sent --do_contr_aspect --num_train_epochs 20 --do_inference --train_batch_size 16 --eval_batch_size 64 --weight_decay 0.1 --warmup_steps 0.1 --model_name_or_path \"/content/drive/MyDrive/data/models/MABSAIcl_mvp_tasdIgoogle/mt5-largeIbeamsI1IwdI0.1Imax_epochsI20IesI0IaccI1IlrI0.0001Icont_lossI0.05Icont_tempI0.25IseedI42IMultilingual_Small_MABSAI1I0.1IsentIaspect/\""
   ]
  },
  {
   "cell_type": "markdown",
   "metadata": {
    "id": "gYOBqcrDJTpP"
   },
   "source": [
    "Evaluation on best checkpoint of the last 5 training epochs:\n"
   ]
  },
  {
   "cell_type": "code",
   "execution_count": null,
   "metadata": {
    "colab": {
     "background_save": true
    },
    "id": "0pl16XfkJTpP"
   },
   "outputs": [],
   "source": [
    "! python /content/CL-TASD-MvP/model/main_train.py --task \"cl_mvp_tasd\" --num_beams \"1\" --dataset \"MABSA\" --model_prefix \"Multilingual_Small_MABSA\" --language \"Multilingual_Small\" --test_language \"Dutch\"   --top_k 1 --do_contr_sent --do_contr_aspect --num_train_epochs 20 --do_inference_best_5 --train_batch_size 16 --eval_batch_size 64 --weight_decay 0.1 --warmup_steps 0.1 --model_name_or_path \"/content/drive/MyDrive/data/models/MABSAIcl_mvp_tasdIgoogle/mt5-largeIbeamsI1IwdI0.1Imax_epochsI20IesI0IaccI1IlrI0.0001Icont_lossI0.05Icont_tempI0.25IseedI42IMultilingual_Small_MABSAI1I0.1IsentIaspect/\""
   ]
  },
  {
   "cell_type": "code",
   "execution_count": null,
   "metadata": {
    "colab": {
     "background_save": true
    },
    "id": "nwUQ622WJTpP"
   },
   "outputs": [],
   "source": [
    "! python /content/CL-TASD-MvP/model/main_train.py --do_con_dec --task \"cl_mvp_tasd\" --num_beams \"1\" --dataset \"MABSA\" --model_prefix \"Multilingual_Small_MABSA\" --language \"Multilingual_Small\" --test_language \"Dutch\"   --top_k 1 --do_contr_sent --do_contr_aspect --num_train_epochs 20 --do_inference_best_5 --train_batch_size 16 --eval_batch_size 64 --weight_decay 0.1 --warmup_steps 0.1 --model_name_or_path \"/content/drive/MyDrive/data/models/MABSAIcl_mvp_tasdIgoogle/mt5-largeIbeamsI1IwdI0.1Imax_epochsI20IesI0IaccI1IlrI0.0001Icont_lossI0.05Icont_tempI0.25IseedI42IMultilingual_Small_MABSAI1I0.1IsentIaspect/\""
   ]
  },
  {
   "cell_type": "markdown",
   "metadata": {
    "id": "D0i80nd-JTpP"
   },
   "source": [
    "Evaluation on best checkpoint:\n"
   ]
  },
  {
   "cell_type": "code",
   "execution_count": null,
   "metadata": {
    "colab": {
     "background_save": true
    },
    "id": "plONvPGAJTpP"
   },
   "outputs": [],
   "source": [
    "! python /content/CL-TASD-MvP/model/main_train.py --task \"cl_mvp_tasd\" --num_beams \"1\" --dataset \"MABSA\" --model_prefix \"Multilingual_Small_MABSA\" --language \"Multilingual_Small\" --test_language \"Dutch\"   --top_k 1 --do_contr_sent --do_contr_aspect --num_train_epochs 20 --do_inference_best_ckpt --train_batch_size 16 --eval_batch_size 64 --weight_decay 0.1 --warmup_steps 0.1 --model_name_or_path \"/content/drive/MyDrive/data/models/MABSAIcl_mvp_tasdIgoogle/mt5-largeIbeamsI1IwdI0.1Imax_epochsI20IesI0IaccI1IlrI0.0001Icont_lossI0.05Icont_tempI0.25IseedI42IMultilingual_Small_MABSAI1I0.1IsentIaspect/\""
   ]
  },
  {
   "cell_type": "code",
   "execution_count": null,
   "metadata": {
    "colab": {
     "background_save": true
    },
    "id": "In-FHkzjJTpP"
   },
   "outputs": [],
   "source": [
    "! python /content/CL-TASD-MvP/model/main_train.py --do_con_dec --task \"cl_mvp_tasd\" --num_beams \"1\" --dataset \"MABSA\" --model_prefix \"Multilingual_Small_MABSA\" --language \"Multilingual_Small\" --test_language \"Dutch\"   --top_k 1 --do_contr_sent --do_contr_aspect --num_train_epochs 20 --do_inference_best_ckpt --train_batch_size 16 --eval_batch_size 64 --weight_decay 0.1 --warmup_steps 0.1 --model_name_or_path \"/content/drive/MyDrive/data/models/MABSAIcl_mvp_tasdIgoogle/mt5-largeIbeamsI1IwdI0.1Imax_epochsI20IesI0IaccI1IlrI0.0001Icont_lossI0.05Icont_tempI0.25IseedI42IMultilingual_Small_MABSAI1I0.1IsentIaspect/\""
   ]
  },
  {
   "cell_type": "markdown",
   "metadata": {
    "id": "zabZvXENJTpP"
   },
   "source": [
    "#### **Evaluation Base MT5**"
   ]
  },
  {
   "cell_type": "markdown",
   "metadata": {
    "id": "Z_BaJwIRJTpP"
   },
   "source": [
    "Evaluation on final training epoch:\n"
   ]
  },
  {
   "cell_type": "code",
   "execution_count": null,
   "metadata": {
    "colab": {
     "background_save": true
    },
    "id": "2q1W26NvJTpP"
   },
   "outputs": [],
   "source": [
    "! python /content/CL-TASD-MvP/model/main_train.py --task \"cl_mvp_tasd\" --num_beams \"1\" --dataset \"MABSA\" --model_prefix \"Multilingual_Small_MABSA\" --language \"Multilingual_Small\" --test_language \"Dutch\"   --top_k 1 --num_train_epochs 20 --do_inference --train_batch_size 16 --eval_batch_size 64 --weight_decay 0.1 --warmup_steps 0.1 --model_name_or_path \"/content/drive/MyDrive/data/models/MABSAIcl_mvp_tasdIgoogle/mt5-largeIbeamsI1IwdI0.1Imax_epochsI20IesI0IaccI1IlrI0.0001Icont_lossI0.05Icont_tempI0.25IseedI42IMultilingual_Small_MABSAI1I0.1/\""
   ]
  },
  {
   "cell_type": "code",
   "execution_count": null,
   "metadata": {
    "colab": {
     "background_save": true
    },
    "id": "R_JikJ76JTpQ"
   },
   "outputs": [],
   "source": [
    "! python /content/CL-TASD-MvP/model/main_train.py --do_con_dec --task \"cl_mvp_tasd\" --num_beams \"1\" --dataset \"MABSA\" --model_prefix \"Multilingual_Small_MABSA\" --language \"Multilingual_Small\" --test_language \"Dutch\"   --top_k 1 --num_train_epochs 20 --do_inference --train_batch_size 16 --eval_batch_size 64 --weight_decay 0.1 --warmup_steps 0.1 --model_name_or_path \"/content/drive/MyDrive/data/models/MABSAIcl_mvp_tasdIgoogle/mt5-largeIbeamsI1IwdI0.1Imax_epochsI20IesI0IaccI1IlrI0.0001Icont_lossI0.05Icont_tempI0.25IseedI42IMultilingual_Small_MABSAI1I0.1/\""
   ]
  },
  {
   "cell_type": "markdown",
   "metadata": {
    "id": "7eXfPOtiJTpQ"
   },
   "source": [
    "Evaluation on best checkpoint of the last 5 training epochs:\n"
   ]
  },
  {
   "cell_type": "code",
   "execution_count": null,
   "metadata": {
    "colab": {
     "background_save": true
    },
    "id": "qM0JFb7KJTpQ"
   },
   "outputs": [],
   "source": [
    "! python /content/CL-TASD-MvP/model/main_train.py --task \"cl_mvp_tasd\" --num_beams \"1\" --dataset \"MABSA\" --model_prefix \"Multilingual_Small_MABSA\" --language \"Multilingual_Small\" --test_language \"Dutch\"   --top_k 1 --num_train_epochs 20 --do_inference_best_5 --train_batch_size 16 --eval_batch_size 64 --weight_decay 0.1 --warmup_steps 0.1 --model_name_or_path \"/content/drive/MyDrive/data/models/MABSAIcl_mvp_tasdIgoogle/mt5-largeIbeamsI1IwdI0.1Imax_epochsI20IesI0IaccI1IlrI0.0001Icont_lossI0.05Icont_tempI0.25IseedI42IMultilingual_Small_MABSAI1I0.1/\""
   ]
  },
  {
   "cell_type": "code",
   "execution_count": null,
   "metadata": {
    "colab": {
     "background_save": true
    },
    "id": "9swuj8LqJTpQ"
   },
   "outputs": [],
   "source": [
    "! python /content/CL-TASD-MvP/model/main_train.py --do_con_dec --task \"cl_mvp_tasd\" --num_beams \"1\" --dataset \"MABSA\" --model_prefix \"Multilingual_Small_MABSA\" --language \"Multilingual_Small\" --test_language \"Dutch\"   --top_k 1 --num_train_epochs 20 --do_inference_best_5 --train_batch_size 16 --eval_batch_size 64 --weight_decay 0.1 --warmup_steps 0.1 --model_name_or_path \"/content/drive/MyDrive/data/models/MABSAIcl_mvp_tasdIgoogle/mt5-largeIbeamsI1IwdI0.1Imax_epochsI20IesI0IaccI1IlrI0.0001Icont_lossI0.05Icont_tempI0.25IseedI42IMultilingual_Small_MABSAI1I0.1/\""
   ]
  },
  {
   "cell_type": "markdown",
   "metadata": {
    "id": "kZYTq9q7JTpQ"
   },
   "source": [
    "Evaluation on best checkpoint:\n"
   ]
  },
  {
   "cell_type": "code",
   "execution_count": null,
   "metadata": {
    "colab": {
     "background_save": true
    },
    "id": "8334ij8kJTpQ"
   },
   "outputs": [],
   "source": [
    "! python /content/CL-TASD-MvP/model/main_train.py --task \"cl_mvp_tasd\" --num_beams \"1\" --dataset \"MABSA\" --model_prefix \"Multilingual_Small_MABSA\" --language \"Multilingual_Small\" --test_language \"Dutch\"   --top_k 1 --num_train_epochs 20 --do_inference_best_ckpt --train_batch_size 16 --eval_batch_size 64 --weight_decay 0.1 --warmup_steps 0.1 --model_name_or_path \"/content/drive/MyDrive/data/models/MABSAIcl_mvp_tasdIgoogle/mt5-largeIbeamsI1IwdI0.1Imax_epochsI20IesI0IaccI1IlrI0.0001Icont_lossI0.05Icont_tempI0.25IseedI42IMultilingual_Small_MABSAI1I0.1/\""
   ]
  },
  {
   "cell_type": "code",
   "execution_count": null,
   "metadata": {
    "colab": {
     "background_save": true
    },
    "id": "TF7A7IqwJTpQ"
   },
   "outputs": [],
   "source": [
    "! python /content/CL-TASD-MvP/model/main_train.py --do_con_dec --task \"cl_mvp_tasd\" --num_beams \"1\" --dataset \"MABSA\" --model_prefix \"Multilingual_Small_MABSA\" --language \"Multilingual_Small\" --test_language \"Dutch\"   --top_k 1 --num_train_epochs 20 --do_inference_best_ckpt --train_batch_size 16 --eval_batch_size 64 --weight_decay 0.1 --warmup_steps 0.1 --model_name_or_path \"/content/drive/MyDrive/data/models/MABSAIcl_mvp_tasdIgoogle/mt5-largeIbeamsI1IwdI0.1Imax_epochsI20IesI0IaccI1IlrI0.0001Icont_lossI0.05Icont_tempI0.25IseedI42IMultilingual_Small_MABSAI1I0.1/\""
   ]
  },
  {
   "cell_type": "markdown",
   "metadata": {
    "id": "-buzMugRJbaf"
   },
   "source": [
    "### **Model Evaluation: Turkish**\n"
   ]
  },
  {
   "cell_type": "markdown",
   "metadata": {
    "id": "FkIZ8fo0Jbaf"
   },
   "source": [
    "#### **Evaluation Full Model**"
   ]
  },
  {
   "cell_type": "markdown",
   "metadata": {
    "id": "NeXa9ZpdJbaf"
   },
   "source": [
    "Evaluation on final training epoch:\n"
   ]
  },
  {
   "cell_type": "code",
   "execution_count": null,
   "metadata": {
    "colab": {
     "background_save": true
    },
    "id": "LPMVFSK0Jbag"
   },
   "outputs": [],
   "source": [
    "! python /content/CL-TASD-MvP/model/main_train.py --task \"cl_mvp_tasd\" --num_beams \"1\" --dataset \"MABSA\" --model_prefix \"Multilingual_Small_MABSA\" --language \"Multilingual_Small\" --test_language \"Turkish\"   --top_k 5 --do_contr_sent --do_contr_aspect --num_train_epochs 20 --do_inference --train_batch_size 16 --eval_batch_size 64 --weight_decay 0.1 --warmup_steps 0.1 --model_name_or_path \"/content/drive/MyDrive/data/models/MABSAIcl_mvp_tasdIgoogle/mt5-largeIbeamsI1IwdI0.1Imax_epochsI20IesI0IaccI1IlrI0.0001Icont_lossI0.05Icont_tempI0.25IseedI42IMultilingual_Small_MABSAI5I0.1IsentIaspect/\""
   ]
  },
  {
   "cell_type": "code",
   "execution_count": null,
   "metadata": {
    "colab": {
     "background_save": true
    },
    "id": "rNzq18koJbag"
   },
   "outputs": [],
   "source": [
    "! python /content/CL-TASD-MvP/model/main_train.py --do_con_dec --task \"cl_mvp_tasd\" --num_beams \"1\" --dataset \"MABSA\" --model_prefix \"Multilingual_Small_MABSA\" --language \"Multilingual_Small\" --test_language \"Turkish\"   --top_k 5 --do_contr_sent --do_contr_aspect --num_train_epochs 20 --do_inference --train_batch_size 16 --eval_batch_size 64 --weight_decay 0.1 --warmup_steps 0.1 --model_name_or_path \"/content/drive/MyDrive/data/models/MABSAIcl_mvp_tasdIgoogle/mt5-largeIbeamsI1IwdI0.1Imax_epochsI20IesI0IaccI1IlrI0.0001Icont_lossI0.05Icont_tempI0.25IseedI42IMultilingual_Small_MABSAI5I0.1IsentIaspect/\""
   ]
  },
  {
   "cell_type": "markdown",
   "metadata": {
    "id": "olUzH4sFJbag"
   },
   "source": [
    "Evaluation on best checkpoint of the last 5 training epochs:\n"
   ]
  },
  {
   "cell_type": "code",
   "execution_count": null,
   "metadata": {
    "colab": {
     "background_save": true
    },
    "id": "nE85IFQjJbag"
   },
   "outputs": [],
   "source": [
    "! python /content/CL-TASD-MvP/model/main_train.py --task \"cl_mvp_tasd\" --num_beams \"1\" --dataset \"MABSA\" --model_prefix \"Multilingual_Small_MABSA\" --language \"Multilingual_Small\" --test_language \"Turkish\"   --top_k 5 --do_contr_sent --do_contr_aspect --num_train_epochs 20 --do_inference_best_5 --train_batch_size 16 --eval_batch_size 64 --weight_decay 0.1 --warmup_steps 0.1 --model_name_or_path \"/content/drive/MyDrive/data/models/MABSAIcl_mvp_tasdIgoogle/mt5-largeIbeamsI1IwdI0.1Imax_epochsI20IesI0IaccI1IlrI0.0001Icont_lossI0.05Icont_tempI0.25IseedI42IMultilingual_Small_MABSAI5I0.1IsentIaspect/\""
   ]
  },
  {
   "cell_type": "code",
   "execution_count": null,
   "metadata": {
    "colab": {
     "background_save": true
    },
    "id": "16afEh_kJbag"
   },
   "outputs": [],
   "source": [
    "! python /content/CL-TASD-MvP/model/main_train.py --do_con_dec --task \"cl_mvp_tasd\" --num_beams \"1\" --dataset \"MABSA\" --model_prefix \"Multilingual_Small_MABSA\" --language \"Multilingual_Small\" --test_language \"Turkish\"   --top_k 5 --do_contr_sent --do_contr_aspect --num_train_epochs 20 --do_inference_best_5 --train_batch_size 16 --eval_batch_size 64 --weight_decay 0.1 --warmup_steps 0.1 --model_name_or_path \"/content/drive/MyDrive/data/models/MABSAIcl_mvp_tasdIgoogle/mt5-largeIbeamsI1IwdI0.1Imax_epochsI20IesI0IaccI1IlrI0.0001Icont_lossI0.05Icont_tempI0.25IseedI42IMultilingual_Small_MABSAI5I0.1IsentIaspect/\""
   ]
  },
  {
   "cell_type": "markdown",
   "metadata": {
    "id": "bLLlgp_-Jbag"
   },
   "source": [
    "Evaluation on best checkpoint:\n"
   ]
  },
  {
   "cell_type": "code",
   "execution_count": null,
   "metadata": {
    "colab": {
     "background_save": true
    },
    "id": "291kcRqWJbag"
   },
   "outputs": [],
   "source": [
    "! python /content/CL-TASD-MvP/model/main_train.py --task \"cl_mvp_tasd\" --num_beams \"1\" --dataset \"MABSA\" --model_prefix \"Multilingual_Small_MABSA\" --language \"Multilingual_Small\" --test_language \"Turkish\"   --top_k 5 --do_contr_sent --do_contr_aspect --num_train_epochs 20 --do_inference_best_ckpt --train_batch_size 16 --eval_batch_size 64 --weight_decay 0.1 --warmup_steps 0.1 --model_name_or_path \"/content/drive/MyDrive/data/models/MABSAIcl_mvp_tasdIgoogle/mt5-largeIbeamsI1IwdI0.1Imax_epochsI20IesI0IaccI1IlrI0.0001Icont_lossI0.05Icont_tempI0.25IseedI42IMultilingual_Small_MABSAI5I0.1IsentIaspect/\""
   ]
  },
  {
   "cell_type": "code",
   "execution_count": null,
   "metadata": {
    "colab": {
     "background_save": true
    },
    "id": "MgYPDi9BJbag"
   },
   "outputs": [],
   "source": [
    "! python /content/CL-TASD-MvP/model/main_train.py --do_con_dec --task \"cl_mvp_tasd\" --num_beams \"1\" --dataset \"MABSA\" --model_prefix \"Multilingual_Small_MABSA\" --language \"Multilingual_Small\" --test_language \"Turkish\"   --top_k 5 --do_contr_sent --do_contr_aspect --num_train_epochs 20 --do_inference_best_ckpt --train_batch_size 16 --eval_batch_size 64 --weight_decay 0.1 --warmup_steps 0.1 --model_name_or_path \"/content/drive/MyDrive/data/models/MABSAIcl_mvp_tasdIgoogle/mt5-largeIbeamsI1IwdI0.1Imax_epochsI20IesI0IaccI1IlrI0.0001Icont_lossI0.05Icont_tempI0.25IseedI42IMultilingual_Small_MABSAI5I0.1IsentIaspect/\""
   ]
  },
  {
   "cell_type": "markdown",
   "metadata": {
    "id": "kPxyevaqJbah"
   },
   "source": [
    "#### **Evaluation MVP Only**"
   ]
  },
  {
   "cell_type": "markdown",
   "metadata": {
    "id": "VQSc8iL9Jbah"
   },
   "source": [
    "Evaluation on final training epoch:\n"
   ]
  },
  {
   "cell_type": "code",
   "execution_count": null,
   "metadata": {
    "colab": {
     "background_save": true
    },
    "id": "fjjXLhs0Jbah"
   },
   "outputs": [],
   "source": [
    "! python /content/CL-TASD-MvP/model/main_train.py --task \"cl_mvp_tasd\" --num_beams \"1\" --dataset \"MABSA\" --model_prefix \"Multilingual_Small_MABSA\" --language \"Multilingual_Small\" --test_language \"Turkish\"   --top_k 5 --num_train_epochs 20 --do_inference --train_batch_size 16 --eval_batch_size 64 --weight_decay 0.1 --warmup_steps 0.1 --model_name_or_path \"/content/drive/MyDrive/data/models/MABSAIcl_mvp_tasdIgoogle/mt5-largeIbeamsI1IwdI0.1Imax_epochsI20IesI0IaccI1IlrI0.0001Icont_lossI0.05Icont_tempI0.25IseedI42IMultilingual_Small_MABSAI5I0.1/\""
   ]
  },
  {
   "cell_type": "code",
   "execution_count": null,
   "metadata": {
    "colab": {
     "background_save": true
    },
    "id": "Gh-ssRRNJbah"
   },
   "outputs": [],
   "source": [
    "! python /content/CL-TASD-MvP/model/main_train.py --do_con_dec --task \"cl_mvp_tasd\" --num_beams \"1\" --dataset \"MABSA\" --model_prefix \"Multilingual_Small_MABSA\" --language \"Multilingual_Small\" --test_language \"Turkish\"   --top_k 5 --num_train_epochs 20 --do_inference --train_batch_size 16 --eval_batch_size 64 --weight_decay 0.1 --warmup_steps 0.1 --model_name_or_path \"/content/drive/MyDrive/data/models/MABSAIcl_mvp_tasdIgoogle/mt5-largeIbeamsI1IwdI0.1Imax_epochsI20IesI0IaccI1IlrI0.0001Icont_lossI0.05Icont_tempI0.25IseedI42IMultilingual_Small_MABSAI5I0.1/\""
   ]
  },
  {
   "cell_type": "markdown",
   "metadata": {
    "id": "SFZwaLv0Jbah"
   },
   "source": [
    "Evaluation on best checkpoint of the last 5 training epochs:\n"
   ]
  },
  {
   "cell_type": "code",
   "execution_count": null,
   "metadata": {
    "colab": {
     "background_save": true
    },
    "id": "GKKWoEroJbah"
   },
   "outputs": [],
   "source": [
    "! python /content/CL-TASD-MvP/model/main_train.py --task \"cl_mvp_tasd\" --num_beams \"1\" --dataset \"MABSA\" --model_prefix \"Multilingual_Small_MABSA\" --language \"Multilingual_Small\" --test_language \"Turkish\"   --top_k 5 --num_train_epochs 20 --do_inference_best_5 --train_batch_size 16 --eval_batch_size 64 --weight_decay 0.1 --warmup_steps 0.1 --model_name_or_path \"/content/drive/MyDrive/data/models/MABSAIcl_mvp_tasdIgoogle/mt5-largeIbeamsI1IwdI0.1Imax_epochsI20IesI0IaccI1IlrI0.0001Icont_lossI0.05Icont_tempI0.25IseedI42IMultilingual_Small_MABSAI5I0.1/\""
   ]
  },
  {
   "cell_type": "code",
   "execution_count": null,
   "metadata": {
    "colab": {
     "background_save": true
    },
    "id": "OJFTSehbJbah"
   },
   "outputs": [],
   "source": [
    "! python /content/CL-TASD-MvP/model/main_train.py --do_con_dec --task \"cl_mvp_tasd\" --num_beams \"1\" --dataset \"MABSA\" --model_prefix \"Multilingual_Small_MABSA\" --language \"Multilingual_Small\" --test_language \"Turkish\"   --top_k 5 --num_train_epochs 20 --do_inference_best_5 --train_batch_size 16 --eval_batch_size 64 --weight_decay 0.1 --warmup_steps 0.1 --model_name_or_path \"/content/drive/MyDrive/data/models/MABSAIcl_mvp_tasdIgoogle/mt5-largeIbeamsI1IwdI0.1Imax_epochsI20IesI0IaccI1IlrI0.0001Icont_lossI0.05Icont_tempI0.25IseedI42IMultilingual_Small_MABSAI5I0.1/\""
   ]
  },
  {
   "cell_type": "markdown",
   "metadata": {
    "id": "ye2Xkpm_Jbah"
   },
   "source": [
    "Evaluation on best checkpoint:\n"
   ]
  },
  {
   "cell_type": "code",
   "execution_count": null,
   "metadata": {
    "colab": {
     "background_save": true
    },
    "id": "xgPn51D7Jbai"
   },
   "outputs": [],
   "source": [
    "! python /content/CL-TASD-MvP/model/main_train.py --task \"cl_mvp_tasd\" --num_beams \"1\" --dataset \"MABSA\" --model_prefix \"Multilingual_Small_MABSA\" --language \"Multilingual_Small\" --test_language \"Turkish\"   --top_k 5 --num_train_epochs 20 --do_inference_best_ckpt --train_batch_size 16 --eval_batch_size 64 --weight_decay 0.1 --warmup_steps 0.1 --model_name_or_path \"/content/drive/MyDrive/data/models/MABSAIcl_mvp_tasdIgoogle/mt5-largeIbeamsI1IwdI0.1Imax_epochsI20IesI0IaccI1IlrI0.0001Icont_lossI0.05Icont_tempI0.25IseedI42IMultilingual_Small_MABSAI5I0.1/\""
   ]
  },
  {
   "cell_type": "code",
   "execution_count": null,
   "metadata": {
    "colab": {
     "background_save": true
    },
    "id": "kREprt83Jbai"
   },
   "outputs": [],
   "source": [
    "! python /content/CL-TASD-MvP/model/main_train.py --do_con_dec --task \"cl_mvp_tasd\" --num_beams \"1\" --dataset \"MABSA\" --model_prefix \"Multilingual_Small_MABSA\" --language \"Multilingual_Small\" --test_language \"Turkish\"   --top_k 5 --num_train_epochs 20 --do_inference_best_ckpt --train_batch_size 16 --eval_batch_size 64 --weight_decay 0.1 --warmup_steps 0.1 --model_name_or_path \"/content/drive/MyDrive/data/models/MABSAIcl_mvp_tasdIgoogle/mt5-largeIbeamsI1IwdI0.1Imax_epochsI20IesI0IaccI1IlrI0.0001Icont_lossI0.05Icont_tempI0.25IseedI42IMultilingual_Small_MABSAI5I0.1/\""
   ]
  },
  {
   "cell_type": "markdown",
   "metadata": {
    "id": "X3HnZaquJbai"
   },
   "source": [
    "#### **Evaluation Only CL**"
   ]
  },
  {
   "cell_type": "markdown",
   "metadata": {
    "id": "3Mti2KQUJbai"
   },
   "source": [
    "Evaluation on final training epoch:\n"
   ]
  },
  {
   "cell_type": "code",
   "execution_count": null,
   "metadata": {
    "colab": {
     "background_save": true
    },
    "id": "Yi_JA3tkJbai"
   },
   "outputs": [],
   "source": [
    "! python /content/CL-TASD-MvP/model/main_train.py --task \"cl_mvp_tasd\" --num_beams \"1\" --dataset \"MABSA\" --model_prefix \"Multilingual_Small_MABSA\" --language \"Multilingual_Small\" --test_language \"Turkish\"   --top_k 1 --do_contr_sent --do_contr_aspect --num_train_epochs 20 --do_inference --train_batch_size 16 --eval_batch_size 64 --weight_decay 0.1 --warmup_steps 0.1 --model_name_or_path \"/content/drive/MyDrive/data/models/MABSAIcl_mvp_tasdIgoogle/mt5-largeIbeamsI1IwdI0.1Imax_epochsI20IesI0IaccI1IlrI0.0001Icont_lossI0.05Icont_tempI0.25IseedI42IMultilingual_Small_MABSAI1I0.1IsentIaspect/\""
   ]
  },
  {
   "cell_type": "code",
   "execution_count": null,
   "metadata": {
    "colab": {
     "background_save": true
    },
    "id": "KT4qQmt4Jbai"
   },
   "outputs": [],
   "source": [
    "! python /content/CL-TASD-MvP/model/main_train.py --do_con_dec --task \"cl_mvp_tasd\" --num_beams \"1\" --dataset \"MABSA\" --model_prefix \"Multilingual_Small_MABSA\" --language \"Multilingual_Small\" --test_language \"Turkish\"   --top_k 1 --do_contr_sent --do_contr_aspect --num_train_epochs 20 --do_inference --train_batch_size 16 --eval_batch_size 64 --weight_decay 0.1 --warmup_steps 0.1 --model_name_or_path \"/content/drive/MyDrive/data/models/MABSAIcl_mvp_tasdIgoogle/mt5-largeIbeamsI1IwdI0.1Imax_epochsI20IesI0IaccI1IlrI0.0001Icont_lossI0.05Icont_tempI0.25IseedI42IMultilingual_Small_MABSAI1I0.1IsentIaspect/\""
   ]
  },
  {
   "cell_type": "markdown",
   "metadata": {
    "id": "as6imwPaJbai"
   },
   "source": [
    "Evaluation on best checkpoint of the last 5 training epochs:\n"
   ]
  },
  {
   "cell_type": "code",
   "execution_count": null,
   "metadata": {
    "colab": {
     "background_save": true
    },
    "id": "ip1BO4y7Jbai"
   },
   "outputs": [],
   "source": [
    "! python /content/CL-TASD-MvP/model/main_train.py --task \"cl_mvp_tasd\" --num_beams \"1\" --dataset \"MABSA\" --model_prefix \"Multilingual_Small_MABSA\" --language \"Multilingual_Small\" --test_language \"Turkish\"   --top_k 1 --do_contr_sent --do_contr_aspect --num_train_epochs 20 --do_inference_best_5 --train_batch_size 16 --eval_batch_size 64 --weight_decay 0.1 --warmup_steps 0.1 --model_name_or_path \"/content/drive/MyDrive/data/models/MABSAIcl_mvp_tasdIgoogle/mt5-largeIbeamsI1IwdI0.1Imax_epochsI20IesI0IaccI1IlrI0.0001Icont_lossI0.05Icont_tempI0.25IseedI42IMultilingual_Small_MABSAI1I0.1IsentIaspect/\""
   ]
  },
  {
   "cell_type": "code",
   "execution_count": null,
   "metadata": {
    "colab": {
     "background_save": true
    },
    "id": "xhRqBMQ_Jbai"
   },
   "outputs": [],
   "source": [
    "! python /content/CL-TASD-MvP/model/main_train.py --do_con_dec --task \"cl_mvp_tasd\" --num_beams \"1\" --dataset \"MABSA\" --model_prefix \"Multilingual_Small_MABSA\" --language \"Multilingual_Small\" --test_language \"Turkish\"   --top_k 1 --do_contr_sent --do_contr_aspect --num_train_epochs 20 --do_inference_best_5 --train_batch_size 16 --eval_batch_size 64 --weight_decay 0.1 --warmup_steps 0.1 --model_name_or_path \"/content/drive/MyDrive/data/models/MABSAIcl_mvp_tasdIgoogle/mt5-largeIbeamsI1IwdI0.1Imax_epochsI20IesI0IaccI1IlrI0.0001Icont_lossI0.05Icont_tempI0.25IseedI42IMultilingual_Small_MABSAI1I0.1IsentIaspect/\""
   ]
  },
  {
   "cell_type": "markdown",
   "metadata": {
    "id": "5_4fUoNNJbai"
   },
   "source": [
    "Evaluation on best checkpoint:\n"
   ]
  },
  {
   "cell_type": "code",
   "execution_count": null,
   "metadata": {
    "colab": {
     "background_save": true
    },
    "id": "d4wQBHt1Jbai"
   },
   "outputs": [],
   "source": [
    "! python /content/CL-TASD-MvP/model/main_train.py --task \"cl_mvp_tasd\" --num_beams \"1\" --dataset \"MABSA\" --model_prefix \"Multilingual_Small_MABSA\" --language \"Multilingual_Small\" --test_language \"Turkish\"   --top_k 1 --do_contr_sent --do_contr_aspect --num_train_epochs 20 --do_inference_best_ckpt --train_batch_size 16 --eval_batch_size 64 --weight_decay 0.1 --warmup_steps 0.1 --model_name_or_path \"/content/drive/MyDrive/data/models/MABSAIcl_mvp_tasdIgoogle/mt5-largeIbeamsI1IwdI0.1Imax_epochsI20IesI0IaccI1IlrI0.0001Icont_lossI0.05Icont_tempI0.25IseedI42IMultilingual_Small_MABSAI1I0.1IsentIaspect/\""
   ]
  },
  {
   "cell_type": "code",
   "execution_count": null,
   "metadata": {
    "colab": {
     "background_save": true
    },
    "id": "YdPk9QM0Jbai"
   },
   "outputs": [],
   "source": [
    "! python /content/CL-TASD-MvP/model/main_train.py --do_con_dec --task \"cl_mvp_tasd\" --num_beams \"1\" --dataset \"MABSA\" --model_prefix \"Multilingual_Small_MABSA\" --language \"Multilingual_Small\" --test_language \"Turkish\"   --top_k 1 --do_contr_sent --do_contr_aspect --num_train_epochs 20 --do_inference_best_ckpt --train_batch_size 16 --eval_batch_size 64 --weight_decay 0.1 --warmup_steps 0.1 --model_name_or_path \"/content/drive/MyDrive/data/models/MABSAIcl_mvp_tasdIgoogle/mt5-largeIbeamsI1IwdI0.1Imax_epochsI20IesI0IaccI1IlrI0.0001Icont_lossI0.05Icont_tempI0.25IseedI42IMultilingual_Small_MABSAI1I0.1IsentIaspect/\""
   ]
  },
  {
   "cell_type": "markdown",
   "metadata": {
    "id": "mND8sQReJbai"
   },
   "source": [
    "#### **Evaluation Base MT5**"
   ]
  },
  {
   "cell_type": "markdown",
   "metadata": {
    "id": "6XpN5c94Jbai"
   },
   "source": [
    "Evaluation on final training epoch:\n"
   ]
  },
  {
   "cell_type": "code",
   "execution_count": null,
   "metadata": {
    "colab": {
     "background_save": true
    },
    "id": "afWNciLcJbai"
   },
   "outputs": [],
   "source": [
    "! python /content/CL-TASD-MvP/model/main_train.py --task \"cl_mvp_tasd\" --num_beams \"1\" --dataset \"MABSA\" --model_prefix \"Multilingual_Small_MABSA\" --language \"Multilingual_Small\" --test_language \"Turkish\"   --top_k 1 --num_train_epochs 20 --do_inference --train_batch_size 16 --eval_batch_size 64 --weight_decay 0.1 --warmup_steps 0.1 --model_name_or_path \"/content/drive/MyDrive/data/models/MABSAIcl_mvp_tasdIgoogle/mt5-largeIbeamsI1IwdI0.1Imax_epochsI20IesI0IaccI1IlrI0.0001Icont_lossI0.05Icont_tempI0.25IseedI42IMultilingual_Small_MABSAI1I0.1/\""
   ]
  },
  {
   "cell_type": "code",
   "execution_count": null,
   "metadata": {
    "colab": {
     "background_save": true
    },
    "id": "ibX-j_lGJbai"
   },
   "outputs": [],
   "source": [
    "! python /content/CL-TASD-MvP/model/main_train.py --do_con_dec --task \"cl_mvp_tasd\" --num_beams \"1\" --dataset \"MABSA\" --model_prefix \"Multilingual_Small_MABSA\" --language \"Multilingual_Small\" --test_language \"Turkish\"   --top_k 1 --num_train_epochs 20 --do_inference --train_batch_size 16 --eval_batch_size 64 --weight_decay 0.1 --warmup_steps 0.1 --model_name_or_path \"/content/drive/MyDrive/data/models/MABSAIcl_mvp_tasdIgoogle/mt5-largeIbeamsI1IwdI0.1Imax_epochsI20IesI0IaccI1IlrI0.0001Icont_lossI0.05Icont_tempI0.25IseedI42IMultilingual_Small_MABSAI1I0.1/\""
   ]
  },
  {
   "cell_type": "markdown",
   "metadata": {
    "id": "U4MPgsyUJbai"
   },
   "source": [
    "Evaluation on best checkpoint of the last 5 training epochs:\n"
   ]
  },
  {
   "cell_type": "code",
   "execution_count": null,
   "metadata": {
    "colab": {
     "background_save": true
    },
    "id": "fOxzg2s2Jbaj"
   },
   "outputs": [],
   "source": [
    "! python /content/CL-TASD-MvP/model/main_train.py --task \"cl_mvp_tasd\" --num_beams \"1\" --dataset \"MABSA\" --model_prefix \"Multilingual_Small_MABSA\" --language \"Multilingual_Small\" --test_language \"Turkish\"   --top_k 1 --num_train_epochs 20 --do_inference_best_5 --train_batch_size 16 --eval_batch_size 64 --weight_decay 0.1 --warmup_steps 0.1 --model_name_or_path \"/content/drive/MyDrive/data/models/MABSAIcl_mvp_tasdIgoogle/mt5-largeIbeamsI1IwdI0.1Imax_epochsI20IesI0IaccI1IlrI0.0001Icont_lossI0.05Icont_tempI0.25IseedI42IMultilingual_Small_MABSAI1I0.1/\""
   ]
  },
  {
   "cell_type": "code",
   "execution_count": null,
   "metadata": {
    "colab": {
     "background_save": true
    },
    "id": "ARlQVCBpJbaj"
   },
   "outputs": [],
   "source": [
    "! python /content/CL-TASD-MvP/model/main_train.py --do_con_dec --task \"cl_mvp_tasd\" --num_beams \"1\" --dataset \"MABSA\" --model_prefix \"Multilingual_Small_MABSA\" --language \"Multilingual_Small\" --test_language \"Turkish\"   --top_k 1 --num_train_epochs 20 --do_inference_best_5 --train_batch_size 16 --eval_batch_size 64 --weight_decay 0.1 --warmup_steps 0.1 --model_name_or_path \"/content/drive/MyDrive/data/models/MABSAIcl_mvp_tasdIgoogle/mt5-largeIbeamsI1IwdI0.1Imax_epochsI20IesI0IaccI1IlrI0.0001Icont_lossI0.05Icont_tempI0.25IseedI42IMultilingual_Small_MABSAI1I0.1/\""
   ]
  },
  {
   "cell_type": "markdown",
   "metadata": {
    "id": "y6jaUpjDJbaj"
   },
   "source": [
    "Evaluation on best checkpoint:\n"
   ]
  },
  {
   "cell_type": "code",
   "execution_count": null,
   "metadata": {
    "colab": {
     "background_save": true
    },
    "id": "-irLAMpoJbaj"
   },
   "outputs": [],
   "source": [
    "! python /content/CL-TASD-MvP/model/main_train.py --task \"cl_mvp_tasd\" --num_beams \"1\" --dataset \"MABSA\" --model_prefix \"Multilingual_Small_MABSA\" --language \"Multilingual_Small\" --test_language \"Turkish\"   --top_k 1 --num_train_epochs 20 --do_inference_best_ckpt --train_batch_size 16 --eval_batch_size 64 --weight_decay 0.1 --warmup_steps 0.1 --model_name_or_path \"/content/drive/MyDrive/data/models/MABSAIcl_mvp_tasdIgoogle/mt5-largeIbeamsI1IwdI0.1Imax_epochsI20IesI0IaccI1IlrI0.0001Icont_lossI0.05Icont_tempI0.25IseedI42IMultilingual_Small_MABSAI1I0.1/\""
   ]
  },
  {
   "cell_type": "code",
   "execution_count": null,
   "metadata": {
    "colab": {
     "background_save": true
    },
    "id": "qTHVeB6UJbaj"
   },
   "outputs": [],
   "source": [
    "! python /content/CL-TASD-MvP/model/main_train.py --do_con_dec --task \"cl_mvp_tasd\" --num_beams \"1\" --dataset \"MABSA\" --model_prefix \"Multilingual_Small_MABSA\" --language \"Multilingual_Small\" --test_language \"Turkish\"   --top_k 1 --num_train_epochs 20 --do_inference_best_ckpt --train_batch_size 16 --eval_batch_size 64 --weight_decay 0.1 --warmup_steps 0.1 --model_name_or_path \"/content/drive/MyDrive/data/models/MABSAIcl_mvp_tasdIgoogle/mt5-largeIbeamsI1IwdI0.1Imax_epochsI20IesI0IaccI1IlrI0.0001Icont_lossI0.05Icont_tempI0.25IseedI42IMultilingual_Small_MABSAI1I0.1/\""
   ]
  },
  {
   "cell_type": "markdown",
   "metadata": {
    "id": "vQpgw4GalYme"
   },
   "source": [
    "### **Model - Limited Size**"
   ]
  },
  {
   "cell_type": "markdown",
   "metadata": {
    "id": "PRoh5m_olYmf"
   },
   "source": [
    "Train the full model: MVP together with contrastive learning"
   ]
  },
  {
   "cell_type": "code",
   "execution_count": null,
   "metadata": {
    "collapsed": true,
    "id": "Qbq-tavblYmf"
   },
   "outputs": [],
   "source": [
    "! python /content/CL-TASD-MvP/model/main_train.py --task \"cl_mvp_tasd\" --num_beams \"1\"  --top_k 5 --do_contr_sent --do_contr_aspect --language \"Multilingual_Small_Limited\" --model_prefix \"Multilingual_Small_Limited_MABSA\" --dataset \"MABSA\" --do_train --train_batch_size 16 --eval_batch_size 64 --num_train_epochs 20 --cont_temp 0.25 --cont_loss 0.05 --weight_decay 0.1 --warmup_steps 0.1"
   ]
  },
  {
   "cell_type": "markdown",
   "metadata": {
    "id": "6rRfVZRlF5Nd"
   },
   "source": [
    "Train only MVP: no contrastive learning."
   ]
  },
  {
   "cell_type": "code",
   "execution_count": null,
   "metadata": {
    "colab": {
     "background_save": true,
     "base_uri": "https://localhost:8080/"
    },
    "collapsed": true,
    "id": "BZ93IiyHF5Nd",
    "outputId": "080e0aa7-6fb2-4ce5-f03d-15728485c12f"
   },
   "outputs": [],
   "source": [
    "! python /content/CL-TASD-MvP/model/main_train.py --task \"cl_mvp_tasd\" --num_beams \"1\"  --top_k 5 --language \"Multilingual_Small_Limited\" --model_prefix \"Multilingual_Small_Limited_MABSA\" --dataset \"MABSA\" --do_train --train_batch_size 16 --eval_batch_size 64 --num_train_epochs 20 --cont_temp 0.25 --cont_loss 0.05 --weight_decay 0.1 --warmup_steps 0.1"
   ]
  },
  {
   "cell_type": "markdown",
   "metadata": {
    "id": "ZQzKQMugF5Nd"
   },
   "source": [
    "Train only contrastive learning: no MVP"
   ]
  },
  {
   "cell_type": "code",
   "execution_count": null,
   "metadata": {
    "colab": {
     "background_save": true
    },
    "collapsed": true,
    "id": "bSLB0CkRF5Nd"
   },
   "outputs": [],
   "source": [
    "! python /content/CL-TASD-MvP/model/main_train.py --task \"cl_mvp_tasd\" --num_beams \"1\"  --top_k 1 --do_contr_sent --do_contr_aspect --language \"Multilingual_Small_Limited\" --model_prefix \"Multilingual_Small_Limited_MABSA\" --dataset \"MABSA\" --do_train --train_batch_size 16 --eval_batch_size 64 --num_train_epochs 20 --cont_temp 0.25 --cont_loss 0.05 --weight_decay 0.1 --warmup_steps 0.1"
   ]
  },
  {
   "cell_type": "markdown",
   "metadata": {
    "id": "P_jHB6iMlYmg"
   },
   "source": [
    "Train base mT5 model"
   ]
  },
  {
   "cell_type": "code",
   "execution_count": null,
   "metadata": {
    "colab": {
     "base_uri": "https://localhost:8080/"
    },
    "executionInfo": {
     "elapsed": 2257412,
     "status": "ok",
     "timestamp": 1754077901158,
     "user": {
      "displayName": "Philipp Gottschalk",
      "userId": "02502242344906393626"
     },
     "user_tz": -120
    },
    "id": "0o5jzpkHlYmg",
    "outputId": "c9a69f54-3691-4ce8-90ef-015c832641ca"
   },
   "outputs": [],
   "source": [
    "! python /content/CL-TASD-MvP/model/main_train.py --task \"cl_mvp_tasd\" --num_beams \"1\"  --top_k 1 --language \"Multilingual_Small_Limited\" --model_prefix \"Multilingual_Small_Limited_MABSA\" --dataset \"MABSA\" --do_train --train_batch_size 16 --eval_batch_size 64 --num_train_epochs 20 --cont_temp 0.25 --cont_loss 0.05 --weight_decay 0.1 --warmup_steps 0.1"
   ]
  },
  {
   "cell_type": "markdown",
   "metadata": {
    "id": "ayWGtlzm7KJu"
   },
   "source": [
    "#### **Evaluation Base MT5**"
   ]
  },
  {
   "cell_type": "markdown",
   "metadata": {
    "id": "6KCVJyR97R0f"
   },
   "source": [
    "Evaluation on best checkpoint of the last 5 training epochs:\n"
   ]
  },
  {
   "cell_type": "markdown",
   "metadata": {
    "id": "r9EZho9T7nZa"
   },
   "source": [
    "**English:**"
   ]
  },
  {
   "cell_type": "code",
   "execution_count": null,
   "metadata": {
    "colab": {
     "base_uri": "https://localhost:8080/"
    },
    "executionInfo": {
     "elapsed": 231781,
     "status": "ok",
     "timestamp": 1754139050241,
     "user": {
      "displayName": "Philipp Gottschalk",
      "userId": "02502242344906393626"
     },
     "user_tz": -120
    },
    "id": "sQ2IIvpv7gaf",
    "outputId": "039e38c3-f860-41cf-d675-255d6dc790a7"
   },
   "outputs": [],
   "source": [
    "! python /content/CL-TASD-MvP/model/main_train.py --task \"cl_mvp_tasd\" --num_beams \"1\" --dataset \"MABSA\" --model_prefix \"Multilingual_Small_Limited_MABSA\" --language \"Multilingual_Small_Limited\" --test_language \"English\"   --top_k 1 --num_train_epochs 20 --do_inference_best_5 --train_batch_size 16 --eval_batch_size 64 --weight_decay 0.1 --warmup_steps 0.1 --model_name_or_path \"/content/drive/MyDrive/data/models/MABSAIcl_mvp_tasdIgoogle/mt5-largeIbeamsI1IwdI0.1Imax_epochsI20IesI0IaccI1IlrI0.0001Icont_lossI0.05Icont_tempI0.25IseedI42IMultilingual_Small_Limited_MABSAI1I0.1/\""
   ]
  },
  {
   "cell_type": "code",
   "execution_count": null,
   "metadata": {
    "colab": {
     "base_uri": "https://localhost:8080/"
    },
    "executionInfo": {
     "elapsed": 153360,
     "status": "ok",
     "timestamp": 1754139203604,
     "user": {
      "displayName": "Philipp Gottschalk",
      "userId": "02502242344906393626"
     },
     "user_tz": -120
    },
    "id": "Qkdd3LR47gaf",
    "outputId": "0b4bf0fb-c405-4ccb-c3ef-7d5c6fbad2f2"
   },
   "outputs": [],
   "source": [
    "! python /content/CL-TASD-MvP/model/main_train.py --do_con_dec --task \"cl_mvp_tasd\" --num_beams \"1\" --dataset \"MABSA\" --model_prefix \"Multilingual_Small_Limited_MABSA\" --language \"Multilingual_Small_Limited\" --test_language \"English\"   --top_k 1 --num_train_epochs 20 --do_inference_best_5 --train_batch_size 16 --eval_batch_size 64 --weight_decay 0.1 --warmup_steps 0.1 --model_name_or_path \"/content/drive/MyDrive/data/models/MABSAIcl_mvp_tasdIgoogle/mt5-largeIbeamsI1IwdI0.1Imax_epochsI20IesI0IaccI1IlrI0.0001Icont_lossI0.05Icont_tempI0.25IseedI42IMultilingual_Small_Limited_MABSAI1I0.1/\""
   ]
  },
  {
   "cell_type": "markdown",
   "metadata": {
    "id": "YYdy4WMC7szo"
   },
   "source": [
    "**Dutch:**"
   ]
  },
  {
   "cell_type": "code",
   "execution_count": null,
   "metadata": {
    "colab": {
     "base_uri": "https://localhost:8080/"
    },
    "executionInfo": {
     "elapsed": 95639,
     "status": "ok",
     "timestamp": 1754139299220,
     "user": {
      "displayName": "Philipp Gottschalk",
      "userId": "02502242344906393626"
     },
     "user_tz": -120
    },
    "id": "uOc9A3348dyS",
    "outputId": "11aed04a-b409-457e-a890-0a69b769ee7c"
   },
   "outputs": [],
   "source": [
    "! python /content/CL-TASD-MvP/model/main_train.py --task \"cl_mvp_tasd\" --num_beams \"1\" --dataset \"MABSA\" --model_prefix \"Multilingual_Small_Limited_MABSA\" --language \"Multilingual_Small_Limited\" --test_language \"Dutch\"   --top_k 1 --num_train_epochs 20 --do_inference_best_5 --train_batch_size 16 --eval_batch_size 64 --weight_decay 0.1 --warmup_steps 0.1 --model_name_or_path \"/content/drive/MyDrive/data/models/MABSAIcl_mvp_tasdIgoogle/mt5-largeIbeamsI1IwdI0.1Imax_epochsI20IesI0IaccI1IlrI0.0001Icont_lossI0.05Icont_tempI0.25IseedI42IMultilingual_Small_Limited_MABSAI1I0.1/\""
   ]
  },
  {
   "cell_type": "code",
   "execution_count": null,
   "metadata": {
    "colab": {
     "base_uri": "https://localhost:8080/"
    },
    "executionInfo": {
     "elapsed": 189629,
     "status": "ok",
     "timestamp": 1754139488855,
     "user": {
      "displayName": "Philipp Gottschalk",
      "userId": "02502242344906393626"
     },
     "user_tz": -120
    },
    "id": "f_q0D7eP8dyS",
    "outputId": "59157f80-435f-4cc3-e9cc-147a343cb815"
   },
   "outputs": [],
   "source": [
    "! python /content/CL-TASD-MvP/model/main_train.py --do_con_dec --task \"cl_mvp_tasd\" --num_beams \"1\" --dataset \"MABSA\" --model_prefix \"Multilingual_Small_Limited_MABSA\" --language \"Multilingual_Small_Limited\" --test_language \"Dutch\"   --top_k 1 --num_train_epochs 20 --do_inference_best_5 --train_batch_size 16 --eval_batch_size 64 --weight_decay 0.1 --warmup_steps 0.1 --model_name_or_path \"/content/drive/MyDrive/data/models/MABSAIcl_mvp_tasdIgoogle/mt5-largeIbeamsI1IwdI0.1Imax_epochsI20IesI0IaccI1IlrI0.0001Icont_lossI0.05Icont_tempI0.25IseedI42IMultilingual_Small_Limited_MABSAI1I0.1/\""
   ]
  },
  {
   "cell_type": "markdown",
   "metadata": {
    "id": "_nAyYqtK8g35"
   },
   "source": [
    "**French:**"
   ]
  },
  {
   "cell_type": "code",
   "execution_count": null,
   "metadata": {
    "colab": {
     "base_uri": "https://localhost:8080/"
    },
    "executionInfo": {
     "elapsed": 88683,
     "status": "ok",
     "timestamp": 1754139577543,
     "user": {
      "displayName": "Philipp Gottschalk",
      "userId": "02502242344906393626"
     },
     "user_tz": -120
    },
    "id": "isM5QEQf8g36",
    "outputId": "9535dc80-9324-423a-f933-b6c42af10c56"
   },
   "outputs": [],
   "source": [
    "! python /content/CL-TASD-MvP/model/main_train.py --task \"cl_mvp_tasd\" --num_beams \"1\" --dataset \"MABSA\" --model_prefix \"Multilingual_Small_Limited_MABSA\" --language \"Multilingual_Small_Limited\" --test_language \"French\"   --top_k 1 --num_train_epochs 20 --do_inference_best_5 --train_batch_size 16 --eval_batch_size 64 --weight_decay 0.1 --warmup_steps 0.1 --model_name_or_path \"/content/drive/MyDrive/data/models/MABSAIcl_mvp_tasdIgoogle/mt5-largeIbeamsI1IwdI0.1Imax_epochsI20IesI0IaccI1IlrI0.0001Icont_lossI0.05Icont_tempI0.25IseedI42IMultilingual_Small_Limited_MABSAI1I0.1/\""
   ]
  },
  {
   "cell_type": "code",
   "execution_count": null,
   "metadata": {
    "colab": {
     "base_uri": "https://localhost:8080/"
    },
    "executionInfo": {
     "elapsed": 172929,
     "status": "ok",
     "timestamp": 1754139750475,
     "user": {
      "displayName": "Philipp Gottschalk",
      "userId": "02502242344906393626"
     },
     "user_tz": -120
    },
    "id": "uOfvXR8M8g37",
    "outputId": "fa2b1848-f3be-4625-e8ac-932847f66b55"
   },
   "outputs": [],
   "source": [
    "! python /content/CL-TASD-MvP/model/main_train.py --do_con_dec --task \"cl_mvp_tasd\" --num_beams \"1\" --dataset \"MABSA\" --model_prefix \"Multilingual_Small_Limited_MABSA\" --language \"Multilingual_Small_Limited\" --test_language \"French\"   --top_k 1 --num_train_epochs 20 --do_inference_best_5 --train_batch_size 16 --eval_batch_size 64 --weight_decay 0.1 --warmup_steps 0.1 --model_name_or_path \"/content/drive/MyDrive/data/models/MABSAIcl_mvp_tasdIgoogle/mt5-largeIbeamsI1IwdI0.1Imax_epochsI20IesI0IaccI1IlrI0.0001Icont_lossI0.05Icont_tempI0.25IseedI42IMultilingual_Small_Limited_MABSAI1I0.1/\""
   ]
  },
  {
   "cell_type": "markdown",
   "metadata": {
    "id": "LQ-QSLhG8l_Q"
   },
   "source": [
    "**Spanish:**"
   ]
  },
  {
   "cell_type": "code",
   "execution_count": null,
   "metadata": {
    "colab": {
     "base_uri": "https://localhost:8080/"
    },
    "executionInfo": {
     "elapsed": 93723,
     "status": "ok",
     "timestamp": 1754139844204,
     "user": {
      "displayName": "Philipp Gottschalk",
      "userId": "02502242344906393626"
     },
     "user_tz": -120
    },
    "id": "CBHoQrwc8l_R",
    "outputId": "c4d00c07-c0eb-41f7-b788-4617c3a6a073"
   },
   "outputs": [],
   "source": [
    "! python /content/CL-TASD-MvP/model/main_train.py --task \"cl_mvp_tasd\" --num_beams \"1\" --dataset \"MABSA\" --model_prefix \"Multilingual_Small_Limited_MABSA\" --language \"Multilingual_Small_Limited\" --test_language \"Spanish\"   --top_k 1 --num_train_epochs 20 --do_inference_best_5 --train_batch_size 16 --eval_batch_size 64 --weight_decay 0.1 --warmup_steps 0.1 --model_name_or_path \"/content/drive/MyDrive/data/models/MABSAIcl_mvp_tasdIgoogle/mt5-largeIbeamsI1IwdI0.1Imax_epochsI20IesI0IaccI1IlrI0.0001Icont_lossI0.05Icont_tempI0.25IseedI42IMultilingual_Small_Limited_MABSAI1I0.1/\""
   ]
  },
  {
   "cell_type": "code",
   "execution_count": null,
   "metadata": {
    "colab": {
     "base_uri": "https://localhost:8080/"
    },
    "executionInfo": {
     "elapsed": 178466,
     "status": "ok",
     "timestamp": 1754140022674,
     "user": {
      "displayName": "Philipp Gottschalk",
      "userId": "02502242344906393626"
     },
     "user_tz": -120
    },
    "id": "qpLcEetb8l_R",
    "outputId": "674660bf-7f57-4eda-e786-5588899e3b34"
   },
   "outputs": [],
   "source": [
    "! python /content/CL-TASD-MvP/model/main_train.py --do_con_dec --task \"cl_mvp_tasd\" --num_beams \"1\" --dataset \"MABSA\" --model_prefix \"Multilingual_Small_Limited_MABSA\" --language \"Multilingual_Small_Limited\" --test_language \"Spanish\"   --top_k 1 --num_train_epochs 20 --do_inference_best_5 --train_batch_size 16 --eval_batch_size 64 --weight_decay 0.1 --warmup_steps 0.1 --model_name_or_path \"/content/drive/MyDrive/data/models/MABSAIcl_mvp_tasdIgoogle/mt5-largeIbeamsI1IwdI0.1Imax_epochsI20IesI0IaccI1IlrI0.0001Icont_lossI0.05Icont_tempI0.25IseedI42IMultilingual_Small_Limited_MABSAI1I0.1/\""
   ]
  },
  {
   "cell_type": "markdown",
   "metadata": {
    "id": "Ssj4M_7k8qie"
   },
   "source": [
    "**Turkish:**"
   ]
  },
  {
   "cell_type": "code",
   "execution_count": null,
   "metadata": {
    "colab": {
     "base_uri": "https://localhost:8080/"
    },
    "executionInfo": {
     "elapsed": 91055,
     "status": "ok",
     "timestamp": 1754140113733,
     "user": {
      "displayName": "Philipp Gottschalk",
      "userId": "02502242344906393626"
     },
     "user_tz": -120
    },
    "id": "d5-G5ygE8qie",
    "outputId": "536636d8-1a33-452c-dfe7-fa94638123f4"
   },
   "outputs": [],
   "source": [
    "! python /content/CL-TASD-MvP/model/main_train.py --task \"cl_mvp_tasd\" --num_beams \"1\" --dataset \"MABSA\" --model_prefix \"Multilingual_Small_Limited_MABSA\" --language \"Multilingual_Small_Limited\" --test_language \"Turkish\"   --top_k 1 --num_train_epochs 20 --do_inference_best_5 --train_batch_size 16 --eval_batch_size 64 --weight_decay 0.1 --warmup_steps 0.1 --model_name_or_path \"/content/drive/MyDrive/data/models/MABSAIcl_mvp_tasdIgoogle/mt5-largeIbeamsI1IwdI0.1Imax_epochsI20IesI0IaccI1IlrI0.0001Icont_lossI0.05Icont_tempI0.25IseedI42IMultilingual_Small_Limited_MABSAI1I0.1/\""
   ]
  },
  {
   "cell_type": "code",
   "execution_count": null,
   "metadata": {
    "colab": {
     "base_uri": "https://localhost:8080/"
    },
    "executionInfo": {
     "elapsed": 212444,
     "status": "ok",
     "timestamp": 1754140326187,
     "user": {
      "displayName": "Philipp Gottschalk",
      "userId": "02502242344906393626"
     },
     "user_tz": -120
    },
    "id": "ubZvJtq98qif",
    "outputId": "e1b8e196-9c6c-4370-d0c1-ca44d89fc37d"
   },
   "outputs": [],
   "source": [
    "! python /content/CL-TASD-MvP/model/main_train.py --do_con_dec --task \"cl_mvp_tasd\" --num_beams \"1\" --dataset \"MABSA\" --model_prefix \"Multilingual_Small_Limited_MABSA\" --language \"Multilingual_Small_Limited\" --test_language \"Turkish\"   --top_k 1 --num_train_epochs 20 --do_inference_best_5 --train_batch_size 16 --eval_batch_size 64 --weight_decay 0.1 --warmup_steps 0.1 --model_name_or_path \"/content/drive/MyDrive/data/models/MABSAIcl_mvp_tasdIgoogle/mt5-largeIbeamsI1IwdI0.1Imax_epochsI20IesI0IaccI1IlrI0.0001Icont_lossI0.05Icont_tempI0.25IseedI42IMultilingual_Small_Limited_MABSAI1I0.1/\""
   ]
  },
  {
   "cell_type": "markdown",
   "metadata": {
    "id": "8OVwTityIW9D"
   },
   "source": [
    "#### **Evaluation MVP only**"
   ]
  },
  {
   "cell_type": "markdown",
   "metadata": {
    "id": "8Cj1YHYyIW9D"
   },
   "source": [
    "Evaluation on best checkpoint of the last 5 training epochs:\n"
   ]
  },
  {
   "cell_type": "markdown",
   "metadata": {
    "id": "U3N6FBqvIW9D"
   },
   "source": [
    "**English:**"
   ]
  },
  {
   "cell_type": "code",
   "execution_count": null,
   "metadata": {
    "id": "L7CcHT7fIW9D"
   },
   "outputs": [],
   "source": [
    "! python /content/CL-TASD-MvP/model/main_train.py --task \"cl_mvp_tasd\" --num_beams \"1\" --dataset \"MABSA\" --model_prefix \"Multilingual_Small_Limited_MABSA\" --language \"Multilingual_Small_Limited\" --test_language \"English\"   --top_k 5 --num_train_epochs 20 --do_inference_best_5 --train_batch_size 16 --eval_batch_size 64 --weight_decay 0.1 --warmup_steps 0.1 --model_name_or_path \"/content/drive/MyDrive/data/models/MABSAIcl_mvp_tasdIgoogle/mt5-largeIbeamsI1IwdI0.1Imax_epochsI20IesI0IaccI1IlrI0.0001Icont_lossI0.05Icont_tempI0.25IseedI42IMultilingual_Small_Limited_MABSAI5I0.1/\""
   ]
  },
  {
   "cell_type": "code",
   "execution_count": null,
   "metadata": {
    "id": "knYWtH7aIW9D"
   },
   "outputs": [],
   "source": [
    "! python /content/CL-TASD-MvP/model/main_train.py --do_con_dec --task \"cl_mvp_tasd\" --num_beams \"1\" --dataset \"MABSA\" --model_prefix \"Multilingual_Small_Limited_MABSA\" --language \"Multilingual_Small_Limited\" --test_language \"English\"   --top_k 5 --num_train_epochs 20 --do_inference_best_5 --train_batch_size 16 --eval_batch_size 64 --weight_decay 0.1 --warmup_steps 0.1 --model_name_or_path \"/content/drive/MyDrive/data/models/MABSAIcl_mvp_tasdIgoogle/mt5-largeIbeamsI1IwdI0.1Imax_epochsI20IesI0IaccI1IlrI0.0001Icont_lossI0.05Icont_tempI0.25IseedI42IMultilingual_Small_Limited_MABSAI5I0.1/\""
   ]
  },
  {
   "cell_type": "markdown",
   "metadata": {
    "id": "NjWxE_A6IW9D"
   },
   "source": [
    "**Dutch:**"
   ]
  },
  {
   "cell_type": "code",
   "execution_count": null,
   "metadata": {
    "id": "Aecu1ZIdIW9E"
   },
   "outputs": [],
   "source": [
    "! python /content/CL-TASD-MvP/model/main_train.py --task \"cl_mvp_tasd\" --num_beams \"1\" --dataset \"MABSA\" --model_prefix \"Multilingual_Small_Limited_MABSA\" --language \"Multilingual_Small_Limited\" --test_language \"Dutch\"   --top_k 5 --num_train_epochs 20 --do_inference_best_5 --train_batch_size 16 --eval_batch_size 64 --weight_decay 0.1 --warmup_steps 0.1 --model_name_or_path \"/content/drive/MyDrive/data/models/MABSAIcl_mvp_tasdIgoogle/mt5-largeIbeamsI1IwdI0.1Imax_epochsI20IesI0IaccI1IlrI0.0001Icont_lossI0.05Icont_tempI0.25IseedI42IMultilingual_Small_Limited_MABSAI5I0.1/\""
   ]
  },
  {
   "cell_type": "code",
   "execution_count": null,
   "metadata": {
    "id": "rjTLBc-1IW9E"
   },
   "outputs": [],
   "source": [
    "! python /content/CL-TASD-MvP/model/main_train.py --do_con_dec --task \"cl_mvp_tasd\" --num_beams \"1\" --dataset \"MABSA\" --model_prefix \"Multilingual_Small_Limited_MABSA\" --language \"Multilingual_Small_Limited\" --test_language \"Dutch\"   --top_k 5 --num_train_epochs 20 --do_inference_best_5 --train_batch_size 16 --eval_batch_size 64 --weight_decay 0.1 --warmup_steps 0.1 --model_name_or_path \"/content/drive/MyDrive/data/models/MABSAIcl_mvp_tasdIgoogle/mt5-largeIbeamsI1IwdI0.1Imax_epochsI20IesI0IaccI1IlrI0.0001Icont_lossI0.05Icont_tempI0.25IseedI42IMultilingual_Small_Limited_MABSAI5I0.1/\""
   ]
  },
  {
   "cell_type": "markdown",
   "metadata": {
    "id": "2jWwJ-g9IW9E"
   },
   "source": [
    "**French:**"
   ]
  },
  {
   "cell_type": "code",
   "execution_count": null,
   "metadata": {
    "id": "d3lv2MDlIW9E"
   },
   "outputs": [],
   "source": [
    "! python /content/CL-TASD-MvP/model/main_train.py --task \"cl_mvp_tasd\" --num_beams \"1\" --dataset \"MABSA\" --model_prefix \"Multilingual_Small_Limited_MABSA\" --language \"Multilingual_Small_Limited\" --test_language \"French\"   --top_k 5 --num_train_epochs 20 --do_inference_best_5 --train_batch_size 16 --eval_batch_size 64 --weight_decay 0.1 --warmup_steps 0.1 --model_name_or_path \"/content/drive/MyDrive/data/models/MABSAIcl_mvp_tasdIgoogle/mt5-largeIbeamsI1IwdI0.1Imax_epochsI20IesI0IaccI1IlrI0.0001Icont_lossI0.05Icont_tempI0.25IseedI42IMultilingual_Small_Limited_MABSAI5I0.1/\""
   ]
  },
  {
   "cell_type": "code",
   "execution_count": null,
   "metadata": {
    "id": "UIYMthdCIW9E"
   },
   "outputs": [],
   "source": [
    "! python /content/CL-TASD-MvP/model/main_train.py --do_con_dec --task \"cl_mvp_tasd\" --num_beams \"1\" --dataset \"MABSA\" --model_prefix \"Multilingual_Small_Limited_MABSA\" --language \"Multilingual_Small_Limited\" --test_language \"French\"   --top_k 5 --num_train_epochs 20 --do_inference_best_5 --train_batch_size 16 --eval_batch_size 64 --weight_decay 0.1 --warmup_steps 0.1 --model_name_or_path \"/content/drive/MyDrive/data/models/MABSAIcl_mvp_tasdIgoogle/mt5-largeIbeamsI1IwdI0.1Imax_epochsI20IesI0IaccI1IlrI0.0001Icont_lossI0.05Icont_tempI0.25IseedI42IMultilingual_Small_Limited_MABSAI5I0.1/\""
   ]
  },
  {
   "cell_type": "markdown",
   "metadata": {
    "id": "SEYpjK5FIW9E"
   },
   "source": [
    "**Spanish:**"
   ]
  },
  {
   "cell_type": "code",
   "execution_count": null,
   "metadata": {
    "id": "4vyYLCuLIW9E"
   },
   "outputs": [],
   "source": [
    "! python /content/CL-TASD-MvP/model/main_train.py --task \"cl_mvp_tasd\" --num_beams \"1\" --dataset \"MABSA\" --model_prefix \"Multilingual_Small_Limited_MABSA\" --language \"Multilingual_Small_Limited\" --test_language \"Spanish\"   --top_k 5 --num_train_epochs 20 --do_inference_best_5 --train_batch_size 16 --eval_batch_size 64 --weight_decay 0.1 --warmup_steps 0.1 --model_name_or_path \"/content/drive/MyDrive/data/models/MABSAIcl_mvp_tasdIgoogle/mt5-largeIbeamsI1IwdI0.1Imax_epochsI20IesI0IaccI1IlrI0.0001Icont_lossI0.05Icont_tempI0.25IseedI42IMultilingual_Small_Limited_MABSAI5I0.1/\""
   ]
  },
  {
   "cell_type": "code",
   "execution_count": null,
   "metadata": {
    "id": "Ko4MyOcYIW9E"
   },
   "outputs": [],
   "source": [
    "! python /content/CL-TASD-MvP/model/main_train.py --do_con_dec --task \"cl_mvp_tasd\" --num_beams \"1\" --dataset \"MABSA\" --model_prefix \"Multilingual_Small_Limited_MABSA\" --language \"Multilingual_Small_Limited\" --test_language \"Spanish\"   --top_k 5 --num_train_epochs 20 --do_inference_best_5 --train_batch_size 16 --eval_batch_size 64 --weight_decay 0.1 --warmup_steps 0.1 --model_name_or_path \"/content/drive/MyDrive/data/models/MABSAIcl_mvp_tasdIgoogle/mt5-largeIbeamsI1IwdI0.1Imax_epochsI20IesI0IaccI1IlrI0.0001Icont_lossI0.05Icont_tempI0.25IseedI42IMultilingual_Small_Limited_MABSAI5I0.1/\""
   ]
  },
  {
   "cell_type": "markdown",
   "metadata": {
    "id": "65G89FVbIW9E"
   },
   "source": [
    "**Turkish:**"
   ]
  },
  {
   "cell_type": "code",
   "execution_count": null,
   "metadata": {
    "id": "EmKbMGERIW9E"
   },
   "outputs": [],
   "source": [
    "! python /content/CL-TASD-MvP/model/main_train.py --task \"cl_mvp_tasd\" --num_beams \"1\" --dataset \"MABSA\" --model_prefix \"Multilingual_Small_Limited_MABSA\" --language \"Multilingual_Small_Limited\" --test_language \"Turkish\"   --top_k 5 --num_train_epochs 20 --do_inference_best_5 --train_batch_size 16 --eval_batch_size 64 --weight_decay 0.1 --warmup_steps 0.1 --model_name_or_path \"/content/drive/MyDrive/data/models/MABSAIcl_mvp_tasdIgoogle/mt5-largeIbeamsI1IwdI0.1Imax_epochsI20IesI0IaccI1IlrI0.0001Icont_lossI0.05Icont_tempI0.25IseedI42IMultilingual_Small_Limited_MABSAI5I0.1/\""
   ]
  },
  {
   "cell_type": "code",
   "execution_count": null,
   "metadata": {
    "colab": {
     "background_save": true
    },
    "id": "L8p3rsJ4IW9F"
   },
   "outputs": [],
   "source": [
    "! python /content/CL-TASD-MvP/model/main_train.py --do_con_dec --task \"cl_mvp_tasd\" --num_beams \"1\" --dataset \"MABSA\" --model_prefix \"Multilingual_Small_Limited_MABSA\" --language \"Multilingual_Small_Limited\" --test_language \"Turkish\"   --top_k 5 --num_train_epochs 20 --do_inference_best_5 --train_batch_size 16 --eval_batch_size 64 --weight_decay 0.1 --warmup_steps 0.1 --model_name_or_path \"/content/drive/MyDrive/data/models/MABSAIcl_mvp_tasdIgoogle/mt5-largeIbeamsI1IwdI0.1Imax_epochsI20IesI0IaccI1IlrI0.0001Icont_lossI0.05Icont_tempI0.25IseedI42IMultilingual_Small_Limited_MABSAI5I0.1/\""
   ]
  },
  {
   "cell_type": "markdown",
   "metadata": {
    "id": "sBxAM7cuJHwL"
   },
   "source": [
    "#### **Evaluation Only CL**"
   ]
  },
  {
   "cell_type": "markdown",
   "metadata": {
    "id": "WwJeQeYNJHwM"
   },
   "source": [
    "Evaluation on best checkpoint of the last 5 training epochs:\n"
   ]
  },
  {
   "cell_type": "markdown",
   "metadata": {
    "id": "69cEhcekJHwM"
   },
   "source": [
    "**English:**"
   ]
  },
  {
   "cell_type": "code",
   "execution_count": null,
   "metadata": {
    "id": "dM0B70fjJHwM"
   },
   "outputs": [],
   "source": [
    "! python /content/CL-TASD-MvP/model/main_train.py --task \"cl_mvp_tasd\" --num_beams \"1\" --dataset \"MABSA\" --model_prefix \"Multilingual_Small_Limited_MABSA\" --language \"Multilingual_Small_Limited\" --test_language \"English\"   --top_k 1 --do_contr_sent --do_contr_aspect --num_train_epochs 20 --do_inference_best_5 --train_batch_size 16 --eval_batch_size 64 --weight_decay 0.1 --warmup_steps 0.1 --model_name_or_path \"/content/drive/MyDrive/data/models/MABSAIcl_mvp_tasdIgoogle/mt5-largeIbeamsI1IwdI0.1Imax_epochsI20IesI0IaccI1IlrI0.0001Icont_lossI0.05Icont_tempI0.25IseedI42IMultilingual_Small_Limited_MABSAI1I0.1IsentIaspect/\""
   ]
  },
  {
   "cell_type": "code",
   "execution_count": null,
   "metadata": {
    "id": "XjXOyHIvJHwM"
   },
   "outputs": [],
   "source": [
    "! python /content/CL-TASD-MvP/model/main_train.py --do_con_dec --task \"cl_mvp_tasd\" --num_beams \"1\" --dataset \"MABSA\" --model_prefix \"Multilingual_Small_Limited_MABSA\" --language \"Multilingual_Small_Limited\" --test_language \"English\"   --top_k 1 --do_contr_sent --do_contr_aspect --num_train_epochs 20 --do_inference_best_5 --train_batch_size 16 --eval_batch_size 64 --weight_decay 0.1 --warmup_steps 0.1 --model_name_or_path \"/content/drive/MyDrive/data/models/MABSAIcl_mvp_tasdIgoogle/mt5-largeIbeamsI1IwdI0.1Imax_epochsI20IesI0IaccI1IlrI0.0001Icont_lossI0.05Icont_tempI0.25IseedI42IMultilingual_Small_Limited_MABSAI1I0.1IsentIaspect/\""
   ]
  },
  {
   "cell_type": "markdown",
   "metadata": {
    "id": "7nyVwQHfJHwM"
   },
   "source": [
    "**Dutch:**"
   ]
  },
  {
   "cell_type": "code",
   "execution_count": null,
   "metadata": {
    "id": "yT3rRui8JHwM"
   },
   "outputs": [],
   "source": [
    "! python /content/CL-TASD-MvP/model/main_train.py --task \"cl_mvp_tasd\" --num_beams \"1\" --dataset \"MABSA\" --model_prefix \"Multilingual_Small_Limited_MABSA\" --language \"Multilingual_Small_Limited\" --test_language \"Dutch\"   --top_k 1 --do_contr_sent --do_contr_aspect --num_train_epochs 20 --do_inference_best_5 --train_batch_size 16 --eval_batch_size 64 --weight_decay 0.1 --warmup_steps 0.1 --model_name_or_path \"/content/drive/MyDrive/data/models/MABSAIcl_mvp_tasdIgoogle/mt5-largeIbeamsI1IwdI0.1Imax_epochsI20IesI0IaccI1IlrI0.0001Icont_lossI0.05Icont_tempI0.25IseedI42IMultilingual_Small_Limited_MABSAI1I0.1IsentIaspect/\""
   ]
  },
  {
   "cell_type": "code",
   "execution_count": null,
   "metadata": {
    "id": "NVCyu4zaJHwM"
   },
   "outputs": [],
   "source": [
    "! python /content/CL-TASD-MvP/model/main_train.py --do_con_dec --task \"cl_mvp_tasd\" --num_beams \"1\" --dataset \"MABSA\" --model_prefix \"Multilingual_Small_Limited_MABSA\" --language \"Multilingual_Small_Limited\" --test_language \"Dutch\"   --top_k 1 --do_contr_sent --do_contr_aspect --num_train_epochs 20 --do_inference_best_5 --train_batch_size 16 --eval_batch_size 64 --weight_decay 0.1 --warmup_steps 0.1 --model_name_or_path \"/content/drive/MyDrive/data/models/MABSAIcl_mvp_tasdIgoogle/mt5-largeIbeamsI1IwdI0.1Imax_epochsI20IesI0IaccI1IlrI0.0001Icont_lossI0.05Icont_tempI0.25IseedI42IMultilingual_Small_Limited_MABSAI1I0.1IsentIaspect/\""
   ]
  },
  {
   "cell_type": "markdown",
   "metadata": {
    "id": "nO5OTorZJHwM"
   },
   "source": [
    "**French:**"
   ]
  },
  {
   "cell_type": "code",
   "execution_count": null,
   "metadata": {
    "id": "9Ui2hhg4JHwM"
   },
   "outputs": [],
   "source": [
    "! python /content/CL-TASD-MvP/model/main_train.py --task \"cl_mvp_tasd\" --num_beams \"1\" --dataset \"MABSA\" --model_prefix \"Multilingual_Small_Limited_MABSA\" --language \"Multilingual_Small_Limited\" --test_language \"French\"   --top_k 1 --do_contr_sent --do_contr_aspect --num_train_epochs 20 --do_inference_best_5 --train_batch_size 16 --eval_batch_size 64 --weight_decay 0.1 --warmup_steps 0.1 --model_name_or_path \"/content/drive/MyDrive/data/models/MABSAIcl_mvp_tasdIgoogle/mt5-largeIbeamsI1IwdI0.1Imax_epochsI20IesI0IaccI1IlrI0.0001Icont_lossI0.05Icont_tempI0.25IseedI42IMultilingual_Small_Limited_MABSAI1I0.1IsentIaspect/\""
   ]
  },
  {
   "cell_type": "code",
   "execution_count": null,
   "metadata": {
    "id": "bqFN-XkTJHwM"
   },
   "outputs": [],
   "source": [
    "! python /content/CL-TASD-MvP/model/main_train.py --do_con_dec --task \"cl_mvp_tasd\" --num_beams \"1\" --dataset \"MABSA\" --model_prefix \"Multilingual_Small_Limited_MABSA\" --language \"Multilingual_Small_Limited\" --test_language \"French\"   --top_k 1 --do_contr_sent --do_contr_aspect --num_train_epochs 20 --do_inference_best_5 --train_batch_size 16 --eval_batch_size 64 --weight_decay 0.1 --warmup_steps 0.1 --model_name_or_path \"/content/drive/MyDrive/data/models/MABSAIcl_mvp_tasdIgoogle/mt5-largeIbeamsI1IwdI0.1Imax_epochsI20IesI0IaccI1IlrI0.0001Icont_lossI0.05Icont_tempI0.25IseedI42IMultilingual_Small_Limited_MABSAI1I0.1IsentIaspect/\""
   ]
  },
  {
   "cell_type": "markdown",
   "metadata": {
    "id": "pmF-SoPKJHwN"
   },
   "source": [
    "**Spanish:**"
   ]
  },
  {
   "cell_type": "code",
   "execution_count": null,
   "metadata": {
    "id": "VW6Dw65-JHwN"
   },
   "outputs": [],
   "source": [
    "! python /content/CL-TASD-MvP/model/main_train.py --task \"cl_mvp_tasd\" --num_beams \"1\" --dataset \"MABSA\" --model_prefix \"Multilingual_Small_Limited_MABSA\" --language \"Multilingual_Small_Limited\" --test_language \"Spanish\"   --top_k 1 --do_contr_sent --do_contr_aspect --num_train_epochs 20 --do_inference_best_5 --train_batch_size 16 --eval_batch_size 64 --weight_decay 0.1 --warmup_steps 0.1 --model_name_or_path \"/content/drive/MyDrive/data/models/MABSAIcl_mvp_tasdIgoogle/mt5-largeIbeamsI1IwdI0.1Imax_epochsI20IesI0IaccI1IlrI0.0001Icont_lossI0.05Icont_tempI0.25IseedI42IMultilingual_Small_Limited_MABSAI1I0.1IsentIaspect/\""
   ]
  },
  {
   "cell_type": "code",
   "execution_count": null,
   "metadata": {
    "id": "mBFCWthWJHwN"
   },
   "outputs": [],
   "source": [
    "! python /content/CL-TASD-MvP/model/main_train.py --do_con_dec --task \"cl_mvp_tasd\" --num_beams \"1\" --dataset \"MABSA\" --model_prefix \"Multilingual_Small_Limited_MABSA\" --language \"Multilingual_Small_Limited\" --test_language \"Spanish\"   --top_k 1 --do_contr_sent --do_contr_aspect --num_train_epochs 20 --do_inference_best_5 --train_batch_size 16 --eval_batch_size 64 --weight_decay 0.1 --warmup_steps 0.1 --model_name_or_path \"/content/drive/MyDrive/data/models/MABSAIcl_mvp_tasdIgoogle/mt5-largeIbeamsI1IwdI0.1Imax_epochsI20IesI0IaccI1IlrI0.0001Icont_lossI0.05Icont_tempI0.25IseedI42IMultilingual_Small_Limited_MABSAI1I0.1IsentIaspect/\""
   ]
  },
  {
   "cell_type": "markdown",
   "metadata": {
    "id": "J3LGzVY4JHwN"
   },
   "source": [
    "**Turkish:**"
   ]
  },
  {
   "cell_type": "code",
   "execution_count": null,
   "metadata": {
    "id": "x_pybQqEJHwN"
   },
   "outputs": [],
   "source": [
    "! python /content/CL-TASD-MvP/model/main_train.py --task \"cl_mvp_tasd\" --num_beams \"1\" --dataset \"MABSA\" --model_prefix \"Multilingual_Small_Limited_MABSA\" --language \"Multilingual_Small_Limited\" --test_language \"Turkish\"   --top_k 1 --do_contr_sent --do_contr_aspect --num_train_epochs 20 --do_inference_best_5 --train_batch_size 16 --eval_batch_size 64 --weight_decay 0.1 --warmup_steps 0.1 --model_name_or_path \"/content/drive/MyDrive/data/models/MABSAIcl_mvp_tasdIgoogle/mt5-largeIbeamsI1IwdI0.1Imax_epochsI20IesI0IaccI1IlrI0.0001Icont_lossI0.05Icont_tempI0.25IseedI42IMultilingual_Small_Limited_MABSAI1I0.1IsentIaspect/\""
   ]
  },
  {
   "cell_type": "code",
   "execution_count": null,
   "metadata": {
    "colab": {
     "background_save": true
    },
    "id": "7lVy9kBAJHwN"
   },
   "outputs": [],
   "source": [
    "! python /content/CL-TASD-MvP/model/main_train.py --do_con_dec --task \"cl_mvp_tasd\" --num_beams \"1\" --dataset \"MABSA\" --model_prefix \"Multilingual_Small_Limited_MABSA\" --language \"Multilingual_Small_Limited\" --test_language \"Turkish\"   --top_k 1 --do_contr_sent --do_contr_aspect --num_train_epochs 20 --do_inference_best_5 --train_batch_size 16 --eval_batch_size 64 --weight_decay 0.1 --warmup_steps 0.1 --model_name_or_path \"/content/drive/MyDrive/data/models/MABSAIcl_mvp_tasdIgoogle/mt5-largeIbeamsI1IwdI0.1Imax_epochsI20IesI0IaccI1IlrI0.0001Icont_lossI0.05Icont_tempI0.25IseedI42IMultilingual_Small_Limited_MABSAI1I0.1IsentIaspect/\""
   ]
  },
  {
   "cell_type": "markdown",
   "metadata": {
    "id": "sL7gtOgRSE9D"
   },
   "source": [
    "#### **Evaluation Full Model**"
   ]
  },
  {
   "cell_type": "markdown",
   "metadata": {
    "id": "EJH5cS4eSE9D"
   },
   "source": [
    "Evaluation on best checkpoint of the last 5 training epochs:\n"
   ]
  },
  {
   "cell_type": "markdown",
   "metadata": {
    "id": "nqZvLcdGSE9D"
   },
   "source": [
    "**English:**"
   ]
  },
  {
   "cell_type": "code",
   "execution_count": null,
   "metadata": {
    "colab": {
     "base_uri": "https://localhost:8080/"
    },
    "executionInfo": {
     "elapsed": 382130,
     "status": "ok",
     "timestamp": 1754140708322,
     "user": {
      "displayName": "Philipp Gottschalk",
      "userId": "02502242344906393626"
     },
     "user_tz": -120
    },
    "id": "NhTevg3WSE9D",
    "outputId": "59fc8e59-907e-4c49-eb4d-eaa86e628516"
   },
   "outputs": [],
   "source": [
    "! python /content/CL-TASD-MvP/model/main_train.py --task \"cl_mvp_tasd\" --num_beams \"1\" --dataset \"MABSA\" --model_prefix \"Multilingual_Small_Limited_MABSA\" --language \"Multilingual_Small_Limited\" --test_language \"English\"   --top_k 5 --do_contr_sent --do_contr_aspect --num_train_epochs 20 --do_inference_best_5 --train_batch_size 16 --eval_batch_size 64 --weight_decay 0.1 --warmup_steps 0.1 --model_name_or_path \"/content/drive/MyDrive/data/models/MABSAIcl_mvp_tasdIgoogle/mt5-largeIbeamsI1IwdI0.1Imax_epochsI20IesI0IaccI1IlrI0.0001Icont_lossI0.05Icont_tempI0.25IseedI42IMultilingual_Small_Limited_MABSAI5I0.1IsentIaspect/\""
   ]
  },
  {
   "cell_type": "code",
   "execution_count": null,
   "metadata": {
    "colab": {
     "base_uri": "https://localhost:8080/"
    },
    "executionInfo": {
     "elapsed": 573929,
     "status": "ok",
     "timestamp": 1754141282255,
     "user": {
      "displayName": "Philipp Gottschalk",
      "userId": "02502242344906393626"
     },
     "user_tz": -120
    },
    "id": "enO3mFibSE9E",
    "outputId": "c0473e3d-35a9-492b-c969-d41fc3926ff5"
   },
   "outputs": [],
   "source": [
    "! python /content/CL-TASD-MvP/model/main_train.py --do_con_dec --task \"cl_mvp_tasd\" --num_beams \"1\" --dataset \"MABSA\" --model_prefix \"Multilingual_Small_Limited_MABSA\" --language \"Multilingual_Small_Limited\" --test_language \"English\"   --top_k 5 --do_contr_sent --do_contr_aspect --num_train_epochs 20 --do_inference_best_5 --train_batch_size 16 --eval_batch_size 64 --weight_decay 0.1 --warmup_steps 0.1 --model_name_or_path \"/content/drive/MyDrive/data/models/MABSAIcl_mvp_tasdIgoogle/mt5-largeIbeamsI1IwdI0.1Imax_epochsI20IesI0IaccI1IlrI0.0001Icont_lossI0.05Icont_tempI0.25IseedI42IMultilingual_Small_Limited_MABSAI5I0.1IsentIaspect/\""
   ]
  },
  {
   "cell_type": "markdown",
   "metadata": {
    "id": "0VGudrBqSE9E"
   },
   "source": [
    "**Dutch:**"
   ]
  },
  {
   "cell_type": "code",
   "execution_count": null,
   "metadata": {
    "colab": {
     "base_uri": "https://localhost:8080/"
    },
    "executionInfo": {
     "elapsed": 256703,
     "status": "ok",
     "timestamp": 1754141538963,
     "user": {
      "displayName": "Philipp Gottschalk",
      "userId": "02502242344906393626"
     },
     "user_tz": -120
    },
    "id": "XdQIgVBXSE9E",
    "outputId": "54a7fd90-3098-4bfe-8b6f-bee733329009"
   },
   "outputs": [],
   "source": [
    "! python /content/CL-TASD-MvP/model/main_train.py --task \"cl_mvp_tasd\" --num_beams \"1\" --dataset \"MABSA\" --model_prefix \"Multilingual_Small_Limited_MABSA\" --language \"Multilingual_Small_Limited\" --test_language \"Dutch\"   --top_k 5 --do_contr_sent --do_contr_aspect --num_train_epochs 20 --do_inference_best_5 --train_batch_size 16 --eval_batch_size 64 --weight_decay 0.1 --warmup_steps 0.1 --model_name_or_path \"/content/drive/MyDrive/data/models/MABSAIcl_mvp_tasdIgoogle/mt5-largeIbeamsI1IwdI0.1Imax_epochsI20IesI0IaccI1IlrI0.0001Icont_lossI0.05Icont_tempI0.25IseedI42IMultilingual_Small_Limited_MABSAI5I0.1IsentIaspect/\""
   ]
  },
  {
   "cell_type": "code",
   "execution_count": null,
   "metadata": {
    "colab": {
     "base_uri": "https://localhost:8080/"
    },
    "executionInfo": {
     "elapsed": 558984,
     "status": "ok",
     "timestamp": 1754142097953,
     "user": {
      "displayName": "Philipp Gottschalk",
      "userId": "02502242344906393626"
     },
     "user_tz": -120
    },
    "id": "FscXToKtSE9E",
    "outputId": "9a501226-8a84-4441-d5d7-8c09a9cd2c64"
   },
   "outputs": [],
   "source": [
    "! python /content/CL-TASD-MvP/model/main_train.py --do_con_dec --task \"cl_mvp_tasd\" --num_beams \"1\" --dataset \"MABSA\" --model_prefix \"Multilingual_Small_Limited_MABSA\" --language \"Multilingual_Small_Limited\" --test_language \"Dutch\"   --top_k 5 --do_contr_sent --do_contr_aspect --num_train_epochs 20 --do_inference_best_5 --train_batch_size 16 --eval_batch_size 64 --weight_decay 0.1 --warmup_steps 0.1 --model_name_or_path \"/content/drive/MyDrive/data/models/MABSAIcl_mvp_tasdIgoogle/mt5-largeIbeamsI1IwdI0.1Imax_epochsI20IesI0IaccI1IlrI0.0001Icont_lossI0.05Icont_tempI0.25IseedI42IMultilingual_Small_Limited_MABSAI5I0.1IsentIaspect/\""
   ]
  },
  {
   "cell_type": "markdown",
   "metadata": {
    "id": "AzEgo8n9SE9E"
   },
   "source": [
    "**French:**"
   ]
  },
  {
   "cell_type": "code",
   "execution_count": null,
   "metadata": {
    "colab": {
     "base_uri": "https://localhost:8080/"
    },
    "executionInfo": {
     "elapsed": 264739,
     "status": "ok",
     "timestamp": 1754142362697,
     "user": {
      "displayName": "Philipp Gottschalk",
      "userId": "02502242344906393626"
     },
     "user_tz": -120
    },
    "id": "elhegbPcSE9F",
    "outputId": "b585bd3f-e1d6-4b0b-cf8c-0fa3c9ed6a78"
   },
   "outputs": [],
   "source": [
    "! python /content/CL-TASD-MvP/model/main_train.py --task \"cl_mvp_tasd\" --num_beams \"1\" --dataset \"MABSA\" --model_prefix \"Multilingual_Small_Limited_MABSA\" --language \"Multilingual_Small_Limited\" --test_language \"French\"   --top_k 5 --do_contr_sent --do_contr_aspect --num_train_epochs 20 --do_inference_best_5 --train_batch_size 16 --eval_batch_size 64 --weight_decay 0.1 --warmup_steps 0.1 --model_name_or_path \"/content/drive/MyDrive/data/models/MABSAIcl_mvp_tasdIgoogle/mt5-largeIbeamsI1IwdI0.1Imax_epochsI20IesI0IaccI1IlrI0.0001Icont_lossI0.05Icont_tempI0.25IseedI42IMultilingual_Small_Limited_MABSAI5I0.1IsentIaspect/\""
   ]
  },
  {
   "cell_type": "code",
   "execution_count": null,
   "metadata": {
    "colab": {
     "base_uri": "https://localhost:8080/"
    },
    "executionInfo": {
     "elapsed": 557224,
     "status": "ok",
     "timestamp": 1754142919926,
     "user": {
      "displayName": "Philipp Gottschalk",
      "userId": "02502242344906393626"
     },
     "user_tz": -120
    },
    "id": "mDvd4uGLSE9F",
    "outputId": "c42cce61-1e3f-4adc-c109-9c94a2bbd0f0"
   },
   "outputs": [],
   "source": [
    "! python /content/CL-TASD-MvP/model/main_train.py --do_con_dec --task \"cl_mvp_tasd\" --num_beams \"1\" --dataset \"MABSA\" --model_prefix \"Multilingual_Small_Limited_MABSA\" --language \"Multilingual_Small_Limited\" --test_language \"French\"   --top_k 5 --do_contr_sent --do_contr_aspect --num_train_epochs 20 --do_inference_best_5 --train_batch_size 16 --eval_batch_size 64 --weight_decay 0.1 --warmup_steps 0.1 --model_name_or_path \"/content/drive/MyDrive/data/models/MABSAIcl_mvp_tasdIgoogle/mt5-largeIbeamsI1IwdI0.1Imax_epochsI20IesI0IaccI1IlrI0.0001Icont_lossI0.05Icont_tempI0.25IseedI42IMultilingual_Small_Limited_MABSAI5I0.1IsentIaspect/\""
   ]
  },
  {
   "cell_type": "markdown",
   "metadata": {
    "id": "8lbdD0asSE9F"
   },
   "source": [
    "**Spanish:**"
   ]
  },
  {
   "cell_type": "code",
   "execution_count": null,
   "metadata": {
    "colab": {
     "base_uri": "https://localhost:8080/"
    },
    "executionInfo": {
     "elapsed": 271909,
     "status": "ok",
     "timestamp": 1754143191839,
     "user": {
      "displayName": "Philipp Gottschalk",
      "userId": "02502242344906393626"
     },
     "user_tz": -120
    },
    "id": "MTOtPJcdSE9F",
    "outputId": "8735ab11-6aa2-4a6b-ace8-956b76e288e2"
   },
   "outputs": [],
   "source": [
    "! python /content/CL-TASD-MvP/model/main_train.py --task \"cl_mvp_tasd\" --num_beams \"1\" --dataset \"MABSA\" --model_prefix \"Multilingual_Small_Limited_MABSA\" --language \"Multilingual_Small_Limited\" --test_language \"Spanish\"   --top_k 5 --do_contr_sent --do_contr_aspect --num_train_epochs 20 --do_inference_best_5 --train_batch_size 16 --eval_batch_size 64 --weight_decay 0.1 --warmup_steps 0.1 --model_name_or_path \"/content/drive/MyDrive/data/models/MABSAIcl_mvp_tasdIgoogle/mt5-largeIbeamsI1IwdI0.1Imax_epochsI20IesI0IaccI1IlrI0.0001Icont_lossI0.05Icont_tempI0.25IseedI42IMultilingual_Small_Limited_MABSAI5I0.1IsentIaspect/\""
   ]
  },
  {
   "cell_type": "code",
   "execution_count": null,
   "metadata": {
    "colab": {
     "base_uri": "https://localhost:8080/"
    },
    "executionInfo": {
     "elapsed": 611697,
     "status": "ok",
     "timestamp": 1754143803542,
     "user": {
      "displayName": "Philipp Gottschalk",
      "userId": "02502242344906393626"
     },
     "user_tz": -120
    },
    "id": "2hLifTeySE9F",
    "outputId": "6d7c1d5d-2471-4c03-ab12-cf1dfc145322"
   },
   "outputs": [],
   "source": [
    "! python /content/CL-TASD-MvP/model/main_train.py --do_con_dec --task \"cl_mvp_tasd\" --num_beams \"1\" --dataset \"MABSA\" --model_prefix \"Multilingual_Small_Limited_MABSA\" --language \"Multilingual_Small_Limited\" --test_language \"Spanish\"   --top_k 5 --do_contr_sent --do_contr_aspect --num_train_epochs 20 --do_inference_best_5 --train_batch_size 16 --eval_batch_size 64 --weight_decay 0.1 --warmup_steps 0.1 --model_name_or_path \"/content/drive/MyDrive/data/models/MABSAIcl_mvp_tasdIgoogle/mt5-largeIbeamsI1IwdI0.1Imax_epochsI20IesI0IaccI1IlrI0.0001Icont_lossI0.05Icont_tempI0.25IseedI42IMultilingual_Small_Limited_MABSAI5I0.1IsentIaspect/\""
   ]
  },
  {
   "cell_type": "markdown",
   "metadata": {
    "id": "pyQSAYa-SE9F"
   },
   "source": [
    "**Turkish:**"
   ]
  },
  {
   "cell_type": "code",
   "execution_count": null,
   "metadata": {
    "colab": {
     "base_uri": "https://localhost:8080/"
    },
    "executionInfo": {
     "elapsed": 269057,
     "status": "ok",
     "timestamp": 1754144072605,
     "user": {
      "displayName": "Philipp Gottschalk",
      "userId": "02502242344906393626"
     },
     "user_tz": -120
    },
    "id": "TO1F9OZpSE9F",
    "outputId": "1a196dfe-3f59-4582-b870-22287a9f520a"
   },
   "outputs": [],
   "source": [
    "! python /content/CL-TASD-MvP/model/main_train.py --task \"cl_mvp_tasd\" --num_beams \"1\" --dataset \"MABSA\" --model_prefix \"Multilingual_Small_Limited_MABSA\" --language \"Multilingual_Small_Limited\" --test_language \"Turkish\"   --top_k 5 --do_contr_sent --do_contr_aspect --num_train_epochs 20 --do_inference_best_5 --train_batch_size 16 --eval_batch_size 64 --weight_decay 0.1 --warmup_steps 0.1 --model_name_or_path \"/content/drive/MyDrive/data/models/MABSAIcl_mvp_tasdIgoogle/mt5-largeIbeamsI1IwdI0.1Imax_epochsI20IesI0IaccI1IlrI0.0001Icont_lossI0.05Icont_tempI0.25IseedI42IMultilingual_Small_Limited_MABSAI5I0.1IsentIaspect/\""
   ]
  },
  {
   "cell_type": "code",
   "execution_count": null,
   "metadata": {
    "colab": {
     "base_uri": "https://localhost:8080/"
    },
    "executionInfo": {
     "elapsed": 594232,
     "status": "ok",
     "timestamp": 1754144666842,
     "user": {
      "displayName": "Philipp Gottschalk",
      "userId": "02502242344906393626"
     },
     "user_tz": -120
    },
    "id": "6qAmZNL5SE9G",
    "outputId": "74f9750a-3875-415c-f8c1-bc34cd1a0744"
   },
   "outputs": [],
   "source": [
    "! python /content/CL-TASD-MvP/model/main_train.py --do_con_dec --task \"cl_mvp_tasd\" --num_beams \"1\" --dataset \"MABSA\" --model_prefix \"Multilingual_Small_Limited_MABSA\" --language \"Multilingual_Small_Limited\" --test_language \"Turkish\"   --top_k 5 --do_contr_sent --do_contr_aspect --num_train_epochs 20 --do_inference_best_5 --train_batch_size 16 --eval_batch_size 64 --weight_decay 0.1 --warmup_steps 0.1 --model_name_or_path \"/content/drive/MyDrive/data/models/MABSAIcl_mvp_tasdIgoogle/mt5-largeIbeamsI1IwdI0.1Imax_epochsI20IesI0IaccI1IlrI0.0001Icont_lossI0.05Icont_tempI0.25IseedI42IMultilingual_Small_Limited_MABSAI5I0.1IsentIaspect/\""
   ]
  }
 ],
 "metadata": {
  "accelerator": "GPU",
  "colab": {
   "authorship_tag": "ABX9TyMhgMXonLL71+3st6QdvuAJ",
   "collapsed_sections": [
    "kFQ_UfkbF8rH",
    "4R2SgzkWH47S",
    "SMNROHtjIZSt",
    "37XQO_cIHT8y",
    "v81yuufYIt3A",
    "sGrVUZeiJMem",
    "YLwE59RlJTpN",
    "-buzMugRJbaf",
    "FkIZ8fo0Jbaf",
    "ayWGtlzm7KJu",
    "8OVwTityIW9D",
    "sBxAM7cuJHwL",
    "sL7gtOgRSE9D"
   ],
   "gpuType": "L4",
   "machine_shape": "hm",
   "provenance": [
    {
     "file_id": "1oK-Ew2HgvmcUFkiTvKvbT59NTGDZ41sh",
     "timestamp": 1753292485428
    },
    {
     "file_id": "11Fx9fj0LnMfQfsquZK0w-Um7RyxFFFle",
     "timestamp": 1753171233299
    },
    {
     "file_id": "1iDP1fPQGnypRPcfwfPS2OwvGZLt_Yvzu",
     "timestamp": 1753169717998
    }
   ]
  },
  "kernelspec": {
   "display_name": "Python 3",
   "name": "python3"
  },
  "language_info": {
   "name": "python"
  }
 },
 "nbformat": 4,
 "nbformat_minor": 0
}
