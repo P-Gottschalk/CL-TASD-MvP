{
 "cells": [
  {
   "cell_type": "markdown",
   "metadata": {
    "id": "NlSm-XoyKuvo"
   },
   "source": [
    "### **Notebook Setup**"
   ]
  },
  {
   "cell_type": "markdown",
   "metadata": {
    "id": "IEAxUJ-S2dJB"
   },
   "source": [
    "**Mount Prep**"
   ]
  },
  {
   "cell_type": "code",
   "execution_count": null,
   "metadata": {
    "id": "tZlNusdLTV0v"
   },
   "outputs": [],
   "source": [
    "from google.colab import drive\n",
    "drive.mount(\"/content/drive/\")"
   ]
  },
  {
   "cell_type": "markdown",
   "metadata": {
    "id": "vkx1Y9Qj5G_1"
   },
   "source": [
    "**Package Installation:**"
   ]
  },
  {
   "cell_type": "code",
   "execution_count": null,
   "metadata": {
    "collapsed": true,
    "id": "g73H7C4N_aUN"
   },
   "outputs": [],
   "source": [
    "! pip install transformers==4.53.2\n",
    "! pip install torch\n",
    "! pip install --upgrade pytorch-lightning\n",
    "! pip install sentencepiece\n",
    "! pip install parse\n",
    "! pip install openai\n",
    "\n",
    "import os"
   ]
  },
  {
   "cell_type": "markdown",
   "metadata": {
    "id": "nu6jBbPL2q4F"
   },
   "source": [
    "**GitHub Cloning:** 90-day access token is used"
   ]
  },
  {
   "cell_type": "code",
   "execution_count": null,
   "metadata": {
    "id": "C-qbm4XreAUf"
   },
   "outputs": [],
   "source": [
    "! rm -r CL-TASD-MvP #Remove GitHub whilst in session"
   ]
  },
  {
   "cell_type": "code",
   "execution_count": null,
   "metadata": {
    "id": "g9Ovr3oPvWD7"
   },
   "outputs": [],
   "source": [
    "!git clone https://github.com/P-Gottschalk/CL-TASD-MvP.git"
   ]
  },
  {
   "cell_type": "markdown",
   "metadata": {
    "id": "buIGd3CthiVh"
   },
   "source": [
    "**Insert Key**"
   ]
  },
  {
   "cell_type": "code",
   "execution_count": null,
   "metadata": {
    "id": "5wUKI0AEhmW4"
   },
   "outputs": [],
   "source": [
    "os.environ[\"OPENAI_API_KEY\"] = \"YOUR_OPEN_AI_KEY\""
   ]
  },
  {
   "cell_type": "markdown",
   "metadata": {
    "id": "IVyxSxqrCaiy"
   },
   "source": [
    "### **SemEval-2016: Text Generation**"
   ]
  },
  {
   "cell_type": "markdown",
   "metadata": {
    "id": "iBGjVDiOjgwQ"
   },
   "source": [
    "#### **Fine-Tuning**"
   ]
  },
  {
   "cell_type": "code",
   "execution_count": null,
   "metadata": {
    "id": "UoRTkWN9jmO4"
   },
   "outputs": [],
   "source": [
    "! python /content/CL-TASD-MvP/llm/generation/fine_tune.py --language \"Multilingual\" --dataset \"SemEval16\""
   ]
  },
  {
   "cell_type": "code",
   "execution_count": null,
   "metadata": {
    "id": "cE3RODm6jrLg"
   },
   "outputs": [],
   "source": [
    "! python /content/CL-TASD-MvP/llm/generation/fine_tune.py --language \"English\" --dataset \"SemEval16\""
   ]
  },
  {
   "cell_type": "code",
   "execution_count": null,
   "metadata": {
    "id": "RPYU9V9djrUJ"
   },
   "outputs": [],
   "source": [
    "! python /content/CL-TASD-MvP/llm/generation/fine_tune.py --language \"Spanish\" --dataset \"SemEval16\""
   ]
  },
  {
   "cell_type": "code",
   "execution_count": null,
   "metadata": {
    "id": "6lh4YYU_jrZw"
   },
   "outputs": [],
   "source": [
    "! python /content/CL-TASD-MvP/llm/generation/fine_tune.py --language \"French\" --dataset \"SemEval16\""
   ]
  },
  {
   "cell_type": "code",
   "execution_count": null,
   "metadata": {
    "id": "VhIgDdA0jrgC"
   },
   "outputs": [],
   "source": [
    "! python /content/CL-TASD-MvP/llm/generation/fine_tune.py --language \"Dutch\" --dataset \"SemEval16\""
   ]
  },
  {
   "cell_type": "code",
   "execution_count": null,
   "metadata": {
    "id": "ECpBrJIJjr_3"
   },
   "outputs": [],
   "source": [
    "! python /content/CL-TASD-MvP/llm/generation/fine_tune.py --language \"Turkish\" --dataset \"SemEval16\""
   ]
  },
  {
   "cell_type": "markdown",
   "metadata": {
    "id": "5RGEBQMVIt3B"
   },
   "source": [
    "#### **Generation Zero-Shot**"
   ]
  },
  {
   "cell_type": "markdown",
   "metadata": {
    "id": "Uj2u_afqIt3B"
   },
   "source": [
    "**No Chain-Of-Thought**\n"
   ]
  },
  {
   "cell_type": "code",
   "execution_count": null,
   "metadata": {
    "collapsed": true,
    "id": "02Ut9-RFpTMC"
   },
   "outputs": [],
   "source": [
    "! python /content/CL-TASD-MvP/llm/generation/inf.py --task \"cl_mvp_tasd\" --language \"English\" --test_language \"English\" --dataset \"SemEval16\" --prompt_loc \"zero-shot-template\" --end_idx 0"
   ]
  },
  {
   "cell_type": "code",
   "execution_count": null,
   "metadata": {
    "collapsed": true,
    "id": "XnQp4HOGjW5T"
   },
   "outputs": [],
   "source": [
    "! python /content/CL-TASD-MvP/llm/generation/inf.py --task \"cl_mvp_tasd\" --language \"Spanish\" --test_language \"Spanish\" --dataset \"SemEval16\" --prompt_loc \"zero-shot-template\" --end_idx 0"
   ]
  },
  {
   "cell_type": "code",
   "execution_count": null,
   "metadata": {
    "collapsed": true,
    "id": "136U8aE5jW5U"
   },
   "outputs": [],
   "source": [
    "! python /content/CL-TASD-MvP/llm/generation/inf.py --task \"cl_mvp_tasd\" --language \"French\" --test_language \"French\" --dataset \"SemEval16\" --prompt_loc \"zero-shot-template\" --end_idx 0"
   ]
  },
  {
   "cell_type": "code",
   "execution_count": null,
   "metadata": {
    "collapsed": true,
    "id": "o29c96K9jW5U"
   },
   "outputs": [],
   "source": [
    "! python /content/CL-TASD-MvP/llm/generation/inf.py --task \"cl_mvp_tasd\" --language \"Dutch\" --test_language \"Dutch\" --dataset \"SemEval16\" --prompt_loc \"zero-shot-template\" --end_idx 0"
   ]
  },
  {
   "cell_type": "code",
   "execution_count": null,
   "metadata": {
    "collapsed": true,
    "id": "IM_KvJ0SjW5U"
   },
   "outputs": [],
   "source": [
    "! python /content/CL-TASD-MvP/llm/generation/inf.py --task \"cl_mvp_tasd\" --language \"Turkish\" --test_language \"Turkish\" --dataset \"SemEval16\" --prompt_loc \"zero-shot-template\" --end_idx 0"
   ]
  },
  {
   "cell_type": "markdown",
   "metadata": {
    "id": "QRLgrbf9jZNs"
   },
   "source": [
    "**No Chain-Of-Thought**\n"
   ]
  },
  {
   "cell_type": "code",
   "execution_count": null,
   "metadata": {
    "collapsed": true,
    "id": "9nRD9wrHjZNt"
   },
   "outputs": [],
   "source": [
    "! python /content/CL-TASD-MvP/llm/generation/inf.py --task \"cl_mvp_tasd\" --language \"English\" --test_language \"English\" --dataset \"SemEval16\" --prompt_loc \"zero-shot-cot-template\" --end_idx 0"
   ]
  },
  {
   "cell_type": "code",
   "execution_count": null,
   "metadata": {
    "collapsed": true,
    "id": "q94miy5njZNt"
   },
   "outputs": [],
   "source": [
    "! python /content/CL-TASD-MvP/llm/generation/inf.py --task \"cl_mvp_tasd\" --language \"Spanish\" --test_language \"Spanish\" --dataset \"SemEval16\" --prompt_loc \"zero-shot-cot-template\" --end_idx 0"
   ]
  },
  {
   "cell_type": "code",
   "execution_count": null,
   "metadata": {
    "collapsed": true,
    "id": "xj_28uQSjZNt"
   },
   "outputs": [],
   "source": [
    "! python /content/CL-TASD-MvP/llm/generation/inf.py --task \"cl_mvp_tasd\" --language \"French\" --test_language \"French\" --dataset \"SemEval16\" --prompt_loc \"zero-shot-cot-template\" --end_idx 0"
   ]
  },
  {
   "cell_type": "code",
   "execution_count": null,
   "metadata": {
    "collapsed": true,
    "id": "k6i8CzxJjZNt"
   },
   "outputs": [],
   "source": [
    "! python /content/CL-TASD-MvP/llm/generation/inf.py --task \"cl_mvp_tasd\" --language \"Dutch\" --test_language \"Dutch\" --dataset \"SemEval16\" --prompt_loc \"zero-shot-cot-template\" --end_idx 0"
   ]
  },
  {
   "cell_type": "code",
   "execution_count": null,
   "metadata": {
    "collapsed": true,
    "id": "-MNynqE3jZNu"
   },
   "outputs": [],
   "source": [
    "! python /content/CL-TASD-MvP/llm/generation/inf.py --task \"cl_mvp_tasd\" --language \"Turkish\" --test_language \"Turkish\" --dataset \"SemEval16\" --prompt_loc \"zero-shot-cot-template\" --end_idx 0"
   ]
  },
  {
   "cell_type": "markdown",
   "metadata": {
    "id": "EdvMj-9hkNNI"
   },
   "source": [
    "#### **Generation Few-Shot**"
   ]
  },
  {
   "cell_type": "markdown",
   "metadata": {
    "id": "d6PBm3DEkWsS"
   },
   "source": [
    "####**Unilingual**"
   ]
  },
  {
   "cell_type": "markdown",
   "metadata": {
    "id": "zdNN0OAakNNI"
   },
   "source": [
    "**No Chain-Of-Thought**\n"
   ]
  },
  {
   "cell_type": "code",
   "execution_count": null,
   "metadata": {
    "collapsed": true,
    "id": "jxi89gkfkNNI"
   },
   "outputs": [],
   "source": [
    "! python /content/CL-TASD-MvP/llm/generation/inf.py --task \"cl_mvp_tasd\" --language \"English\" --test_language \"English\" --dataset \"SemEval16\" --prompt_loc \"few-shot-template\" --end_idx 0"
   ]
  },
  {
   "cell_type": "code",
   "execution_count": null,
   "metadata": {
    "collapsed": true,
    "id": "iFmMT75SkNNI"
   },
   "outputs": [],
   "source": [
    "! python /content/CL-TASD-MvP/llm/generation/inf.py --task \"cl_mvp_tasd\" --language \"Spanish\" --test_language \"Spanish\" --dataset \"SemEval16\" --prompt_loc \"few-shot-template\" --end_idx 0"
   ]
  },
  {
   "cell_type": "code",
   "execution_count": null,
   "metadata": {
    "collapsed": true,
    "id": "1prQyLFRkNNJ"
   },
   "outputs": [],
   "source": [
    "! python /content/CL-TASD-MvP/llm/generation/inf.py --task \"cl_mvp_tasd\" --language \"French\" --test_language \"French\" --dataset \"SemEval16\" --prompt_loc \"few-shot-template\" --end_idx 0"
   ]
  },
  {
   "cell_type": "code",
   "execution_count": null,
   "metadata": {
    "collapsed": true,
    "id": "ciRudTM4kNNJ"
   },
   "outputs": [],
   "source": [
    "! python /content/CL-TASD-MvP/llm/generation/inf.py --task \"cl_mvp_tasd\" --language \"Dutch\" --test_language \"Dutch\" --dataset \"SemEval16\" --prompt_loc \"few-shot-template\" --end_idx 0"
   ]
  },
  {
   "cell_type": "code",
   "execution_count": null,
   "metadata": {
    "collapsed": true,
    "id": "PV_2N6t2kNNJ"
   },
   "outputs": [],
   "source": [
    "! python /content/CL-TASD-MvP/llm/generation/inf.py --task \"cl_mvp_tasd\" --language \"Turkish\" --test_language \"Turkish\" --dataset \"SemEval16\" --prompt_loc \"few-shot-template\" --end_idx 0"
   ]
  },
  {
   "cell_type": "markdown",
   "metadata": {
    "id": "oKKGFVjAkNNJ"
   },
   "source": [
    "**Chain-Of-Thought**\n"
   ]
  },
  {
   "cell_type": "code",
   "execution_count": null,
   "metadata": {
    "collapsed": true,
    "id": "1SjpO6YskNNJ"
   },
   "outputs": [],
   "source": [
    "! python /content/CL-TASD-MvP/llm/generation/inf.py --task \"cl_mvp_tasd\" --language \"English\" --test_language \"English\" --dataset \"SemEval16\" --prompt_loc \"few-shot-cot-template\" --end_idx 0"
   ]
  },
  {
   "cell_type": "code",
   "execution_count": null,
   "metadata": {
    "collapsed": true,
    "id": "KJZn14RjkNNJ"
   },
   "outputs": [],
   "source": [
    "! python /content/CL-TASD-MvP/llm/generation/inf.py --task \"cl_mvp_tasd\" --language \"Spanish\" --test_language \"Spanish\" --dataset \"SemEval16\" --prompt_loc \"few-shot-cot-template\" --end_idx 0"
   ]
  },
  {
   "cell_type": "code",
   "execution_count": null,
   "metadata": {
    "collapsed": true,
    "id": "aD6r0Ii1kNNJ"
   },
   "outputs": [],
   "source": [
    "! python /content/CL-TASD-MvP/llm/generation/inf.py --task \"cl_mvp_tasd\" --language \"French\" --test_language \"French\" --dataset \"SemEval16\" --prompt_loc \"few-shot-cot-template\" --end_idx 0"
   ]
  },
  {
   "cell_type": "code",
   "execution_count": null,
   "metadata": {
    "collapsed": true,
    "id": "Ev5gCh44kNNJ"
   },
   "outputs": [],
   "source": [
    "! python /content/CL-TASD-MvP/llm/generation/inf.py --task \"cl_mvp_tasd\" --language \"Dutch\" --test_language \"Dutch\" --dataset \"SemEval16\" --prompt_loc \"few-shot-cot-template\" --end_idx 0"
   ]
  },
  {
   "cell_type": "code",
   "execution_count": null,
   "metadata": {
    "collapsed": true,
    "id": "-X1nViJRkNNJ"
   },
   "outputs": [],
   "source": [
    "! python /content/CL-TASD-MvP/llm/generation/inf.py --task \"cl_mvp_tasd\" --language \"Turkish\" --test_language \"Turkish\" --dataset \"SemEval16\" --prompt_loc \"few-shot-cot-template\" --end_idx 0"
   ]
  },
  {
   "cell_type": "markdown",
   "metadata": {
    "id": "E-Z_iW-ao76U"
   },
   "source": [
    "####**Cross-Lingual**"
   ]
  },
  {
   "cell_type": "markdown",
   "metadata": {
    "id": "YYhD2I3Fo76U"
   },
   "source": [
    "**No Chain-Of-Thought**\n"
   ]
  },
  {
   "cell_type": "code",
   "execution_count": null,
   "metadata": {
    "collapsed": true,
    "id": "raNkxBVMo76U"
   },
   "outputs": [],
   "source": [
    "! python /content/CL-TASD-MvP/llm/generation/inf.py --task \"cl_mvp_tasd\" --language \"English\" --test_language \"English\" --dataset \"SemEval16\" --prompt_loc \"few-shot-template\" --end_idx 0"
   ]
  },
  {
   "cell_type": "code",
   "execution_count": null,
   "metadata": {
    "collapsed": true,
    "id": "A52vuYNBo76U"
   },
   "outputs": [],
   "source": [
    "! python /content/CL-TASD-MvP/llm/generation/inf.py --task \"cl_mvp_tasd\" --language \"English\" --test_language \"Spanish\" --dataset \"SemEval16\" --prompt_loc \"few-shot-template\" --end_idx 0"
   ]
  },
  {
   "cell_type": "code",
   "execution_count": null,
   "metadata": {
    "collapsed": true,
    "id": "_D1M3y5-o76U"
   },
   "outputs": [],
   "source": [
    "! python /content/CL-TASD-MvP/llm/generation/inf.py --task \"cl_mvp_tasd\" --language \"English\" --test_language \"French\" --dataset \"SemEval16\" --prompt_loc \"few-shot-template\" --end_idx 0"
   ]
  },
  {
   "cell_type": "code",
   "execution_count": null,
   "metadata": {
    "collapsed": true,
    "id": "zI9P5Zauo76U"
   },
   "outputs": [],
   "source": [
    "! python /content/CL-TASD-MvP/llm/generation/inf.py --task \"cl_mvp_tasd\" --language \"English\" --test_language \"Dutch\" --dataset \"SemEval16\" --prompt_loc \"few-shot-template\" --end_idx 0"
   ]
  },
  {
   "cell_type": "code",
   "execution_count": null,
   "metadata": {
    "collapsed": true,
    "id": "5cLRPU-Mo76V"
   },
   "outputs": [],
   "source": [
    "! python /content/CL-TASD-MvP/llm/generation/inf.py --task \"cl_mvp_tasd\" --language \"English\" --test_language \"Turkish\" --dataset \"SemEval16\" --prompt_loc \"few-shot-template\" --end_idx 0"
   ]
  },
  {
   "cell_type": "markdown",
   "metadata": {
    "id": "x5mJ19wvo76V"
   },
   "source": [
    "**Chain-Of-Thought**\n"
   ]
  },
  {
   "cell_type": "code",
   "execution_count": null,
   "metadata": {
    "collapsed": true,
    "id": "y60i9lwuo76V"
   },
   "outputs": [],
   "source": [
    "! python /content/CL-TASD-MvP/llm/generation/inf.py --task \"cl_mvp_tasd\" --language \"English\" --test_language \"English\" --dataset \"SemEval16\" --prompt_loc \"few-shot-cot-template\" --end_idx 0"
   ]
  },
  {
   "cell_type": "code",
   "execution_count": null,
   "metadata": {
    "collapsed": true,
    "id": "j6waInzIo76V"
   },
   "outputs": [],
   "source": [
    "! python /content/CL-TASD-MvP/llm/generation/inf.py --task \"cl_mvp_tasd\" --language \"English\" --test_language \"Spanish\" --dataset \"SemEval16\" --prompt_loc \"few-shot-cot-template\" --end_idx 0"
   ]
  },
  {
   "cell_type": "code",
   "execution_count": null,
   "metadata": {
    "collapsed": true,
    "id": "YZFlWUNZo76V"
   },
   "outputs": [],
   "source": [
    "! python /content/CL-TASD-MvP/llm/generation/inf.py --task \"cl_mvp_tasd\" --language \"English\" --test_language \"French\" --dataset \"SemEval16\" --prompt_loc \"few-shot-cot-template\" --end_idx 0"
   ]
  },
  {
   "cell_type": "code",
   "execution_count": null,
   "metadata": {
    "collapsed": true,
    "id": "fngZvh47o76V"
   },
   "outputs": [],
   "source": [
    "! python /content/CL-TASD-MvP/llm/generation/inf.py --task \"cl_mvp_tasd\" --language \"English\" --test_language \"Dutch\" --dataset \"SemEval16\" --prompt_loc \"few-shot-cot-template\" --end_idx 0"
   ]
  },
  {
   "cell_type": "code",
   "execution_count": null,
   "metadata": {
    "collapsed": true,
    "id": "eMo0NQnZo76V"
   },
   "outputs": [],
   "source": [
    "! python /content/CL-TASD-MvP/llm/generation/inf.py --task \"cl_mvp_tasd\" --language \"English\" --test_language \"Turkish\" --dataset \"SemEval16\" --prompt_loc \"few-shot-cot-template\" --end_idx 0"
   ]
  },
  {
   "cell_type": "markdown",
   "metadata": {
    "id": "PtYwUQVRAGkO"
   },
   "source": [
    "####**Multilingual**"
   ]
  },
  {
   "cell_type": "markdown",
   "metadata": {
    "id": "FofeCk3_AGkO"
   },
   "source": [
    "**No Chain-Of-Thought**\n"
   ]
  },
  {
   "cell_type": "code",
   "execution_count": null,
   "metadata": {
    "collapsed": true,
    "id": "Wh20E6ujAGkP"
   },
   "outputs": [],
   "source": [
    "! python /content/CL-TASD-MvP/llm/generation/inf.py --task \"cl_mvp_tasd\" --language \"Multilingual\" --test_language \"English\" --dataset \"SemEval16\" --prompt_loc \"few-shot-template\" --end_idx 0"
   ]
  },
  {
   "cell_type": "code",
   "execution_count": null,
   "metadata": {
    "collapsed": true,
    "id": "UoavIcvtAGkP"
   },
   "outputs": [],
   "source": [
    "! python /content/CL-TASD-MvP/llm/generation/inf.py --task \"cl_mvp_tasd\" --language \"Multilingual\" --test_language \"Spanish\" --dataset \"SemEval16\" --prompt_loc \"few-shot-template\" --end_idx 0"
   ]
  },
  {
   "cell_type": "code",
   "execution_count": null,
   "metadata": {
    "collapsed": true,
    "id": "qy_Ma_6DAGkP"
   },
   "outputs": [],
   "source": [
    "! python /content/CL-TASD-MvP/llm/generation/inf.py --task \"cl_mvp_tasd\" --language \"Multilingual\" --test_language \"French\" --dataset \"SemEval16\" --prompt_loc \"few-shot-template\" --end_idx 0"
   ]
  },
  {
   "cell_type": "code",
   "execution_count": null,
   "metadata": {
    "collapsed": true,
    "id": "gdCE9TPXAGkP"
   },
   "outputs": [],
   "source": [
    "! python /content/CL-TASD-MvP/llm/generation/inf.py --task \"cl_mvp_tasd\" --language \"Multilingual\" --test_language \"Dutch\" --dataset \"SemEval16\" --prompt_loc \"few-shot-template\" --end_idx 0"
   ]
  },
  {
   "cell_type": "code",
   "execution_count": null,
   "metadata": {
    "collapsed": true,
    "id": "3mdMVB7EAGkP"
   },
   "outputs": [],
   "source": [
    "! python /content/CL-TASD-MvP/llm/generation/inf.py --task \"cl_mvp_tasd\" --language \"Multilingual\" --test_language \"Turkish\" --dataset \"SemEval16\" --prompt_loc \"few-shot-template\" --end_idx 0"
   ]
  },
  {
   "cell_type": "markdown",
   "metadata": {
    "id": "yzefb4CkAGkP"
   },
   "source": [
    "**Chain-Of-Thought**\n"
   ]
  },
  {
   "cell_type": "code",
   "execution_count": null,
   "metadata": {
    "collapsed": true,
    "id": "5SfJeekuAGkQ"
   },
   "outputs": [],
   "source": [
    "! python /content/CL-TASD-MvP/llm/generation/inf.py --task \"cl_mvp_tasd\" --language \"Multilingual\" --test_language \"English\" --dataset \"SemEval16\" --prompt_loc \"few-shot-cot-template\" --end_idx 0"
   ]
  },
  {
   "cell_type": "code",
   "execution_count": null,
   "metadata": {
    "collapsed": true,
    "id": "xA-ebcnJAGkQ"
   },
   "outputs": [],
   "source": [
    "! python /content/CL-TASD-MvP/llm/generation/inf.py --task \"cl_mvp_tasd\" --language \"Multilingual\" --test_language \"Spanish\" --dataset \"SemEval16\" --prompt_loc \"few-shot-cot-template\" --end_idx 0"
   ]
  },
  {
   "cell_type": "code",
   "execution_count": null,
   "metadata": {
    "collapsed": true,
    "id": "aPbGBSUGAGkQ"
   },
   "outputs": [],
   "source": [
    "! python /content/CL-TASD-MvP/llm/generation/inf.py --task \"cl_mvp_tasd\" --language \"Multilingual\" --test_language \"French\" --dataset \"SemEval16\" --prompt_loc \"few-shot-cot-template\" --end_idx 0"
   ]
  },
  {
   "cell_type": "code",
   "execution_count": null,
   "metadata": {
    "collapsed": true,
    "id": "H9j3JRFeAGkQ"
   },
   "outputs": [],
   "source": [
    "! python /content/CL-TASD-MvP/llm/generation/inf.py --task \"cl_mvp_tasd\" --language \"Multilingual\" --test_language \"Dutch\" --dataset \"SemEval16\" --prompt_loc \"few-shot-cot-template\" --end_idx 0"
   ]
  },
  {
   "cell_type": "code",
   "execution_count": null,
   "metadata": {
    "collapsed": true,
    "id": "H0LfwAf5AGkQ"
   },
   "outputs": [],
   "source": [
    "! python /content/CL-TASD-MvP/llm/generation/inf.py --task \"cl_mvp_tasd\" --language \"Multilingual\" --test_language \"Turkish\" --dataset \"SemEval16\" --prompt_loc \"few-shot-cot-template\" --end_idx 0"
   ]
  },
  {
   "cell_type": "markdown",
   "metadata": {
    "id": "1i67nIm2BKZl"
   },
   "source": [
    "####**Generation Fine-Tuned**"
   ]
  },
  {
   "cell_type": "markdown",
   "metadata": {
    "id": "2upQvDO6DqTi"
   },
   "source": [
    "**Unilingual**\n"
   ]
  },
  {
   "cell_type": "code",
   "execution_count": null,
   "metadata": {
    "collapsed": true,
    "id": "p1XTumPlDqTj"
   },
   "outputs": [],
   "source": [
    "! python /content/CL-TASD-MvP/llm/generation/inf.py --task \"cl_mvp_tasd\" --language \"English\" --test_language \"English\" --dataset \"SemEval16\" --fine_tuned --model \"ft:gpt-4.1-mini-2025-04-14:personal::ByHCxRfZ\" --end_idx 0"
   ]
  },
  {
   "cell_type": "code",
   "execution_count": null,
   "metadata": {
    "collapsed": true,
    "id": "yxzpxPRaD464"
   },
   "outputs": [],
   "source": [
    "! python /content/CL-TASD-MvP/llm/generation/inf.py --task \"cl_mvp_tasd\" --language \"Spanish\" --test_language \"Spanish\" --dataset \"SemEval16\" --fine_tuned --model \"ft:gpt-4.1-mini-2025-04-14:personal::ByKfXXZG\" --end_idx 0"
   ]
  },
  {
   "cell_type": "code",
   "execution_count": null,
   "metadata": {
    "collapsed": true,
    "id": "uhM_CqjlD53J"
   },
   "outputs": [],
   "source": [
    "! python /content/CL-TASD-MvP/llm/generation/inf.py --task \"cl_mvp_tasd\" --language \"French\" --test_language \"French\" --dataset \"SemEval16\" --fine_tuned --model \"ft:gpt-4.1-mini-2025-04-14:personal::ByLbKKqX\" --end_idx 0"
   ]
  },
  {
   "cell_type": "code",
   "execution_count": null,
   "metadata": {
    "collapsed": true,
    "id": "1b5pXKXUD5-o"
   },
   "outputs": [],
   "source": [
    "! python /content/CL-TASD-MvP/llm/generation/inf.py --task \"cl_mvp_tasd\" --language \"Dutch\" --test_language \"Dutch\" --dataset \"SemEval16\" --fine_tuned --model \"ft:gpt-4.1-mini-2025-04-14:personal::ByMVKSVv\" --end_idx 0"
   ]
  },
  {
   "cell_type": "code",
   "execution_count": null,
   "metadata": {
    "collapsed": true,
    "id": "i4NmZ0ppD6J6"
   },
   "outputs": [],
   "source": [
    "! python /content/CL-TASD-MvP/llm/generation/inf.py --task \"cl_mvp_tasd\" --language \"Turkish\" --test_language \"Turkish\" --dataset \"SemEval16\" --fine_tuned --model \"ft:gpt-4.1-mini-2025-04-14:personal::ByNcaJPc\" --end_idx 0"
   ]
  },
  {
   "cell_type": "markdown",
   "metadata": {
    "id": "JA_BMJe6BKZm"
   },
   "source": [
    "**Cross-Lingual**\n"
   ]
  },
  {
   "cell_type": "code",
   "execution_count": null,
   "metadata": {
    "collapsed": true,
    "id": "EgsZZQLTBKZn"
   },
   "outputs": [],
   "source": [
    "! python /content/CL-TASD-MvP/llm/generation/inf.py --task \"cl_mvp_tasd\" --language \"English\" --test_language \"Spanish\" --dataset \"SemEval16\" --fine_tuned --model \"ft:gpt-4.1-mini-2025-04-14:personal::ByHCxRfZ\" --end_idx 0"
   ]
  },
  {
   "cell_type": "code",
   "execution_count": null,
   "metadata": {
    "collapsed": true,
    "id": "4zJ1Ws-MBKZn"
   },
   "outputs": [],
   "source": [
    "! python /content/CL-TASD-MvP/llm/generation/inf.py --task \"cl_mvp_tasd\" --language \"English\" --test_language \"French\" --dataset \"SemEval16\" --fine_tuned --model \"ft:gpt-4.1-mini-2025-04-14:personal::ByHCxRfZ\" --end_idx 0"
   ]
  },
  {
   "cell_type": "code",
   "execution_count": null,
   "metadata": {
    "collapsed": true,
    "id": "rjolYpu9BKZn"
   },
   "outputs": [],
   "source": [
    "! python /content/CL-TASD-MvP/llm/generation/inf.py --task \"cl_mvp_tasd\" --language \"English\" --test_language \"Dutch\" --dataset \"SemEval16\" --fine_tuned --model \"ft:gpt-4.1-mini-2025-04-14:personal::ByHCxRfZ\" --end_idx 0"
   ]
  },
  {
   "cell_type": "code",
   "execution_count": null,
   "metadata": {
    "collapsed": true,
    "id": "p6lj-FVXBKZn"
   },
   "outputs": [],
   "source": [
    "! python /content/CL-TASD-MvP/llm/generation/inf.py --task \"cl_mvp_tasd\" --language \"English\" --test_language \"Turkish\" --dataset \"SemEval16\" --fine_tuned --model \"ft:gpt-4.1-mini-2025-04-14:personal::ByHCxRfZ\" --end_idx 0"
   ]
  },
  {
   "cell_type": "markdown",
   "metadata": {
    "id": "hxJHQxzdBKZn"
   },
   "source": [
    "**Multilingual**\n"
   ]
  },
  {
   "cell_type": "code",
   "execution_count": null,
   "metadata": {
    "collapsed": true,
    "id": "iAn7Ytx1BKZo"
   },
   "outputs": [],
   "source": [
    "! python /content/CL-TASD-MvP/llm/generation/inf.py --task \"cl_mvp_tasd\" --language \"Multilingual\" --test_language \"English\" --dataset \"SemEval16\" --fine_tuned --model \"ft:gpt-4.1-mini-2025-04-14:personal::BxeD4Npn\" --end_idx 0"
   ]
  },
  {
   "cell_type": "code",
   "execution_count": null,
   "metadata": {
    "collapsed": true,
    "id": "rZ2HW8xVBKZo"
   },
   "outputs": [],
   "source": [
    "! python /content/CL-TASD-MvP/llm/generation/inf.py --task \"cl_mvp_tasd\" --language \"Multilingual\" --test_language \"Spanish\" --dataset \"SemEval16\" --fine_tuned --model \"ft:gpt-4.1-mini-2025-04-14:personal::BxeD4Npn\" --end_idx 0"
   ]
  },
  {
   "cell_type": "code",
   "execution_count": null,
   "metadata": {
    "collapsed": true,
    "id": "doOonKcRBKZo"
   },
   "outputs": [],
   "source": [
    "! python /content/CL-TASD-MvP/llm/generation/inf.py --task \"cl_mvp_tasd\" --language \"Multilingual\" --test_language \"French\" --dataset \"SemEval16\" --fine_tuned --model \"ft:gpt-4.1-mini-2025-04-14:personal::BxeD4Npn\" --end_idx 0"
   ]
  },
  {
   "cell_type": "code",
   "execution_count": null,
   "metadata": {
    "collapsed": true,
    "id": "RZhQMqd_BKZo"
   },
   "outputs": [],
   "source": [
    "! python /content/CL-TASD-MvP/llm/generation/inf.py --task \"cl_mvp_tasd\" --language \"Multilingual\" --test_language \"Dutch\" --dataset \"SemEval16\" --fine_tuned --model \"ft:gpt-4.1-mini-2025-04-14:personal::BxeD4Npn\" --end_idx 0"
   ]
  },
  {
   "cell_type": "code",
   "execution_count": null,
   "metadata": {
    "collapsed": true,
    "id": "6zYYMaz0BKZo"
   },
   "outputs": [],
   "source": [
    "! python /content/CL-TASD-MvP/llm/generation/inf.py --task \"cl_mvp_tasd\" --language \"Multilingual\" --test_language \"Turkish\" --dataset \"SemEval16\" --fine_tuned --model \"ft:gpt-4.1-mini-2025-04-14:personal::BxeD4Npn\" --end_idx 0"
   ]
  },
  {
   "cell_type": "markdown",
   "metadata": {
    "id": "xoyTYc6Sfrs8"
   },
   "source": [
    "### **SemEval-2016: Eval**"
   ]
  },
  {
   "cell_type": "markdown",
   "metadata": {
    "id": "l-er9CRdfrs9"
   },
   "source": [
    "#### **Eval Zero-Shot**"
   ]
  },
  {
   "cell_type": "markdown",
   "metadata": {
    "id": "hdCe3DEufrs9"
   },
   "source": [
    "**No Chain-Of-Thought**\n"
   ]
  },
  {
   "cell_type": "code",
   "execution_count": null,
   "metadata": {
    "collapsed": true,
    "id": "9PtMW9ZMfrs9"
   },
   "outputs": [],
   "source": [
    "! python /content/CL-TASD-MvP/llm/generation/eval.py  --language \"English\" --test_language \"English\" --dataset \"SemEval16\" --prompt_loc \"zero-shot-template\""
   ]
  },
  {
   "cell_type": "code",
   "execution_count": null,
   "metadata": {
    "collapsed": true,
    "id": "Cgv4fI9_frs9"
   },
   "outputs": [],
   "source": [
    "! python /content/CL-TASD-MvP/llm/generation/eval.py  --language \"Spanish\" --test_language \"Spanish\" --dataset \"SemEval16\" --prompt_loc \"zero-shot-template\""
   ]
  },
  {
   "cell_type": "code",
   "execution_count": null,
   "metadata": {
    "collapsed": true,
    "id": "TIBENAS7frs9"
   },
   "outputs": [],
   "source": [
    "! python /content/CL-TASD-MvP/llm/generation/eval.py  --language \"French\" --test_language \"French\" --dataset \"SemEval16\" --prompt_loc \"zero-shot-template\""
   ]
  },
  {
   "cell_type": "code",
   "execution_count": null,
   "metadata": {
    "collapsed": true,
    "id": "EGHhbzyrfrs9"
   },
   "outputs": [],
   "source": [
    "! python /content/CL-TASD-MvP/llm/generation/eval.py  --language \"Dutch\" --test_language \"Dutch\" --dataset \"SemEval16\" --prompt_loc \"zero-shot-template\""
   ]
  },
  {
   "cell_type": "code",
   "execution_count": null,
   "metadata": {
    "collapsed": true,
    "id": "Bdv2QpQzfrs-"
   },
   "outputs": [],
   "source": [
    "! python /content/CL-TASD-MvP/llm/generation/eval.py  --language \"Turkish\" --test_language \"Turkish\" --dataset \"SemEval16\" --prompt_loc \"zero-shot-template\""
   ]
  },
  {
   "cell_type": "markdown",
   "metadata": {
    "id": "bRoZAWI9frs-"
   },
   "source": [
    "**No Chain-Of-Thought**\n"
   ]
  },
  {
   "cell_type": "code",
   "execution_count": null,
   "metadata": {
    "collapsed": true,
    "id": "cv7_dOQBfrs-"
   },
   "outputs": [],
   "source": [
    "! python /content/CL-TASD-MvP/llm/generation/eval.py  --language \"English\" --test_language \"English\" --dataset \"SemEval16\" --prompt_loc \"zero-shot-cot-template\""
   ]
  },
  {
   "cell_type": "code",
   "execution_count": null,
   "metadata": {
    "collapsed": true,
    "id": "osEp8Ei5frs-"
   },
   "outputs": [],
   "source": [
    "! python /content/CL-TASD-MvP/llm/generation/eval.py  --language \"Spanish\" --test_language \"Spanish\" --dataset \"SemEval16\" --prompt_loc \"zero-shot-cot-template\""
   ]
  },
  {
   "cell_type": "code",
   "execution_count": null,
   "metadata": {
    "collapsed": true,
    "id": "2mcSu2hofrs-"
   },
   "outputs": [],
   "source": [
    "! python /content/CL-TASD-MvP/llm/generation/eval.py  --language \"French\" --test_language \"French\" --dataset \"SemEval16\" --prompt_loc \"zero-shot-cot-template\""
   ]
  },
  {
   "cell_type": "code",
   "execution_count": null,
   "metadata": {
    "collapsed": true,
    "id": "UnUiGk_kfrs-"
   },
   "outputs": [],
   "source": [
    "! python /content/CL-TASD-MvP/llm/generation/eval.py  --language \"Dutch\" --test_language \"Dutch\" --dataset \"SemEval16\" --prompt_loc \"zero-shot-cot-template\""
   ]
  },
  {
   "cell_type": "code",
   "execution_count": null,
   "metadata": {
    "collapsed": true,
    "id": "nttzR4eEfrs-"
   },
   "outputs": [],
   "source": [
    "! python /content/CL-TASD-MvP/llm/generation/eval.py  --language \"Turkish\" --test_language \"Turkish\" --dataset \"SemEval16\" --prompt_loc \"zero-shot-cot-template\""
   ]
  },
  {
   "cell_type": "markdown",
   "metadata": {
    "id": "CH4VhNB0frs-"
   },
   "source": [
    "#### **Eval Few-Shot**"
   ]
  },
  {
   "cell_type": "markdown",
   "metadata": {
    "id": "__2FAw-Ufrs-"
   },
   "source": [
    "####**Unilingual**"
   ]
  },
  {
   "cell_type": "markdown",
   "metadata": {
    "id": "-YnOVuUTfrs-"
   },
   "source": [
    "**No Chain-Of-Thought**\n"
   ]
  },
  {
   "cell_type": "code",
   "execution_count": null,
   "metadata": {
    "collapsed": true,
    "id": "9E6C1grhfrs-"
   },
   "outputs": [],
   "source": [
    "! python /content/CL-TASD-MvP/llm/generation/eval.py  --language \"English\" --test_language \"English\" --dataset \"SemEval16\" --prompt_loc \"few-shot-template\""
   ]
  },
  {
   "cell_type": "code",
   "execution_count": null,
   "metadata": {
    "collapsed": true,
    "id": "e-rhh5Tjfrs-"
   },
   "outputs": [],
   "source": [
    "! python /content/CL-TASD-MvP/llm/generation/eval.py  --language \"Spanish\" --test_language \"Spanish\" --dataset \"SemEval16\" --prompt_loc \"few-shot-template\""
   ]
  },
  {
   "cell_type": "code",
   "execution_count": null,
   "metadata": {
    "collapsed": true,
    "id": "BBEvk64kfrs_"
   },
   "outputs": [],
   "source": [
    "! python /content/CL-TASD-MvP/llm/generation/eval.py  --language \"French\" --test_language \"French\" --dataset \"SemEval16\" --prompt_loc \"few-shot-template\""
   ]
  },
  {
   "cell_type": "code",
   "execution_count": null,
   "metadata": {
    "collapsed": true,
    "id": "fMfKExAofrs_"
   },
   "outputs": [],
   "source": [
    "! python /content/CL-TASD-MvP/llm/generation/eval.py  --language \"Dutch\" --test_language \"Dutch\" --dataset \"SemEval16\" --prompt_loc \"few-shot-template\""
   ]
  },
  {
   "cell_type": "code",
   "execution_count": null,
   "metadata": {
    "collapsed": true,
    "id": "R0Rj8Urifrs_"
   },
   "outputs": [],
   "source": [
    "! python /content/CL-TASD-MvP/llm/generation/eval.py  --language \"Turkish\" --test_language \"Turkish\" --dataset \"SemEval16\" --prompt_loc \"few-shot-template\""
   ]
  },
  {
   "cell_type": "markdown",
   "metadata": {
    "id": "MeSxzdCJfrs_"
   },
   "source": [
    "**Chain-Of-Thought**\n"
   ]
  },
  {
   "cell_type": "code",
   "execution_count": null,
   "metadata": {
    "collapsed": true,
    "id": "3CvTHWm7frs_"
   },
   "outputs": [],
   "source": [
    "! python /content/CL-TASD-MvP/llm/generation/eval.py  --language \"English\" --test_language \"English\" --dataset \"SemEval16\" --prompt_loc \"few-shot-cot-template\""
   ]
  },
  {
   "cell_type": "code",
   "execution_count": null,
   "metadata": {
    "collapsed": true,
    "id": "3YXxeQzpfrs_"
   },
   "outputs": [],
   "source": [
    "! python /content/CL-TASD-MvP/llm/generation/eval.py  --language \"Spanish\" --test_language \"Spanish\" --dataset \"SemEval16\" --prompt_loc \"few-shot-cot-template\""
   ]
  },
  {
   "cell_type": "code",
   "execution_count": null,
   "metadata": {
    "collapsed": true,
    "id": "7Gy5xV5ifrs_"
   },
   "outputs": [],
   "source": [
    "! python /content/CL-TASD-MvP/llm/generation/eval.py  --language \"French\" --test_language \"French\" --dataset \"SemEval16\" --prompt_loc \"few-shot-cot-template\""
   ]
  },
  {
   "cell_type": "code",
   "execution_count": null,
   "metadata": {
    "collapsed": true,
    "id": "_VydIaCMfrs_"
   },
   "outputs": [],
   "source": [
    "! python /content/CL-TASD-MvP/llm/generation/eval.py  --language \"Dutch\" --test_language \"Dutch\" --dataset \"SemEval16\" --prompt_loc \"few-shot-cot-template\""
   ]
  },
  {
   "cell_type": "code",
   "execution_count": null,
   "metadata": {
    "collapsed": true,
    "id": "mxLI0Hpsfrs_"
   },
   "outputs": [],
   "source": [
    "! python /content/CL-TASD-MvP/llm/generation/eval.py  --language \"Turkish\" --test_language \"Turkish\" --dataset \"SemEval16\" --prompt_loc \"few-shot-cot-template\""
   ]
  },
  {
   "cell_type": "markdown",
   "metadata": {
    "id": "cyedG1evfrs_"
   },
   "source": [
    "####**Cross-Lingual**"
   ]
  },
  {
   "cell_type": "markdown",
   "metadata": {
    "id": "irVAtd4kfrs_"
   },
   "source": [
    "**No Chain-Of-Thought**\n"
   ]
  },
  {
   "cell_type": "code",
   "execution_count": null,
   "metadata": {
    "collapsed": true,
    "id": "-utO1gJ3frtA"
   },
   "outputs": [],
   "source": [
    "! python /content/CL-TASD-MvP/llm/generation/eval.py  --language \"English\" --test_language \"English\" --dataset \"SemEval16\" --prompt_loc \"few-shot-template\""
   ]
  },
  {
   "cell_type": "code",
   "execution_count": null,
   "metadata": {
    "collapsed": true,
    "id": "UlBUNFb2frtA"
   },
   "outputs": [],
   "source": [
    "! python /content/CL-TASD-MvP/llm/generation/eval.py  --language \"English\" --test_language \"Spanish\" --dataset \"SemEval16\" --prompt_loc \"few-shot-template\""
   ]
  },
  {
   "cell_type": "code",
   "execution_count": null,
   "metadata": {
    "collapsed": true,
    "id": "p_sduv9cfrtA"
   },
   "outputs": [],
   "source": [
    "! python /content/CL-TASD-MvP/llm/generation/eval.py  --language \"English\" --test_language \"French\" --dataset \"SemEval16\" --prompt_loc \"few-shot-template\""
   ]
  },
  {
   "cell_type": "code",
   "execution_count": null,
   "metadata": {
    "collapsed": true,
    "id": "Ho3F5JUWfrtA"
   },
   "outputs": [],
   "source": [
    "! python /content/CL-TASD-MvP/llm/generation/eval.py  --language \"English\" --test_language \"Dutch\" --dataset \"SemEval16\" --prompt_loc \"few-shot-template\""
   ]
  },
  {
   "cell_type": "code",
   "execution_count": null,
   "metadata": {
    "collapsed": true,
    "id": "meLCXpOLfrtA"
   },
   "outputs": [],
   "source": [
    "! python /content/CL-TASD-MvP/llm/generation/eval.py  --language \"English\" --test_language \"Turkish\" --dataset \"SemEval16\" --prompt_loc \"few-shot-template\""
   ]
  },
  {
   "cell_type": "markdown",
   "metadata": {
    "id": "VjOkGto2frtA"
   },
   "source": [
    "**Chain-Of-Thought**\n"
   ]
  },
  {
   "cell_type": "code",
   "execution_count": null,
   "metadata": {
    "collapsed": true,
    "id": "xxtokSOSfrtA"
   },
   "outputs": [],
   "source": [
    "! python /content/CL-TASD-MvP/llm/generation/eval.py  --language \"English\" --test_language \"English\" --dataset \"SemEval16\" --prompt_loc \"few-shot-cot-template\""
   ]
  },
  {
   "cell_type": "code",
   "execution_count": null,
   "metadata": {
    "collapsed": true,
    "id": "Df12VNTsfrtA"
   },
   "outputs": [],
   "source": [
    "! python /content/CL-TASD-MvP/llm/generation/eval.py  --language \"English\" --test_language \"Spanish\" --dataset \"SemEval16\" --prompt_loc \"few-shot-cot-template\""
   ]
  },
  {
   "cell_type": "code",
   "execution_count": null,
   "metadata": {
    "collapsed": true,
    "id": "BqIfgamSfrtA"
   },
   "outputs": [],
   "source": [
    "! python /content/CL-TASD-MvP/llm/generation/eval.py  --language \"English\" --test_language \"French\" --dataset \"SemEval16\" --prompt_loc \"few-shot-cot-template\""
   ]
  },
  {
   "cell_type": "code",
   "execution_count": null,
   "metadata": {
    "collapsed": true,
    "id": "cDJv4UoKfrtA"
   },
   "outputs": [],
   "source": [
    "! python /content/CL-TASD-MvP/llm/generation/eval.py  --language \"English\" --test_language \"Dutch\" --dataset \"SemEval16\" --prompt_loc \"few-shot-cot-template\""
   ]
  },
  {
   "cell_type": "code",
   "execution_count": null,
   "metadata": {
    "collapsed": true,
    "id": "-0KdkMkffrtB"
   },
   "outputs": [],
   "source": [
    "! python /content/CL-TASD-MvP/llm/generation/eval.py  --language \"English\" --test_language \"Turkish\" --dataset \"SemEval16\" --prompt_loc \"few-shot-cot-template\""
   ]
  },
  {
   "cell_type": "markdown",
   "metadata": {
    "id": "y6zdC822frtB"
   },
   "source": [
    "####**Multilingual**"
   ]
  },
  {
   "cell_type": "markdown",
   "metadata": {
    "id": "cfIBboeffrtB"
   },
   "source": [
    "**No Chain-Of-Thought**\n"
   ]
  },
  {
   "cell_type": "code",
   "execution_count": null,
   "metadata": {
    "collapsed": true,
    "id": "gGV2x0gZfrtB"
   },
   "outputs": [],
   "source": [
    "! python /content/CL-TASD-MvP/llm/generation/eval.py  --language \"Multilingual\" --test_language \"English\" --dataset \"SemEval16\" --prompt_loc \"few-shot-template\""
   ]
  },
  {
   "cell_type": "code",
   "execution_count": null,
   "metadata": {
    "collapsed": true,
    "id": "9F8zqK4ufrtB"
   },
   "outputs": [],
   "source": [
    "! python /content/CL-TASD-MvP/llm/generation/eval.py  --language \"Multilingual\" --test_language \"Spanish\" --dataset \"SemEval16\" --prompt_loc \"few-shot-template\""
   ]
  },
  {
   "cell_type": "code",
   "execution_count": null,
   "metadata": {
    "collapsed": true,
    "id": "xkdFNQFafrtB"
   },
   "outputs": [],
   "source": [
    "! python /content/CL-TASD-MvP/llm/generation/eval.py  --language \"Multilingual\" --test_language \"French\" --dataset \"SemEval16\" --prompt_loc \"few-shot-template\""
   ]
  },
  {
   "cell_type": "code",
   "execution_count": null,
   "metadata": {
    "collapsed": true,
    "id": "Wwpg2KgnfrtB"
   },
   "outputs": [],
   "source": [
    "! python /content/CL-TASD-MvP/llm/generation/eval.py  --language \"Multilingual\" --test_language \"Dutch\" --dataset \"SemEval16\" --prompt_loc \"few-shot-template\""
   ]
  },
  {
   "cell_type": "code",
   "execution_count": null,
   "metadata": {
    "collapsed": true,
    "id": "rTtxvf9ZfrtB"
   },
   "outputs": [],
   "source": [
    "! python /content/CL-TASD-MvP/llm/generation/eval.py  --language \"Multilingual\" --test_language \"Turkish\" --dataset \"SemEval16\" --prompt_loc \"few-shot-template\""
   ]
  },
  {
   "cell_type": "markdown",
   "metadata": {
    "id": "NKQDdJqJfrtB"
   },
   "source": [
    "**Chain-Of-Thought**\n"
   ]
  },
  {
   "cell_type": "code",
   "execution_count": null,
   "metadata": {
    "collapsed": true,
    "id": "GvttTWqPfrtB"
   },
   "outputs": [],
   "source": [
    "! python /content/CL-TASD-MvP/llm/generation/eval.py  --language \"Multilingual\" --test_language \"English\" --dataset \"SemEval16\" --prompt_loc \"few-shot-cot-template\""
   ]
  },
  {
   "cell_type": "code",
   "execution_count": null,
   "metadata": {
    "collapsed": true,
    "id": "M-ZnklVffrtC"
   },
   "outputs": [],
   "source": [
    "! python /content/CL-TASD-MvP/llm/generation/eval.py  --language \"Multilingual\" --test_language \"Spanish\" --dataset \"SemEval16\" --prompt_loc \"few-shot-cot-template\""
   ]
  },
  {
   "cell_type": "code",
   "execution_count": null,
   "metadata": {
    "collapsed": true,
    "id": "g8TtwPTyfrtC"
   },
   "outputs": [],
   "source": [
    "! python /content/CL-TASD-MvP/llm/generation/eval.py  --language \"Multilingual\" --test_language \"French\" --dataset \"SemEval16\" --prompt_loc \"few-shot-cot-template\""
   ]
  },
  {
   "cell_type": "code",
   "execution_count": null,
   "metadata": {
    "collapsed": true,
    "id": "IWLyJ0-vfrtC"
   },
   "outputs": [],
   "source": [
    "! python /content/CL-TASD-MvP/llm/generation/eval.py  --language \"Multilingual\" --test_language \"Dutch\" --dataset \"SemEval16\" --prompt_loc \"few-shot-cot-template\""
   ]
  },
  {
   "cell_type": "code",
   "execution_count": null,
   "metadata": {
    "collapsed": true,
    "id": "ScWDj78hfrtC"
   },
   "outputs": [],
   "source": [
    "! python /content/CL-TASD-MvP/llm/generation/eval.py  --language \"Multilingual\" --test_language \"Turkish\" --dataset \"SemEval16\" --prompt_loc \"few-shot-cot-template\""
   ]
  },
  {
   "cell_type": "markdown",
   "metadata": {
    "id": "kAO7dRBsfrtC"
   },
   "source": [
    "####**Eval Fine-Tuned**"
   ]
  },
  {
   "cell_type": "markdown",
   "metadata": {
    "id": "Vx0S3HtyfrtC"
   },
   "source": [
    "**Unilingual**\n"
   ]
  },
  {
   "cell_type": "code",
   "execution_count": null,
   "metadata": {
    "collapsed": true,
    "id": "X4hUfR3tfrtC"
   },
   "outputs": [],
   "source": [
    "! python /content/CL-TASD-MvP/llm/generation/eval.py  --language \"English\" --test_language \"English\" --dataset \"SemEval16\" --fine_tuned"
   ]
  },
  {
   "cell_type": "code",
   "execution_count": null,
   "metadata": {
    "collapsed": true,
    "id": "S1ijle5KfrtC"
   },
   "outputs": [],
   "source": [
    "! python /content/CL-TASD-MvP/llm/generation/eval.py  --language \"Spanish\" --test_language \"Spanish\" --dataset \"SemEval16\" --fine_tuned"
   ]
  },
  {
   "cell_type": "code",
   "execution_count": null,
   "metadata": {
    "collapsed": true,
    "id": "xCEzZ7zNfrtC"
   },
   "outputs": [],
   "source": [
    "! python /content/CL-TASD-MvP/llm/generation/eval.py  --language \"French\" --test_language \"French\" --dataset \"SemEval16\" --fine_tuned"
   ]
  },
  {
   "cell_type": "code",
   "execution_count": null,
   "metadata": {
    "collapsed": true,
    "id": "eC3M7xLGfrtD"
   },
   "outputs": [],
   "source": [
    "! python /content/CL-TASD-MvP/llm/generation/eval.py  --language \"Dutch\" --test_language \"Dutch\" --dataset \"SemEval16\" --fine_tuned"
   ]
  },
  {
   "cell_type": "code",
   "execution_count": null,
   "metadata": {
    "collapsed": true,
    "id": "Vf23sGXZfrtD"
   },
   "outputs": [],
   "source": [
    "! python /content/CL-TASD-MvP/llm/generation/eval.py  --language \"Turkish\" --test_language \"Turkish\" --dataset \"SemEval16\" --fine_tuned"
   ]
  },
  {
   "cell_type": "markdown",
   "metadata": {
    "id": "2S0toUMFfrtD"
   },
   "source": [
    "**Cross-Lingual**\n"
   ]
  },
  {
   "cell_type": "code",
   "execution_count": null,
   "metadata": {
    "collapsed": true,
    "id": "twnFIt0tfrtD"
   },
   "outputs": [],
   "source": [
    "! python /content/CL-TASD-MvP/llm/generation/eval.py  --language \"English\" --test_language \"Spanish\" --dataset \"SemEval16\" --fine_tuned"
   ]
  },
  {
   "cell_type": "code",
   "execution_count": null,
   "metadata": {
    "collapsed": true,
    "id": "FrsQ95w6frtD"
   },
   "outputs": [],
   "source": [
    "! python /content/CL-TASD-MvP/llm/generation/eval.py  --language \"English\" --test_language \"French\" --dataset \"SemEval16\" --fine_tuned"
   ]
  },
  {
   "cell_type": "code",
   "execution_count": null,
   "metadata": {
    "collapsed": true,
    "id": "wbhb5Zv-frtD"
   },
   "outputs": [],
   "source": [
    "! python /content/CL-TASD-MvP/llm/generation/eval.py  --language \"English\" --test_language \"Dutch\" --dataset \"SemEval16\" --fine_tuned"
   ]
  },
  {
   "cell_type": "code",
   "execution_count": null,
   "metadata": {
    "collapsed": true,
    "id": "6xnStdjofrtD"
   },
   "outputs": [],
   "source": [
    "! python /content/CL-TASD-MvP/llm/generation/eval.py  --language \"English\" --test_language \"Turkish\" --dataset \"SemEval16\" --fine_tuned"
   ]
  },
  {
   "cell_type": "markdown",
   "metadata": {
    "id": "KGiMnulEfrtD"
   },
   "source": [
    "**Multilingual**\n"
   ]
  },
  {
   "cell_type": "code",
   "execution_count": null,
   "metadata": {
    "collapsed": true,
    "id": "VlFdQDTkfrtD"
   },
   "outputs": [],
   "source": [
    "! python /content/CL-TASD-MvP/llm/generation/eval.py  --language \"Multilingual\" --test_language \"English\" --dataset \"SemEval16\" --fine_tuned"
   ]
  },
  {
   "cell_type": "code",
   "execution_count": null,
   "metadata": {
    "collapsed": true,
    "id": "oXAqhHuSfrtD"
   },
   "outputs": [],
   "source": [
    "! python /content/CL-TASD-MvP/llm/generation/eval.py  --language \"Multilingual\" --test_language \"Spanish\" --dataset \"SemEval16\" --fine_tuned"
   ]
  },
  {
   "cell_type": "code",
   "execution_count": null,
   "metadata": {
    "collapsed": true,
    "id": "Jsq-gyZbfrtE"
   },
   "outputs": [],
   "source": [
    "! python /content/CL-TASD-MvP/llm/generation/eval.py  --language \"Multilingual\" --test_language \"French\" --dataset \"SemEval16\" --fine_tuned"
   ]
  },
  {
   "cell_type": "code",
   "execution_count": null,
   "metadata": {
    "collapsed": true,
    "id": "qD_MAK4ifrtE"
   },
   "outputs": [],
   "source": [
    "! python /content/CL-TASD-MvP/llm/generation/eval.py  --language \"Multilingual\" --test_language \"Dutch\" --dataset \"SemEval16\" --fine_tuned"
   ]
  },
  {
   "cell_type": "code",
   "execution_count": null,
   "metadata": {
    "collapsed": true,
    "id": "FIIrvX8XfrtE"
   },
   "outputs": [],
   "source": [
    "! python /content/CL-TASD-MvP/llm/generation/eval.py  --language \"Multilingual\" --test_language \"Turkish\" --dataset \"SemEval16\" --fine_tuned"
   ]
  },
  {
   "cell_type": "markdown",
   "metadata": {
    "id": "HQWmX-x2-uYC"
   },
   "source": [
    "### **MABSA: Text Generation**"
   ]
  },
  {
   "cell_type": "markdown",
   "metadata": {
    "id": "tO5bQhPn-uYD"
   },
   "source": [
    "#### **Fine-Tuning**"
   ]
  },
  {
   "cell_type": "code",
   "execution_count": null,
   "metadata": {
    "id": "Hhtj1G9O-uYD"
   },
   "outputs": [],
   "source": [
    "! python /content/CL-TASD-MvP/llm/generation/fine_tune.py --language \"Multilingual_Small\" --dataset \"MABSA\""
   ]
  },
  {
   "cell_type": "code",
   "execution_count": null,
   "metadata": {
    "id": "zOQkv5mvmRF2"
   },
   "outputs": [],
   "source": [
    "! python /content/CL-TASD-MvP/llm/generation/fine_tune.py --language \"Multilingual_Small_Limited\" --dataset \"MABSA\""
   ]
  },
  {
   "cell_type": "code",
   "execution_count": null,
   "metadata": {
    "id": "IzcM_Ka6-uYD"
   },
   "outputs": [],
   "source": [
    "! python /content/CL-TASD-MvP/llm/generation/fine_tune.py --language \"English\" --dataset \"MABSA\""
   ]
  },
  {
   "cell_type": "code",
   "execution_count": null,
   "metadata": {
    "id": "DBJGXsTA-uYD"
   },
   "outputs": [],
   "source": [
    "! python /content/CL-TASD-MvP/llm/generation/fine_tune.py --language \"Spanish\" --dataset \"MABSA\""
   ]
  },
  {
   "cell_type": "code",
   "execution_count": null,
   "metadata": {
    "id": "F68mi-JL-uYD"
   },
   "outputs": [],
   "source": [
    "! python /content/CL-TASD-MvP/llm/generation/fine_tune.py --language \"French\" --dataset \"MABSA\""
   ]
  },
  {
   "cell_type": "code",
   "execution_count": null,
   "metadata": {
    "id": "2shnRQh0-uYD"
   },
   "outputs": [],
   "source": [
    "! python /content/CL-TASD-MvP/llm/generation/fine_tune.py --language \"Dutch\" --dataset \"MABSA\""
   ]
  },
  {
   "cell_type": "code",
   "execution_count": null,
   "metadata": {
    "collapsed": true,
    "id": "tfbe_h8t-uYD"
   },
   "outputs": [],
   "source": [
    "! python /content/CL-TASD-MvP/llm/generation/fine_tune.py --language \"Turkish\" --dataset \"MABSA\""
   ]
  },
  {
   "cell_type": "markdown",
   "metadata": {
    "id": "Vox4q4vy-uYD"
   },
   "source": [
    "#### **Generation Zero-Shot**"
   ]
  },
  {
   "cell_type": "markdown",
   "metadata": {
    "id": "JWYDOHNz-uYE"
   },
   "source": [
    "**No Chain-Of-Thought**\n"
   ]
  },
  {
   "cell_type": "code",
   "execution_count": null,
   "metadata": {
    "collapsed": true,
    "id": "Uedz1XgX-uYE"
   },
   "outputs": [],
   "source": [
    "! python /content/CL-TASD-MvP/llm/generation/inf.py --task \"cl_mvp_tasd\" --language \"English\" --test_language \"English\" --dataset \"MABSA\" --prompt_loc \"zero-shot-template\" --end_idx 0"
   ]
  },
  {
   "cell_type": "code",
   "execution_count": null,
   "metadata": {
    "collapsed": true,
    "id": "kxoIspwC-uYE"
   },
   "outputs": [],
   "source": [
    "! python /content/CL-TASD-MvP/llm/generation/inf.py --task \"cl_mvp_tasd\" --language \"Spanish\" --test_language \"Spanish\" --dataset \"MABSA\" --prompt_loc \"zero-shot-template\" --end_idx 0"
   ]
  },
  {
   "cell_type": "code",
   "execution_count": null,
   "metadata": {
    "collapsed": true,
    "id": "eiVwTGQm-uYE"
   },
   "outputs": [],
   "source": [
    "! python /content/CL-TASD-MvP/llm/generation/inf.py --task \"cl_mvp_tasd\" --language \"French\" --test_language \"French\" --dataset \"MABSA\" --prompt_loc \"zero-shot-template\" --end_idx 0"
   ]
  },
  {
   "cell_type": "code",
   "execution_count": null,
   "metadata": {
    "collapsed": true,
    "id": "tP1fPo_V-uYE"
   },
   "outputs": [],
   "source": [
    "! python /content/CL-TASD-MvP/llm/generation/inf.py --task \"cl_mvp_tasd\" --language \"Dutch\" --test_language \"Dutch\" --dataset \"MABSA\" --prompt_loc \"zero-shot-template\" --end_idx 0"
   ]
  },
  {
   "cell_type": "code",
   "execution_count": null,
   "metadata": {
    "collapsed": true,
    "id": "y-1tt11x-uYE"
   },
   "outputs": [],
   "source": [
    "! python /content/CL-TASD-MvP/llm/generation/inf.py --task \"cl_mvp_tasd\" --language \"Turkish\" --test_language \"Turkish\" --dataset \"MABSA\" --prompt_loc \"zero-shot-template\" --end_idx 0"
   ]
  },
  {
   "cell_type": "markdown",
   "metadata": {
    "id": "8fOpdAMM-uYE"
   },
   "source": [
    "**No Chain-Of-Thought**\n"
   ]
  },
  {
   "cell_type": "code",
   "execution_count": null,
   "metadata": {
    "collapsed": true,
    "id": "JnfBBr4k-uYE"
   },
   "outputs": [],
   "source": [
    "! python /content/CL-TASD-MvP/llm/generation/inf.py --task \"cl_mvp_tasd\" --language \"English\" --test_language \"English\" --dataset \"MABSA\" --prompt_loc \"zero-shot-cot-template\" --end_idx 0"
   ]
  },
  {
   "cell_type": "code",
   "execution_count": null,
   "metadata": {
    "collapsed": true,
    "id": "vjt0VI5z-uYE"
   },
   "outputs": [],
   "source": [
    "! python /content/CL-TASD-MvP/llm/generation/inf.py --task \"cl_mvp_tasd\" --language \"Spanish\" --test_language \"Spanish\" --dataset \"MABSA\" --prompt_loc \"zero-shot-cot-template\" --end_idx 0"
   ]
  },
  {
   "cell_type": "code",
   "execution_count": null,
   "metadata": {
    "collapsed": true,
    "id": "94ixoOcj-uYE"
   },
   "outputs": [],
   "source": [
    "! python /content/CL-TASD-MvP/llm/generation/inf.py --task \"cl_mvp_tasd\" --language \"French\" --test_language \"French\" --dataset \"MABSA\" --prompt_loc \"zero-shot-cot-template\" --end_idx 0"
   ]
  },
  {
   "cell_type": "code",
   "execution_count": null,
   "metadata": {
    "collapsed": true,
    "id": "YNSEbz8v-uYE"
   },
   "outputs": [],
   "source": [
    "! python /content/CL-TASD-MvP/llm/generation/inf.py --task \"cl_mvp_tasd\" --language \"Dutch\" --test_language \"Dutch\" --dataset \"MABSA\" --prompt_loc \"zero-shot-cot-template\" --end_idx 0"
   ]
  },
  {
   "cell_type": "code",
   "execution_count": null,
   "metadata": {
    "collapsed": true,
    "id": "hnOKTjZs-uYE"
   },
   "outputs": [],
   "source": [
    "! python /content/CL-TASD-MvP/llm/generation/inf.py --task \"cl_mvp_tasd\" --language \"Turkish\" --test_language \"Turkish\" --dataset \"MABSA\" --prompt_loc \"zero-shot-cot-template\" --end_idx 0"
   ]
  },
  {
   "cell_type": "markdown",
   "metadata": {
    "id": "uudXJeQB-uYE"
   },
   "source": [
    "#### **Generation Few-Shot**"
   ]
  },
  {
   "cell_type": "markdown",
   "metadata": {
    "id": "NmpOv_YG-uYE"
   },
   "source": [
    "####**Unilingual**"
   ]
  },
  {
   "cell_type": "markdown",
   "metadata": {
    "id": "W5UUGs01-uYE"
   },
   "source": [
    "**No Chain-Of-Thought**\n"
   ]
  },
  {
   "cell_type": "code",
   "execution_count": null,
   "metadata": {
    "collapsed": true,
    "id": "aG-PCqvh-uYF"
   },
   "outputs": [],
   "source": [
    "! python /content/CL-TASD-MvP/llm/generation/inf.py --task \"cl_mvp_tasd\" --language \"English\" --test_language \"English\" --dataset \"MABSA\" --prompt_loc \"few-shot-template\" --end_idx 0"
   ]
  },
  {
   "cell_type": "code",
   "execution_count": null,
   "metadata": {
    "collapsed": true,
    "id": "ty06_T8Y-uYF"
   },
   "outputs": [],
   "source": [
    "! python /content/CL-TASD-MvP/llm/generation/inf.py --task \"cl_mvp_tasd\" --language \"Spanish\" --test_language \"Spanish\" --dataset \"MABSA\" --prompt_loc \"few-shot-template\" --end_idx 0"
   ]
  },
  {
   "cell_type": "code",
   "execution_count": null,
   "metadata": {
    "collapsed": true,
    "id": "obugKRox-uYF"
   },
   "outputs": [],
   "source": [
    "! python /content/CL-TASD-MvP/llm/generation/inf.py --task \"cl_mvp_tasd\" --language \"French\" --test_language \"French\" --dataset \"MABSA\" --prompt_loc \"few-shot-template\" --end_idx 0"
   ]
  },
  {
   "cell_type": "code",
   "execution_count": null,
   "metadata": {
    "collapsed": true,
    "id": "Z7gk7LKp-uYF"
   },
   "outputs": [],
   "source": [
    "! python /content/CL-TASD-MvP/llm/generation/inf.py --task \"cl_mvp_tasd\" --language \"Dutch\" --test_language \"Dutch\" --dataset \"MABSA\" --prompt_loc \"few-shot-template\" --end_idx 0"
   ]
  },
  {
   "cell_type": "code",
   "execution_count": null,
   "metadata": {
    "collapsed": true,
    "id": "gPwKNxaR-uYF"
   },
   "outputs": [],
   "source": [
    "! python /content/CL-TASD-MvP/llm/generation/inf.py --task \"cl_mvp_tasd\" --language \"Turkish\" --test_language \"Turkish\" --dataset \"MABSA\" --prompt_loc \"few-shot-template\" --end_idx 0"
   ]
  },
  {
   "cell_type": "markdown",
   "metadata": {
    "id": "8coRlTw8-uYF"
   },
   "source": [
    "**Chain-Of-Thought**\n"
   ]
  },
  {
   "cell_type": "code",
   "execution_count": null,
   "metadata": {
    "collapsed": true,
    "id": "8h9SekSo-uYF"
   },
   "outputs": [],
   "source": [
    "! python /content/CL-TASD-MvP/llm/generation/inf.py --task \"cl_mvp_tasd\" --language \"English\" --test_language \"English\" --dataset \"MABSA\" --prompt_loc \"few-shot-cot-template\" --end_idx 0"
   ]
  },
  {
   "cell_type": "code",
   "execution_count": null,
   "metadata": {
    "collapsed": true,
    "id": "YEYOvqkI-uYF"
   },
   "outputs": [],
   "source": [
    "! python /content/CL-TASD-MvP/llm/generation/inf.py --task \"cl_mvp_tasd\" --language \"Spanish\" --test_language \"Spanish\" --dataset \"MABSA\" --prompt_loc \"few-shot-cot-template\" --end_idx 0"
   ]
  },
  {
   "cell_type": "code",
   "execution_count": null,
   "metadata": {
    "collapsed": true,
    "id": "i4zzfaA4-uYF"
   },
   "outputs": [],
   "source": [
    "! python /content/CL-TASD-MvP/llm/generation/inf.py --task \"cl_mvp_tasd\" --language \"French\" --test_language \"French\" --dataset \"MABSA\" --prompt_loc \"few-shot-cot-template\" --end_idx 0"
   ]
  },
  {
   "cell_type": "code",
   "execution_count": null,
   "metadata": {
    "collapsed": true,
    "id": "b6f1oID8-uYF"
   },
   "outputs": [],
   "source": [
    "! python /content/CL-TASD-MvP/llm/generation/inf.py --task \"cl_mvp_tasd\" --language \"Dutch\" --test_language \"Dutch\" --dataset \"MABSA\" --prompt_loc \"few-shot-cot-template\" --end_idx 0"
   ]
  },
  {
   "cell_type": "code",
   "execution_count": null,
   "metadata": {
    "collapsed": true,
    "id": "jQWHE8kq-uYF"
   },
   "outputs": [],
   "source": [
    "! python /content/CL-TASD-MvP/llm/generation/inf.py --task \"cl_mvp_tasd\" --language \"Turkish\" --test_language \"Turkish\" --dataset \"MABSA\" --prompt_loc \"few-shot-cot-template\" --end_idx 0"
   ]
  },
  {
   "cell_type": "markdown",
   "metadata": {
    "id": "M6ibQGA3-uYF"
   },
   "source": [
    "####**Cross-Lingual**"
   ]
  },
  {
   "cell_type": "markdown",
   "metadata": {
    "id": "TlCw2Z2f-uYF"
   },
   "source": [
    "**No Chain-Of-Thought**\n"
   ]
  },
  {
   "cell_type": "code",
   "execution_count": null,
   "metadata": {
    "collapsed": true,
    "id": "5mXeJt3a-uYF"
   },
   "outputs": [],
   "source": [
    "! python /content/CL-TASD-MvP/llm/generation/inf.py --task \"cl_mvp_tasd\" --language \"English\" --test_language \"English\" --dataset \"MABSA\" --prompt_loc \"few-shot-template\" --end_idx 0"
   ]
  },
  {
   "cell_type": "code",
   "execution_count": null,
   "metadata": {
    "collapsed": true,
    "id": "5H8qX7De-uYG"
   },
   "outputs": [],
   "source": [
    "! python /content/CL-TASD-MvP/llm/generation/inf.py --task \"cl_mvp_tasd\" --language \"English\" --test_language \"Spanish\" --dataset \"MABSA\" --prompt_loc \"few-shot-template\" --end_idx 0"
   ]
  },
  {
   "cell_type": "code",
   "execution_count": null,
   "metadata": {
    "collapsed": true,
    "id": "xiw5acpM-uYG"
   },
   "outputs": [],
   "source": [
    "! python /content/CL-TASD-MvP/llm/generation/inf.py --task \"cl_mvp_tasd\" --language \"English\" --test_language \"French\" --dataset \"MABSA\" --prompt_loc \"few-shot-template\" --end_idx 0"
   ]
  },
  {
   "cell_type": "code",
   "execution_count": null,
   "metadata": {
    "collapsed": true,
    "id": "YPI5pnk2-uYG"
   },
   "outputs": [],
   "source": [
    "! python /content/CL-TASD-MvP/llm/generation/inf.py --task \"cl_mvp_tasd\" --language \"English\" --test_language \"Dutch\" --dataset \"MABSA\" --prompt_loc \"few-shot-template\" --end_idx 0"
   ]
  },
  {
   "cell_type": "code",
   "execution_count": null,
   "metadata": {
    "collapsed": true,
    "id": "JwMd-tDS-uYG"
   },
   "outputs": [],
   "source": [
    "! python /content/CL-TASD-MvP/llm/generation/inf.py --task \"cl_mvp_tasd\" --language \"English\" --test_language \"Turkish\" --dataset \"MABSA\" --prompt_loc \"few-shot-template\" --end_idx 0"
   ]
  },
  {
   "cell_type": "markdown",
   "metadata": {
    "id": "OgZKZ2jz-uYG"
   },
   "source": [
    "**Chain-Of-Thought**\n"
   ]
  },
  {
   "cell_type": "code",
   "execution_count": null,
   "metadata": {
    "collapsed": true,
    "id": "8vyXo_WC-uYG"
   },
   "outputs": [],
   "source": [
    "! python /content/CL-TASD-MvP/llm/generation/inf.py --task \"cl_mvp_tasd\" --language \"English\" --test_language \"English\" --dataset \"MABSA\" --prompt_loc \"few-shot-cot-template\" --end_idx 0"
   ]
  },
  {
   "cell_type": "code",
   "execution_count": null,
   "metadata": {
    "collapsed": true,
    "id": "7Ei8TG9U-uYG"
   },
   "outputs": [],
   "source": [
    "! python /content/CL-TASD-MvP/llm/generation/inf.py --task \"cl_mvp_tasd\" --language \"English\" --test_language \"Spanish\" --dataset \"MABSA\" --prompt_loc \"few-shot-cot-template\" --end_idx 0"
   ]
  },
  {
   "cell_type": "code",
   "execution_count": null,
   "metadata": {
    "collapsed": true,
    "id": "bv7GLQno-uYG"
   },
   "outputs": [],
   "source": [
    "! python /content/CL-TASD-MvP/llm/generation/inf.py --task \"cl_mvp_tasd\" --language \"English\" --test_language \"French\" --dataset \"MABSA\" --prompt_loc \"few-shot-cot-template\" --end_idx 0"
   ]
  },
  {
   "cell_type": "code",
   "execution_count": null,
   "metadata": {
    "collapsed": true,
    "id": "0Bh0zqp2-uYG"
   },
   "outputs": [],
   "source": [
    "! python /content/CL-TASD-MvP/llm/generation/inf.py --task \"cl_mvp_tasd\" --language \"English\" --test_language \"Dutch\" --dataset \"MABSA\" --prompt_loc \"few-shot-cot-template\" --end_idx 0"
   ]
  },
  {
   "cell_type": "code",
   "execution_count": null,
   "metadata": {
    "collapsed": true,
    "id": "aY04m4qp-uYG"
   },
   "outputs": [],
   "source": [
    "! python /content/CL-TASD-MvP/llm/generation/inf.py --task \"cl_mvp_tasd\" --language \"English\" --test_language \"Turkish\" --dataset \"MABSA\" --prompt_loc \"few-shot-cot-template\" --end_idx 0"
   ]
  },
  {
   "cell_type": "markdown",
   "metadata": {
    "id": "ECLkX8CB-uYG"
   },
   "source": [
    "####**Multilingual**"
   ]
  },
  {
   "cell_type": "markdown",
   "metadata": {
    "id": "0PrFcxMB-uYG"
   },
   "source": [
    "**No Chain-Of-Thought**\n"
   ]
  },
  {
   "cell_type": "code",
   "execution_count": null,
   "metadata": {
    "collapsed": true,
    "id": "gzeWnj1n-uYG"
   },
   "outputs": [],
   "source": [
    "! python /content/CL-TASD-MvP/llm/generation/inf.py --task \"cl_mvp_tasd\" --language \"Multilingual\" --test_language \"English\" --dataset \"MABSA\" --prompt_loc \"few-shot-template\" --end_idx 0"
   ]
  },
  {
   "cell_type": "code",
   "execution_count": null,
   "metadata": {
    "collapsed": true,
    "id": "V8O9J2oH-uYG"
   },
   "outputs": [],
   "source": [
    "! python /content/CL-TASD-MvP/llm/generation/inf.py --task \"cl_mvp_tasd\" --language \"Multilingual\" --test_language \"Spanish\" --dataset \"MABSA\" --prompt_loc \"few-shot-template\" --end_idx 0"
   ]
  },
  {
   "cell_type": "code",
   "execution_count": null,
   "metadata": {
    "collapsed": true,
    "id": "wedfvWl_-uYG"
   },
   "outputs": [],
   "source": [
    "! python /content/CL-TASD-MvP/llm/generation/inf.py --task \"cl_mvp_tasd\" --language \"Multilingual\" --test_language \"French\" --dataset \"MABSA\" --prompt_loc \"few-shot-template\" --end_idx 0"
   ]
  },
  {
   "cell_type": "code",
   "execution_count": null,
   "metadata": {
    "collapsed": true,
    "id": "5mbDogJy-uYH"
   },
   "outputs": [],
   "source": [
    "! python /content/CL-TASD-MvP/llm/generation/inf.py --task \"cl_mvp_tasd\" --language \"Multilingual\" --test_language \"Dutch\" --dataset \"MABSA\" --prompt_loc \"few-shot-template\" --end_idx 0"
   ]
  },
  {
   "cell_type": "code",
   "execution_count": null,
   "metadata": {
    "collapsed": true,
    "id": "VxzsVQKx-uYH"
   },
   "outputs": [],
   "source": [
    "! python /content/CL-TASD-MvP/llm/generation/inf.py --task \"cl_mvp_tasd\" --language \"Multilingual\" --test_language \"Turkish\" --dataset \"MABSA\" --prompt_loc \"few-shot-template\" --end_idx 0"
   ]
  },
  {
   "cell_type": "markdown",
   "metadata": {
    "id": "U6KR0Oer-uYH"
   },
   "source": [
    "**Chain-Of-Thought**\n"
   ]
  },
  {
   "cell_type": "code",
   "execution_count": null,
   "metadata": {
    "collapsed": true,
    "id": "MbLcNtTc-uYH"
   },
   "outputs": [],
   "source": [
    "! python /content/CL-TASD-MvP/llm/generation/inf.py --task \"cl_mvp_tasd\" --language \"Multilingual\" --test_language \"English\" --dataset \"MABSA\" --prompt_loc \"few-shot-cot-template\" --end_idx 0"
   ]
  },
  {
   "cell_type": "code",
   "execution_count": null,
   "metadata": {
    "collapsed": true,
    "id": "d2YBZBJk-uYH"
   },
   "outputs": [],
   "source": [
    "! python /content/CL-TASD-MvP/llm/generation/inf.py --task \"cl_mvp_tasd\" --language \"Multilingual\" --test_language \"Spanish\" --dataset \"MABSA\" --prompt_loc \"few-shot-cot-template\" --end_idx 0"
   ]
  },
  {
   "cell_type": "code",
   "execution_count": null,
   "metadata": {
    "collapsed": true,
    "id": "mJExPMfl-uYH"
   },
   "outputs": [],
   "source": [
    "! python /content/CL-TASD-MvP/llm/generation/inf.py --task \"cl_mvp_tasd\" --language \"Multilingual\" --test_language \"French\" --dataset \"MABSA\" --prompt_loc \"few-shot-cot-template\" --end_idx 0"
   ]
  },
  {
   "cell_type": "code",
   "execution_count": null,
   "metadata": {
    "collapsed": true,
    "id": "Omj9PP8X-uYH"
   },
   "outputs": [],
   "source": [
    "! python /content/CL-TASD-MvP/llm/generation/inf.py --task \"cl_mvp_tasd\" --language \"Multilingual\" --test_language \"Dutch\" --dataset \"MABSA\" --prompt_loc \"few-shot-cot-template\" --end_idx 0"
   ]
  },
  {
   "cell_type": "code",
   "execution_count": null,
   "metadata": {
    "collapsed": true,
    "id": "XLWmqLon-uYH"
   },
   "outputs": [],
   "source": [
    "! python /content/CL-TASD-MvP/llm/generation/inf.py --task \"cl_mvp_tasd\" --language \"Multilingual\" --test_language \"Turkish\" --dataset \"MABSA\" --prompt_loc \"few-shot-cot-template\" --end_idx 0"
   ]
  },
  {
   "cell_type": "markdown",
   "metadata": {
    "id": "7S3V-gau-uYH"
   },
   "source": [
    "####**Generation Fine-Tuned**"
   ]
  },
  {
   "cell_type": "markdown",
   "metadata": {
    "id": "7JR6s5MD-uYH"
   },
   "source": [
    "**Unilingual**\n"
   ]
  },
  {
   "cell_type": "code",
   "execution_count": null,
   "metadata": {
    "collapsed": true,
    "id": "TS_-bf0w-uYH"
   },
   "outputs": [],
   "source": [
    "! python /content/CL-TASD-MvP/llm/generation/inf.py --task \"cl_mvp_tasd\" --language \"English\" --test_language \"English\" --dataset \"MABSA\" --fine_tuned --model \"ft:gpt-4.1-mini-2025-04-14:personal::ByiDitue\" --end_idx 0"
   ]
  },
  {
   "cell_type": "code",
   "execution_count": null,
   "metadata": {
    "collapsed": true,
    "id": "x5VqNG4U-uYH"
   },
   "outputs": [],
   "source": [
    "! python /content/CL-TASD-MvP/llm/generation/inf.py --task \"cl_mvp_tasd\" --language \"Spanish\" --test_language \"Spanish\" --dataset \"MABSA\" --fine_tuned --model \"ft:gpt-4.1-mini-2025-04-14:personal::ByksIVwe\" --end_idx 0"
   ]
  },
  {
   "cell_type": "code",
   "execution_count": null,
   "metadata": {
    "collapsed": true,
    "id": "MEyoBvcb-uYH"
   },
   "outputs": [],
   "source": [
    "! python /content/CL-TASD-MvP/llm/generation/inf.py --task \"cl_mvp_tasd\" --language \"French\" --test_language \"French\" --dataset \"MABSA\" --fine_tuned --model \"ft:gpt-4.1-mini-2025-04-14:personal::ByliCm8S\" --end_idx 0"
   ]
  },
  {
   "cell_type": "code",
   "execution_count": null,
   "metadata": {
    "collapsed": true,
    "id": "F26s09Uo-uYH"
   },
   "outputs": [],
   "source": [
    "! python /content/CL-TASD-MvP/llm/generation/inf.py --task \"cl_mvp_tasd\" --language \"Dutch\" --test_language \"Dutch\" --dataset \"MABSA\" --fine_tuned --model \"ft:gpt-4.1-mini-2025-04-14:personal::BymbscKt\" --end_idx 0"
   ]
  },
  {
   "cell_type": "code",
   "execution_count": null,
   "metadata": {
    "collapsed": true,
    "id": "1pNseDuk-uYH"
   },
   "outputs": [],
   "source": [
    "! python /content/CL-TASD-MvP/llm/generation/inf.py --task \"cl_mvp_tasd\" --language \"Turkish\" --test_language \"Turkish\" --dataset \"MABSA\" --fine_tuned --model \"ft:gpt-4.1-mini-2025-04-14:personal::Byo8NTrp\" --end_idx 0"
   ]
  },
  {
   "cell_type": "markdown",
   "metadata": {
    "id": "DcgTtX4r-uYH"
   },
   "source": [
    "**Cross-Lingual**\n"
   ]
  },
  {
   "cell_type": "code",
   "execution_count": null,
   "metadata": {
    "collapsed": true,
    "id": "jdTyaKmD-uYH"
   },
   "outputs": [],
   "source": [
    "! python /content/CL-TASD-MvP/llm/generation/inf.py --task \"cl_mvp_tasd\" --language \"English\" --test_language \"Spanish\" --dataset \"MABSA\" --fine_tuned --model \"ft:gpt-4.1-mini-2025-04-14:personal::ByiDitue\" --end_idx 0"
   ]
  },
  {
   "cell_type": "code",
   "execution_count": null,
   "metadata": {
    "collapsed": true,
    "id": "kt4nppiL-uYI"
   },
   "outputs": [],
   "source": [
    "! python /content/CL-TASD-MvP/llm/generation/inf.py --task \"cl_mvp_tasd\" --language \"English\" --test_language \"French\" --dataset \"MABSA\" --fine_tuned --model \"ft:gpt-4.1-mini-2025-04-14:personal::ByiDitue\" --end_idx 0"
   ]
  },
  {
   "cell_type": "code",
   "execution_count": null,
   "metadata": {
    "collapsed": true,
    "id": "1WB9S4OF-uYI"
   },
   "outputs": [],
   "source": [
    "! python /content/CL-TASD-MvP/llm/generation/inf.py --task \"cl_mvp_tasd\" --language \"English\" --test_language \"Dutch\" --dataset \"MABSA\" --fine_tuned --model \"ft:gpt-4.1-mini-2025-04-14:personal::ByiDitue\" --end_idx 0"
   ]
  },
  {
   "cell_type": "code",
   "execution_count": null,
   "metadata": {
    "collapsed": true,
    "id": "zzDET6NP-uYI"
   },
   "outputs": [],
   "source": [
    "! python /content/CL-TASD-MvP/llm/generation/inf.py --task \"cl_mvp_tasd\" --language \"English\" --test_language \"Turkish\" --dataset \"MABSA\" --fine_tuned --model \"ft:gpt-4.1-mini-2025-04-14:personal::ByiDitue\" --end_idx 0"
   ]
  },
  {
   "cell_type": "markdown",
   "metadata": {
    "id": "dmmTnXVx-uYI"
   },
   "source": [
    "**Multilingual**\n"
   ]
  },
  {
   "cell_type": "code",
   "execution_count": null,
   "metadata": {
    "collapsed": true,
    "id": "9s4ZgTKG-uYI"
   },
   "outputs": [],
   "source": [
    "! python /content/CL-TASD-MvP/llm/generation/inf.py --task \"cl_mvp_tasd\" --language \"Multilingual\" --test_language \"English\" --dataset \"MABSA\" --fine_tuned --model \"ft:gpt-4.1-mini-2025-04-14:personal::ByhH142G\" --end_idx 0"
   ]
  },
  {
   "cell_type": "code",
   "execution_count": null,
   "metadata": {
    "collapsed": true,
    "id": "tI9ofyyj-uYI"
   },
   "outputs": [],
   "source": [
    "! python /content/CL-TASD-MvP/llm/generation/inf.py --task \"cl_mvp_tasd\" --language \"Multilingual\" --test_language \"Spanish\" --dataset \"MABSA\" --fine_tuned --model \"ft:gpt-4.1-mini-2025-04-14:personal::ByhH142G\" --end_idx 0"
   ]
  },
  {
   "cell_type": "code",
   "execution_count": null,
   "metadata": {
    "collapsed": true,
    "id": "gs9XiiAP-uYI"
   },
   "outputs": [],
   "source": [
    "! python /content/CL-TASD-MvP/llm/generation/inf.py --task \"cl_mvp_tasd\" --language \"Multilingual\" --test_language \"French\" --dataset \"MABSA\" --fine_tuned --model \"ft:gpt-4.1-mini-2025-04-14:personal::ByhH142G\" --end_idx 0"
   ]
  },
  {
   "cell_type": "code",
   "execution_count": null,
   "metadata": {
    "collapsed": true,
    "id": "jQPVeQg5-uYI"
   },
   "outputs": [],
   "source": [
    "! python /content/CL-TASD-MvP/llm/generation/inf.py --task \"cl_mvp_tasd\" --language \"Multilingual\" --test_language \"Dutch\" --dataset \"MABSA\" --fine_tuned --model \"ft:gpt-4.1-mini-2025-04-14:personal::ByhH142G\" --end_idx 0"
   ]
  },
  {
   "cell_type": "code",
   "execution_count": null,
   "metadata": {
    "collapsed": true,
    "id": "ivPE7Hki-uYI"
   },
   "outputs": [],
   "source": [
    "! python /content/CL-TASD-MvP/llm/generation/inf.py --task \"cl_mvp_tasd\" --language \"Multilingual\" --test_language \"Turkish\" --dataset \"MABSA\" --fine_tuned --model \"ft:gpt-4.1-mini-2025-04-14:personal::ByhH142G\" --end_idx 0"
   ]
  },
  {
   "cell_type": "markdown",
   "metadata": {
    "id": "yawi0IL4TlCO"
   },
   "source": [
    "**Multilingual Limited**\n"
   ]
  },
  {
   "cell_type": "code",
   "execution_count": null,
   "metadata": {
    "collapsed": true,
    "id": "D-3Z_zhQTlCO"
   },
   "outputs": [],
   "source": [
    "! python /content/CL-TASD-MvP/llm/generation/inf.py --task \"cl_mvp_tasd\" --language \"Multilingual_Limited\" --test_language \"English\" --dataset \"MABSA\" --fine_tuned --model \"ft:gpt-4.1-mini-2025-04-14:personal::C0DD7ccG\" --end_idx 0"
   ]
  },
  {
   "cell_type": "code",
   "execution_count": null,
   "metadata": {
    "collapsed": true,
    "id": "27cojnZ1TlCO"
   },
   "outputs": [],
   "source": [
    "! python /content/CL-TASD-MvP/llm/generation/inf.py --task \"cl_mvp_tasd\" --language \"Multilingual_Limited\" --test_language \"Spanish\" --dataset \"MABSA\" --fine_tuned --model \"ft:gpt-4.1-mini-2025-04-14:personal::C0DD7ccG\" --end_idx 0"
   ]
  },
  {
   "cell_type": "code",
   "execution_count": null,
   "metadata": {
    "collapsed": true,
    "id": "fAZq4LFXTlCP"
   },
   "outputs": [],
   "source": [
    "! python /content/CL-TASD-MvP/llm/generation/inf.py --task \"cl_mvp_tasd\" --language \"Multilingual_Limited\" --test_language \"French\" --dataset \"MABSA\" --fine_tuned --model \"ft:gpt-4.1-mini-2025-04-14:personal::C0DD7ccG\" --end_idx 0"
   ]
  },
  {
   "cell_type": "code",
   "execution_count": null,
   "metadata": {
    "collapsed": true,
    "id": "jSrrH2R3TlCP"
   },
   "outputs": [],
   "source": [
    "! python /content/CL-TASD-MvP/llm/generation/inf.py --task \"cl_mvp_tasd\" --language \"Multilingual_Limited\" --test_language \"Dutch\" --dataset \"MABSA\" --fine_tuned --model \"ft:gpt-4.1-mini-2025-04-14:personal::C0DD7ccG\" --end_idx 0"
   ]
  },
  {
   "cell_type": "code",
   "execution_count": null,
   "metadata": {
    "collapsed": true,
    "id": "tDQc6bvQTlCP"
   },
   "outputs": [],
   "source": [
    "! python /content/CL-TASD-MvP/llm/generation/inf.py --task \"cl_mvp_tasd\" --language \"Multilingual_Limited\" --test_language \"Turkish\" --dataset \"MABSA\" --fine_tuned --model \"ft:gpt-4.1-mini-2025-04-14:personal::C0DD7ccG\" --end_idx 0"
   ]
  },
  {
   "cell_type": "markdown",
   "metadata": {
    "id": "pMJH5bRh-uYI"
   },
   "source": [
    "### **MABSA: Eval**"
   ]
  },
  {
   "cell_type": "markdown",
   "metadata": {
    "id": "cMxNKvir-uYI"
   },
   "source": [
    "#### **Eval Zero-Shot**"
   ]
  },
  {
   "cell_type": "markdown",
   "metadata": {
    "id": "ADDBCp0s-uYI"
   },
   "source": [
    "**No Chain-Of-Thought**\n"
   ]
  },
  {
   "cell_type": "code",
   "execution_count": null,
   "metadata": {
    "collapsed": true,
    "id": "WSwiY2AR-uYI"
   },
   "outputs": [],
   "source": [
    "! python /content/CL-TASD-MvP/llm/generation/eval.py  --language \"English\" --test_language \"English\" --dataset \"MABSA\" --prompt_loc \"zero-shot-template\""
   ]
  },
  {
   "cell_type": "code",
   "execution_count": null,
   "metadata": {
    "collapsed": true,
    "id": "LE8Vc55X-uYI"
   },
   "outputs": [],
   "source": [
    "! python /content/CL-TASD-MvP/llm/generation/eval.py  --language \"Spanish\" --test_language \"Spanish\" --dataset \"MABSA\" --prompt_loc \"zero-shot-template\""
   ]
  },
  {
   "cell_type": "code",
   "execution_count": null,
   "metadata": {
    "collapsed": true,
    "id": "rHOXDFs0-uYI"
   },
   "outputs": [],
   "source": [
    "! python /content/CL-TASD-MvP/llm/generation/eval.py  --language \"French\" --test_language \"French\" --dataset \"MABSA\" --prompt_loc \"zero-shot-template\""
   ]
  },
  {
   "cell_type": "code",
   "execution_count": null,
   "metadata": {
    "collapsed": true,
    "id": "-oQy_i9R-uYJ"
   },
   "outputs": [],
   "source": [
    "! python /content/CL-TASD-MvP/llm/generation/eval.py  --language \"Dutch\" --test_language \"Dutch\" --dataset \"MABSA\" --prompt_loc \"zero-shot-template\""
   ]
  },
  {
   "cell_type": "code",
   "execution_count": null,
   "metadata": {
    "collapsed": true,
    "id": "yb6Shup9-uYJ"
   },
   "outputs": [],
   "source": [
    "! python /content/CL-TASD-MvP/llm/generation/eval.py  --language \"Turkish\" --test_language \"Turkish\" --dataset \"MABSA\" --prompt_loc \"zero-shot-template\""
   ]
  },
  {
   "cell_type": "markdown",
   "metadata": {
    "id": "qY7Gh9fd-uYJ"
   },
   "source": [
    "**No Chain-Of-Thought**\n"
   ]
  },
  {
   "cell_type": "code",
   "execution_count": null,
   "metadata": {
    "collapsed": true,
    "id": "hgWc4p9E-uYJ"
   },
   "outputs": [],
   "source": [
    "! python /content/CL-TASD-MvP/llm/generation/eval.py  --language \"English\" --test_language \"English\" --dataset \"MABSA\" --prompt_loc \"zero-shot-cot-template\""
   ]
  },
  {
   "cell_type": "code",
   "execution_count": null,
   "metadata": {
    "collapsed": true,
    "id": "DbEoHf1w-uYJ"
   },
   "outputs": [],
   "source": [
    "! python /content/CL-TASD-MvP/llm/generation/eval.py  --language \"Spanish\" --test_language \"Spanish\" --dataset \"MABSA\" --prompt_loc \"zero-shot-cot-template\""
   ]
  },
  {
   "cell_type": "code",
   "execution_count": null,
   "metadata": {
    "collapsed": true,
    "id": "gQdq01cq-uYJ"
   },
   "outputs": [],
   "source": [
    "! python /content/CL-TASD-MvP/llm/generation/eval.py  --language \"French\" --test_language \"French\" --dataset \"MABSA\" --prompt_loc \"zero-shot-cot-template\""
   ]
  },
  {
   "cell_type": "code",
   "execution_count": null,
   "metadata": {
    "collapsed": true,
    "id": "6F9BIBDX-uYJ"
   },
   "outputs": [],
   "source": [
    "! python /content/CL-TASD-MvP/llm/generation/eval.py  --language \"Dutch\" --test_language \"Dutch\" --dataset \"MABSA\" --prompt_loc \"zero-shot-cot-template\""
   ]
  },
  {
   "cell_type": "code",
   "execution_count": null,
   "metadata": {
    "collapsed": true,
    "id": "y8sW9QkM-uYJ"
   },
   "outputs": [],
   "source": [
    "! python /content/CL-TASD-MvP/llm/generation/eval.py  --language \"Turkish\" --test_language \"Turkish\" --dataset \"MABSA\" --prompt_loc \"zero-shot-cot-template\""
   ]
  },
  {
   "cell_type": "markdown",
   "metadata": {
    "id": "r2E1nxmc-uYJ"
   },
   "source": [
    "#### **Eval Few-Shot**"
   ]
  },
  {
   "cell_type": "markdown",
   "metadata": {
    "id": "IcFGPtWE-uYJ"
   },
   "source": [
    "####**Unilingual**"
   ]
  },
  {
   "cell_type": "markdown",
   "metadata": {
    "id": "SW8GgVRk-uYJ"
   },
   "source": [
    "**No Chain-Of-Thought**\n"
   ]
  },
  {
   "cell_type": "code",
   "execution_count": null,
   "metadata": {
    "collapsed": true,
    "id": "90slIKCw-uYJ"
   },
   "outputs": [],
   "source": [
    "! python /content/CL-TASD-MvP/llm/generation/eval.py  --language \"English\" --test_language \"English\" --dataset \"MABSA\" --prompt_loc \"few-shot-template\""
   ]
  },
  {
   "cell_type": "code",
   "execution_count": null,
   "metadata": {
    "collapsed": true,
    "id": "X6qInATP-uYJ"
   },
   "outputs": [],
   "source": [
    "! python /content/CL-TASD-MvP/llm/generation/eval.py  --language \"Spanish\" --test_language \"Spanish\" --dataset \"MABSA\" --prompt_loc \"few-shot-template\""
   ]
  },
  {
   "cell_type": "code",
   "execution_count": null,
   "metadata": {
    "collapsed": true,
    "id": "pPG5R082-uYK"
   },
   "outputs": [],
   "source": [
    "! python /content/CL-TASD-MvP/llm/generation/eval.py  --language \"French\" --test_language \"French\" --dataset \"MABSA\" --prompt_loc \"few-shot-template\""
   ]
  },
  {
   "cell_type": "code",
   "execution_count": null,
   "metadata": {
    "collapsed": true,
    "id": "ChBz09Jd-uYK"
   },
   "outputs": [],
   "source": [
    "! python /content/CL-TASD-MvP/llm/generation/eval.py  --language \"Dutch\" --test_language \"Dutch\" --dataset \"MABSA\" --prompt_loc \"few-shot-template\""
   ]
  },
  {
   "cell_type": "code",
   "execution_count": null,
   "metadata": {
    "collapsed": true,
    "id": "itNs2Al_-uYK"
   },
   "outputs": [],
   "source": [
    "! python /content/CL-TASD-MvP/llm/generation/eval.py  --language \"Turkish\" --test_language \"Turkish\" --dataset \"MABSA\" --prompt_loc \"few-shot-template\""
   ]
  },
  {
   "cell_type": "markdown",
   "metadata": {
    "id": "ZTIJnK2z-uYK"
   },
   "source": [
    "**Chain-Of-Thought**\n"
   ]
  },
  {
   "cell_type": "code",
   "execution_count": null,
   "metadata": {
    "collapsed": true,
    "id": "j7nLFZW_-uYK"
   },
   "outputs": [],
   "source": [
    "! python /content/CL-TASD-MvP/llm/generation/eval.py  --language \"English\" --test_language \"English\" --dataset \"MABSA\" --prompt_loc \"few-shot-cot-template\""
   ]
  },
  {
   "cell_type": "code",
   "execution_count": null,
   "metadata": {
    "collapsed": true,
    "id": "kncgRzbi-uYK"
   },
   "outputs": [],
   "source": [
    "! python /content/CL-TASD-MvP/llm/generation/eval.py  --language \"Spanish\" --test_language \"Spanish\" --dataset \"MABSA\" --prompt_loc \"few-shot-cot-template\""
   ]
  },
  {
   "cell_type": "code",
   "execution_count": null,
   "metadata": {
    "collapsed": true,
    "id": "ztp7U_31-uYK"
   },
   "outputs": [],
   "source": [
    "! python /content/CL-TASD-MvP/llm/generation/eval.py  --language \"French\" --test_language \"French\" --dataset \"MABSA\" --prompt_loc \"few-shot-cot-template\""
   ]
  },
  {
   "cell_type": "code",
   "execution_count": null,
   "metadata": {
    "collapsed": true,
    "id": "HYGhuBSW-uYK"
   },
   "outputs": [],
   "source": [
    "! python /content/CL-TASD-MvP/llm/generation/eval.py  --language \"Dutch\" --test_language \"Dutch\" --dataset \"MABSA\" --prompt_loc \"few-shot-cot-template\""
   ]
  },
  {
   "cell_type": "code",
   "execution_count": null,
   "metadata": {
    "collapsed": true,
    "id": "5Y90a7wh-uYK"
   },
   "outputs": [],
   "source": [
    "! python /content/CL-TASD-MvP/llm/generation/eval.py  --language \"Turkish\" --test_language \"Turkish\" --dataset \"MABSA\" --prompt_loc \"few-shot-cot-template\""
   ]
  },
  {
   "cell_type": "markdown",
   "metadata": {
    "id": "ODP5fNJZ-uYK"
   },
   "source": [
    "####**Cross-Lingual**"
   ]
  },
  {
   "cell_type": "markdown",
   "metadata": {
    "id": "yINmEHKP-uYK"
   },
   "source": [
    "**No Chain-Of-Thought**\n"
   ]
  },
  {
   "cell_type": "code",
   "execution_count": null,
   "metadata": {
    "collapsed": true,
    "id": "quvG-C4j-uYK"
   },
   "outputs": [],
   "source": [
    "! python /content/CL-TASD-MvP/llm/generation/eval.py  --language \"English\" --test_language \"English\" --dataset \"MABSA\" --prompt_loc \"few-shot-template\""
   ]
  },
  {
   "cell_type": "code",
   "execution_count": null,
   "metadata": {
    "collapsed": true,
    "id": "Jx5Z90Jy-uYK"
   },
   "outputs": [],
   "source": [
    "! python /content/CL-TASD-MvP/llm/generation/eval.py  --language \"English\" --test_language \"Spanish\" --dataset \"MABSA\" --prompt_loc \"few-shot-template\""
   ]
  },
  {
   "cell_type": "code",
   "execution_count": null,
   "metadata": {
    "collapsed": true,
    "id": "x5yRudSf-uYL"
   },
   "outputs": [],
   "source": [
    "! python /content/CL-TASD-MvP/llm/generation/eval.py  --language \"English\" --test_language \"French\" --dataset \"MABSA\" --prompt_loc \"few-shot-template\""
   ]
  },
  {
   "cell_type": "code",
   "execution_count": null,
   "metadata": {
    "collapsed": true,
    "id": "CH0uJ_yc-uYL"
   },
   "outputs": [],
   "source": [
    "! python /content/CL-TASD-MvP/llm/generation/eval.py  --language \"English\" --test_language \"Dutch\" --dataset \"MABSA\" --prompt_loc \"few-shot-template\""
   ]
  },
  {
   "cell_type": "code",
   "execution_count": null,
   "metadata": {
    "collapsed": true,
    "id": "1NdUhz-q-uYL"
   },
   "outputs": [],
   "source": [
    "! python /content/CL-TASD-MvP/llm/generation/eval.py  --language \"English\" --test_language \"Turkish\" --dataset \"MABSA\" --prompt_loc \"few-shot-template\""
   ]
  },
  {
   "cell_type": "markdown",
   "metadata": {
    "id": "Dyglt_uO-uYL"
   },
   "source": [
    "**Chain-Of-Thought**\n"
   ]
  },
  {
   "cell_type": "code",
   "execution_count": null,
   "metadata": {
    "collapsed": true,
    "id": "R457-s5V-uYL"
   },
   "outputs": [],
   "source": [
    "! python /content/CL-TASD-MvP/llm/generation/eval.py  --language \"English\" --test_language \"English\" --dataset \"MABSA\" --prompt_loc \"few-shot-cot-template\""
   ]
  },
  {
   "cell_type": "code",
   "execution_count": null,
   "metadata": {
    "collapsed": true,
    "id": "wroEXuvz-uYL"
   },
   "outputs": [],
   "source": [
    "! python /content/CL-TASD-MvP/llm/generation/eval.py  --language \"English\" --test_language \"Spanish\" --dataset \"MABSA\" --prompt_loc \"few-shot-cot-template\""
   ]
  },
  {
   "cell_type": "code",
   "execution_count": null,
   "metadata": {
    "collapsed": true,
    "id": "O9CkVur9-uYL"
   },
   "outputs": [],
   "source": [
    "! python /content/CL-TASD-MvP/llm/generation/eval.py  --language \"English\" --test_language \"French\" --dataset \"MABSA\" --prompt_loc \"few-shot-cot-template\""
   ]
  },
  {
   "cell_type": "code",
   "execution_count": null,
   "metadata": {
    "collapsed": true,
    "id": "NxSkJtR5-uYL"
   },
   "outputs": [],
   "source": [
    "! python /content/CL-TASD-MvP/llm/generation/eval.py  --language \"English\" --test_language \"Dutch\" --dataset \"MABSA\" --prompt_loc \"few-shot-cot-template\""
   ]
  },
  {
   "cell_type": "code",
   "execution_count": null,
   "metadata": {
    "collapsed": true,
    "id": "6ZZ5rJgM-uYL"
   },
   "outputs": [],
   "source": [
    "! python /content/CL-TASD-MvP/llm/generation/eval.py  --language \"English\" --test_language \"Turkish\" --dataset \"MABSA\" --prompt_loc \"few-shot-cot-template\""
   ]
  },
  {
   "cell_type": "markdown",
   "metadata": {
    "id": "eUGaj58c-uYL"
   },
   "source": [
    "####**Multilingual**"
   ]
  },
  {
   "cell_type": "markdown",
   "metadata": {
    "id": "bkx_Xvyo-uYL"
   },
   "source": [
    "**No Chain-Of-Thought**\n"
   ]
  },
  {
   "cell_type": "code",
   "execution_count": null,
   "metadata": {
    "collapsed": true,
    "id": "KVRD6hBj-uYL"
   },
   "outputs": [],
   "source": [
    "! python /content/CL-TASD-MvP/llm/generation/eval.py  --language \"Multilingual\" --test_language \"English\" --dataset \"MABSA\" --prompt_loc \"few-shot-template\""
   ]
  },
  {
   "cell_type": "code",
   "execution_count": null,
   "metadata": {
    "collapsed": true,
    "id": "JyzdeVHn-uYL"
   },
   "outputs": [],
   "source": [
    "! python /content/CL-TASD-MvP/llm/generation/eval.py  --language \"Multilingual\" --test_language \"Spanish\" --dataset \"MABSA\" --prompt_loc \"few-shot-template\""
   ]
  },
  {
   "cell_type": "code",
   "execution_count": null,
   "metadata": {
    "collapsed": true,
    "id": "tGybQksH-uYL"
   },
   "outputs": [],
   "source": [
    "! python /content/CL-TASD-MvP/llm/generation/eval.py  --language \"Multilingual\" --test_language \"French\" --dataset \"MABSA\" --prompt_loc \"few-shot-template\""
   ]
  },
  {
   "cell_type": "code",
   "execution_count": null,
   "metadata": {
    "collapsed": true,
    "id": "Okeo1Mx2-uYM"
   },
   "outputs": [],
   "source": [
    "! python /content/CL-TASD-MvP/llm/generation/eval.py  --language \"Multilingual\" --test_language \"Dutch\" --dataset \"MABSA\" --prompt_loc \"few-shot-template\""
   ]
  },
  {
   "cell_type": "code",
   "execution_count": null,
   "metadata": {
    "collapsed": true,
    "id": "y-Os0eo2-uYM"
   },
   "outputs": [],
   "source": [
    "! python /content/CL-TASD-MvP/llm/generation/eval.py  --language \"Multilingual\" --test_language \"Turkish\" --dataset \"MABSA\" --prompt_loc \"few-shot-template\""
   ]
  },
  {
   "cell_type": "markdown",
   "metadata": {
    "id": "QSruo_tZ-uYM"
   },
   "source": [
    "**Chain-Of-Thought**\n"
   ]
  },
  {
   "cell_type": "code",
   "execution_count": null,
   "metadata": {
    "collapsed": true,
    "id": "GXZbQ2q5-uYM"
   },
   "outputs": [],
   "source": [
    "! python /content/CL-TASD-MvP/llm/generation/eval.py  --language \"Multilingual\" --test_language \"English\" --dataset \"MABSA\" --prompt_loc \"few-shot-cot-template\""
   ]
  },
  {
   "cell_type": "code",
   "execution_count": null,
   "metadata": {
    "collapsed": true,
    "id": "YttQWWHK-uYM"
   },
   "outputs": [],
   "source": [
    "! python /content/CL-TASD-MvP/llm/generation/eval.py  --language \"Multilingual\" --test_language \"Spanish\" --dataset \"MABSA\" --prompt_loc \"few-shot-cot-template\""
   ]
  },
  {
   "cell_type": "code",
   "execution_count": null,
   "metadata": {
    "collapsed": true,
    "id": "1dgCupIH-uYM"
   },
   "outputs": [],
   "source": [
    "! python /content/CL-TASD-MvP/llm/generation/eval.py  --language \"Multilingual\" --test_language \"French\" --dataset \"MABSA\" --prompt_loc \"few-shot-cot-template\""
   ]
  },
  {
   "cell_type": "code",
   "execution_count": null,
   "metadata": {
    "collapsed": true,
    "id": "800dPWE8-uYM"
   },
   "outputs": [],
   "source": [
    "! python /content/CL-TASD-MvP/llm/generation/eval.py  --language \"Multilingual\" --test_language \"Dutch\" --dataset \"MABSA\" --prompt_loc \"few-shot-cot-template\""
   ]
  },
  {
   "cell_type": "code",
   "execution_count": null,
   "metadata": {
    "collapsed": true,
    "id": "x4eEMDxK-uYM"
   },
   "outputs": [],
   "source": [
    "! python /content/CL-TASD-MvP/llm/generation/eval.py  --language \"Multilingual\" --test_language \"Turkish\" --dataset \"MABSA\" --prompt_loc \"few-shot-cot-template\""
   ]
  },
  {
   "cell_type": "markdown",
   "metadata": {
    "id": "6bVglKP8-uYM"
   },
   "source": [
    "####**Eval Fine-Tuned**"
   ]
  },
  {
   "cell_type": "markdown",
   "metadata": {
    "id": "PvJFx-zr-uYN"
   },
   "source": [
    "**Unilingual**\n"
   ]
  },
  {
   "cell_type": "code",
   "execution_count": null,
   "metadata": {
    "collapsed": true,
    "id": "scOxBBed-uYN"
   },
   "outputs": [],
   "source": [
    "! python /content/CL-TASD-MvP/llm/generation/eval.py  --language \"English\" --test_language \"English\" --dataset \"MABSA\" --fine_tuned"
   ]
  },
  {
   "cell_type": "code",
   "execution_count": null,
   "metadata": {
    "collapsed": true,
    "id": "2ivHlz89-uYN"
   },
   "outputs": [],
   "source": [
    "! python /content/CL-TASD-MvP/llm/generation/eval.py  --language \"Spanish\" --test_language \"Spanish\" --dataset \"MABSA\" --fine_tuned"
   ]
  },
  {
   "cell_type": "code",
   "execution_count": null,
   "metadata": {
    "collapsed": true,
    "id": "NpJInMe8-uYN"
   },
   "outputs": [],
   "source": [
    "! python /content/CL-TASD-MvP/llm/generation/eval.py  --language \"French\" --test_language \"French\" --dataset \"MABSA\" --fine_tuned"
   ]
  },
  {
   "cell_type": "code",
   "execution_count": null,
   "metadata": {
    "collapsed": true,
    "id": "RS4gRZMm-uYN"
   },
   "outputs": [],
   "source": [
    "! python /content/CL-TASD-MvP/llm/generation/eval.py  --language \"Dutch\" --test_language \"Dutch\" --dataset \"MABSA\" --fine_tuned"
   ]
  },
  {
   "cell_type": "code",
   "execution_count": null,
   "metadata": {
    "collapsed": true,
    "id": "bIyJ67Xe-uYN"
   },
   "outputs": [],
   "source": [
    "! python /content/CL-TASD-MvP/llm/generation/eval.py  --language \"Turkish\" --test_language \"Turkish\" --dataset \"MABSA\" --fine_tuned"
   ]
  },
  {
   "cell_type": "markdown",
   "metadata": {
    "id": "cMLBXjNH-uYN"
   },
   "source": [
    "**Cross-Lingual**\n"
   ]
  },
  {
   "cell_type": "code",
   "execution_count": null,
   "metadata": {
    "collapsed": true,
    "id": "IwIJuZK1-uYN"
   },
   "outputs": [],
   "source": [
    "! python /content/CL-TASD-MvP/llm/generation/eval.py  --language \"English\" --test_language \"Spanish\" --dataset \"MABSA\" --fine_tuned"
   ]
  },
  {
   "cell_type": "code",
   "execution_count": null,
   "metadata": {
    "collapsed": true,
    "id": "RGauUH97-uYN"
   },
   "outputs": [],
   "source": [
    "! python /content/CL-TASD-MvP/llm/generation/eval.py  --language \"English\" --test_language \"French\" --dataset \"MABSA\" --fine_tuned"
   ]
  },
  {
   "cell_type": "code",
   "execution_count": null,
   "metadata": {
    "collapsed": true,
    "id": "a65kDeEj-uYN"
   },
   "outputs": [],
   "source": [
    "! python /content/CL-TASD-MvP/llm/generation/eval.py  --language \"English\" --test_language \"Dutch\" --dataset \"MABSA\" --fine_tuned"
   ]
  },
  {
   "cell_type": "code",
   "execution_count": null,
   "metadata": {
    "collapsed": true,
    "id": "V8sK6I-8-uYN"
   },
   "outputs": [],
   "source": [
    "! python /content/CL-TASD-MvP/llm/generation/eval.py  --language \"English\" --test_language \"Turkish\" --dataset \"MABSA\" --fine_tuned"
   ]
  },
  {
   "cell_type": "markdown",
   "metadata": {
    "id": "T_Na-NF8-uYN"
   },
   "source": [
    "**Multilingual**\n"
   ]
  },
  {
   "cell_type": "code",
   "execution_count": null,
   "metadata": {
    "collapsed": true,
    "id": "3X0o5MQV-uYO"
   },
   "outputs": [],
   "source": [
    "! python /content/CL-TASD-MvP/llm/generation/eval.py  --language \"Multilingual\" --test_language \"English\" --dataset \"MABSA\" --fine_tuned"
   ]
  },
  {
   "cell_type": "code",
   "execution_count": null,
   "metadata": {
    "collapsed": true,
    "id": "qWSGvST9-uYO"
   },
   "outputs": [],
   "source": [
    "! python /content/CL-TASD-MvP/llm/generation/eval.py  --language \"Multilingual\" --test_language \"Spanish\" --dataset \"MABSA\" --fine_tuned"
   ]
  },
  {
   "cell_type": "code",
   "execution_count": null,
   "metadata": {
    "collapsed": true,
    "id": "FZhRVZsy-uYO"
   },
   "outputs": [],
   "source": [
    "! python /content/CL-TASD-MvP/llm/generation/eval.py  --language \"Multilingual\" --test_language \"French\" --dataset \"MABSA\" --fine_tuned"
   ]
  },
  {
   "cell_type": "code",
   "execution_count": null,
   "metadata": {
    "collapsed": true,
    "id": "EPfvpD4I-uYO"
   },
   "outputs": [],
   "source": [
    "! python /content/CL-TASD-MvP/llm/generation/eval.py  --language \"Multilingual\" --test_language \"Dutch\" --dataset \"MABSA\" --fine_tuned"
   ]
  },
  {
   "cell_type": "code",
   "execution_count": null,
   "metadata": {
    "collapsed": true,
    "id": "UQSYS6gK-uYO"
   },
   "outputs": [],
   "source": [
    "! python /content/CL-TASD-MvP/llm/generation/eval.py  --language \"Multilingual\" --test_language \"Turkish\" --dataset \"MABSA\" --fine_tuned"
   ]
  },
  {
   "cell_type": "markdown",
   "metadata": {
    "id": "vtZWsapIUBn9"
   },
   "source": [
    "**Multilingual Limited**\n"
   ]
  },
  {
   "cell_type": "code",
   "execution_count": null,
   "metadata": {
    "collapsed": true,
    "id": "UOD0wEvxUBn9"
   },
   "outputs": [],
   "source": [
    "! python /content/CL-TASD-MvP/llm/generation/eval.py  --language \"Multilingual_Limited\" --test_language \"English\" --dataset \"MABSA\" --fine_tuned"
   ]
  },
  {
   "cell_type": "code",
   "execution_count": null,
   "metadata": {
    "collapsed": true,
    "id": "wKfK8gLsUBn-"
   },
   "outputs": [],
   "source": [
    "! python /content/CL-TASD-MvP/llm/generation/eval.py  --language \"Multilingual_Limited\" --test_language \"Spanish\" --dataset \"MABSA\" --fine_tuned"
   ]
  },
  {
   "cell_type": "code",
   "execution_count": null,
   "metadata": {
    "collapsed": true,
    "id": "M2kyMDdMUBn-"
   },
   "outputs": [],
   "source": [
    "! python /content/CL-TASD-MvP/llm/generation/eval.py  --language \"Multilingual_Limited\" --test_language \"French\" --dataset \"MABSA\" --fine_tuned"
   ]
  },
  {
   "cell_type": "code",
   "execution_count": null,
   "metadata": {
    "collapsed": true,
    "id": "G7qSQCbgUBn-"
   },
   "outputs": [],
   "source": [
    "! python /content/CL-TASD-MvP/llm/generation/eval.py  --language \"Multilingual_Limited\" --test_language \"Dutch\" --dataset \"MABSA\" --fine_tuned"
   ]
  },
  {
   "cell_type": "code",
   "execution_count": null,
   "metadata": {
    "collapsed": true,
    "id": "8Kc0Psq0UBn-"
   },
   "outputs": [],
   "source": [
    "! python /content/CL-TASD-MvP/llm/generation/eval.py  --language \"Multilingual_Limited\" --test_language \"Turkish\" --dataset \"MABSA\" --fine_tuned"
   ]
  }
 ],
 "metadata": {
  "colab": {
   "authorship_tag": "ABX9TyNdQkgxN0xmfl7HABOL3SQo",
   "collapsed_sections": [
    "PtYwUQVRAGkO"
   ],
   "private_outputs": true,
   "provenance": [
    {
     "file_id": "1Nso15xrUuNPUHUKNwDi-ViM-lNAyxmCM",
     "timestamp": 1753714349134
    }
   ]
  },
  "kernelspec": {
   "display_name": "Python 3",
   "name": "python3"
  },
  "language_info": {
   "name": "python"
  }
 },
 "nbformat": 4,
 "nbformat_minor": 0
}
