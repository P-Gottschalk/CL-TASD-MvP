{
 "cells": [
  {
   "cell_type": "markdown",
   "metadata": {
    "id": "NlSm-XoyKuvo"
   },
   "source": [
    "### **Notebook Setup**"
   ]
  },
  {
   "cell_type": "markdown",
   "metadata": {
    "id": "IEAxUJ-S2dJB"
   },
   "source": [
    "**Mount Prep**"
   ]
  },
  {
   "cell_type": "code",
   "execution_count": null,
   "metadata": {
    "colab": {
     "base_uri": "https://localhost:8080/"
    },
    "executionInfo": {
     "elapsed": 20103,
     "status": "ok",
     "timestamp": 1753262077900,
     "user": {
      "displayName": "Philipp Gottschalk",
      "userId": "02502242344906393626"
     },
     "user_tz": -120
    },
    "id": "tZlNusdLTV0v",
    "outputId": "d17a53d2-0b82-4d54-a22e-2d676624fe3a"
   },
   "outputs": [],
   "source": [
    "from google.colab import drive\n",
    "drive.mount(\"/content/drive/\")"
   ]
  },
  {
   "cell_type": "markdown",
   "metadata": {
    "id": "vkx1Y9Qj5G_1"
   },
   "source": [
    "**Package Installation:**"
   ]
  },
  {
   "cell_type": "code",
   "execution_count": null,
   "metadata": {
    "colab": {
     "base_uri": "https://localhost:8080/"
    },
    "collapsed": true,
    "executionInfo": {
     "elapsed": 97048,
     "status": "ok",
     "timestamp": 1753262174951,
     "user": {
      "displayName": "Philipp Gottschalk",
      "userId": "02502242344906393626"
     },
     "user_tz": -120
    },
    "id": "g73H7C4N_aUN",
    "outputId": "c7c8890f-d296-4c73-f72e-13ddcbfa05a1"
   },
   "outputs": [],
   "source": [
    "! pip install transformers==4.53.2\n",
    "! pip install torch\n",
    "! pip install --upgrade pytorch-lightning\n",
    "! pip install sentencepiece\n",
    "! pip install parse\n",
    "! pip install --upgrade huggingface_hub"
   ]
  },
  {
   "cell_type": "markdown",
   "metadata": {
    "id": "nu6jBbPL2q4F"
   },
   "source": [
    "**GitHub Cloning:** 90-day access token is used"
   ]
  },
  {
   "cell_type": "code",
   "execution_count": null,
   "metadata": {
    "id": "C-qbm4XreAUf"
   },
   "outputs": [],
   "source": [
    "! rm -r CL-TASD-MvP #Remove GitHub whilst in session"
   ]
  },
  {
   "cell_type": "code",
   "execution_count": null,
   "metadata": {
    "colab": {
     "base_uri": "https://localhost:8080/"
    },
    "executionInfo": {
     "elapsed": 1925,
     "status": "ok",
     "timestamp": 1753262176888,
     "user": {
      "displayName": "Philipp Gottschalk",
      "userId": "02502242344906393626"
     },
     "user_tz": -120
    },
    "id": "g9Ovr3oPvWD7",
    "outputId": "b47e1fdc-c861-4d1c-d1e3-b76870e2565c"
   },
   "outputs": [],
   "source": [
    "!git clone https://github.com/P-Gottschalk/CL-TASD-MvP.git"
   ]
  },
  {
   "cell_type": "markdown",
   "metadata": {
    "id": "IVyxSxqrCaiy"
   },
   "source": [
    "### **Model Training**"
   ]
  },
  {
   "cell_type": "markdown",
   "metadata": {
    "id": "zaVov8u3EXa3"
   },
   "source": [
    "Train the full model: MVP together with contrastive learning"
   ]
  },
  {
   "cell_type": "code",
   "execution_count": null,
   "metadata": {
    "collapsed": true,
    "id": "mSFVoznWwKWa"
   },
   "outputs": [],
   "source": [
    "! python /content/CL-TASD-MvP/model/main_train.py --task \"cl_mvp_tasd\" --num_beams \"1\"  --top_k 5 --do_contr_sent --do_contr_aspect --language \"English\" --model_prefix \"English_SemEval16\" --dataset \"SemEval16\" --do_train --train_batch_size 16 --eval_batch_size 64 --num_train_epochs 20 --cont_temp 0.25 --cont_loss 0.05 --weight_decay 0.1 --warmup_steps 0.1"
   ]
  },
  {
   "cell_type": "markdown",
   "metadata": {
    "id": "UU1ugT5NEnON"
   },
   "source": [
    "Train only MVP: no contrastive learning."
   ]
  },
  {
   "cell_type": "code",
   "execution_count": null,
   "metadata": {
    "collapsed": true,
    "id": "O0KXJwGxEnOO"
   },
   "outputs": [],
   "source": [
    "! python /content/CL-TASD-MvP/model/main_train.py --task \"cl_mvp_tasd\" --num_beams \"1\"  --top_k 5 --language \"English\" --model_prefix \"English_SemEval16\" --dataset \"SemEval16\" --do_train --train_batch_size 16 --eval_batch_size 64 --num_train_epochs 20 --cont_temp 0.25 --cont_loss 0.05 --weight_decay 0.1 --warmup_steps 0.1"
   ]
  },
  {
   "cell_type": "markdown",
   "metadata": {
    "id": "7jXsC8f1E0Md"
   },
   "source": [
    "Train only contrastive learning: no MVP"
   ]
  },
  {
   "cell_type": "code",
   "execution_count": null,
   "metadata": {
    "collapsed": true,
    "id": "40Z09BttE0Md"
   },
   "outputs": [],
   "source": [
    "! python /content/CL-TASD-MvP/model/main_train.py --task \"cl_mvp_tasd\" --num_beams \"1\"  --top_k 1 --do_contr_sent --do_contr_aspect --language \"English\" --model_prefix \"English_SemEval16\" --dataset \"SemEval16\" --do_train --train_batch_size 16 --eval_batch_size 64 --num_train_epochs 20 --cont_temp 0.25 --cont_loss 0.05 --weight_decay 0.1 --warmup_steps 0.1"
   ]
  },
  {
   "cell_type": "markdown",
   "metadata": {
    "id": "zmc_YHq_FQhc"
   },
   "source": [
    "Train base mT5 model"
   ]
  },
  {
   "cell_type": "code",
   "execution_count": null,
   "metadata": {
    "collapsed": true,
    "id": "yHsPy3VeFQhc"
   },
   "outputs": [],
   "source": [
    "! python /content/CL-TASD-MvP/model/main_train.py --task \"cl_mvp_tasd\" --num_beams \"1\"  --top_k 1 --language \"English\" --model_prefix \"English_SemEval16\" --dataset \"SemEval16\" --do_train --train_batch_size 16 --eval_batch_size 64 --num_train_epochs 20 --cont_temp 0.25 --cont_loss 0.05 --weight_decay 0.1 --warmup_steps 0.1"
   ]
  },
  {
   "cell_type": "markdown",
   "metadata": {
    "id": "0ZhyefzDFdCm"
   },
   "source": [
    "### **Model Evaluation: English**\n"
   ]
  },
  {
   "cell_type": "markdown",
   "metadata": {
    "id": "kFQ_UfkbF8rH"
   },
   "source": [
    "#### **Evaluation Full Model**"
   ]
  },
  {
   "cell_type": "markdown",
   "metadata": {
    "id": "0P9lfzMGFl1h"
   },
   "source": [
    "Evaluation on final training epoch:\n"
   ]
  },
  {
   "cell_type": "code",
   "execution_count": null,
   "metadata": {
    "colab": {
     "base_uri": "https://localhost:8080/"
    },
    "executionInfo": {
     "elapsed": 450531,
     "status": "ok",
     "timestamp": 1753196306616,
     "user": {
      "displayName": "Philipp Gottschalk",
      "userId": "02502242344906393626"
     },
     "user_tz": -120
    },
    "id": "XdsrJ9A4GSs6",
    "outputId": "cd5c6cfa-25e7-4762-f554-3e06e28a3fa9"
   },
   "outputs": [],
   "source": [
    "! python /content/CL-TASD-MvP/model/main_train.py --task \"cl_mvp_tasd\" --num_beams \"1\" --dataset \"SemEval16\" --model_prefix \"English_SemEval16\" --language \"English\" --test_language \"English\"   --top_k 5 --do_contr_sent --do_contr_aspect --num_train_epochs 20 --do_inference --train_batch_size 16 --eval_batch_size 64 --weight_decay 0.1 --warmup_steps 0.1 --model_name_or_path \"/content/drive/MyDrive/data/models/SemEval16Icl_mvp_tasdIgoogle/mt5-largeIbeamsI1IwdI0.1Imax_epochsI20IesI0IaccI1IlrI0.0001Icont_lossI0.05Icont_tempI0.25IseedI42IEnglish_SemEval16I5I0.1IsentIaspect/\""
   ]
  },
  {
   "cell_type": "code",
   "execution_count": null,
   "metadata": {
    "colab": {
     "base_uri": "https://localhost:8080/"
    },
    "executionInfo": {
     "elapsed": 634502,
     "status": "ok",
     "timestamp": 1753196941115,
     "user": {
      "displayName": "Philipp Gottschalk",
      "userId": "02502242344906393626"
     },
     "user_tz": -120
    },
    "id": "RCvbDp2BAeo1",
    "outputId": "79373e23-82ef-4288-ba2e-c65f1249b474"
   },
   "outputs": [],
   "source": [
    "! python /content/CL-TASD-MvP/model/main_train.py --do_con_dec --task \"cl_mvp_tasd\" --num_beams \"1\" --dataset \"SemEval16\" --model_prefix \"English_SemEval16\" --language \"English\" --test_language \"English\"   --top_k 5 --do_contr_sent --do_contr_aspect --num_train_epochs 20 --do_inference --train_batch_size 16 --eval_batch_size 64 --weight_decay 0.1 --warmup_steps 0.1 --model_name_or_path \"/content/drive/MyDrive/data/models/SemEval16Icl_mvp_tasdIgoogle/mt5-largeIbeamsI1IwdI0.1Imax_epochsI20IesI0IaccI1IlrI0.0001Icont_lossI0.05Icont_tempI0.25IseedI42IEnglish_SemEval16I5I0.1IsentIaspect/\""
   ]
  },
  {
   "cell_type": "markdown",
   "metadata": {
    "id": "_TjlYEr6GwdK"
   },
   "source": [
    "Evaluation on best checkpoint of the last 5 training epochs:\n"
   ]
  },
  {
   "cell_type": "code",
   "execution_count": null,
   "metadata": {
    "colab": {
     "base_uri": "https://localhost:8080/"
    },
    "executionInfo": {
     "elapsed": 377894,
     "status": "ok",
     "timestamp": 1753197319016,
     "user": {
      "displayName": "Philipp Gottschalk",
      "userId": "02502242344906393626"
     },
     "user_tz": -120
    },
    "id": "2LI5C2sRGwdK",
    "outputId": "7b9282cc-3276-4b03-98ee-077fef5ba3da"
   },
   "outputs": [],
   "source": [
    "! python /content/CL-TASD-MvP/model/main_train.py --task \"cl_mvp_tasd\" --num_beams \"1\" --dataset \"SemEval16\" --model_prefix \"English_SemEval16\" --language \"English\" --test_language \"English\"   --top_k 5 --do_contr_sent --do_contr_aspect --num_train_epochs 20 --do_inference_best_5 --train_batch_size 16 --eval_batch_size 64 --weight_decay 0.1 --warmup_steps 0.1 --model_name_or_path \"/content/drive/MyDrive/data/models/SemEval16Icl_mvp_tasdIgoogle/mt5-largeIbeamsI1IwdI0.1Imax_epochsI20IesI0IaccI1IlrI0.0001Icont_lossI0.05Icont_tempI0.25IseedI42IEnglish_SemEval16I5I0.1IsentIaspect/\""
   ]
  },
  {
   "cell_type": "code",
   "execution_count": null,
   "metadata": {
    "colab": {
     "base_uri": "https://localhost:8080/"
    },
    "executionInfo": {
     "elapsed": 632861,
     "status": "ok",
     "timestamp": 1753197951882,
     "user": {
      "displayName": "Philipp Gottschalk",
      "userId": "02502242344906393626"
     },
     "user_tz": -120
    },
    "id": "w7JNEDvtGwdK",
    "outputId": "1bc05f0c-7a4a-4116-b1ef-ad7b71a3870b"
   },
   "outputs": [],
   "source": [
    "! python /content/CL-TASD-MvP/model/main_train.py --do_con_dec --task \"cl_mvp_tasd\" --num_beams \"1\" --dataset \"SemEval16\" --model_prefix \"English_SemEval16\" --language \"English\" --test_language \"English\"   --top_k 5 --do_contr_sent --do_contr_aspect --num_train_epochs 20 --do_inference_best_5 --train_batch_size 16 --eval_batch_size 64 --weight_decay 0.1 --warmup_steps 0.1 --model_name_or_path \"/content/drive/MyDrive/data/models/SemEval16Icl_mvp_tasdIgoogle/mt5-largeIbeamsI1IwdI0.1Imax_epochsI20IesI0IaccI1IlrI0.0001Icont_lossI0.05Icont_tempI0.25IseedI42IEnglish_SemEval16I5I0.1IsentIaspect/\""
   ]
  },
  {
   "cell_type": "markdown",
   "metadata": {
    "id": "_GvszztNHCzr"
   },
   "source": [
    "Evaluation on best checkpoint:\n"
   ]
  },
  {
   "cell_type": "code",
   "execution_count": null,
   "metadata": {
    "colab": {
     "base_uri": "https://localhost:8080/"
    },
    "executionInfo": {
     "elapsed": 398426,
     "status": "ok",
     "timestamp": 1753198350311,
     "user": {
      "displayName": "Philipp Gottschalk",
      "userId": "02502242344906393626"
     },
     "user_tz": -120
    },
    "id": "PTxJrMbkHCzr",
    "outputId": "0f8846e8-ac98-43c3-f899-4573d76228c9"
   },
   "outputs": [],
   "source": [
    "! python /content/CL-TASD-MvP/model/main_train.py --task \"cl_mvp_tasd\" --num_beams \"1\" --dataset \"SemEval16\" --model_prefix \"English_SemEval16\" --language \"English\" --test_language \"English\"   --top_k 5 --do_contr_sent --do_contr_aspect --num_train_epochs 20 --do_inference_best_ckpt --train_batch_size 16 --eval_batch_size 64 --weight_decay 0.1 --warmup_steps 0.1 --model_name_or_path \"/content/drive/MyDrive/data/models/SemEval16Icl_mvp_tasdIgoogle/mt5-largeIbeamsI1IwdI0.1Imax_epochsI20IesI0IaccI1IlrI0.0001Icont_lossI0.05Icont_tempI0.25IseedI42IEnglish_SemEval16I5I0.1IsentIaspect/\""
   ]
  },
  {
   "cell_type": "code",
   "execution_count": null,
   "metadata": {
    "colab": {
     "base_uri": "https://localhost:8080/"
    },
    "executionInfo": {
     "elapsed": 652025,
     "status": "ok",
     "timestamp": 1753199002342,
     "user": {
      "displayName": "Philipp Gottschalk",
      "userId": "02502242344906393626"
     },
     "user_tz": -120
    },
    "id": "UT7BZQwzHCzr",
    "outputId": "3cf067dc-15f9-481f-cb2d-2688d5af19cb"
   },
   "outputs": [],
   "source": [
    "! python /content/CL-TASD-MvP/model/main_train.py --do_con_dec --task \"cl_mvp_tasd\" --num_beams \"1\" --dataset \"SemEval16\" --model_prefix \"English_SemEval16\" --language \"English\" --test_language \"English\"   --top_k 5 --do_contr_sent --do_contr_aspect --num_train_epochs 20 --do_inference_best_ckpt --train_batch_size 16 --eval_batch_size 64 --weight_decay 0.1 --warmup_steps 0.1 --model_name_or_path \"/content/drive/MyDrive/data/models/SemEval16Icl_mvp_tasdIgoogle/mt5-largeIbeamsI1IwdI0.1Imax_epochsI20IesI0IaccI1IlrI0.0001Icont_lossI0.05Icont_tempI0.25IseedI42IEnglish_SemEval16I5I0.1IsentIaspect/\""
   ]
  },
  {
   "cell_type": "markdown",
   "metadata": {
    "id": "4R2SgzkWH47S"
   },
   "source": [
    "#### **Evaluation MVP Only**"
   ]
  },
  {
   "cell_type": "markdown",
   "metadata": {
    "id": "GNQQhChyH47S"
   },
   "source": [
    "Evaluation on final training epoch:\n"
   ]
  },
  {
   "cell_type": "code",
   "execution_count": null,
   "metadata": {
    "colab": {
     "background_save": true,
     "base_uri": "https://localhost:8080/"
    },
    "id": "qgRmWJiZH47T",
    "outputId": "52eb689f-5820-423f-a5d2-4c94cc506b60"
   },
   "outputs": [],
   "source": [
    "! python /content/CL-TASD-MvP/model/main_train.py --task \"cl_mvp_tasd\" --num_beams \"1\" --dataset \"SemEval16\" --model_prefix \"English_SemEval16\" --language \"English\" --test_language \"English\"   --top_k 5 --num_train_epochs 20 --do_inference --train_batch_size 16 --eval_batch_size 64 --weight_decay 0.1 --warmup_steps 0.1 --model_name_or_path \"/content/drive/MyDrive/data/models/SemEval16Icl_mvp_tasdIgoogle/mt5-largeIbeamsI1IwdI0.1Imax_epochsI20IesI0IaccI1IlrI0.0001Icont_lossI0.05Icont_tempI0.25IseedI42IEnglish_SemEval16I5I0.1/\""
   ]
  },
  {
   "cell_type": "code",
   "execution_count": null,
   "metadata": {
    "colab": {
     "background_save": true
    },
    "id": "t9uy8bskH47T",
    "outputId": "82b75e20-c66e-49e1-ce76-6a5c9f535228"
   },
   "outputs": [],
   "source": [
    "! python /content/CL-TASD-MvP/model/main_train.py --do_con_dec --task \"cl_mvp_tasd\" --num_beams \"1\" --dataset \"SemEval16\" --model_prefix \"English_SemEval16\" --language \"English\" --test_language \"English\"   --top_k 5 --num_train_epochs 20 --do_inference --train_batch_size 16 --eval_batch_size 64 --weight_decay 0.1 --warmup_steps 0.1 --model_name_or_path \"/content/drive/MyDrive/data/models/SemEval16Icl_mvp_tasdIgoogle/mt5-largeIbeamsI1IwdI0.1Imax_epochsI20IesI0IaccI1IlrI0.0001Icont_lossI0.05Icont_tempI0.25IseedI42IEnglish_SemEval16I5I0.1/\""
   ]
  },
  {
   "cell_type": "markdown",
   "metadata": {
    "id": "8Jjm3GUHH47T"
   },
   "source": [
    "Evaluation on best checkpoint of the last 5 training epochs:\n"
   ]
  },
  {
   "cell_type": "code",
   "execution_count": null,
   "metadata": {
    "colab": {
     "background_save": true
    },
    "id": "3FJPY5aEH47T",
    "outputId": "80cb901f-23fe-4f5d-c636-1464fde242fa"
   },
   "outputs": [],
   "source": [
    "! python /content/CL-TASD-MvP/model/main_train.py --task \"cl_mvp_tasd\" --num_beams \"1\" --dataset \"SemEval16\" --model_prefix \"English_SemEval16\" --language \"English\" --test_language \"English\"   --top_k 5 --num_train_epochs 20 --do_inference_best_5 --train_batch_size 16 --eval_batch_size 64 --weight_decay 0.1 --warmup_steps 0.1 --model_name_or_path \"/content/drive/MyDrive/data/models/SemEval16Icl_mvp_tasdIgoogle/mt5-largeIbeamsI1IwdI0.1Imax_epochsI20IesI0IaccI1IlrI0.0001Icont_lossI0.05Icont_tempI0.25IseedI42IEnglish_SemEval16I5I0.1/\""
   ]
  },
  {
   "cell_type": "code",
   "execution_count": null,
   "metadata": {
    "colab": {
     "background_save": true
    },
    "id": "zep47NBYH47T",
    "outputId": "0ec9c7f3-2f33-4fcb-859d-3b3f0ce70d9d"
   },
   "outputs": [],
   "source": [
    "! python /content/CL-TASD-MvP/model/main_train.py --do_con_dec --task \"cl_mvp_tasd\" --num_beams \"1\" --dataset \"SemEval16\" --model_prefix \"English_SemEval16\" --language \"English\" --test_language \"English\"   --top_k 5 --num_train_epochs 20 --do_inference_best_5 --train_batch_size 16 --eval_batch_size 64 --weight_decay 0.1 --warmup_steps 0.1 --model_name_or_path \"/content/drive/MyDrive/data/models/SemEval16Icl_mvp_tasdIgoogle/mt5-largeIbeamsI1IwdI0.1Imax_epochsI20IesI0IaccI1IlrI0.0001Icont_lossI0.05Icont_tempI0.25IseedI42IEnglish_SemEval16I5I0.1/\""
   ]
  },
  {
   "cell_type": "markdown",
   "metadata": {
    "id": "bVodKvXMH47T"
   },
   "source": [
    "Evaluation on best checkpoint:\n"
   ]
  },
  {
   "cell_type": "code",
   "execution_count": null,
   "metadata": {
    "colab": {
     "background_save": true
    },
    "id": "qtqNhinpH47T",
    "outputId": "92335232-5a9e-42f4-f46c-91d350edbed4"
   },
   "outputs": [],
   "source": [
    "! python /content/CL-TASD-MvP/model/main_train.py --task \"cl_mvp_tasd\" --num_beams \"1\" --dataset \"SemEval16\" --model_prefix \"English_SemEval16\" --language \"English\" --test_language \"English\"   --top_k 5 --num_train_epochs 20 --do_inference_best_ckpt --train_batch_size 16 --eval_batch_size 64 --weight_decay 0.1 --warmup_steps 0.1 --model_name_or_path \"/content/drive/MyDrive/data/models/SemEval16Icl_mvp_tasdIgoogle/mt5-largeIbeamsI1IwdI0.1Imax_epochsI20IesI0IaccI1IlrI0.0001Icont_lossI0.05Icont_tempI0.25IseedI42IEnglish_SemEval16I5I0.1/\""
   ]
  },
  {
   "cell_type": "code",
   "execution_count": null,
   "metadata": {
    "colab": {
     "background_save": true
    },
    "id": "SAcA1rqYH47T",
    "outputId": "21a3daa9-1694-40d1-c2a0-1f4f5c0a8371"
   },
   "outputs": [],
   "source": [
    "! python /content/CL-TASD-MvP/model/main_train.py --do_con_dec --task \"cl_mvp_tasd\" --num_beams \"1\" --dataset \"SemEval16\" --model_prefix \"English_SemEval16\" --language \"English\" --test_language \"English\"   --top_k 5 --num_train_epochs 20 --do_inference_best_ckpt --train_batch_size 16 --eval_batch_size 64 --weight_decay 0.1 --warmup_steps 0.1 --model_name_or_path \"/content/drive/MyDrive/data/models/SemEval16Icl_mvp_tasdIgoogle/mt5-largeIbeamsI1IwdI0.1Imax_epochsI20IesI0IaccI1IlrI0.0001Icont_lossI0.05Icont_tempI0.25IseedI42IEnglish_SemEval16I5I0.1/\""
   ]
  },
  {
   "cell_type": "markdown",
   "metadata": {
    "id": "SMNROHtjIZSt"
   },
   "source": [
    "#### **Evaluation Only CL**"
   ]
  },
  {
   "cell_type": "markdown",
   "metadata": {
    "id": "TYPL6kJoIZSu"
   },
   "source": [
    "Evaluation on final training epoch:\n"
   ]
  },
  {
   "cell_type": "code",
   "execution_count": null,
   "metadata": {
    "colab": {
     "background_save": true
    },
    "id": "AElw9ftgIZSu",
    "outputId": "38e2cfec-e139-423b-ec4f-b01246043687"
   },
   "outputs": [],
   "source": [
    "! python /content/CL-TASD-MvP/model/main_train.py --task \"cl_mvp_tasd\" --num_beams \"1\" --dataset \"SemEval16\" --model_prefix \"English_SemEval16\" --language \"English\" --test_language \"English\"   --top_k 1 --do_contr_sent --do_contr_aspect --num_train_epochs 20 --do_inference --train_batch_size 16 --eval_batch_size 64 --weight_decay 0.1 --warmup_steps 0.1 --model_name_or_path \"/content/drive/MyDrive/data/models/SemEval16Icl_mvp_tasdIgoogle/mt5-largeIbeamsI1IwdI0.1Imax_epochsI20IesI0IaccI1IlrI0.0001Icont_lossI0.05Icont_tempI0.25IseedI42IEnglish_SemEval16I1I0.1IsentIaspect/\""
   ]
  },
  {
   "cell_type": "code",
   "execution_count": null,
   "metadata": {
    "colab": {
     "background_save": true
    },
    "id": "6qqRx2aLIZSu",
    "outputId": "16a40033-9b7c-4527-db62-15dcfd91904d"
   },
   "outputs": [],
   "source": [
    "! python /content/CL-TASD-MvP/model/main_train.py --do_con_dec --task \"cl_mvp_tasd\" --num_beams \"1\" --dataset \"SemEval16\" --model_prefix \"English_SemEval16\" --language \"English\" --test_language \"English\"   --top_k 1 --do_contr_sent --do_contr_aspect --num_train_epochs 20 --do_inference --train_batch_size 16 --eval_batch_size 64 --weight_decay 0.1 --warmup_steps 0.1 --model_name_or_path \"/content/drive/MyDrive/data/models/SemEval16Icl_mvp_tasdIgoogle/mt5-largeIbeamsI1IwdI0.1Imax_epochsI20IesI0IaccI1IlrI0.0001Icont_lossI0.05Icont_tempI0.25IseedI42IEnglish_SemEval16I1I0.1IsentIaspect/\""
   ]
  },
  {
   "cell_type": "markdown",
   "metadata": {
    "id": "jjJkCDmDIZSu"
   },
   "source": [
    "Evaluation on best checkpoint of the last 5 training epochs:\n"
   ]
  },
  {
   "cell_type": "code",
   "execution_count": null,
   "metadata": {
    "colab": {
     "background_save": true
    },
    "id": "XK4LYALIIZSu",
    "outputId": "86271a16-f4b3-4ed4-d07d-614db0670c65"
   },
   "outputs": [],
   "source": [
    "! python /content/CL-TASD-MvP/model/main_train.py --task \"cl_mvp_tasd\" --num_beams \"1\" --dataset \"SemEval16\" --model_prefix \"English_SemEval16\" --language \"English\" --test_language \"English\"   --top_k 1 --do_contr_sent --do_contr_aspect --num_train_epochs 20 --do_inference_best_5 --train_batch_size 16 --eval_batch_size 64 --weight_decay 0.1 --warmup_steps 0.1 --model_name_or_path \"/content/drive/MyDrive/data/models/SemEval16Icl_mvp_tasdIgoogle/mt5-largeIbeamsI1IwdI0.1Imax_epochsI20IesI0IaccI1IlrI0.0001Icont_lossI0.05Icont_tempI0.25IseedI42IEnglish_SemEval16I1I0.1IsentIaspect/\""
   ]
  },
  {
   "cell_type": "code",
   "execution_count": null,
   "metadata": {
    "colab": {
     "background_save": true
    },
    "id": "Yckm04MjIZSu",
    "outputId": "e6af8f07-8ad6-4392-e655-c1ab91cc7ce8"
   },
   "outputs": [],
   "source": [
    "! python /content/CL-TASD-MvP/model/main_train.py --do_con_dec --task \"cl_mvp_tasd\" --num_beams \"1\" --dataset \"SemEval16\" --model_prefix \"English_SemEval16\" --language \"English\" --test_language \"English\"   --top_k 1 --do_contr_sent --do_contr_aspect --num_train_epochs 20 --do_inference_best_5 --train_batch_size 16 --eval_batch_size 64 --weight_decay 0.1 --warmup_steps 0.1 --model_name_or_path \"/content/drive/MyDrive/data/models/SemEval16Icl_mvp_tasdIgoogle/mt5-largeIbeamsI1IwdI0.1Imax_epochsI20IesI0IaccI1IlrI0.0001Icont_lossI0.05Icont_tempI0.25IseedI42IEnglish_SemEval16I1I0.1IsentIaspect/\""
   ]
  },
  {
   "cell_type": "markdown",
   "metadata": {
    "id": "xjXcrc1CIZSu"
   },
   "source": [
    "Evaluation on best checkpoint:\n"
   ]
  },
  {
   "cell_type": "code",
   "execution_count": null,
   "metadata": {
    "colab": {
     "background_save": true
    },
    "id": "nqlT_7iBIZSu",
    "outputId": "bb08d6c6-49d2-46f8-f5a3-1e306b8ad2f0"
   },
   "outputs": [],
   "source": [
    "! python /content/CL-TASD-MvP/model/main_train.py --task \"cl_mvp_tasd\" --num_beams \"1\" --dataset \"SemEval16\" --model_prefix \"English_SemEval16\" --language \"English\" --test_language \"English\"   --top_k 1 --do_contr_sent --do_contr_aspect --num_train_epochs 20 --do_inference_best_ckpt --train_batch_size 16 --eval_batch_size 64 --weight_decay 0.1 --warmup_steps 0.1 --model_name_or_path \"/content/drive/MyDrive/data/models/SemEval16Icl_mvp_tasdIgoogle/mt5-largeIbeamsI1IwdI0.1Imax_epochsI20IesI0IaccI1IlrI0.0001Icont_lossI0.05Icont_tempI0.25IseedI42IEnglish_SemEval16I1I0.1IsentIaspect/\""
   ]
  },
  {
   "cell_type": "code",
   "execution_count": null,
   "metadata": {
    "colab": {
     "background_save": true
    },
    "id": "qA-q902PIZSu",
    "outputId": "1767c26a-0e32-43e8-e311-2bdbbe2a19fa"
   },
   "outputs": [],
   "source": [
    "! python /content/CL-TASD-MvP/model/main_train.py --do_con_dec --task \"cl_mvp_tasd\" --num_beams \"1\" --dataset \"SemEval16\" --model_prefix \"English_SemEval16\" --language \"English\" --test_language \"English\"   --top_k 1 --do_contr_sent --do_contr_aspect --num_train_epochs 20 --do_inference_best_ckpt --train_batch_size 16 --eval_batch_size 64 --weight_decay 0.1 --warmup_steps 0.1 --model_name_or_path \"/content/drive/MyDrive/data/models/SemEval16Icl_mvp_tasdIgoogle/mt5-largeIbeamsI1IwdI0.1Imax_epochsI20IesI0IaccI1IlrI0.0001Icont_lossI0.05Icont_tempI0.25IseedI42IEnglish_SemEval16I1I0.1IsentIaspect/\""
   ]
  },
  {
   "cell_type": "markdown",
   "metadata": {
    "id": "37XQO_cIHT8y"
   },
   "source": [
    "#### **Evaluation Base MT5**"
   ]
  },
  {
   "cell_type": "markdown",
   "metadata": {
    "id": "aYUatis9HT8y"
   },
   "source": [
    "Evaluation on final training epoch:\n"
   ]
  },
  {
   "cell_type": "code",
   "execution_count": null,
   "metadata": {
    "colab": {
     "base_uri": "https://localhost:8080/"
    },
    "executionInfo": {
     "elapsed": 223655,
     "status": "ok",
     "timestamp": 1753199226002,
     "user": {
      "displayName": "Philipp Gottschalk",
      "userId": "02502242344906393626"
     },
     "user_tz": -120
    },
    "id": "3haAmsVaHT8y",
    "outputId": "1aba99f8-29a4-48b5-cea2-f75166f7dace"
   },
   "outputs": [],
   "source": [
    "! python /content/CL-TASD-MvP/model/main_train.py --task \"cl_mvp_tasd\" --num_beams \"1\" --dataset \"SemEval16\" --model_prefix \"English_SemEval16\" --language \"English\" --test_language \"English\"   --top_k 1 --num_train_epochs 20 --do_inference --train_batch_size 16 --eval_batch_size 64 --weight_decay 0.1 --warmup_steps 0.1 --model_name_or_path \"/content/drive/MyDrive/data/models/SemEval16Icl_mvp_tasdIgoogle/mt5-largeIbeamsI1IwdI0.1Imax_epochsI20IesI0IaccI1IlrI0.0001Icont_lossI0.05Icont_tempI0.25IseedI42IEnglish_SemEval16I1I0.1/\""
   ]
  },
  {
   "cell_type": "code",
   "execution_count": null,
   "metadata": {
    "colab": {
     "base_uri": "https://localhost:8080/"
    },
    "executionInfo": {
     "elapsed": 158938,
     "status": "ok",
     "timestamp": 1753199384944,
     "user": {
      "displayName": "Philipp Gottschalk",
      "userId": "02502242344906393626"
     },
     "user_tz": -120
    },
    "id": "clXaXe6lHT8y",
    "outputId": "68d4ba7c-d41e-4b32-f36a-8f6d2ade6670"
   },
   "outputs": [],
   "source": [
    "! python /content/CL-TASD-MvP/model/main_train.py --do_con_dec --task \"cl_mvp_tasd\" --num_beams \"1\" --dataset \"SemEval16\" --model_prefix \"English_SemEval16\" --language \"English\" --test_language \"English\"   --top_k 1 --num_train_epochs 20 --do_inference --train_batch_size 16 --eval_batch_size 64 --weight_decay 0.1 --warmup_steps 0.1 --model_name_or_path \"/content/drive/MyDrive/data/models/SemEval16Icl_mvp_tasdIgoogle/mt5-largeIbeamsI1IwdI0.1Imax_epochsI20IesI0IaccI1IlrI0.0001Icont_lossI0.05Icont_tempI0.25IseedI42IEnglish_SemEval16I1I0.1/\""
   ]
  },
  {
   "cell_type": "markdown",
   "metadata": {
    "id": "J8m9Jx3THT8y"
   },
   "source": [
    "Evaluation on best checkpoint of the last 5 training epochs:\n"
   ]
  },
  {
   "cell_type": "code",
   "execution_count": null,
   "metadata": {
    "colab": {
     "base_uri": "https://localhost:8080/"
    },
    "executionInfo": {
     "elapsed": 190743,
     "status": "ok",
     "timestamp": 1753199575689,
     "user": {
      "displayName": "Philipp Gottschalk",
      "userId": "02502242344906393626"
     },
     "user_tz": -120
    },
    "id": "AqYYC7HbHT8z",
    "outputId": "29e9c57b-64be-4664-aa1e-7027a975787a"
   },
   "outputs": [],
   "source": [
    "! python /content/CL-TASD-MvP/model/main_train.py --task \"cl_mvp_tasd\" --num_beams \"1\" --dataset \"SemEval16\" --model_prefix \"English_SemEval16\" --language \"English\" --test_language \"English\"   --top_k 1 --num_train_epochs 20 --do_inference_best_5 --train_batch_size 16 --eval_batch_size 64 --weight_decay 0.1 --warmup_steps 0.1 --model_name_or_path \"/content/drive/MyDrive/data/models/SemEval16Icl_mvp_tasdIgoogle/mt5-largeIbeamsI1IwdI0.1Imax_epochsI20IesI0IaccI1IlrI0.0001Icont_lossI0.05Icont_tempI0.25IseedI42IEnglish_SemEval16I1I0.1/\""
   ]
  },
  {
   "cell_type": "code",
   "execution_count": null,
   "metadata": {
    "colab": {
     "base_uri": "https://localhost:8080/"
    },
    "executionInfo": {
     "elapsed": 167644,
     "status": "ok",
     "timestamp": 1753199743330,
     "user": {
      "displayName": "Philipp Gottschalk",
      "userId": "02502242344906393626"
     },
     "user_tz": -120
    },
    "id": "YRqiY5lyHT8z",
    "outputId": "04cd1441-4752-4bbb-f625-3a36baacfe80"
   },
   "outputs": [],
   "source": [
    "! python /content/CL-TASD-MvP/model/main_train.py --do_con_dec --task \"cl_mvp_tasd\" --num_beams \"1\" --dataset \"SemEval16\" --model_prefix \"English_SemEval16\" --language \"English\" --test_language \"English\"   --top_k 1 --num_train_epochs 20 --do_inference_best_5 --train_batch_size 16 --eval_batch_size 64 --weight_decay 0.1 --warmup_steps 0.1 --model_name_or_path \"/content/drive/MyDrive/data/models/SemEval16Icl_mvp_tasdIgoogle/mt5-largeIbeamsI1IwdI0.1Imax_epochsI20IesI0IaccI1IlrI0.0001Icont_lossI0.05Icont_tempI0.25IseedI42IEnglish_SemEval16I1I0.1/\""
   ]
  },
  {
   "cell_type": "markdown",
   "metadata": {
    "id": "QhGezUkaHT8z"
   },
   "source": [
    "Evaluation on best checkpoint:\n"
   ]
  },
  {
   "cell_type": "code",
   "execution_count": null,
   "metadata": {
    "colab": {
     "base_uri": "https://localhost:8080/"
    },
    "executionInfo": {
     "elapsed": 201860,
     "status": "ok",
     "timestamp": 1753199945195,
     "user": {
      "displayName": "Philipp Gottschalk",
      "userId": "02502242344906393626"
     },
     "user_tz": -120
    },
    "id": "wBJQb4JoHT8z",
    "outputId": "ac7a6624-d4f1-49a2-920f-75930f9443d8"
   },
   "outputs": [],
   "source": [
    "! python /content/CL-TASD-MvP/model/main_train.py --task \"cl_mvp_tasd\" --num_beams \"1\" --dataset \"SemEval16\" --model_prefix \"English_SemEval16\" --language \"English\" --test_language \"English\"   --top_k 1 --num_train_epochs 20 --do_inference_best_ckpt --train_batch_size 16 --eval_batch_size 64 --weight_decay 0.1 --warmup_steps 0.1 --model_name_or_path \"/content/drive/MyDrive/data/models/SemEval16Icl_mvp_tasdIgoogle/mt5-largeIbeamsI1IwdI0.1Imax_epochsI20IesI0IaccI1IlrI0.0001Icont_lossI0.05Icont_tempI0.25IseedI42IEnglish_SemEval16I1I0.1/\""
   ]
  },
  {
   "cell_type": "code",
   "execution_count": null,
   "metadata": {
    "colab": {
     "base_uri": "https://localhost:8080/"
    },
    "executionInfo": {
     "elapsed": 167874,
     "status": "ok",
     "timestamp": 1753200113076,
     "user": {
      "displayName": "Philipp Gottschalk",
      "userId": "02502242344906393626"
     },
     "user_tz": -120
    },
    "id": "FPUnG8l1HT8z",
    "outputId": "725da151-4ebc-4b2e-9edb-f261979669b9"
   },
   "outputs": [],
   "source": [
    "! python /content/CL-TASD-MvP/model/main_train.py --do_con_dec --task \"cl_mvp_tasd\" --num_beams \"1\" --dataset \"SemEval16\" --model_prefix \"English_SemEval16\" --language \"English\" --test_language \"English\"   --top_k 1 --num_train_epochs 20 --do_inference_best_ckpt --train_batch_size 16 --eval_batch_size 64 --weight_decay 0.1 --warmup_steps 0.1 --model_name_or_path \"/content/drive/MyDrive/data/models/SemEval16Icl_mvp_tasdIgoogle/mt5-largeIbeamsI1IwdI0.1Imax_epochsI20IesI0IaccI1IlrI0.0001Icont_lossI0.05Icont_tempI0.25IseedI42IEnglish_SemEval16I1I0.1/\""
   ]
  },
  {
   "cell_type": "markdown",
   "metadata": {
    "id": "v81yuufYIt3A"
   },
   "source": [
    "### **Model Evaluation: French**\n"
   ]
  },
  {
   "cell_type": "markdown",
   "metadata": {
    "id": "5RGEBQMVIt3B"
   },
   "source": [
    "#### **Evaluation Full Model**"
   ]
  },
  {
   "cell_type": "markdown",
   "metadata": {
    "id": "Uj2u_afqIt3B"
   },
   "source": [
    "Evaluation on final training epoch:\n"
   ]
  },
  {
   "cell_type": "code",
   "execution_count": null,
   "metadata": {
    "id": "kwdeLE9XIt3B"
   },
   "outputs": [],
   "source": [
    "! python /content/CL-TASD-MvP/model/main_train.py --task \"cl_mvp_tasd\" --num_beams \"1\" --dataset \"SemEval16\" --model_prefix \"English_SemEval16\" --language \"English\" --test_language \"French\"   --top_k 5 --do_contr_sent --do_contr_aspect --num_train_epochs 20 --do_inference --train_batch_size 16 --eval_batch_size 64 --weight_decay 0.1 --warmup_steps 0.1 --model_name_or_path \"/content/drive/MyDrive/data/models/SemEval16Icl_mvp_tasdIgoogle/mt5-largeIbeamsI1IwdI0.1Imax_epochsI20IesI0IaccI1IlrI0.0001Icont_lossI0.05Icont_tempI0.25IseedI42IEnglish_SemEval16I5I0.1IsentIaspect/\""
   ]
  },
  {
   "cell_type": "code",
   "execution_count": null,
   "metadata": {
    "id": "hfTBHsvMIt3B"
   },
   "outputs": [],
   "source": [
    "! python /content/CL-TASD-MvP/model/main_train.py --do_con_dec --task \"cl_mvp_tasd\" --num_beams \"1\" --dataset \"SemEval16\" --model_prefix \"English_SemEval16\" --language \"English\" --test_language \"French\"   --top_k 5 --do_contr_sent --do_contr_aspect --num_train_epochs 20 --do_inference --train_batch_size 16 --eval_batch_size 64 --weight_decay 0.1 --warmup_steps 0.1 --model_name_or_path \"/content/drive/MyDrive/data/models/SemEval16Icl_mvp_tasdIgoogle/mt5-largeIbeamsI1IwdI0.1Imax_epochsI20IesI0IaccI1IlrI0.0001Icont_lossI0.05Icont_tempI0.25IseedI42IEnglish_SemEval16I5I0.1IsentIaspect/\""
   ]
  },
  {
   "cell_type": "markdown",
   "metadata": {
    "id": "5G8wZ-XTIt3B"
   },
   "source": [
    "Evaluation on best checkpoint of the last 5 training epochs:\n"
   ]
  },
  {
   "cell_type": "code",
   "execution_count": null,
   "metadata": {
    "id": "0qnc5EWqIt3B"
   },
   "outputs": [],
   "source": [
    "! python /content/CL-TASD-MvP/model/main_train.py --task \"cl_mvp_tasd\" --num_beams \"1\" --dataset \"SemEval16\" --model_prefix \"English_SemEval16\" --language \"English\" --test_language \"French\"   --top_k 5 --do_contr_sent --do_contr_aspect --num_train_epochs 20 --do_inference_best_5 --train_batch_size 16 --eval_batch_size 64 --weight_decay 0.1 --warmup_steps 0.1 --model_name_or_path \"/content/drive/MyDrive/data/models/SemEval16Icl_mvp_tasdIgoogle/mt5-largeIbeamsI1IwdI0.1Imax_epochsI20IesI0IaccI1IlrI0.0001Icont_lossI0.05Icont_tempI0.25IseedI42IEnglish_SemEval16I5I0.1IsentIaspect/\""
   ]
  },
  {
   "cell_type": "code",
   "execution_count": null,
   "metadata": {
    "id": "5GykmzlIIt3B"
   },
   "outputs": [],
   "source": [
    "! python /content/CL-TASD-MvP/model/main_train.py --do_con_dec --task \"cl_mvp_tasd\" --num_beams \"1\" --dataset \"SemEval16\" --model_prefix \"English_SemEval16\" --language \"English\" --test_language \"French\"   --top_k 5 --do_contr_sent --do_contr_aspect --num_train_epochs 20 --do_inference_best_5 --train_batch_size 16 --eval_batch_size 64 --weight_decay 0.1 --warmup_steps 0.1 --model_name_or_path \"/content/drive/MyDrive/data/models/SemEval16Icl_mvp_tasdIgoogle/mt5-largeIbeamsI1IwdI0.1Imax_epochsI20IesI0IaccI1IlrI0.0001Icont_lossI0.05Icont_tempI0.25IseedI42IEnglish_SemEval16I5I0.1IsentIaspect/\""
   ]
  },
  {
   "cell_type": "markdown",
   "metadata": {
    "id": "Kzl_2w7LIt3C"
   },
   "source": [
    "Evaluation on best checkpoint:\n"
   ]
  },
  {
   "cell_type": "code",
   "execution_count": null,
   "metadata": {
    "id": "e-JCgSL7It3C"
   },
   "outputs": [],
   "source": [
    "! python /content/CL-TASD-MvP/model/main_train.py --task \"cl_mvp_tasd\" --num_beams \"1\" --dataset \"SemEval16\" --model_prefix \"English_SemEval16\" --language \"English\" --test_language \"French\"   --top_k 5 --do_contr_sent --do_contr_aspect --num_train_epochs 20 --do_inference_best_ckpt --train_batch_size 16 --eval_batch_size 64 --weight_decay 0.1 --warmup_steps 0.1 --model_name_or_path \"/content/drive/MyDrive/data/models/SemEval16Icl_mvp_tasdIgoogle/mt5-largeIbeamsI1IwdI0.1Imax_epochsI20IesI0IaccI1IlrI0.0001Icont_lossI0.05Icont_tempI0.25IseedI42IEnglish_SemEval16I5I0.1IsentIaspect/\""
   ]
  },
  {
   "cell_type": "code",
   "execution_count": null,
   "metadata": {
    "id": "1cY61dKLIt3C"
   },
   "outputs": [],
   "source": [
    "! python /content/CL-TASD-MvP/model/main_train.py --do_con_dec --task \"cl_mvp_tasd\" --num_beams \"1\" --dataset \"SemEval16\" --model_prefix \"English_SemEval16\" --language \"English\" --test_language \"French\"   --top_k 5 --do_contr_sent --do_contr_aspect --num_train_epochs 20 --do_inference_best_ckpt --train_batch_size 16 --eval_batch_size 64 --weight_decay 0.1 --warmup_steps 0.1 --model_name_or_path \"/content/drive/MyDrive/data/models/SemEval16Icl_mvp_tasdIgoogle/mt5-largeIbeamsI1IwdI0.1Imax_epochsI20IesI0IaccI1IlrI0.0001Icont_lossI0.05Icont_tempI0.25IseedI42IEnglish_SemEval16I5I0.1IsentIaspect/\""
   ]
  },
  {
   "cell_type": "markdown",
   "metadata": {
    "id": "F3I0SoXLIt3C"
   },
   "source": [
    "#### **Evaluation MVP Only**"
   ]
  },
  {
   "cell_type": "markdown",
   "metadata": {
    "id": "a3CMJ1iAIt3C"
   },
   "source": [
    "Evaluation on final training epoch:\n"
   ]
  },
  {
   "cell_type": "code",
   "execution_count": null,
   "metadata": {
    "colab": {
     "background_save": true
    },
    "id": "Y5bVQC71It3C",
    "outputId": "e4ed5984-7877-4adb-d745-832084a19268"
   },
   "outputs": [],
   "source": [
    "! python /content/CL-TASD-MvP/model/main_train.py --task \"cl_mvp_tasd\" --num_beams \"1\" --dataset \"SemEval16\" --model_prefix \"English_SemEval16\" --language \"English\" --test_language \"French\"   --top_k 5 --num_train_epochs 20 --do_inference --train_batch_size 16 --eval_batch_size 64 --weight_decay 0.1 --warmup_steps 0.1 --model_name_or_path \"/content/drive/MyDrive/data/models/SemEval16Icl_mvp_tasdIgoogle/mt5-largeIbeamsI1IwdI0.1Imax_epochsI20IesI0IaccI1IlrI0.0001Icont_lossI0.05Icont_tempI0.25IseedI42IEnglish_SemEval16I5I0.1/\""
   ]
  },
  {
   "cell_type": "code",
   "execution_count": null,
   "metadata": {
    "colab": {
     "background_save": true
    },
    "id": "0SE0O-kEIt3C",
    "outputId": "d7c91612-b3b6-46ad-dde2-3a6b11c36ccc"
   },
   "outputs": [],
   "source": [
    "! python /content/CL-TASD-MvP/model/main_train.py --do_con_dec --task \"cl_mvp_tasd\" --num_beams \"1\" --dataset \"SemEval16\" --model_prefix \"English_SemEval16\" --language \"English\" --test_language \"French\"   --top_k 5 --num_train_epochs 20 --do_inference --train_batch_size 16 --eval_batch_size 64 --weight_decay 0.1 --warmup_steps 0.1 --model_name_or_path \"/content/drive/MyDrive/data/models/SemEval16Icl_mvp_tasdIgoogle/mt5-largeIbeamsI1IwdI0.1Imax_epochsI20IesI0IaccI1IlrI0.0001Icont_lossI0.05Icont_tempI0.25IseedI42IEnglish_SemEval16I5I0.1/\""
   ]
  },
  {
   "cell_type": "markdown",
   "metadata": {
    "id": "P8gmuIIFIt3C"
   },
   "source": [
    "Evaluation on best checkpoint of the last 5 training epochs:\n"
   ]
  },
  {
   "cell_type": "code",
   "execution_count": null,
   "metadata": {
    "colab": {
     "background_save": true
    },
    "id": "1j3HQTCxIt3C",
    "outputId": "3252a8aa-0e96-41ca-be8e-83c95d6f98e0"
   },
   "outputs": [],
   "source": [
    "! python /content/CL-TASD-MvP/model/main_train.py --task \"cl_mvp_tasd\" --num_beams \"1\" --dataset \"SemEval16\" --model_prefix \"English_SemEval16\" --language \"English\" --test_language \"French\"   --top_k 5 --num_train_epochs 20 --do_inference_best_5 --train_batch_size 16 --eval_batch_size 64 --weight_decay 0.1 --warmup_steps 0.1 --model_name_or_path \"/content/drive/MyDrive/data/models/SemEval16Icl_mvp_tasdIgoogle/mt5-largeIbeamsI1IwdI0.1Imax_epochsI20IesI0IaccI1IlrI0.0001Icont_lossI0.05Icont_tempI0.25IseedI42IEnglish_SemEval16I5I0.1/\""
   ]
  },
  {
   "cell_type": "code",
   "execution_count": null,
   "metadata": {
    "colab": {
     "background_save": true
    },
    "id": "zlZqQUgIIt3C",
    "outputId": "46836642-decf-4088-8c26-f23c0ee5f891"
   },
   "outputs": [],
   "source": [
    "! python /content/CL-TASD-MvP/model/main_train.py --do_con_dec --task \"cl_mvp_tasd\" --num_beams \"1\" --dataset \"SemEval16\" --model_prefix \"English_SemEval16\" --language \"English\" --test_language \"French\"   --top_k 5 --num_train_epochs 20 --do_inference_best_5 --train_batch_size 16 --eval_batch_size 64 --weight_decay 0.1 --warmup_steps 0.1 --model_name_or_path \"/content/drive/MyDrive/data/models/SemEval16Icl_mvp_tasdIgoogle/mt5-largeIbeamsI1IwdI0.1Imax_epochsI20IesI0IaccI1IlrI0.0001Icont_lossI0.05Icont_tempI0.25IseedI42IEnglish_SemEval16I5I0.1/\""
   ]
  },
  {
   "cell_type": "markdown",
   "metadata": {
    "id": "l0yoJAudIt3C"
   },
   "source": [
    "Evaluation on best checkpoint:\n"
   ]
  },
  {
   "cell_type": "code",
   "execution_count": null,
   "metadata": {
    "colab": {
     "background_save": true
    },
    "id": "2gTX8QAGIt3C",
    "outputId": "fb6d9215-b631-4d5e-8d17-8c1bee7c0ada"
   },
   "outputs": [],
   "source": [
    "! python /content/CL-TASD-MvP/model/main_train.py --task \"cl_mvp_tasd\" --num_beams \"1\" --dataset \"SemEval16\" --model_prefix \"English_SemEval16\" --language \"English\" --test_language \"French\"   --top_k 5 --num_train_epochs 20 --do_inference_best_ckpt --train_batch_size 16 --eval_batch_size 64 --weight_decay 0.1 --warmup_steps 0.1 --model_name_or_path \"/content/drive/MyDrive/data/models/SemEval16Icl_mvp_tasdIgoogle/mt5-largeIbeamsI1IwdI0.1Imax_epochsI20IesI0IaccI1IlrI0.0001Icont_lossI0.05Icont_tempI0.25IseedI42IEnglish_SemEval16I5I0.1/\""
   ]
  },
  {
   "cell_type": "code",
   "execution_count": null,
   "metadata": {
    "colab": {
     "background_save": true,
     "base_uri": "https://localhost:8080/"
    },
    "executionInfo": {
     "elapsed": 446101,
     "status": "ok",
     "timestamp": 1753269345655,
     "user": {
      "displayName": "Philipp Gottschalk",
      "userId": "02502242344906393626"
     },
     "user_tz": -120
    },
    "id": "wwMebGc1It3C",
    "outputId": "24cb65bb-dbbf-4804-95d4-b39892e5483d"
   },
   "outputs": [],
   "source": [
    "! python /content/CL-TASD-MvP/model/main_train.py --do_con_dec --task \"cl_mvp_tasd\" --num_beams \"1\" --dataset \"SemEval16\" --model_prefix \"English_SemEval16\" --language \"English\" --test_language \"French\"   --top_k 5 --num_train_epochs 20 --do_inference_best_ckpt --train_batch_size 16 --eval_batch_size 64 --weight_decay 0.1 --warmup_steps 0.1 --model_name_or_path \"/content/drive/MyDrive/data/models/SemEval16Icl_mvp_tasdIgoogle/mt5-largeIbeamsI1IwdI0.1Imax_epochsI20IesI0IaccI1IlrI0.0001Icont_lossI0.05Icont_tempI0.25IseedI42IEnglish_SemEval16I5I0.1/\""
   ]
  },
  {
   "cell_type": "markdown",
   "metadata": {
    "id": "dgDX70iQIt3D"
   },
   "source": [
    "#### **Evaluation Only CL**"
   ]
  },
  {
   "cell_type": "markdown",
   "metadata": {
    "id": "ubqTEEW4It3D"
   },
   "source": [
    "Evaluation on final training epoch:\n"
   ]
  },
  {
   "cell_type": "code",
   "execution_count": null,
   "metadata": {
    "colab": {
     "background_save": true
    },
    "id": "8pbJ8G8-It3D",
    "outputId": "85cfd939-29fe-4f25-c5f4-3c0e187c310b"
   },
   "outputs": [],
   "source": [
    "! python /content/CL-TASD-MvP/model/main_train.py --task \"cl_mvp_tasd\" --num_beams \"1\" --dataset \"SemEval16\" --model_prefix \"English_SemEval16\" --language \"English\" --test_language \"French\"   --top_k 1 --do_contr_sent --do_contr_aspect --num_train_epochs 20 --do_inference --train_batch_size 16 --eval_batch_size 64 --weight_decay 0.1 --warmup_steps 0.1 --model_name_or_path \"/content/drive/MyDrive/data/models/SemEval16Icl_mvp_tasdIgoogle/mt5-largeIbeamsI1IwdI0.1Imax_epochsI20IesI0IaccI1IlrI0.0001Icont_lossI0.05Icont_tempI0.25IseedI42IEnglish_SemEval16I1I0.1IsentIaspect/\""
   ]
  },
  {
   "cell_type": "code",
   "execution_count": null,
   "metadata": {
    "colab": {
     "background_save": true
    },
    "id": "wSundGStIt3D",
    "outputId": "8758f268-49d5-40c7-92da-417c525e6d6e"
   },
   "outputs": [],
   "source": [
    "! python /content/CL-TASD-MvP/model/main_train.py --do_con_dec --task \"cl_mvp_tasd\" --num_beams \"1\" --dataset \"SemEval16\" --model_prefix \"English_SemEval16\" --language \"English\" --test_language \"French\"   --top_k 1 --do_contr_sent --do_contr_aspect --num_train_epochs 20 --do_inference --train_batch_size 16 --eval_batch_size 64 --weight_decay 0.1 --warmup_steps 0.1 --model_name_or_path \"/content/drive/MyDrive/data/models/SemEval16Icl_mvp_tasdIgoogle/mt5-largeIbeamsI1IwdI0.1Imax_epochsI20IesI0IaccI1IlrI0.0001Icont_lossI0.05Icont_tempI0.25IseedI42IEnglish_SemEval16I1I0.1IsentIaspect/\""
   ]
  },
  {
   "cell_type": "markdown",
   "metadata": {
    "id": "ZhLIw-PbIt3D"
   },
   "source": [
    "Evaluation on best checkpoint of the last 5 training epochs:\n"
   ]
  },
  {
   "cell_type": "code",
   "execution_count": null,
   "metadata": {
    "colab": {
     "background_save": true
    },
    "id": "XR3KnUkWIt3D",
    "outputId": "520e3600-9447-43e8-ae95-4d83d92151a2"
   },
   "outputs": [],
   "source": [
    "! python /content/CL-TASD-MvP/model/main_train.py --task \"cl_mvp_tasd\" --num_beams \"1\" --dataset \"SemEval16\" --model_prefix \"English_SemEval16\" --language \"English\" --test_language \"French\"   --top_k 1 --do_contr_sent --do_contr_aspect --num_train_epochs 20 --do_inference_best_5 --train_batch_size 16 --eval_batch_size 64 --weight_decay 0.1 --warmup_steps 0.1 --model_name_or_path \"/content/drive/MyDrive/data/models/SemEval16Icl_mvp_tasdIgoogle/mt5-largeIbeamsI1IwdI0.1Imax_epochsI20IesI0IaccI1IlrI0.0001Icont_lossI0.05Icont_tempI0.25IseedI42IEnglish_SemEval16I1I0.1IsentIaspect/\""
   ]
  },
  {
   "cell_type": "code",
   "execution_count": null,
   "metadata": {
    "colab": {
     "background_save": true
    },
    "id": "rMfUug11It3D",
    "outputId": "a5d73e69-e6d0-4826-d3f3-f5dd2784248a"
   },
   "outputs": [],
   "source": [
    "! python /content/CL-TASD-MvP/model/main_train.py --do_con_dec --task \"cl_mvp_tasd\" --num_beams \"1\" --dataset \"SemEval16\" --model_prefix \"English_SemEval16\" --language \"English\" --test_language \"French\"   --top_k 1 --do_contr_sent --do_contr_aspect --num_train_epochs 20 --do_inference_best_5 --train_batch_size 16 --eval_batch_size 64 --weight_decay 0.1 --warmup_steps 0.1 --model_name_or_path \"/content/drive/MyDrive/data/models/SemEval16Icl_mvp_tasdIgoogle/mt5-largeIbeamsI1IwdI0.1Imax_epochsI20IesI0IaccI1IlrI0.0001Icont_lossI0.05Icont_tempI0.25IseedI42IEnglish_SemEval16I1I0.1IsentIaspect/\""
   ]
  },
  {
   "cell_type": "markdown",
   "metadata": {
    "id": "-HyXfSmGIt3D"
   },
   "source": [
    "Evaluation on best checkpoint:\n"
   ]
  },
  {
   "cell_type": "code",
   "execution_count": null,
   "metadata": {
    "colab": {
     "background_save": true
    },
    "id": "51G4Kua0It3D",
    "outputId": "7669b588-6778-496d-82a1-674459c2a387"
   },
   "outputs": [],
   "source": [
    "! python /content/CL-TASD-MvP/model/main_train.py --task \"cl_mvp_tasd\" --num_beams \"1\" --dataset \"SemEval16\" --model_prefix \"English_SemEval16\" --language \"English\" --test_language \"French\"   --top_k 1 --do_contr_sent --do_contr_aspect --num_train_epochs 20 --do_inference_best_ckpt --train_batch_size 16 --eval_batch_size 64 --weight_decay 0.1 --warmup_steps 0.1 --model_name_or_path \"/content/drive/MyDrive/data/models/SemEval16Icl_mvp_tasdIgoogle/mt5-largeIbeamsI1IwdI0.1Imax_epochsI20IesI0IaccI1IlrI0.0001Icont_lossI0.05Icont_tempI0.25IseedI42IEnglish_SemEval16I1I0.1IsentIaspect/\""
   ]
  },
  {
   "cell_type": "code",
   "execution_count": null,
   "metadata": {
    "colab": {
     "background_save": true
    },
    "id": "KCAPUBYXIt3D",
    "outputId": "c7a20d33-858f-4972-e500-4103be34b2a8"
   },
   "outputs": [],
   "source": [
    "! python /content/CL-TASD-MvP/model/main_train.py --do_con_dec --task \"cl_mvp_tasd\" --num_beams \"1\" --dataset \"SemEval16\" --model_prefix \"English_SemEval16\" --language \"English\" --test_language \"French\"   --top_k 1 --do_contr_sent --do_contr_aspect --num_train_epochs 20 --do_inference_best_ckpt --train_batch_size 16 --eval_batch_size 64 --weight_decay 0.1 --warmup_steps 0.1 --model_name_or_path \"/content/drive/MyDrive/data/models/SemEval16Icl_mvp_tasdIgoogle/mt5-largeIbeamsI1IwdI0.1Imax_epochsI20IesI0IaccI1IlrI0.0001Icont_lossI0.05Icont_tempI0.25IseedI42IEnglish_SemEval16I1I0.1IsentIaspect/\""
   ]
  },
  {
   "cell_type": "markdown",
   "metadata": {
    "id": "-e2d8DE8It3D"
   },
   "source": [
    "#### **Evaluation Base MT5**"
   ]
  },
  {
   "cell_type": "markdown",
   "metadata": {
    "id": "iciYMC1kIt3E"
   },
   "source": [
    "Evaluation on final training epoch:\n"
   ]
  },
  {
   "cell_type": "code",
   "execution_count": null,
   "metadata": {
    "id": "AdANPs0RIt3E"
   },
   "outputs": [],
   "source": [
    "! python /content/CL-TASD-MvP/model/main_train.py --task \"cl_mvp_tasd\" --num_beams \"1\" --dataset \"SemEval16\" --model_prefix \"English_SemEval16\" --language \"English\" --test_language \"French\"   --top_k 1 --num_train_epochs 20 --do_inference --train_batch_size 16 --eval_batch_size 64 --weight_decay 0.1 --warmup_steps 0.1 --model_name_or_path \"/content/drive/MyDrive/data/models/SemEval16Icl_mvp_tasdIgoogle/mt5-largeIbeamsI1IwdI0.1Imax_epochsI20IesI0IaccI1IlrI0.0001Icont_lossI0.05Icont_tempI0.25IseedI42IEnglish_SemEval16I1I0.1/\""
   ]
  },
  {
   "cell_type": "code",
   "execution_count": null,
   "metadata": {
    "id": "1NgKTHQFIt3E"
   },
   "outputs": [],
   "source": [
    "! python /content/CL-TASD-MvP/model/main_train.py --do_con_dec --task \"cl_mvp_tasd\" --num_beams \"1\" --dataset \"SemEval16\" --model_prefix \"English_SemEval16\" --language \"English\" --test_language \"French\"   --top_k 1 --num_train_epochs 20 --do_inference --train_batch_size 16 --eval_batch_size 64 --weight_decay 0.1 --warmup_steps 0.1 --model_name_or_path \"/content/drive/MyDrive/data/models/SemEval16Icl_mvp_tasdIgoogle/mt5-largeIbeamsI1IwdI0.1Imax_epochsI20IesI0IaccI1IlrI0.0001Icont_lossI0.05Icont_tempI0.25IseedI42IEnglish_SemEval16I1I0.1/\""
   ]
  },
  {
   "cell_type": "markdown",
   "metadata": {
    "id": "x_5HqbXOIt3E"
   },
   "source": [
    "Evaluation on best checkpoint of the last 5 training epochs:\n"
   ]
  },
  {
   "cell_type": "code",
   "execution_count": null,
   "metadata": {
    "id": "MQlR7ilMIt3E"
   },
   "outputs": [],
   "source": [
    "! python /content/CL-TASD-MvP/model/main_train.py --task \"cl_mvp_tasd\" --num_beams \"1\" --dataset \"SemEval16\" --model_prefix \"English_SemEval16\" --language \"English\" --test_language \"French\"   --top_k 1 --num_train_epochs 20 --do_inference_best_5 --train_batch_size 16 --eval_batch_size 64 --weight_decay 0.1 --warmup_steps 0.1 --model_name_or_path \"/content/drive/MyDrive/data/models/SemEval16Icl_mvp_tasdIgoogle/mt5-largeIbeamsI1IwdI0.1Imax_epochsI20IesI0IaccI1IlrI0.0001Icont_lossI0.05Icont_tempI0.25IseedI42IEnglish_SemEval16I1I0.1/\""
   ]
  },
  {
   "cell_type": "code",
   "execution_count": null,
   "metadata": {
    "id": "OqRQCfAHIt3E"
   },
   "outputs": [],
   "source": [
    "! python /content/CL-TASD-MvP/model/main_train.py --do_con_dec --task \"cl_mvp_tasd\" --num_beams \"1\" --dataset \"SemEval16\" --model_prefix \"English_SemEval16\" --language \"English\" --test_language \"French\"   --top_k 1 --num_train_epochs 20 --do_inference_best_5 --train_batch_size 16 --eval_batch_size 64 --weight_decay 0.1 --warmup_steps 0.1 --model_name_or_path \"/content/drive/MyDrive/data/models/SemEval16Icl_mvp_tasdIgoogle/mt5-largeIbeamsI1IwdI0.1Imax_epochsI20IesI0IaccI1IlrI0.0001Icont_lossI0.05Icont_tempI0.25IseedI42IEnglish_SemEval16I1I0.1/\""
   ]
  },
  {
   "cell_type": "markdown",
   "metadata": {
    "id": "GiPA0KcIIt3E"
   },
   "source": [
    "Evaluation on best checkpoint:\n"
   ]
  },
  {
   "cell_type": "code",
   "execution_count": null,
   "metadata": {
    "id": "kgHfPGBMIt3E"
   },
   "outputs": [],
   "source": [
    "! python /content/CL-TASD-MvP/model/main_train.py --task \"cl_mvp_tasd\" --num_beams \"1\" --dataset \"SemEval16\" --model_prefix \"English_SemEval16\" --language \"English\" --test_language \"French\"   --top_k 1 --num_train_epochs 20 --do_inference_best_ckpt --train_batch_size 16 --eval_batch_size 64 --weight_decay 0.1 --warmup_steps 0.1 --model_name_or_path \"/content/drive/MyDrive/data/models/SemEval16Icl_mvp_tasdIgoogle/mt5-largeIbeamsI1IwdI0.1Imax_epochsI20IesI0IaccI1IlrI0.0001Icont_lossI0.05Icont_tempI0.25IseedI42IEnglish_SemEval16I1I0.1/\""
   ]
  },
  {
   "cell_type": "code",
   "execution_count": null,
   "metadata": {
    "id": "a3vp78PJIt3E"
   },
   "outputs": [],
   "source": [
    "! python /content/CL-TASD-MvP/model/main_train.py --do_con_dec --task \"cl_mvp_tasd\" --num_beams \"1\" --dataset \"SemEval16\" --model_prefix \"English_SemEval16\" --language \"English\" --test_language \"French\"   --top_k 1 --num_train_epochs 20 --do_inference_best_ckpt --train_batch_size 16 --eval_batch_size 64 --weight_decay 0.1 --warmup_steps 0.1 --model_name_or_path \"/content/drive/MyDrive/data/models/SemEval16Icl_mvp_tasdIgoogle/mt5-largeIbeamsI1IwdI0.1Imax_epochsI20IesI0IaccI1IlrI0.0001Icont_lossI0.05Icont_tempI0.25IseedI42IEnglish_SemEval16I1I0.1/\""
   ]
  },
  {
   "cell_type": "markdown",
   "metadata": {
    "id": "sGrVUZeiJMem"
   },
   "source": [
    "### **Model Evaluation: Spanish**\n"
   ]
  },
  {
   "cell_type": "markdown",
   "metadata": {
    "id": "3YCgdisXJMem"
   },
   "source": [
    "#### **Evaluation Full Model**"
   ]
  },
  {
   "cell_type": "markdown",
   "metadata": {
    "id": "LCBgyuPlJMem"
   },
   "source": [
    "Evaluation on final training epoch:\n"
   ]
  },
  {
   "cell_type": "code",
   "execution_count": null,
   "metadata": {
    "id": "PVKZvaRFJMen"
   },
   "outputs": [],
   "source": [
    "! python /content/CL-TASD-MvP/model/main_train.py --task \"cl_mvp_tasd\" --num_beams \"1\" --dataset \"SemEval16\" --model_prefix \"English_SemEval16\" --language \"English\" --test_language \"Spanish\"   --top_k 5 --do_contr_sent --do_contr_aspect --num_train_epochs 20 --do_inference --train_batch_size 16 --eval_batch_size 64 --weight_decay 0.1 --warmup_steps 0.1 --model_name_or_path \"/content/drive/MyDrive/data/models/SemEval16Icl_mvp_tasdIgoogle/mt5-largeIbeamsI1IwdI0.1Imax_epochsI20IesI0IaccI1IlrI0.0001Icont_lossI0.05Icont_tempI0.25IseedI42IEnglish_SemEval16I5I0.1IsentIaspect/\""
   ]
  },
  {
   "cell_type": "code",
   "execution_count": null,
   "metadata": {
    "id": "oNrizqIHJMen"
   },
   "outputs": [],
   "source": [
    "! python /content/CL-TASD-MvP/model/main_train.py --do_con_dec --task \"cl_mvp_tasd\" --num_beams \"1\" --dataset \"SemEval16\" --model_prefix \"English_SemEval16\" --language \"English\" --test_language \"Spanish\"   --top_k 5 --do_contr_sent --do_contr_aspect --num_train_epochs 20 --do_inference --train_batch_size 16 --eval_batch_size 64 --weight_decay 0.1 --warmup_steps 0.1 --model_name_or_path \"/content/drive/MyDrive/data/models/SemEval16Icl_mvp_tasdIgoogle/mt5-largeIbeamsI1IwdI0.1Imax_epochsI20IesI0IaccI1IlrI0.0001Icont_lossI0.05Icont_tempI0.25IseedI42IEnglish_SemEval16I5I0.1IsentIaspect/\""
   ]
  },
  {
   "cell_type": "markdown",
   "metadata": {
    "id": "LmBDXtHlJMen"
   },
   "source": [
    "Evaluation on best checkpoint of the last 5 training epochs:\n"
   ]
  },
  {
   "cell_type": "code",
   "execution_count": null,
   "metadata": {
    "id": "8KjOStx_JMen"
   },
   "outputs": [],
   "source": [
    "! python /content/CL-TASD-MvP/model/main_train.py --task \"cl_mvp_tasd\" --num_beams \"1\" --dataset \"SemEval16\" --model_prefix \"English_SemEval16\" --language \"English\" --test_language \"Spanish\"   --top_k 5 --do_contr_sent --do_contr_aspect --num_train_epochs 20 --do_inference_best_5 --train_batch_size 16 --eval_batch_size 64 --weight_decay 0.1 --warmup_steps 0.1 --model_name_or_path \"/content/drive/MyDrive/data/models/SemEval16Icl_mvp_tasdIgoogle/mt5-largeIbeamsI1IwdI0.1Imax_epochsI20IesI0IaccI1IlrI0.0001Icont_lossI0.05Icont_tempI0.25IseedI42IEnglish_SemEval16I5I0.1IsentIaspect/\""
   ]
  },
  {
   "cell_type": "code",
   "execution_count": null,
   "metadata": {
    "id": "3mhHzhPpJMen"
   },
   "outputs": [],
   "source": [
    "! python /content/CL-TASD-MvP/model/main_train.py --do_con_dec --task \"cl_mvp_tasd\" --num_beams \"1\" --dataset \"SemEval16\" --model_prefix \"English_SemEval16\" --language \"English\" --test_language \"Spanish\"   --top_k 5 --do_contr_sent --do_contr_aspect --num_train_epochs 20 --do_inference_best_5 --train_batch_size 16 --eval_batch_size 64 --weight_decay 0.1 --warmup_steps 0.1 --model_name_or_path \"/content/drive/MyDrive/data/models/SemEval16Icl_mvp_tasdIgoogle/mt5-largeIbeamsI1IwdI0.1Imax_epochsI20IesI0IaccI1IlrI0.0001Icont_lossI0.05Icont_tempI0.25IseedI42IEnglish_SemEval16I5I0.1IsentIaspect/\""
   ]
  },
  {
   "cell_type": "markdown",
   "metadata": {
    "id": "4wxqra7TJMen"
   },
   "source": [
    "Evaluation on best checkpoint:\n"
   ]
  },
  {
   "cell_type": "code",
   "execution_count": null,
   "metadata": {
    "id": "K52h4jCtJMen"
   },
   "outputs": [],
   "source": [
    "! python /content/CL-TASD-MvP/model/main_train.py --task \"cl_mvp_tasd\" --num_beams \"1\" --dataset \"SemEval16\" --model_prefix \"English_SemEval16\" --language \"English\" --test_language \"Spanish\"   --top_k 5 --do_contr_sent --do_contr_aspect --num_train_epochs 20 --do_inference_best_ckpt --train_batch_size 16 --eval_batch_size 64 --weight_decay 0.1 --warmup_steps 0.1 --model_name_or_path \"/content/drive/MyDrive/data/models/SemEval16Icl_mvp_tasdIgoogle/mt5-largeIbeamsI1IwdI0.1Imax_epochsI20IesI0IaccI1IlrI0.0001Icont_lossI0.05Icont_tempI0.25IseedI42IEnglish_SemEval16I5I0.1IsentIaspect/\""
   ]
  },
  {
   "cell_type": "code",
   "execution_count": null,
   "metadata": {
    "id": "qJkjyhyHJMeo"
   },
   "outputs": [],
   "source": [
    "! python /content/CL-TASD-MvP/model/main_train.py --do_con_dec --task \"cl_mvp_tasd\" --num_beams \"1\" --dataset \"SemEval16\" --model_prefix \"English_SemEval16\" --language \"English\" --test_language \"Spanish\"   --top_k 5 --do_contr_sent --do_contr_aspect --num_train_epochs 20 --do_inference_best_ckpt --train_batch_size 16 --eval_batch_size 64 --weight_decay 0.1 --warmup_steps 0.1 --model_name_or_path \"/content/drive/MyDrive/data/models/SemEval16Icl_mvp_tasdIgoogle/mt5-largeIbeamsI1IwdI0.1Imax_epochsI20IesI0IaccI1IlrI0.0001Icont_lossI0.05Icont_tempI0.25IseedI42IEnglish_SemEval16I5I0.1IsentIaspect/\""
   ]
  },
  {
   "cell_type": "markdown",
   "metadata": {
    "id": "qitXqciIJMeo"
   },
   "source": [
    "#### **Evaluation MVP Only**"
   ]
  },
  {
   "cell_type": "markdown",
   "metadata": {
    "id": "Y9uvSiXSJMeo"
   },
   "source": [
    "Evaluation on final training epoch:\n"
   ]
  },
  {
   "cell_type": "code",
   "execution_count": null,
   "metadata": {
    "colab": {
     "background_save": true
    },
    "id": "mo9rM0_BJMeo",
    "outputId": "69bd5b43-cfff-4be1-838f-79715327adea"
   },
   "outputs": [],
   "source": [
    "! python /content/CL-TASD-MvP/model/main_train.py --task \"cl_mvp_tasd\" --num_beams \"1\" --dataset \"SemEval16\" --model_prefix \"English_SemEval16\" --language \"English\" --test_language \"Spanish\"   --top_k 5 --num_train_epochs 20 --do_inference --train_batch_size 16 --eval_batch_size 64 --weight_decay 0.1 --warmup_steps 0.1 --model_name_or_path \"/content/drive/MyDrive/data/models/SemEval16Icl_mvp_tasdIgoogle/mt5-largeIbeamsI1IwdI0.1Imax_epochsI20IesI0IaccI1IlrI0.0001Icont_lossI0.05Icont_tempI0.25IseedI42IEnglish_SemEval16I5I0.1/\""
   ]
  },
  {
   "cell_type": "code",
   "execution_count": null,
   "metadata": {
    "colab": {
     "background_save": true
    },
    "id": "_PNm70V0JMeo",
    "outputId": "33e43882-9cc8-412a-9957-862432e1d209"
   },
   "outputs": [],
   "source": [
    "! python /content/CL-TASD-MvP/model/main_train.py --do_con_dec --task \"cl_mvp_tasd\" --num_beams \"1\" --dataset \"SemEval16\" --model_prefix \"English_SemEval16\" --language \"English\" --test_language \"Spanish\"   --top_k 5 --num_train_epochs 20 --do_inference --train_batch_size 16 --eval_batch_size 64 --weight_decay 0.1 --warmup_steps 0.1 --model_name_or_path \"/content/drive/MyDrive/data/models/SemEval16Icl_mvp_tasdIgoogle/mt5-largeIbeamsI1IwdI0.1Imax_epochsI20IesI0IaccI1IlrI0.0001Icont_lossI0.05Icont_tempI0.25IseedI42IEnglish_SemEval16I5I0.1/\""
   ]
  },
  {
   "cell_type": "markdown",
   "metadata": {
    "id": "t-UuZNLYJMeo"
   },
   "source": [
    "Evaluation on best checkpoint of the last 5 training epochs:\n"
   ]
  },
  {
   "cell_type": "code",
   "execution_count": null,
   "metadata": {
    "colab": {
     "background_save": true
    },
    "id": "mdrLVmw5JMeo",
    "outputId": "7b7cacbb-5445-44b0-dc22-20eae6250014"
   },
   "outputs": [],
   "source": [
    "! python /content/CL-TASD-MvP/model/main_train.py --task \"cl_mvp_tasd\" --num_beams \"1\" --dataset \"SemEval16\" --model_prefix \"English_SemEval16\" --language \"English\" --test_language \"Spanish\"   --top_k 5 --num_train_epochs 20 --do_inference_best_5 --train_batch_size 16 --eval_batch_size 64 --weight_decay 0.1 --warmup_steps 0.1 --model_name_or_path \"/content/drive/MyDrive/data/models/SemEval16Icl_mvp_tasdIgoogle/mt5-largeIbeamsI1IwdI0.1Imax_epochsI20IesI0IaccI1IlrI0.0001Icont_lossI0.05Icont_tempI0.25IseedI42IEnglish_SemEval16I5I0.1/\""
   ]
  },
  {
   "cell_type": "code",
   "execution_count": null,
   "metadata": {
    "colab": {
     "background_save": true
    },
    "id": "pqICrFq6JMeo",
    "outputId": "9fa76a2e-4bad-4ab6-aad1-c29e81efba3a"
   },
   "outputs": [],
   "source": [
    "! python /content/CL-TASD-MvP/model/main_train.py --do_con_dec --task \"cl_mvp_tasd\" --num_beams \"1\" --dataset \"SemEval16\" --model_prefix \"English_SemEval16\" --language \"English\" --test_language \"Spanish\"   --top_k 5 --num_train_epochs 20 --do_inference_best_5 --train_batch_size 16 --eval_batch_size 64 --weight_decay 0.1 --warmup_steps 0.1 --model_name_or_path \"/content/drive/MyDrive/data/models/SemEval16Icl_mvp_tasdIgoogle/mt5-largeIbeamsI1IwdI0.1Imax_epochsI20IesI0IaccI1IlrI0.0001Icont_lossI0.05Icont_tempI0.25IseedI42IEnglish_SemEval16I5I0.1/\""
   ]
  },
  {
   "cell_type": "markdown",
   "metadata": {
    "id": "Vu_JGPiFJMeo"
   },
   "source": [
    "Evaluation on best checkpoint:\n"
   ]
  },
  {
   "cell_type": "code",
   "execution_count": null,
   "metadata": {
    "colab": {
     "background_save": true
    },
    "id": "Y3TA0QeAJMep",
    "outputId": "be675208-ea3e-420f-bc7f-c9dcf753acaa"
   },
   "outputs": [],
   "source": [
    "! python /content/CL-TASD-MvP/model/main_train.py --task \"cl_mvp_tasd\" --num_beams \"1\" --dataset \"SemEval16\" --model_prefix \"English_SemEval16\" --language \"English\" --test_language \"Spanish\"   --top_k 5 --num_train_epochs 20 --do_inference_best_ckpt --train_batch_size 16 --eval_batch_size 64 --weight_decay 0.1 --warmup_steps 0.1 --model_name_or_path \"/content/drive/MyDrive/data/models/SemEval16Icl_mvp_tasdIgoogle/mt5-largeIbeamsI1IwdI0.1Imax_epochsI20IesI0IaccI1IlrI0.0001Icont_lossI0.05Icont_tempI0.25IseedI42IEnglish_SemEval16I5I0.1/\""
   ]
  },
  {
   "cell_type": "code",
   "execution_count": null,
   "metadata": {
    "colab": {
     "background_save": true
    },
    "id": "YUuw9PSZJMep",
    "outputId": "8dd1f25d-f29b-4be6-f899-7c6466249b1e"
   },
   "outputs": [],
   "source": [
    "! python /content/CL-TASD-MvP/model/main_train.py --do_con_dec --task \"cl_mvp_tasd\" --num_beams \"1\" --dataset \"SemEval16\" --model_prefix \"English_SemEval16\" --language \"English\" --test_language \"Spanish\"   --top_k 5 --num_train_epochs 20 --do_inference_best_ckpt --train_batch_size 16 --eval_batch_size 64 --weight_decay 0.1 --warmup_steps 0.1 --model_name_or_path \"/content/drive/MyDrive/data/models/SemEval16Icl_mvp_tasdIgoogle/mt5-largeIbeamsI1IwdI0.1Imax_epochsI20IesI0IaccI1IlrI0.0001Icont_lossI0.05Icont_tempI0.25IseedI42IEnglish_SemEval16I5I0.1/\""
   ]
  },
  {
   "cell_type": "markdown",
   "metadata": {
    "id": "hpnuT75cJMep"
   },
   "source": [
    "#### **Evaluation Only CL**"
   ]
  },
  {
   "cell_type": "markdown",
   "metadata": {
    "id": "0XgfAx1yJMep"
   },
   "source": [
    "Evaluation on final training epoch:\n"
   ]
  },
  {
   "cell_type": "code",
   "execution_count": null,
   "metadata": {
    "colab": {
     "background_save": true
    },
    "id": "1ygN8whBJMep",
    "outputId": "929f0f87-e32f-4001-e8e3-43b516a5e3b8"
   },
   "outputs": [],
   "source": [
    "! python /content/CL-TASD-MvP/model/main_train.py --task \"cl_mvp_tasd\" --num_beams \"1\" --dataset \"SemEval16\" --model_prefix \"English_SemEval16\" --language \"English\" --test_language \"Spanish\"   --top_k 1 --do_contr_sent --do_contr_aspect --num_train_epochs 20 --do_inference --train_batch_size 16 --eval_batch_size 64 --weight_decay 0.1 --warmup_steps 0.1 --model_name_or_path \"/content/drive/MyDrive/data/models/SemEval16Icl_mvp_tasdIgoogle/mt5-largeIbeamsI1IwdI0.1Imax_epochsI20IesI0IaccI1IlrI0.0001Icont_lossI0.05Icont_tempI0.25IseedI42IEnglish_SemEval16I1I0.1IsentIaspect/\""
   ]
  },
  {
   "cell_type": "code",
   "execution_count": null,
   "metadata": {
    "colab": {
     "background_save": true
    },
    "id": "jnbtlGSbJMep",
    "outputId": "019273f9-dc3d-4dba-b8d4-38301f2b2646"
   },
   "outputs": [],
   "source": [
    "! python /content/CL-TASD-MvP/model/main_train.py --do_con_dec --task \"cl_mvp_tasd\" --num_beams \"1\" --dataset \"SemEval16\" --model_prefix \"English_SemEval16\" --language \"English\" --test_language \"Spanish\"   --top_k 1 --do_contr_sent --do_contr_aspect --num_train_epochs 20 --do_inference --train_batch_size 16 --eval_batch_size 64 --weight_decay 0.1 --warmup_steps 0.1 --model_name_or_path \"/content/drive/MyDrive/data/models/SemEval16Icl_mvp_tasdIgoogle/mt5-largeIbeamsI1IwdI0.1Imax_epochsI20IesI0IaccI1IlrI0.0001Icont_lossI0.05Icont_tempI0.25IseedI42IEnglish_SemEval16I1I0.1IsentIaspect/\""
   ]
  },
  {
   "cell_type": "markdown",
   "metadata": {
    "id": "o9NeKIMwJMep"
   },
   "source": [
    "Evaluation on best checkpoint of the last 5 training epochs:\n"
   ]
  },
  {
   "cell_type": "code",
   "execution_count": null,
   "metadata": {
    "colab": {
     "background_save": true
    },
    "id": "K6o3GJJPJMep",
    "outputId": "dcd1ce2e-830d-4a4d-9d4c-3a4a0b68c5a4"
   },
   "outputs": [],
   "source": [
    "! python /content/CL-TASD-MvP/model/main_train.py --task \"cl_mvp_tasd\" --num_beams \"1\" --dataset \"SemEval16\" --model_prefix \"English_SemEval16\" --language \"English\" --test_language \"Spanish\"   --top_k 1 --do_contr_sent --do_contr_aspect --num_train_epochs 20 --do_inference_best_5 --train_batch_size 16 --eval_batch_size 64 --weight_decay 0.1 --warmup_steps 0.1 --model_name_or_path \"/content/drive/MyDrive/data/models/SemEval16Icl_mvp_tasdIgoogle/mt5-largeIbeamsI1IwdI0.1Imax_epochsI20IesI0IaccI1IlrI0.0001Icont_lossI0.05Icont_tempI0.25IseedI42IEnglish_SemEval16I1I0.1IsentIaspect/\""
   ]
  },
  {
   "cell_type": "code",
   "execution_count": null,
   "metadata": {
    "colab": {
     "background_save": true
    },
    "id": "ocQJ3fyPJMep",
    "outputId": "59b0492b-923a-44a3-f860-53e62c1e568b"
   },
   "outputs": [],
   "source": [
    "! python /content/CL-TASD-MvP/model/main_train.py --do_con_dec --task \"cl_mvp_tasd\" --num_beams \"1\" --dataset \"SemEval16\" --model_prefix \"English_SemEval16\" --language \"English\" --test_language \"Spanish\"   --top_k 1 --do_contr_sent --do_contr_aspect --num_train_epochs 20 --do_inference_best_5 --train_batch_size 16 --eval_batch_size 64 --weight_decay 0.1 --warmup_steps 0.1 --model_name_or_path \"/content/drive/MyDrive/data/models/SemEval16Icl_mvp_tasdIgoogle/mt5-largeIbeamsI1IwdI0.1Imax_epochsI20IesI0IaccI1IlrI0.0001Icont_lossI0.05Icont_tempI0.25IseedI42IEnglish_SemEval16I1I0.1IsentIaspect/\""
   ]
  },
  {
   "cell_type": "markdown",
   "metadata": {
    "id": "AMvVk5cUJMep"
   },
   "source": [
    "Evaluation on best checkpoint:\n"
   ]
  },
  {
   "cell_type": "code",
   "execution_count": null,
   "metadata": {
    "colab": {
     "background_save": true
    },
    "id": "wcRBuimdJMep",
    "outputId": "7cdbd430-543c-49a0-bad6-6968d4051a68"
   },
   "outputs": [],
   "source": [
    "! python /content/CL-TASD-MvP/model/main_train.py --task \"cl_mvp_tasd\" --num_beams \"1\" --dataset \"SemEval16\" --model_prefix \"English_SemEval16\" --language \"English\" --test_language \"Spanish\"   --top_k 1 --do_contr_sent --do_contr_aspect --num_train_epochs 20 --do_inference_best_ckpt --train_batch_size 16 --eval_batch_size 64 --weight_decay 0.1 --warmup_steps 0.1 --model_name_or_path \"/content/drive/MyDrive/data/models/SemEval16Icl_mvp_tasdIgoogle/mt5-largeIbeamsI1IwdI0.1Imax_epochsI20IesI0IaccI1IlrI0.0001Icont_lossI0.05Icont_tempI0.25IseedI42IEnglish_SemEval16I1I0.1IsentIaspect/\""
   ]
  },
  {
   "cell_type": "code",
   "execution_count": null,
   "metadata": {
    "colab": {
     "background_save": true
    },
    "id": "YiWFIBe_JMep",
    "outputId": "faf718f6-112e-485d-9bb7-a35ca7d10c9e"
   },
   "outputs": [],
   "source": [
    "! python /content/CL-TASD-MvP/model/main_train.py --do_con_dec --task \"cl_mvp_tasd\" --num_beams \"1\" --dataset \"SemEval16\" --model_prefix \"English_SemEval16\" --language \"English\" --test_language \"Spanish\"   --top_k 1 --do_contr_sent --do_contr_aspect --num_train_epochs 20 --do_inference_best_ckpt --train_batch_size 16 --eval_batch_size 64 --weight_decay 0.1 --warmup_steps 0.1 --model_name_or_path \"/content/drive/MyDrive/data/models/SemEval16Icl_mvp_tasdIgoogle/mt5-largeIbeamsI1IwdI0.1Imax_epochsI20IesI0IaccI1IlrI0.0001Icont_lossI0.05Icont_tempI0.25IseedI42IEnglish_SemEval16I1I0.1IsentIaspect/\""
   ]
  },
  {
   "cell_type": "markdown",
   "metadata": {
    "id": "ZsQE6iH8JMep"
   },
   "source": [
    "#### **Evaluation Base MT5**"
   ]
  },
  {
   "cell_type": "markdown",
   "metadata": {
    "id": "6ne-_VOiJMeq"
   },
   "source": [
    "Evaluation on final training epoch:\n"
   ]
  },
  {
   "cell_type": "code",
   "execution_count": null,
   "metadata": {
    "id": "S-1Ys9-_JMeq"
   },
   "outputs": [],
   "source": [
    "! python /content/CL-TASD-MvP/model/main_train.py --task \"cl_mvp_tasd\" --num_beams \"1\" --dataset \"SemEval16\" --model_prefix \"English_SemEval16\" --language \"English\" --test_language \"Spanish\"   --top_k 1 --num_train_epochs 20 --do_inference --train_batch_size 16 --eval_batch_size 64 --weight_decay 0.1 --warmup_steps 0.1 --model_name_or_path \"/content/drive/MyDrive/data/models/SemEval16Icl_mvp_tasdIgoogle/mt5-largeIbeamsI1IwdI0.1Imax_epochsI20IesI0IaccI1IlrI0.0001Icont_lossI0.05Icont_tempI0.25IseedI42IEnglish_SemEval16I1I0.1/\""
   ]
  },
  {
   "cell_type": "code",
   "execution_count": null,
   "metadata": {
    "id": "GFdxRcsxJMeq"
   },
   "outputs": [],
   "source": [
    "! python /content/CL-TASD-MvP/model/main_train.py --do_con_dec --task \"cl_mvp_tasd\" --num_beams \"1\" --dataset \"SemEval16\" --model_prefix \"English_SemEval16\" --language \"English\" --test_language \"Spanish\"   --top_k 1 --num_train_epochs 20 --do_inference --train_batch_size 16 --eval_batch_size 64 --weight_decay 0.1 --warmup_steps 0.1 --model_name_or_path \"/content/drive/MyDrive/data/models/SemEval16Icl_mvp_tasdIgoogle/mt5-largeIbeamsI1IwdI0.1Imax_epochsI20IesI0IaccI1IlrI0.0001Icont_lossI0.05Icont_tempI0.25IseedI42IEnglish_SemEval16I1I0.1/\""
   ]
  },
  {
   "cell_type": "markdown",
   "metadata": {
    "id": "Go0iP525JMeq"
   },
   "source": [
    "Evaluation on best checkpoint of the last 5 training epochs:\n"
   ]
  },
  {
   "cell_type": "code",
   "execution_count": null,
   "metadata": {
    "id": "TjHIjxOMJMeq"
   },
   "outputs": [],
   "source": [
    "! python /content/CL-TASD-MvP/model/main_train.py --task \"cl_mvp_tasd\" --num_beams \"1\" --dataset \"SemEval16\" --model_prefix \"English_SemEval16\" --language \"English\" --test_language \"Spanish\"   --top_k 1 --num_train_epochs 20 --do_inference_best_5 --train_batch_size 16 --eval_batch_size 64 --weight_decay 0.1 --warmup_steps 0.1 --model_name_or_path \"/content/drive/MyDrive/data/models/SemEval16Icl_mvp_tasdIgoogle/mt5-largeIbeamsI1IwdI0.1Imax_epochsI20IesI0IaccI1IlrI0.0001Icont_lossI0.05Icont_tempI0.25IseedI42IEnglish_SemEval16I1I0.1/\""
   ]
  },
  {
   "cell_type": "code",
   "execution_count": null,
   "metadata": {
    "id": "MYl2h5gmJMeq"
   },
   "outputs": [],
   "source": [
    "! python /content/CL-TASD-MvP/model/main_train.py --do_con_dec --task \"cl_mvp_tasd\" --num_beams \"1\" --dataset \"SemEval16\" --model_prefix \"English_SemEval16\" --language \"English\" --test_language \"Spanish\"   --top_k 1 --num_train_epochs 20 --do_inference_best_5 --train_batch_size 16 --eval_batch_size 64 --weight_decay 0.1 --warmup_steps 0.1 --model_name_or_path \"/content/drive/MyDrive/data/models/SemEval16Icl_mvp_tasdIgoogle/mt5-largeIbeamsI1IwdI0.1Imax_epochsI20IesI0IaccI1IlrI0.0001Icont_lossI0.05Icont_tempI0.25IseedI42IEnglish_SemEval16I1I0.1/\""
   ]
  },
  {
   "cell_type": "markdown",
   "metadata": {
    "id": "DiXCI2-mJMeq"
   },
   "source": [
    "Evaluation on best checkpoint:\n"
   ]
  },
  {
   "cell_type": "code",
   "execution_count": null,
   "metadata": {
    "id": "IrAejXN6JMeq"
   },
   "outputs": [],
   "source": [
    "! python /content/CL-TASD-MvP/model/main_train.py --task \"cl_mvp_tasd\" --num_beams \"1\" --dataset \"SemEval16\" --model_prefix \"English_SemEval16\" --language \"English\" --test_language \"Spanish\"   --top_k 1 --num_train_epochs 20 --do_inference_best_ckpt --train_batch_size 16 --eval_batch_size 64 --weight_decay 0.1 --warmup_steps 0.1 --model_name_or_path \"/content/drive/MyDrive/data/models/SemEval16Icl_mvp_tasdIgoogle/mt5-largeIbeamsI1IwdI0.1Imax_epochsI20IesI0IaccI1IlrI0.0001Icont_lossI0.05Icont_tempI0.25IseedI42IEnglish_SemEval16I1I0.1/\""
   ]
  },
  {
   "cell_type": "code",
   "execution_count": null,
   "metadata": {
    "id": "jjqmQQwMJMeq"
   },
   "outputs": [],
   "source": [
    "! python /content/CL-TASD-MvP/model/main_train.py --do_con_dec --task \"cl_mvp_tasd\" --num_beams \"1\" --dataset \"SemEval16\" --model_prefix \"English_SemEval16\" --language \"English\" --test_language \"Spanish\"   --top_k 1 --num_train_epochs 20 --do_inference_best_ckpt --train_batch_size 16 --eval_batch_size 64 --weight_decay 0.1 --warmup_steps 0.1 --model_name_or_path \"/content/drive/MyDrive/data/models/SemEval16Icl_mvp_tasdIgoogle/mt5-largeIbeamsI1IwdI0.1Imax_epochsI20IesI0IaccI1IlrI0.0001Icont_lossI0.05Icont_tempI0.25IseedI42IEnglish_SemEval16I1I0.1/\""
   ]
  },
  {
   "cell_type": "markdown",
   "metadata": {
    "id": "YLwE59RlJTpN"
   },
   "source": [
    "### **Model Evaluation: Dutch**\n"
   ]
  },
  {
   "cell_type": "markdown",
   "metadata": {
    "id": "C2c71h2CJTpO"
   },
   "source": [
    "#### **Evaluation Full Model**"
   ]
  },
  {
   "cell_type": "markdown",
   "metadata": {
    "id": "nkA43P5zJTpO"
   },
   "source": [
    "Evaluation on final training epoch:\n"
   ]
  },
  {
   "cell_type": "code",
   "execution_count": null,
   "metadata": {
    "id": "CnRDe72eJTpO"
   },
   "outputs": [],
   "source": [
    "! python /content/CL-TASD-MvP/model/main_train.py --task \"cl_mvp_tasd\" --num_beams \"1\" --dataset \"SemEval16\" --model_prefix \"English_SemEval16\" --language \"English\" --test_language \"Dutch\"   --top_k 5 --do_contr_sent --do_contr_aspect --num_train_epochs 20 --do_inference --train_batch_size 16 --eval_batch_size 64 --weight_decay 0.1 --warmup_steps 0.1 --model_name_or_path \"/content/drive/MyDrive/data/models/SemEval16Icl_mvp_tasdIgoogle/mt5-largeIbeamsI1IwdI0.1Imax_epochsI20IesI0IaccI1IlrI0.0001Icont_lossI0.05Icont_tempI0.25IseedI42IEnglish_SemEval16I5I0.1IsentIaspect/\""
   ]
  },
  {
   "cell_type": "code",
   "execution_count": null,
   "metadata": {
    "id": "Y-f9KS1hJTpO"
   },
   "outputs": [],
   "source": [
    "! python /content/CL-TASD-MvP/model/main_train.py --do_con_dec --task \"cl_mvp_tasd\" --num_beams \"1\" --dataset \"SemEval16\" --model_prefix \"English_SemEval16\" --language \"English\" --test_language \"Dutch\"   --top_k 5 --do_contr_sent --do_contr_aspect --num_train_epochs 20 --do_inference --train_batch_size 16 --eval_batch_size 64 --weight_decay 0.1 --warmup_steps 0.1 --model_name_or_path \"/content/drive/MyDrive/data/models/SemEval16Icl_mvp_tasdIgoogle/mt5-largeIbeamsI1IwdI0.1Imax_epochsI20IesI0IaccI1IlrI0.0001Icont_lossI0.05Icont_tempI0.25IseedI42IEnglish_SemEval16I5I0.1IsentIaspect/\""
   ]
  },
  {
   "cell_type": "markdown",
   "metadata": {
    "id": "1mGTksiuJTpO"
   },
   "source": [
    "Evaluation on best checkpoint of the last 5 training epochs:\n"
   ]
  },
  {
   "cell_type": "code",
   "execution_count": null,
   "metadata": {
    "id": "Rrv_NEqMJTpO"
   },
   "outputs": [],
   "source": [
    "! python /content/CL-TASD-MvP/model/main_train.py --task \"cl_mvp_tasd\" --num_beams \"1\" --dataset \"SemEval16\" --model_prefix \"English_SemEval16\" --language \"English\" --test_language \"Dutch\"   --top_k 5 --do_contr_sent --do_contr_aspect --num_train_epochs 20 --do_inference_best_5 --train_batch_size 16 --eval_batch_size 64 --weight_decay 0.1 --warmup_steps 0.1 --model_name_or_path \"/content/drive/MyDrive/data/models/SemEval16Icl_mvp_tasdIgoogle/mt5-largeIbeamsI1IwdI0.1Imax_epochsI20IesI0IaccI1IlrI0.0001Icont_lossI0.05Icont_tempI0.25IseedI42IEnglish_SemEval16I5I0.1IsentIaspect/\""
   ]
  },
  {
   "cell_type": "code",
   "execution_count": null,
   "metadata": {
    "id": "wt1fnFKGJTpO"
   },
   "outputs": [],
   "source": [
    "! python /content/CL-TASD-MvP/model/main_train.py --do_con_dec --task \"cl_mvp_tasd\" --num_beams \"1\" --dataset \"SemEval16\" --model_prefix \"English_SemEval16\" --language \"English\" --test_language \"Dutch\"   --top_k 5 --do_contr_sent --do_contr_aspect --num_train_epochs 20 --do_inference_best_5 --train_batch_size 16 --eval_batch_size 64 --weight_decay 0.1 --warmup_steps 0.1 --model_name_or_path \"/content/drive/MyDrive/data/models/SemEval16Icl_mvp_tasdIgoogle/mt5-largeIbeamsI1IwdI0.1Imax_epochsI20IesI0IaccI1IlrI0.0001Icont_lossI0.05Icont_tempI0.25IseedI42IEnglish_SemEval16I5I0.1IsentIaspect/\""
   ]
  },
  {
   "cell_type": "markdown",
   "metadata": {
    "id": "VpGVo3DYJTpO"
   },
   "source": [
    "Evaluation on best checkpoint:\n"
   ]
  },
  {
   "cell_type": "code",
   "execution_count": null,
   "metadata": {
    "id": "miGR1ytnJTpO"
   },
   "outputs": [],
   "source": [
    "! python /content/CL-TASD-MvP/model/main_train.py --task \"cl_mvp_tasd\" --num_beams \"1\" --dataset \"SemEval16\" --model_prefix \"English_SemEval16\" --language \"English\" --test_language \"Dutch\"   --top_k 5 --do_contr_sent --do_contr_aspect --num_train_epochs 20 --do_inference_best_ckpt --train_batch_size 16 --eval_batch_size 64 --weight_decay 0.1 --warmup_steps 0.1 --model_name_or_path \"/content/drive/MyDrive/data/models/SemEval16Icl_mvp_tasdIgoogle/mt5-largeIbeamsI1IwdI0.1Imax_epochsI20IesI0IaccI1IlrI0.0001Icont_lossI0.05Icont_tempI0.25IseedI42IEnglish_SemEval16I5I0.1IsentIaspect/\""
   ]
  },
  {
   "cell_type": "code",
   "execution_count": null,
   "metadata": {
    "id": "2TjOOwmwJTpO"
   },
   "outputs": [],
   "source": [
    "! python /content/CL-TASD-MvP/model/main_train.py --do_con_dec --task \"cl_mvp_tasd\" --num_beams \"1\" --dataset \"SemEval16\" --model_prefix \"English_SemEval16\" --language \"English\" --test_language \"Dutch\"   --top_k 5 --do_contr_sent --do_contr_aspect --num_train_epochs 20 --do_inference_best_ckpt --train_batch_size 16 --eval_batch_size 64 --weight_decay 0.1 --warmup_steps 0.1 --model_name_or_path \"/content/drive/MyDrive/data/models/SemEval16Icl_mvp_tasdIgoogle/mt5-largeIbeamsI1IwdI0.1Imax_epochsI20IesI0IaccI1IlrI0.0001Icont_lossI0.05Icont_tempI0.25IseedI42IEnglish_SemEval16I5I0.1IsentIaspect/\""
   ]
  },
  {
   "cell_type": "markdown",
   "metadata": {
    "id": "Wy64gmSYJTpO"
   },
   "source": [
    "#### **Evaluation MVP Only**"
   ]
  },
  {
   "cell_type": "markdown",
   "metadata": {
    "id": "68B0LTaaJTpO"
   },
   "source": [
    "Evaluation on final training epoch:\n"
   ]
  },
  {
   "cell_type": "code",
   "execution_count": null,
   "metadata": {
    "colab": {
     "background_save": true
    },
    "id": "KxfXqdhpJTpO",
    "outputId": "3005e5ed-bf84-4336-e353-06b1a71effc3"
   },
   "outputs": [],
   "source": [
    "! python /content/CL-TASD-MvP/model/main_train.py --task \"cl_mvp_tasd\" --num_beams \"1\" --dataset \"SemEval16\" --model_prefix \"English_SemEval16\" --language \"English\" --test_language \"Dutch\"   --top_k 5 --num_train_epochs 20 --do_inference --train_batch_size 16 --eval_batch_size 64 --weight_decay 0.1 --warmup_steps 0.1 --model_name_or_path \"/content/drive/MyDrive/data/models/SemEval16Icl_mvp_tasdIgoogle/mt5-largeIbeamsI1IwdI0.1Imax_epochsI20IesI0IaccI1IlrI0.0001Icont_lossI0.05Icont_tempI0.25IseedI42IEnglish_SemEval16I5I0.1/\""
   ]
  },
  {
   "cell_type": "code",
   "execution_count": null,
   "metadata": {
    "colab": {
     "background_save": true
    },
    "id": "SLBSFO6SJTpO",
    "outputId": "824535f3-efd9-4d25-eed8-4fbb514868e7"
   },
   "outputs": [],
   "source": [
    "! python /content/CL-TASD-MvP/model/main_train.py --do_con_dec --task \"cl_mvp_tasd\" --num_beams \"1\" --dataset \"SemEval16\" --model_prefix \"English_SemEval16\" --language \"English\" --test_language \"Dutch\"   --top_k 5 --num_train_epochs 20 --do_inference --train_batch_size 16 --eval_batch_size 64 --weight_decay 0.1 --warmup_steps 0.1 --model_name_or_path \"/content/drive/MyDrive/data/models/SemEval16Icl_mvp_tasdIgoogle/mt5-largeIbeamsI1IwdI0.1Imax_epochsI20IesI0IaccI1IlrI0.0001Icont_lossI0.05Icont_tempI0.25IseedI42IEnglish_SemEval16I5I0.1/\""
   ]
  },
  {
   "cell_type": "markdown",
   "metadata": {
    "id": "tAUoBzoPJTpP"
   },
   "source": [
    "Evaluation on best checkpoint of the last 5 training epochs:\n"
   ]
  },
  {
   "cell_type": "code",
   "execution_count": null,
   "metadata": {
    "colab": {
     "background_save": true
    },
    "id": "z9M9Qz5cJTpP",
    "outputId": "dfecd84f-d88c-487b-90b3-a27425f0555e"
   },
   "outputs": [],
   "source": [
    "! python /content/CL-TASD-MvP/model/main_train.py --task \"cl_mvp_tasd\" --num_beams \"1\" --dataset \"SemEval16\" --model_prefix \"English_SemEval16\" --language \"English\" --test_language \"Dutch\"   --top_k 5 --num_train_epochs 20 --do_inference_best_5 --train_batch_size 16 --eval_batch_size 64 --weight_decay 0.1 --warmup_steps 0.1 --model_name_or_path \"/content/drive/MyDrive/data/models/SemEval16Icl_mvp_tasdIgoogle/mt5-largeIbeamsI1IwdI0.1Imax_epochsI20IesI0IaccI1IlrI0.0001Icont_lossI0.05Icont_tempI0.25IseedI42IEnglish_SemEval16I5I0.1/\""
   ]
  },
  {
   "cell_type": "code",
   "execution_count": null,
   "metadata": {
    "colab": {
     "background_save": true
    },
    "id": "tBpsurF8JTpP",
    "outputId": "618c2721-810c-4504-e743-ff6ee621c608"
   },
   "outputs": [],
   "source": [
    "! python /content/CL-TASD-MvP/model/main_train.py --do_con_dec --task \"cl_mvp_tasd\" --num_beams \"1\" --dataset \"SemEval16\" --model_prefix \"English_SemEval16\" --language \"English\" --test_language \"Dutch\"   --top_k 5 --num_train_epochs 20 --do_inference_best_5 --train_batch_size 16 --eval_batch_size 64 --weight_decay 0.1 --warmup_steps 0.1 --model_name_or_path \"/content/drive/MyDrive/data/models/SemEval16Icl_mvp_tasdIgoogle/mt5-largeIbeamsI1IwdI0.1Imax_epochsI20IesI0IaccI1IlrI0.0001Icont_lossI0.05Icont_tempI0.25IseedI42IEnglish_SemEval16I5I0.1/\""
   ]
  },
  {
   "cell_type": "markdown",
   "metadata": {
    "id": "HTte53ngJTpP"
   },
   "source": [
    "Evaluation on best checkpoint:\n"
   ]
  },
  {
   "cell_type": "code",
   "execution_count": null,
   "metadata": {
    "colab": {
     "background_save": true
    },
    "id": "mlOfn0wAJTpP",
    "outputId": "a53f869c-ae3b-443b-a58a-57807414d3a5"
   },
   "outputs": [],
   "source": [
    "! python /content/CL-TASD-MvP/model/main_train.py --task \"cl_mvp_tasd\" --num_beams \"1\" --dataset \"SemEval16\" --model_prefix \"English_SemEval16\" --language \"English\" --test_language \"Dutch\"   --top_k 5 --num_train_epochs 20 --do_inference_best_ckpt --train_batch_size 16 --eval_batch_size 64 --weight_decay 0.1 --warmup_steps 0.1 --model_name_or_path \"/content/drive/MyDrive/data/models/SemEval16Icl_mvp_tasdIgoogle/mt5-largeIbeamsI1IwdI0.1Imax_epochsI20IesI0IaccI1IlrI0.0001Icont_lossI0.05Icont_tempI0.25IseedI42IEnglish_SemEval16I5I0.1/\""
   ]
  },
  {
   "cell_type": "code",
   "execution_count": null,
   "metadata": {
    "colab": {
     "background_save": true
    },
    "id": "Zp-TapZVJTpP",
    "outputId": "c30b7df6-25dd-49a9-f9ca-752404f65b0e"
   },
   "outputs": [],
   "source": [
    "! python /content/CL-TASD-MvP/model/main_train.py --do_con_dec --task \"cl_mvp_tasd\" --num_beams \"1\" --dataset \"SemEval16\" --model_prefix \"English_SemEval16\" --language \"English\" --test_language \"Dutch\"   --top_k 5 --num_train_epochs 20 --do_inference_best_ckpt --train_batch_size 16 --eval_batch_size 64 --weight_decay 0.1 --warmup_steps 0.1 --model_name_or_path \"/content/drive/MyDrive/data/models/SemEval16Icl_mvp_tasdIgoogle/mt5-largeIbeamsI1IwdI0.1Imax_epochsI20IesI0IaccI1IlrI0.0001Icont_lossI0.05Icont_tempI0.25IseedI42IEnglish_SemEval16I5I0.1/\""
   ]
  },
  {
   "cell_type": "markdown",
   "metadata": {
    "id": "0XzpiZniJTpP"
   },
   "source": [
    "#### **Evaluation Only CL**"
   ]
  },
  {
   "cell_type": "markdown",
   "metadata": {
    "id": "STHa6rDgJTpP"
   },
   "source": [
    "Evaluation on final training epoch:\n"
   ]
  },
  {
   "cell_type": "code",
   "execution_count": null,
   "metadata": {
    "colab": {
     "background_save": true
    },
    "id": "XcAiWVyKJTpP",
    "outputId": "3d5bfd1e-79f6-4908-bd2c-65b5f771ac17"
   },
   "outputs": [],
   "source": [
    "! python /content/CL-TASD-MvP/model/main_train.py --task \"cl_mvp_tasd\" --num_beams \"1\" --dataset \"SemEval16\" --model_prefix \"English_SemEval16\" --language \"English\" --test_language \"Dutch\"   --top_k 1 --do_contr_sent --do_contr_aspect --num_train_epochs 20 --do_inference --train_batch_size 16 --eval_batch_size 64 --weight_decay 0.1 --warmup_steps 0.1 --model_name_or_path \"/content/drive/MyDrive/data/models/SemEval16Icl_mvp_tasdIgoogle/mt5-largeIbeamsI1IwdI0.1Imax_epochsI20IesI0IaccI1IlrI0.0001Icont_lossI0.05Icont_tempI0.25IseedI42IEnglish_SemEval16I1I0.1IsentIaspect/\""
   ]
  },
  {
   "cell_type": "code",
   "execution_count": null,
   "metadata": {
    "colab": {
     "background_save": true
    },
    "id": "arrCjFcOJTpP",
    "outputId": "f38d5b2b-6409-4f95-b04f-e1bac694379c"
   },
   "outputs": [],
   "source": [
    "! python /content/CL-TASD-MvP/model/main_train.py --do_con_dec --task \"cl_mvp_tasd\" --num_beams \"1\" --dataset \"SemEval16\" --model_prefix \"English_SemEval16\" --language \"English\" --test_language \"Dutch\"   --top_k 1 --do_contr_sent --do_contr_aspect --num_train_epochs 20 --do_inference --train_batch_size 16 --eval_batch_size 64 --weight_decay 0.1 --warmup_steps 0.1 --model_name_or_path \"/content/drive/MyDrive/data/models/SemEval16Icl_mvp_tasdIgoogle/mt5-largeIbeamsI1IwdI0.1Imax_epochsI20IesI0IaccI1IlrI0.0001Icont_lossI0.05Icont_tempI0.25IseedI42IEnglish_SemEval16I1I0.1IsentIaspect/\""
   ]
  },
  {
   "cell_type": "markdown",
   "metadata": {
    "id": "gYOBqcrDJTpP"
   },
   "source": [
    "Evaluation on best checkpoint of the last 5 training epochs:\n"
   ]
  },
  {
   "cell_type": "code",
   "execution_count": null,
   "metadata": {
    "colab": {
     "background_save": true
    },
    "id": "0pl16XfkJTpP",
    "outputId": "6ab908f6-2ff7-4687-b600-3ad9e85643e7"
   },
   "outputs": [],
   "source": [
    "! python /content/CL-TASD-MvP/model/main_train.py --task \"cl_mvp_tasd\" --num_beams \"1\" --dataset \"SemEval16\" --model_prefix \"English_SemEval16\" --language \"English\" --test_language \"Dutch\"   --top_k 1 --do_contr_sent --do_contr_aspect --num_train_epochs 20 --do_inference_best_5 --train_batch_size 16 --eval_batch_size 64 --weight_decay 0.1 --warmup_steps 0.1 --model_name_or_path \"/content/drive/MyDrive/data/models/SemEval16Icl_mvp_tasdIgoogle/mt5-largeIbeamsI1IwdI0.1Imax_epochsI20IesI0IaccI1IlrI0.0001Icont_lossI0.05Icont_tempI0.25IseedI42IEnglish_SemEval16I1I0.1IsentIaspect/\""
   ]
  },
  {
   "cell_type": "code",
   "execution_count": null,
   "metadata": {
    "colab": {
     "background_save": true
    },
    "id": "nwUQ622WJTpP",
    "outputId": "f46b54e7-7e26-41d6-d42f-9019dc7e39d6"
   },
   "outputs": [],
   "source": [
    "! python /content/CL-TASD-MvP/model/main_train.py --do_con_dec --task \"cl_mvp_tasd\" --num_beams \"1\" --dataset \"SemEval16\" --model_prefix \"English_SemEval16\" --language \"English\" --test_language \"Dutch\"   --top_k 1 --do_contr_sent --do_contr_aspect --num_train_epochs 20 --do_inference_best_5 --train_batch_size 16 --eval_batch_size 64 --weight_decay 0.1 --warmup_steps 0.1 --model_name_or_path \"/content/drive/MyDrive/data/models/SemEval16Icl_mvp_tasdIgoogle/mt5-largeIbeamsI1IwdI0.1Imax_epochsI20IesI0IaccI1IlrI0.0001Icont_lossI0.05Icont_tempI0.25IseedI42IEnglish_SemEval16I1I0.1IsentIaspect/\""
   ]
  },
  {
   "cell_type": "markdown",
   "metadata": {
    "id": "D0i80nd-JTpP"
   },
   "source": [
    "Evaluation on best checkpoint:\n"
   ]
  },
  {
   "cell_type": "code",
   "execution_count": null,
   "metadata": {
    "colab": {
     "background_save": true
    },
    "id": "plONvPGAJTpP",
    "outputId": "fa58fa22-efda-475a-d67b-7dfcc034c4ba"
   },
   "outputs": [],
   "source": [
    "! python /content/CL-TASD-MvP/model/main_train.py --task \"cl_mvp_tasd\" --num_beams \"1\" --dataset \"SemEval16\" --model_prefix \"English_SemEval16\" --language \"English\" --test_language \"Dutch\"   --top_k 1 --do_contr_sent --do_contr_aspect --num_train_epochs 20 --do_inference_best_ckpt --train_batch_size 16 --eval_batch_size 64 --weight_decay 0.1 --warmup_steps 0.1 --model_name_or_path \"/content/drive/MyDrive/data/models/SemEval16Icl_mvp_tasdIgoogle/mt5-largeIbeamsI1IwdI0.1Imax_epochsI20IesI0IaccI1IlrI0.0001Icont_lossI0.05Icont_tempI0.25IseedI42IEnglish_SemEval16I1I0.1IsentIaspect/\""
   ]
  },
  {
   "cell_type": "code",
   "execution_count": null,
   "metadata": {
    "colab": {
     "background_save": true
    },
    "id": "In-FHkzjJTpP",
    "outputId": "9ed5fa79-0847-4a5d-c97a-b96804664780"
   },
   "outputs": [],
   "source": [
    "! python /content/CL-TASD-MvP/model/main_train.py --do_con_dec --task \"cl_mvp_tasd\" --num_beams \"1\" --dataset \"SemEval16\" --model_prefix \"English_SemEval16\" --language \"English\" --test_language \"Dutch\"   --top_k 1 --do_contr_sent --do_contr_aspect --num_train_epochs 20 --do_inference_best_ckpt --train_batch_size 16 --eval_batch_size 64 --weight_decay 0.1 --warmup_steps 0.1 --model_name_or_path \"/content/drive/MyDrive/data/models/SemEval16Icl_mvp_tasdIgoogle/mt5-largeIbeamsI1IwdI0.1Imax_epochsI20IesI0IaccI1IlrI0.0001Icont_lossI0.05Icont_tempI0.25IseedI42IEnglish_SemEval16I1I0.1IsentIaspect/\""
   ]
  },
  {
   "cell_type": "markdown",
   "metadata": {
    "id": "zabZvXENJTpP"
   },
   "source": [
    "#### **Evaluation Base MT5**"
   ]
  },
  {
   "cell_type": "markdown",
   "metadata": {
    "id": "Z_BaJwIRJTpP"
   },
   "source": [
    "Evaluation on final training epoch:\n"
   ]
  },
  {
   "cell_type": "code",
   "execution_count": null,
   "metadata": {
    "id": "2q1W26NvJTpP"
   },
   "outputs": [],
   "source": [
    "! python /content/CL-TASD-MvP/model/main_train.py --task \"cl_mvp_tasd\" --num_beams \"1\" --dataset \"SemEval16\" --model_prefix \"English_SemEval16\" --language \"English\" --test_language \"Dutch\"   --top_k 1 --num_train_epochs 20 --do_inference --train_batch_size 16 --eval_batch_size 64 --weight_decay 0.1 --warmup_steps 0.1 --model_name_or_path \"/content/drive/MyDrive/data/models/SemEval16Icl_mvp_tasdIgoogle/mt5-largeIbeamsI1IwdI0.1Imax_epochsI20IesI0IaccI1IlrI0.0001Icont_lossI0.05Icont_tempI0.25IseedI42IEnglish_SemEval16I1I0.1/\""
   ]
  },
  {
   "cell_type": "code",
   "execution_count": null,
   "metadata": {
    "id": "R_JikJ76JTpQ"
   },
   "outputs": [],
   "source": [
    "! python /content/CL-TASD-MvP/model/main_train.py --do_con_dec --task \"cl_mvp_tasd\" --num_beams \"1\" --dataset \"SemEval16\" --model_prefix \"English_SemEval16\" --language \"English\" --test_language \"Dutch\"   --top_k 1 --num_train_epochs 20 --do_inference --train_batch_size 16 --eval_batch_size 64 --weight_decay 0.1 --warmup_steps 0.1 --model_name_or_path \"/content/drive/MyDrive/data/models/SemEval16Icl_mvp_tasdIgoogle/mt5-largeIbeamsI1IwdI0.1Imax_epochsI20IesI0IaccI1IlrI0.0001Icont_lossI0.05Icont_tempI0.25IseedI42IEnglish_SemEval16I1I0.1/\""
   ]
  },
  {
   "cell_type": "markdown",
   "metadata": {
    "id": "7eXfPOtiJTpQ"
   },
   "source": [
    "Evaluation on best checkpoint of the last 5 training epochs:\n"
   ]
  },
  {
   "cell_type": "code",
   "execution_count": null,
   "metadata": {
    "id": "qM0JFb7KJTpQ"
   },
   "outputs": [],
   "source": [
    "! python /content/CL-TASD-MvP/model/main_train.py --task \"cl_mvp_tasd\" --num_beams \"1\" --dataset \"SemEval16\" --model_prefix \"English_SemEval16\" --language \"English\" --test_language \"Dutch\"   --top_k 1 --num_train_epochs 20 --do_inference_best_5 --train_batch_size 16 --eval_batch_size 64 --weight_decay 0.1 --warmup_steps 0.1 --model_name_or_path \"/content/drive/MyDrive/data/models/SemEval16Icl_mvp_tasdIgoogle/mt5-largeIbeamsI1IwdI0.1Imax_epochsI20IesI0IaccI1IlrI0.0001Icont_lossI0.05Icont_tempI0.25IseedI42IEnglish_SemEval16I1I0.1/\""
   ]
  },
  {
   "cell_type": "code",
   "execution_count": null,
   "metadata": {
    "id": "9swuj8LqJTpQ"
   },
   "outputs": [],
   "source": [
    "! python /content/CL-TASD-MvP/model/main_train.py --do_con_dec --task \"cl_mvp_tasd\" --num_beams \"1\" --dataset \"SemEval16\" --model_prefix \"English_SemEval16\" --language \"English\" --test_language \"Dutch\"   --top_k 1 --num_train_epochs 20 --do_inference_best_5 --train_batch_size 16 --eval_batch_size 64 --weight_decay 0.1 --warmup_steps 0.1 --model_name_or_path \"/content/drive/MyDrive/data/models/SemEval16Icl_mvp_tasdIgoogle/mt5-largeIbeamsI1IwdI0.1Imax_epochsI20IesI0IaccI1IlrI0.0001Icont_lossI0.05Icont_tempI0.25IseedI42IEnglish_SemEval16I1I0.1/\""
   ]
  },
  {
   "cell_type": "markdown",
   "metadata": {
    "id": "kZYTq9q7JTpQ"
   },
   "source": [
    "Evaluation on best checkpoint:\n"
   ]
  },
  {
   "cell_type": "code",
   "execution_count": null,
   "metadata": {
    "id": "8334ij8kJTpQ"
   },
   "outputs": [],
   "source": [
    "! python /content/CL-TASD-MvP/model/main_train.py --task \"cl_mvp_tasd\" --num_beams \"1\" --dataset \"SemEval16\" --model_prefix \"English_SemEval16\" --language \"English\" --test_language \"Dutch\"   --top_k 1 --num_train_epochs 20 --do_inference_best_ckpt --train_batch_size 16 --eval_batch_size 64 --weight_decay 0.1 --warmup_steps 0.1 --model_name_or_path \"/content/drive/MyDrive/data/models/SemEval16Icl_mvp_tasdIgoogle/mt5-largeIbeamsI1IwdI0.1Imax_epochsI20IesI0IaccI1IlrI0.0001Icont_lossI0.05Icont_tempI0.25IseedI42IEnglish_SemEval16I1I0.1/\""
   ]
  },
  {
   "cell_type": "code",
   "execution_count": null,
   "metadata": {
    "id": "TF7A7IqwJTpQ"
   },
   "outputs": [],
   "source": [
    "! python /content/CL-TASD-MvP/model/main_train.py --do_con_dec --task \"cl_mvp_tasd\" --num_beams \"1\" --dataset \"SemEval16\" --model_prefix \"English_SemEval16\" --language \"English\" --test_language \"Dutch\"   --top_k 1 --num_train_epochs 20 --do_inference_best_ckpt --train_batch_size 16 --eval_batch_size 64 --weight_decay 0.1 --warmup_steps 0.1 --model_name_or_path \"/content/drive/MyDrive/data/models/SemEval16Icl_mvp_tasdIgoogle/mt5-largeIbeamsI1IwdI0.1Imax_epochsI20IesI0IaccI1IlrI0.0001Icont_lossI0.05Icont_tempI0.25IseedI42IEnglish_SemEval16I1I0.1/\""
   ]
  },
  {
   "cell_type": "markdown",
   "metadata": {
    "id": "-buzMugRJbaf"
   },
   "source": [
    "### **Model Evaluation: Turkish**\n"
   ]
  },
  {
   "cell_type": "markdown",
   "metadata": {
    "id": "FkIZ8fo0Jbaf"
   },
   "source": [
    "#### **Evaluation Full Model**"
   ]
  },
  {
   "cell_type": "markdown",
   "metadata": {
    "id": "NeXa9ZpdJbaf"
   },
   "source": [
    "Evaluation on final training epoch:\n"
   ]
  },
  {
   "cell_type": "code",
   "execution_count": null,
   "metadata": {
    "id": "LPMVFSK0Jbag"
   },
   "outputs": [],
   "source": [
    "! python /content/CL-TASD-MvP/model/main_train.py --task \"cl_mvp_tasd\" --num_beams \"1\" --dataset \"SemEval16\" --model_prefix \"English_SemEval16\" --language \"English\" --test_language \"Turkish\"   --top_k 5 --do_contr_sent --do_contr_aspect --num_train_epochs 20 --do_inference --train_batch_size 16 --eval_batch_size 64 --weight_decay 0.1 --warmup_steps 0.1 --model_name_or_path \"/content/drive/MyDrive/data/models/SemEval16Icl_mvp_tasdIgoogle/mt5-largeIbeamsI1IwdI0.1Imax_epochsI20IesI0IaccI1IlrI0.0001Icont_lossI0.05Icont_tempI0.25IseedI42IEnglish_SemEval16I5I0.1IsentIaspect/\""
   ]
  },
  {
   "cell_type": "code",
   "execution_count": null,
   "metadata": {
    "id": "rNzq18koJbag"
   },
   "outputs": [],
   "source": [
    "! python /content/CL-TASD-MvP/model/main_train.py --do_con_dec --task \"cl_mvp_tasd\" --num_beams \"1\" --dataset \"SemEval16\" --model_prefix \"English_SemEval16\" --language \"English\" --test_language \"Turkish\"   --top_k 5 --do_contr_sent --do_contr_aspect --num_train_epochs 20 --do_inference --train_batch_size 16 --eval_batch_size 64 --weight_decay 0.1 --warmup_steps 0.1 --model_name_or_path \"/content/drive/MyDrive/data/models/SemEval16Icl_mvp_tasdIgoogle/mt5-largeIbeamsI1IwdI0.1Imax_epochsI20IesI0IaccI1IlrI0.0001Icont_lossI0.05Icont_tempI0.25IseedI42IEnglish_SemEval16I5I0.1IsentIaspect/\""
   ]
  },
  {
   "cell_type": "markdown",
   "metadata": {
    "id": "olUzH4sFJbag"
   },
   "source": [
    "Evaluation on best checkpoint of the last 5 training epochs:\n"
   ]
  },
  {
   "cell_type": "code",
   "execution_count": null,
   "metadata": {
    "id": "nE85IFQjJbag"
   },
   "outputs": [],
   "source": [
    "! python /content/CL-TASD-MvP/model/main_train.py --task \"cl_mvp_tasd\" --num_beams \"1\" --dataset \"SemEval16\" --model_prefix \"English_SemEval16\" --language \"English\" --test_language \"Turkish\"   --top_k 5 --do_contr_sent --do_contr_aspect --num_train_epochs 20 --do_inference_best_5 --train_batch_size 16 --eval_batch_size 64 --weight_decay 0.1 --warmup_steps 0.1 --model_name_or_path \"/content/drive/MyDrive/data/models/SemEval16Icl_mvp_tasdIgoogle/mt5-largeIbeamsI1IwdI0.1Imax_epochsI20IesI0IaccI1IlrI0.0001Icont_lossI0.05Icont_tempI0.25IseedI42IEnglish_SemEval16I5I0.1IsentIaspect/\""
   ]
  },
  {
   "cell_type": "code",
   "execution_count": null,
   "metadata": {
    "id": "16afEh_kJbag"
   },
   "outputs": [],
   "source": [
    "! python /content/CL-TASD-MvP/model/main_train.py --do_con_dec --task \"cl_mvp_tasd\" --num_beams \"1\" --dataset \"SemEval16\" --model_prefix \"English_SemEval16\" --language \"English\" --test_language \"Turkish\"   --top_k 5 --do_contr_sent --do_contr_aspect --num_train_epochs 20 --do_inference_best_5 --train_batch_size 16 --eval_batch_size 64 --weight_decay 0.1 --warmup_steps 0.1 --model_name_or_path \"/content/drive/MyDrive/data/models/SemEval16Icl_mvp_tasdIgoogle/mt5-largeIbeamsI1IwdI0.1Imax_epochsI20IesI0IaccI1IlrI0.0001Icont_lossI0.05Icont_tempI0.25IseedI42IEnglish_SemEval16I5I0.1IsentIaspect/\""
   ]
  },
  {
   "cell_type": "markdown",
   "metadata": {
    "id": "bLLlgp_-Jbag"
   },
   "source": [
    "Evaluation on best checkpoint:\n"
   ]
  },
  {
   "cell_type": "code",
   "execution_count": null,
   "metadata": {
    "id": "291kcRqWJbag"
   },
   "outputs": [],
   "source": [
    "! python /content/CL-TASD-MvP/model/main_train.py --task \"cl_mvp_tasd\" --num_beams \"1\" --dataset \"SemEval16\" --model_prefix \"English_SemEval16\" --language \"English\" --test_language \"Turkish\"   --top_k 5 --do_contr_sent --do_contr_aspect --num_train_epochs 20 --do_inference_best_ckpt --train_batch_size 16 --eval_batch_size 64 --weight_decay 0.1 --warmup_steps 0.1 --model_name_or_path \"/content/drive/MyDrive/data/models/SemEval16Icl_mvp_tasdIgoogle/mt5-largeIbeamsI1IwdI0.1Imax_epochsI20IesI0IaccI1IlrI0.0001Icont_lossI0.05Icont_tempI0.25IseedI42IEnglish_SemEval16I5I0.1IsentIaspect/\""
   ]
  },
  {
   "cell_type": "code",
   "execution_count": null,
   "metadata": {
    "id": "MgYPDi9BJbag"
   },
   "outputs": [],
   "source": [
    "! python /content/CL-TASD-MvP/model/main_train.py --do_con_dec --task \"cl_mvp_tasd\" --num_beams \"1\" --dataset \"SemEval16\" --model_prefix \"English_SemEval16\" --language \"English\" --test_language \"Turkish\"   --top_k 5 --do_contr_sent --do_contr_aspect --num_train_epochs 20 --do_inference_best_ckpt --train_batch_size 16 --eval_batch_size 64 --weight_decay 0.1 --warmup_steps 0.1 --model_name_or_path \"/content/drive/MyDrive/data/models/SemEval16Icl_mvp_tasdIgoogle/mt5-largeIbeamsI1IwdI0.1Imax_epochsI20IesI0IaccI1IlrI0.0001Icont_lossI0.05Icont_tempI0.25IseedI42IEnglish_SemEval16I5I0.1IsentIaspect/\""
   ]
  },
  {
   "cell_type": "markdown",
   "metadata": {
    "id": "kPxyevaqJbah"
   },
   "source": [
    "#### **Evaluation MVP Only**"
   ]
  },
  {
   "cell_type": "markdown",
   "metadata": {
    "id": "VQSc8iL9Jbah"
   },
   "source": [
    "Evaluation on final training epoch:\n"
   ]
  },
  {
   "cell_type": "code",
   "execution_count": null,
   "metadata": {
    "colab": {
     "background_save": true
    },
    "id": "fjjXLhs0Jbah",
    "outputId": "1711e2e5-8a66-4e92-87e8-b24214435807"
   },
   "outputs": [],
   "source": [
    "! python /content/CL-TASD-MvP/model/main_train.py --task \"cl_mvp_tasd\" --num_beams \"1\" --dataset \"SemEval16\" --model_prefix \"English_SemEval16\" --language \"English\" --test_language \"Turkish\"   --top_k 5 --num_train_epochs 20 --do_inference --train_batch_size 16 --eval_batch_size 64 --weight_decay 0.1 --warmup_steps 0.1 --model_name_or_path \"/content/drive/MyDrive/data/models/SemEval16Icl_mvp_tasdIgoogle/mt5-largeIbeamsI1IwdI0.1Imax_epochsI20IesI0IaccI1IlrI0.0001Icont_lossI0.05Icont_tempI0.25IseedI42IEnglish_SemEval16I5I0.1/\""
   ]
  },
  {
   "cell_type": "code",
   "execution_count": null,
   "metadata": {
    "colab": {
     "background_save": true
    },
    "id": "Gh-ssRRNJbah",
    "outputId": "7e41cd52-751f-4902-8156-24a4acf19cc5"
   },
   "outputs": [],
   "source": [
    "! python /content/CL-TASD-MvP/model/main_train.py --do_con_dec --task \"cl_mvp_tasd\" --num_beams \"1\" --dataset \"SemEval16\" --model_prefix \"English_SemEval16\" --language \"English\" --test_language \"Turkish\"   --top_k 5 --num_train_epochs 20 --do_inference --train_batch_size 16 --eval_batch_size 64 --weight_decay 0.1 --warmup_steps 0.1 --model_name_or_path \"/content/drive/MyDrive/data/models/SemEval16Icl_mvp_tasdIgoogle/mt5-largeIbeamsI1IwdI0.1Imax_epochsI20IesI0IaccI1IlrI0.0001Icont_lossI0.05Icont_tempI0.25IseedI42IEnglish_SemEval16I5I0.1/\""
   ]
  },
  {
   "cell_type": "markdown",
   "metadata": {
    "id": "SFZwaLv0Jbah"
   },
   "source": [
    "Evaluation on best checkpoint of the last 5 training epochs:\n"
   ]
  },
  {
   "cell_type": "code",
   "execution_count": null,
   "metadata": {
    "colab": {
     "background_save": true
    },
    "id": "GKKWoEroJbah",
    "outputId": "83e32773-8d6c-4d59-c561-1e3f7435bd4e"
   },
   "outputs": [],
   "source": [
    "! python /content/CL-TASD-MvP/model/main_train.py --task \"cl_mvp_tasd\" --num_beams \"1\" --dataset \"SemEval16\" --model_prefix \"English_SemEval16\" --language \"English\" --test_language \"Turkish\"   --top_k 5 --num_train_epochs 20 --do_inference_best_5 --train_batch_size 16 --eval_batch_size 64 --weight_decay 0.1 --warmup_steps 0.1 --model_name_or_path \"/content/drive/MyDrive/data/models/SemEval16Icl_mvp_tasdIgoogle/mt5-largeIbeamsI1IwdI0.1Imax_epochsI20IesI0IaccI1IlrI0.0001Icont_lossI0.05Icont_tempI0.25IseedI42IEnglish_SemEval16I5I0.1/\""
   ]
  },
  {
   "cell_type": "code",
   "execution_count": null,
   "metadata": {
    "colab": {
     "background_save": true
    },
    "id": "OJFTSehbJbah",
    "outputId": "6f6783ea-74c7-4e89-ce8e-3f6b0883b92a"
   },
   "outputs": [],
   "source": [
    "! python /content/CL-TASD-MvP/model/main_train.py --do_con_dec --task \"cl_mvp_tasd\" --num_beams \"1\" --dataset \"SemEval16\" --model_prefix \"English_SemEval16\" --language \"English\" --test_language \"Turkish\"   --top_k 5 --num_train_epochs 20 --do_inference_best_5 --train_batch_size 16 --eval_batch_size 64 --weight_decay 0.1 --warmup_steps 0.1 --model_name_or_path \"/content/drive/MyDrive/data/models/SemEval16Icl_mvp_tasdIgoogle/mt5-largeIbeamsI1IwdI0.1Imax_epochsI20IesI0IaccI1IlrI0.0001Icont_lossI0.05Icont_tempI0.25IseedI42IEnglish_SemEval16I5I0.1/\""
   ]
  },
  {
   "cell_type": "markdown",
   "metadata": {
    "id": "ye2Xkpm_Jbah"
   },
   "source": [
    "Evaluation on best checkpoint:\n"
   ]
  },
  {
   "cell_type": "code",
   "execution_count": null,
   "metadata": {
    "colab": {
     "background_save": true
    },
    "id": "xgPn51D7Jbai",
    "outputId": "e05b9a60-89fb-4db0-8789-b709aa1d6e63"
   },
   "outputs": [],
   "source": [
    "! python /content/CL-TASD-MvP/model/main_train.py --task \"cl_mvp_tasd\" --num_beams \"1\" --dataset \"SemEval16\" --model_prefix \"English_SemEval16\" --language \"English\" --test_language \"Turkish\"   --top_k 5 --num_train_epochs 20 --do_inference_best_ckpt --train_batch_size 16 --eval_batch_size 64 --weight_decay 0.1 --warmup_steps 0.1 --model_name_or_path \"/content/drive/MyDrive/data/models/SemEval16Icl_mvp_tasdIgoogle/mt5-largeIbeamsI1IwdI0.1Imax_epochsI20IesI0IaccI1IlrI0.0001Icont_lossI0.05Icont_tempI0.25IseedI42IEnglish_SemEval16I5I0.1/\""
   ]
  },
  {
   "cell_type": "code",
   "execution_count": null,
   "metadata": {
    "colab": {
     "background_save": true
    },
    "id": "kREprt83Jbai",
    "outputId": "cca0d5a3-5740-4853-ae0d-47a40234fbe3"
   },
   "outputs": [],
   "source": [
    "! python /content/CL-TASD-MvP/model/main_train.py --do_con_dec --task \"cl_mvp_tasd\" --num_beams \"1\" --dataset \"SemEval16\" --model_prefix \"English_SemEval16\" --language \"English\" --test_language \"Turkish\"   --top_k 5 --num_train_epochs 20 --do_inference_best_ckpt --train_batch_size 16 --eval_batch_size 64 --weight_decay 0.1 --warmup_steps 0.1 --model_name_or_path \"/content/drive/MyDrive/data/models/SemEval16Icl_mvp_tasdIgoogle/mt5-largeIbeamsI1IwdI0.1Imax_epochsI20IesI0IaccI1IlrI0.0001Icont_lossI0.05Icont_tempI0.25IseedI42IEnglish_SemEval16I5I0.1/\""
   ]
  },
  {
   "cell_type": "markdown",
   "metadata": {
    "id": "X3HnZaquJbai"
   },
   "source": [
    "#### **Evaluation Only CL**"
   ]
  },
  {
   "cell_type": "markdown",
   "metadata": {
    "id": "3Mti2KQUJbai"
   },
   "source": [
    "Evaluation on final training epoch:\n"
   ]
  },
  {
   "cell_type": "code",
   "execution_count": null,
   "metadata": {
    "colab": {
     "background_save": true
    },
    "id": "Yi_JA3tkJbai",
    "outputId": "0aafb0ea-bba4-4e24-8c88-0125eeaf9c40"
   },
   "outputs": [],
   "source": [
    "! python /content/CL-TASD-MvP/model/main_train.py --task \"cl_mvp_tasd\" --num_beams \"1\" --dataset \"SemEval16\" --model_prefix \"English_SemEval16\" --language \"English\" --test_language \"Turkish\"   --top_k 1 --do_contr_sent --do_contr_aspect --num_train_epochs 20 --do_inference --train_batch_size 16 --eval_batch_size 64 --weight_decay 0.1 --warmup_steps 0.1 --model_name_or_path \"/content/drive/MyDrive/data/models/SemEval16Icl_mvp_tasdIgoogle/mt5-largeIbeamsI1IwdI0.1Imax_epochsI20IesI0IaccI1IlrI0.0001Icont_lossI0.05Icont_tempI0.25IseedI42IEnglish_SemEval16I1I0.1IsentIaspect/\""
   ]
  },
  {
   "cell_type": "code",
   "execution_count": null,
   "metadata": {
    "colab": {
     "background_save": true
    },
    "id": "KT4qQmt4Jbai",
    "outputId": "2223fd54-959f-4c82-df0c-407539662751"
   },
   "outputs": [],
   "source": [
    "! python /content/CL-TASD-MvP/model/main_train.py --do_con_dec --task \"cl_mvp_tasd\" --num_beams \"1\" --dataset \"SemEval16\" --model_prefix \"English_SemEval16\" --language \"English\" --test_language \"Turkish\"   --top_k 1 --do_contr_sent --do_contr_aspect --num_train_epochs 20 --do_inference --train_batch_size 16 --eval_batch_size 64 --weight_decay 0.1 --warmup_steps 0.1 --model_name_or_path \"/content/drive/MyDrive/data/models/SemEval16Icl_mvp_tasdIgoogle/mt5-largeIbeamsI1IwdI0.1Imax_epochsI20IesI0IaccI1IlrI0.0001Icont_lossI0.05Icont_tempI0.25IseedI42IEnglish_SemEval16I1I0.1IsentIaspect/\""
   ]
  },
  {
   "cell_type": "markdown",
   "metadata": {
    "id": "as6imwPaJbai"
   },
   "source": [
    "Evaluation on best checkpoint of the last 5 training epochs:\n"
   ]
  },
  {
   "cell_type": "code",
   "execution_count": null,
   "metadata": {
    "colab": {
     "background_save": true
    },
    "id": "ip1BO4y7Jbai",
    "outputId": "c99599e7-81fc-40df-c581-bb6448f26004"
   },
   "outputs": [],
   "source": [
    "! python /content/CL-TASD-MvP/model/main_train.py --task \"cl_mvp_tasd\" --num_beams \"1\" --dataset \"SemEval16\" --model_prefix \"English_SemEval16\" --language \"English\" --test_language \"Turkish\"   --top_k 1 --do_contr_sent --do_contr_aspect --num_train_epochs 20 --do_inference_best_5 --train_batch_size 16 --eval_batch_size 64 --weight_decay 0.1 --warmup_steps 0.1 --model_name_or_path \"/content/drive/MyDrive/data/models/SemEval16Icl_mvp_tasdIgoogle/mt5-largeIbeamsI1IwdI0.1Imax_epochsI20IesI0IaccI1IlrI0.0001Icont_lossI0.05Icont_tempI0.25IseedI42IEnglish_SemEval16I1I0.1IsentIaspect/\""
   ]
  },
  {
   "cell_type": "code",
   "execution_count": null,
   "metadata": {
    "colab": {
     "background_save": true
    },
    "id": "xhRqBMQ_Jbai",
    "outputId": "848664d2-02d9-41a8-cd58-3f0ffcf9ab00"
   },
   "outputs": [],
   "source": [
    "! python /content/CL-TASD-MvP/model/main_train.py --do_con_dec --task \"cl_mvp_tasd\" --num_beams \"1\" --dataset \"SemEval16\" --model_prefix \"English_SemEval16\" --language \"English\" --test_language \"Turkish\"   --top_k 1 --do_contr_sent --do_contr_aspect --num_train_epochs 20 --do_inference_best_5 --train_batch_size 16 --eval_batch_size 64 --weight_decay 0.1 --warmup_steps 0.1 --model_name_or_path \"/content/drive/MyDrive/data/models/SemEval16Icl_mvp_tasdIgoogle/mt5-largeIbeamsI1IwdI0.1Imax_epochsI20IesI0IaccI1IlrI0.0001Icont_lossI0.05Icont_tempI0.25IseedI42IEnglish_SemEval16I1I0.1IsentIaspect/\""
   ]
  },
  {
   "cell_type": "markdown",
   "metadata": {
    "id": "5_4fUoNNJbai"
   },
   "source": [
    "Evaluation on best checkpoint:\n"
   ]
  },
  {
   "cell_type": "code",
   "execution_count": null,
   "metadata": {
    "colab": {
     "background_save": true
    },
    "id": "d4wQBHt1Jbai",
    "outputId": "870d09d4-8257-4dd5-e59b-104acec2c530"
   },
   "outputs": [],
   "source": [
    "! python /content/CL-TASD-MvP/model/main_train.py --task \"cl_mvp_tasd\" --num_beams \"1\" --dataset \"SemEval16\" --model_prefix \"English_SemEval16\" --language \"English\" --test_language \"Turkish\"   --top_k 1 --do_contr_sent --do_contr_aspect --num_train_epochs 20 --do_inference_best_ckpt --train_batch_size 16 --eval_batch_size 64 --weight_decay 0.1 --warmup_steps 0.1 --model_name_or_path \"/content/drive/MyDrive/data/models/SemEval16Icl_mvp_tasdIgoogle/mt5-largeIbeamsI1IwdI0.1Imax_epochsI20IesI0IaccI1IlrI0.0001Icont_lossI0.05Icont_tempI0.25IseedI42IEnglish_SemEval16I1I0.1IsentIaspect/\""
   ]
  },
  {
   "cell_type": "code",
   "execution_count": null,
   "metadata": {
    "id": "YdPk9QM0Jbai"
   },
   "outputs": [],
   "source": [
    "! python /content/CL-TASD-MvP/model/main_train.py --do_con_dec --task \"cl_mvp_tasd\" --num_beams \"1\" --dataset \"SemEval16\" --model_prefix \"English_SemEval16\" --language \"English\" --test_language \"Turkish\"   --top_k 1 --do_contr_sent --do_contr_aspect --num_train_epochs 20 --do_inference_best_ckpt --train_batch_size 16 --eval_batch_size 64 --weight_decay 0.1 --warmup_steps 0.1 --model_name_or_path \"/content/drive/MyDrive/data/models/SemEval16Icl_mvp_tasdIgoogle/mt5-largeIbeamsI1IwdI0.1Imax_epochsI20IesI0IaccI1IlrI0.0001Icont_lossI0.05Icont_tempI0.25IseedI42IEnglish_SemEval16I1I0.1IsentIaspect/\""
   ]
  },
  {
   "cell_type": "markdown",
   "metadata": {
    "id": "mND8sQReJbai"
   },
   "source": [
    "#### **Evaluation Base MT5**"
   ]
  },
  {
   "cell_type": "markdown",
   "metadata": {
    "id": "6XpN5c94Jbai"
   },
   "source": [
    "Evaluation on final training epoch:\n"
   ]
  },
  {
   "cell_type": "code",
   "execution_count": null,
   "metadata": {
    "id": "afWNciLcJbai"
   },
   "outputs": [],
   "source": [
    "! python /content/CL-TASD-MvP/model/main_train.py --task \"cl_mvp_tasd\" --num_beams \"1\" --dataset \"SemEval16\" --model_prefix \"English_SemEval16\" --language \"English\" --test_language \"Turkish\"   --top_k 1 --num_train_epochs 20 --do_inference --train_batch_size 16 --eval_batch_size 64 --weight_decay 0.1 --warmup_steps 0.1 --model_name_or_path \"/content/drive/MyDrive/data/models/SemEval16Icl_mvp_tasdIgoogle/mt5-largeIbeamsI1IwdI0.1Imax_epochsI20IesI0IaccI1IlrI0.0001Icont_lossI0.05Icont_tempI0.25IseedI42IEnglish_SemEval16I1I0.1/\""
   ]
  },
  {
   "cell_type": "code",
   "execution_count": null,
   "metadata": {
    "id": "ibX-j_lGJbai"
   },
   "outputs": [],
   "source": [
    "! python /content/CL-TASD-MvP/model/main_train.py --do_con_dec --task \"cl_mvp_tasd\" --num_beams \"1\" --dataset \"SemEval16\" --model_prefix \"English_SemEval16\" --language \"English\" --test_language \"Turkish\"   --top_k 1 --num_train_epochs 20 --do_inference --train_batch_size 16 --eval_batch_size 64 --weight_decay 0.1 --warmup_steps 0.1 --model_name_or_path \"/content/drive/MyDrive/data/models/SemEval16Icl_mvp_tasdIgoogle/mt5-largeIbeamsI1IwdI0.1Imax_epochsI20IesI0IaccI1IlrI0.0001Icont_lossI0.05Icont_tempI0.25IseedI42IEnglish_SemEval16I1I0.1/\""
   ]
  },
  {
   "cell_type": "markdown",
   "metadata": {
    "id": "U4MPgsyUJbai"
   },
   "source": [
    "Evaluation on best checkpoint of the last 5 training epochs:\n"
   ]
  },
  {
   "cell_type": "code",
   "execution_count": null,
   "metadata": {
    "id": "fOxzg2s2Jbaj"
   },
   "outputs": [],
   "source": [
    "! python /content/CL-TASD-MvP/model/main_train.py --task \"cl_mvp_tasd\" --num_beams \"1\" --dataset \"SemEval16\" --model_prefix \"English_SemEval16\" --language \"English\" --test_language \"Turkish\"   --top_k 1 --num_train_epochs 20 --do_inference_best_5 --train_batch_size 16 --eval_batch_size 64 --weight_decay 0.1 --warmup_steps 0.1 --model_name_or_path \"/content/drive/MyDrive/data/models/SemEval16Icl_mvp_tasdIgoogle/mt5-largeIbeamsI1IwdI0.1Imax_epochsI20IesI0IaccI1IlrI0.0001Icont_lossI0.05Icont_tempI0.25IseedI42IEnglish_SemEval16I1I0.1/\""
   ]
  },
  {
   "cell_type": "code",
   "execution_count": null,
   "metadata": {
    "id": "ARlQVCBpJbaj"
   },
   "outputs": [],
   "source": [
    "! python /content/CL-TASD-MvP/model/main_train.py --do_con_dec --task \"cl_mvp_tasd\" --num_beams \"1\" --dataset \"SemEval16\" --model_prefix \"English_SemEval16\" --language \"English\" --test_language \"Turkish\"   --top_k 1 --num_train_epochs 20 --do_inference_best_5 --train_batch_size 16 --eval_batch_size 64 --weight_decay 0.1 --warmup_steps 0.1 --model_name_or_path \"/content/drive/MyDrive/data/models/SemEval16Icl_mvp_tasdIgoogle/mt5-largeIbeamsI1IwdI0.1Imax_epochsI20IesI0IaccI1IlrI0.0001Icont_lossI0.05Icont_tempI0.25IseedI42IEnglish_SemEval16I1I0.1/\""
   ]
  },
  {
   "cell_type": "markdown",
   "metadata": {
    "id": "y6jaUpjDJbaj"
   },
   "source": [
    "Evaluation on best checkpoint:\n"
   ]
  },
  {
   "cell_type": "code",
   "execution_count": null,
   "metadata": {
    "id": "-irLAMpoJbaj"
   },
   "outputs": [],
   "source": [
    "! python /content/CL-TASD-MvP/model/main_train.py --task \"cl_mvp_tasd\" --num_beams \"1\" --dataset \"SemEval16\" --model_prefix \"English_SemEval16\" --language \"English\" --test_language \"Turkish\"   --top_k 1 --num_train_epochs 20 --do_inference_best_ckpt --train_batch_size 16 --eval_batch_size 64 --weight_decay 0.1 --warmup_steps 0.1 --model_name_or_path \"/content/drive/MyDrive/data/models/SemEval16Icl_mvp_tasdIgoogle/mt5-largeIbeamsI1IwdI0.1Imax_epochsI20IesI0IaccI1IlrI0.0001Icont_lossI0.05Icont_tempI0.25IseedI42IEnglish_SemEval16I1I0.1/\""
   ]
  },
  {
   "cell_type": "code",
   "execution_count": null,
   "metadata": {
    "id": "qTHVeB6UJbaj"
   },
   "outputs": [],
   "source": [
    "! python /content/CL-TASD-MvP/model/main_train.py --do_con_dec --task \"cl_mvp_tasd\" --num_beams \"1\" --dataset \"SemEval16\" --model_prefix \"English_SemEval16\" --language \"English\" --test_language \"Turkish\"   --top_k 1 --num_train_epochs 20 --do_inference_best_ckpt --train_batch_size 16 --eval_batch_size 64 --weight_decay 0.1 --warmup_steps 0.1 --model_name_or_path \"/content/drive/MyDrive/data/models/SemEval16Icl_mvp_tasdIgoogle/mt5-largeIbeamsI1IwdI0.1Imax_epochsI20IesI0IaccI1IlrI0.0001Icont_lossI0.05Icont_tempI0.25IseedI42IEnglish_SemEval16I1I0.1/\""
   ]
  }
 ],
 "metadata": {
  "accelerator": "GPU",
  "colab": {
   "authorship_tag": "ABX9TyNQ+XI2FpA56MxPSFbDSzIR",
   "gpuType": "L4",
   "machine_shape": "hm",
   "provenance": [
    {
     "file_id": "1iDP1fPQGnypRPcfwfPS2OwvGZLt_Yvzu",
     "timestamp": 1753169717998
    }
   ]
  },
  "kernelspec": {
   "display_name": "Python 3",
   "name": "python3"
  },
  "language_info": {
   "name": "python"
  }
 },
 "nbformat": 4,
 "nbformat_minor": 0
}
