{
 "cells": [
  {
   "cell_type": "markdown",
   "metadata": {
    "id": "NlSm-XoyKuvo"
   },
   "source": [
    "### **Notebook Setup**"
   ]
  },
  {
   "cell_type": "markdown",
   "metadata": {
    "id": "IEAxUJ-S2dJB"
   },
   "source": [
    "**Mount Prep**"
   ]
  },
  {
   "cell_type": "code",
   "execution_count": null,
   "metadata": {
    "colab": {
     "base_uri": "https://localhost:8080/"
    },
    "executionInfo": {
     "elapsed": 38676,
     "status": "ok",
     "timestamp": 1753458142039,
     "user": {
      "displayName": "Philipp Gottschalk",
      "userId": "02502242344906393626"
     },
     "user_tz": -120
    },
    "id": "tZlNusdLTV0v",
    "outputId": "821b634a-9ce6-48b7-8a8b-765ccd074417"
   },
   "outputs": [],
   "source": [
    "from google.colab import drive\n",
    "drive.mount(\"/content/drive/\")"
   ]
  },
  {
   "cell_type": "markdown",
   "metadata": {
    "id": "vkx1Y9Qj5G_1"
   },
   "source": [
    "**Package Installation:**"
   ]
  },
  {
   "cell_type": "code",
   "execution_count": null,
   "metadata": {
    "colab": {
     "base_uri": "https://localhost:8080/"
    },
    "collapsed": true,
    "executionInfo": {
     "elapsed": 98964,
     "status": "ok",
     "timestamp": 1753458241012,
     "user": {
      "displayName": "Philipp Gottschalk",
      "userId": "02502242344906393626"
     },
     "user_tz": -120
    },
    "id": "g73H7C4N_aUN",
    "outputId": "6f49dec4-3120-494f-8822-66d8a082d617"
   },
   "outputs": [],
   "source": [
    "! pip install transformers==4.53.2\n",
    "! pip install torch\n",
    "! pip install --upgrade pytorch-lightning\n",
    "! pip install sentencepiece\n",
    "! pip install parse\n",
    "! pip install --upgrade huggingface_hub"
   ]
  },
  {
   "cell_type": "markdown",
   "metadata": {
    "id": "nu6jBbPL2q4F"
   },
   "source": [
    "**GitHub Cloning:** 90-day access token is used"
   ]
  },
  {
   "cell_type": "code",
   "execution_count": null,
   "metadata": {
    "id": "C-qbm4XreAUf"
   },
   "outputs": [],
   "source": [
    "! rm -r CL-TASD-MvP #Remove GitHub whilst in session"
   ]
  },
  {
   "cell_type": "code",
   "execution_count": null,
   "metadata": {
    "colab": {
     "base_uri": "https://localhost:8080/"
    },
    "executionInfo": {
     "elapsed": 972,
     "status": "ok",
     "timestamp": 1753458241991,
     "user": {
      "displayName": "Philipp Gottschalk",
      "userId": "02502242344906393626"
     },
     "user_tz": -120
    },
    "id": "g9Ovr3oPvWD7",
    "outputId": "82157dfc-09c4-4cf4-e7b7-143b622877a4"
   },
   "outputs": [],
   "source": [
    "!git clone https://github.com/P-Gottschalk/CL-TASD-MvP.git"
   ]
  },
  {
   "cell_type": "markdown",
   "metadata": {
    "id": "IVyxSxqrCaiy"
   },
   "source": [
    "### **Model Training**"
   ]
  },
  {
   "cell_type": "markdown",
   "metadata": {
    "id": "zaVov8u3EXa3"
   },
   "source": [
    "Train the full model: MVP together with contrastive learning"
   ]
  },
  {
   "cell_type": "code",
   "execution_count": null,
   "metadata": {
    "colab": {
     "base_uri": "https://localhost:8080/"
    },
    "collapsed": true,
    "id": "mSFVoznWwKWa",
    "outputId": "379c63f1-fb22-427a-8393-0e77e006f96e"
   },
   "outputs": [],
   "source": [
    "! python /content/CL-TASD-MvP/model/main_train.py --task \"cl_mvp_tasd\" --num_beams \"1\"  --top_k 5 --do_contr_sent --do_contr_aspect --language \"Spanish\" --model_prefix \"Spanish_MABSA\" --dataset \"MABSA\" --do_train --train_batch_size 16 --eval_batch_size 64 --num_train_epochs 20 --cont_temp 0.25 --cont_loss 0.05 --weight_decay 0.1 --warmup_steps 0.1"
   ]
  },
  {
   "cell_type": "markdown",
   "metadata": {
    "id": "UU1ugT5NEnON"
   },
   "source": [
    "Train only MVP: no contrastive learning."
   ]
  },
  {
   "cell_type": "code",
   "execution_count": null,
   "metadata": {
    "colab": {
     "base_uri": "https://localhost:8080/"
    },
    "collapsed": true,
    "executionInfo": {
     "elapsed": 8943442,
     "status": "ok",
     "timestamp": 1753467185436,
     "user": {
      "displayName": "Philipp Gottschalk",
      "userId": "02502242344906393626"
     },
     "user_tz": -120
    },
    "id": "O0KXJwGxEnOO",
    "outputId": "ae26eb84-5b4f-40a5-b2c7-ce1fd5b6d207"
   },
   "outputs": [],
   "source": [
    "! python /content/CL-TASD-MvP/model/main_train.py --task \"cl_mvp_tasd\" --num_beams \"1\"  --top_k 5 --language \"Spanish\" --model_prefix \"Spanish_MABSA\" --dataset \"MABSA\" --do_train --train_batch_size 16 --eval_batch_size 64 --num_train_epochs 20 --cont_temp 0.25 --cont_loss 0.05 --weight_decay 0.1 --warmup_steps 0.1"
   ]
  },
  {
   "cell_type": "markdown",
   "metadata": {
    "id": "7jXsC8f1E0Md"
   },
   "source": [
    "Train only contrastive learning: no MVP"
   ]
  },
  {
   "cell_type": "code",
   "execution_count": null,
   "metadata": {
    "colab": {
     "base_uri": "https://localhost:8080/"
    },
    "collapsed": true,
    "executionInfo": {
     "elapsed": 2060427,
     "status": "ok",
     "timestamp": 1753469245871,
     "user": {
      "displayName": "Philipp Gottschalk",
      "userId": "02502242344906393626"
     },
     "user_tz": -120
    },
    "id": "40Z09BttE0Md",
    "outputId": "f2837d09-d086-484d-e9f6-62f979e8896c"
   },
   "outputs": [],
   "source": [
    "! python /content/CL-TASD-MvP/model/main_train.py --task \"cl_mvp_tasd\" --num_beams \"1\"  --top_k 1 --do_contr_sent --do_contr_aspect --language \"Spanish\" --model_prefix \"Spanish_MABSA\" --dataset \"MABSA\" --do_train --train_batch_size 16 --eval_batch_size 64 --num_train_epochs 20 --cont_temp 0.25 --cont_loss 0.05 --weight_decay 0.1 --warmup_steps 0.1"
   ]
  },
  {
   "cell_type": "markdown",
   "metadata": {
    "id": "zmc_YHq_FQhc"
   },
   "source": [
    "Train base mT5 model"
   ]
  },
  {
   "cell_type": "code",
   "execution_count": null,
   "metadata": {
    "colab": {
     "base_uri": "https://localhost:8080/"
    },
    "collapsed": true,
    "executionInfo": {
     "elapsed": 1669098,
     "status": "ok",
     "timestamp": 1753183818484,
     "user": {
      "displayName": "Philipp Gottschalk",
      "userId": "02502242344906393626"
     },
     "user_tz": -120
    },
    "id": "yHsPy3VeFQhc",
    "outputId": "ccc6eccd-ad96-4e2c-bc4f-237f7d03278c"
   },
   "outputs": [],
   "source": [
    "! python /content/CL-TASD-MvP/model/main_train.py --task \"cl_mvp_tasd\" --num_beams \"1\"  --top_k 1 --language \"Spanish\" --model_prefix \"Spanish_MABSA\" --dataset \"MABSA\" --do_train --train_batch_size 16 --eval_batch_size 64 --num_train_epochs 20 --cont_temp 0.25 --cont_loss 0.05 --weight_decay 0.1 --warmup_steps 0.1"
   ]
  },
  {
   "cell_type": "markdown",
   "metadata": {
    "id": "v81yuufYIt3A"
   },
   "source": [
    "### **Model Evaluation: Spanish**\n"
   ]
  },
  {
   "cell_type": "markdown",
   "metadata": {
    "id": "5RGEBQMVIt3B"
   },
   "source": [
    "#### **Evaluation Full Model**"
   ]
  },
  {
   "cell_type": "markdown",
   "metadata": {
    "id": "Uj2u_afqIt3B"
   },
   "source": [
    "Evaluation on final training epoch:\n"
   ]
  },
  {
   "cell_type": "code",
   "execution_count": null,
   "metadata": {
    "id": "kwdeLE9XIt3B"
   },
   "outputs": [],
   "source": [
    "! python /content/CL-TASD-MvP/model/main_train.py --task \"cl_mvp_tasd\" --num_beams \"1\" --dataset \"MABSA\" --model_prefix \"Spanish_MABSA\" --language \"Spanish\" --test_language \"Spanish\"   --top_k 5 --do_contr_sent --do_contr_aspect --num_train_epochs 20 --do_inference --train_batch_size 16 --eval_batch_size 64 --weight_decay 0.1 --warmup_steps 0.1 --model_name_or_path \"/content/drive/MyDrive/data/models/MABSAIcl_mvp_tasdIgoogle/mt5-largeIbeamsI1IwdI0.1Imax_epochsI20IesI0IaccI1IlrI0.0001Icont_lossI0.05Icont_tempI0.25IseedI42ISpanish_MABSAI5I0.1IsentIaspect/\""
   ]
  },
  {
   "cell_type": "code",
   "execution_count": null,
   "metadata": {
    "id": "hfTBHsvMIt3B"
   },
   "outputs": [],
   "source": [
    "! python /content/CL-TASD-MvP/model/main_train.py --do_con_dec --task \"cl_mvp_tasd\" --num_beams \"1\" --dataset \"MABSA\" --model_prefix \"Spanish_MABSA\" --language \"Spanish\" --test_language \"Spanish\"   --top_k 5 --do_contr_sent --do_contr_aspect --num_train_epochs 20 --do_inference --train_batch_size 16 --eval_batch_size 64 --weight_decay 0.1 --warmup_steps 0.1 --model_name_or_path \"/content/drive/MyDrive/data/models/MABSAIcl_mvp_tasdIgoogle/mt5-largeIbeamsI1IwdI0.1Imax_epochsI20IesI0IaccI1IlrI0.0001Icont_lossI0.05Icont_tempI0.25IseedI42ISpanish_MABSAI5I0.1IsentIaspect/\""
   ]
  },
  {
   "cell_type": "markdown",
   "metadata": {
    "id": "5G8wZ-XTIt3B"
   },
   "source": [
    "Evaluation on best checkpoint of the last 5 training epochs:\n"
   ]
  },
  {
   "cell_type": "code",
   "execution_count": null,
   "metadata": {
    "id": "0qnc5EWqIt3B"
   },
   "outputs": [],
   "source": [
    "! python /content/CL-TASD-MvP/model/main_train.py --task \"cl_mvp_tasd\" --num_beams \"1\" --dataset \"MABSA\" --model_prefix \"Spanish_MABSA\" --language \"Spanish\" --test_language \"Spanish\"   --top_k 5 --do_contr_sent --do_contr_aspect --num_train_epochs 20 --do_inference_best_5 --train_batch_size 16 --eval_batch_size 64 --weight_decay 0.1 --warmup_steps 0.1 --model_name_or_path \"/content/drive/MyDrive/data/models/MABSAIcl_mvp_tasdIgoogle/mt5-largeIbeamsI1IwdI0.1Imax_epochsI20IesI0IaccI1IlrI0.0001Icont_lossI0.05Icont_tempI0.25IseedI42ISpanish_MABSAI5I0.1IsentIaspect/\""
   ]
  },
  {
   "cell_type": "code",
   "execution_count": null,
   "metadata": {
    "id": "5GykmzlIIt3B"
   },
   "outputs": [],
   "source": [
    "! python /content/CL-TASD-MvP/model/main_train.py --do_con_dec --task \"cl_mvp_tasd\" --num_beams \"1\" --dataset \"MABSA\" --model_prefix \"Spanish_MABSA\" --language \"Spanish\" --test_language \"Spanish\"   --top_k 5 --do_contr_sent --do_contr_aspect --num_train_epochs 20 --do_inference_best_5 --train_batch_size 16 --eval_batch_size 64 --weight_decay 0.1 --warmup_steps 0.1 --model_name_or_path \"/content/drive/MyDrive/data/models/MABSAIcl_mvp_tasdIgoogle/mt5-largeIbeamsI1IwdI0.1Imax_epochsI20IesI0IaccI1IlrI0.0001Icont_lossI0.05Icont_tempI0.25IseedI42ISpanish_MABSAI5I0.1IsentIaspect/\""
   ]
  },
  {
   "cell_type": "markdown",
   "metadata": {
    "id": "Kzl_2w7LIt3C"
   },
   "source": [
    "Evaluation on best checkpoint:\n"
   ]
  },
  {
   "cell_type": "code",
   "execution_count": null,
   "metadata": {
    "id": "e-JCgSL7It3C"
   },
   "outputs": [],
   "source": [
    "! python /content/CL-TASD-MvP/model/main_train.py --task \"cl_mvp_tasd\" --num_beams \"1\" --dataset \"MABSA\" --model_prefix \"Spanish_MABSA\" --language \"Spanish\" --test_language \"Spanish\"   --top_k 5 --do_contr_sent --do_contr_aspect --num_train_epochs 20 --do_inference_best_ckpt --train_batch_size 16 --eval_batch_size 64 --weight_decay 0.1 --warmup_steps 0.1 --model_name_or_path \"/content/drive/MyDrive/data/models/MABSAIcl_mvp_tasdIgoogle/mt5-largeIbeamsI1IwdI0.1Imax_epochsI20IesI0IaccI1IlrI0.0001Icont_lossI0.05Icont_tempI0.25IseedI42ISpanish_MABSAI5I0.1IsentIaspect/\""
   ]
  },
  {
   "cell_type": "code",
   "execution_count": null,
   "metadata": {
    "id": "1cY61dKLIt3C"
   },
   "outputs": [],
   "source": [
    "! python /content/CL-TASD-MvP/model/main_train.py --do_con_dec --task \"cl_mvp_tasd\" --num_beams \"1\" --dataset \"MABSA\" --model_prefix \"Spanish_MABSA\" --language \"Spanish\" --test_language \"Spanish\"   --top_k 5 --do_contr_sent --do_contr_aspect --num_train_epochs 20 --do_inference_best_ckpt --train_batch_size 16 --eval_batch_size 64 --weight_decay 0.1 --warmup_steps 0.1 --model_name_or_path \"/content/drive/MyDrive/data/models/MABSAIcl_mvp_tasdIgoogle/mt5-largeIbeamsI1IwdI0.1Imax_epochsI20IesI0IaccI1IlrI0.0001Icont_lossI0.05Icont_tempI0.25IseedI42ISpanish_MABSAI5I0.1IsentIaspect/\""
   ]
  },
  {
   "cell_type": "markdown",
   "metadata": {
    "id": "F3I0SoXLIt3C"
   },
   "source": [
    "#### **Evaluation MVP Only**"
   ]
  },
  {
   "cell_type": "markdown",
   "metadata": {
    "id": "a3CMJ1iAIt3C"
   },
   "source": [
    "Evaluation on final training epoch:\n"
   ]
  },
  {
   "cell_type": "code",
   "execution_count": null,
   "metadata": {
    "id": "Y5bVQC71It3C"
   },
   "outputs": [],
   "source": [
    "! python /content/CL-TASD-MvP/model/main_train.py --task \"cl_mvp_tasd\" --num_beams \"1\" --dataset \"MABSA\" --model_prefix \"Spanish_MABSA\" --language \"Spanish\" --test_language \"Spanish\"   --top_k 5 --num_train_epochs 20 --do_inference --train_batch_size 16 --eval_batch_size 64 --weight_decay 0.1 --warmup_steps 0.1 --model_name_or_path \"/content/drive/MyDrive/data/models/MABSAIcl_mvp_tasdIgoogle/mt5-largeIbeamsI1IwdI0.1Imax_epochsI20IesI0IaccI1IlrI0.0001Icont_lossI0.05Icont_tempI0.25IseedI42ISpanish_MABSAI5I0.1/\""
   ]
  },
  {
   "cell_type": "code",
   "execution_count": null,
   "metadata": {
    "id": "0SE0O-kEIt3C"
   },
   "outputs": [],
   "source": [
    "! python /content/CL-TASD-MvP/model/main_train.py --do_con_dec --task \"cl_mvp_tasd\" --num_beams \"1\" --dataset \"MABSA\" --model_prefix \"Spanish_MABSA\" --language \"Spanish\" --test_language \"Spanish\"   --top_k 5 --num_train_epochs 20 --do_inference --train_batch_size 16 --eval_batch_size 64 --weight_decay 0.1 --warmup_steps 0.1 --model_name_or_path \"/content/drive/MyDrive/data/models/MABSAIcl_mvp_tasdIgoogle/mt5-largeIbeamsI1IwdI0.1Imax_epochsI20IesI0IaccI1IlrI0.0001Icont_lossI0.05Icont_tempI0.25IseedI42ISpanish_MABSAI5I0.1/\""
   ]
  },
  {
   "cell_type": "markdown",
   "metadata": {
    "id": "P8gmuIIFIt3C"
   },
   "source": [
    "Evaluation on best checkpoint of the last 5 training epochs:\n"
   ]
  },
  {
   "cell_type": "code",
   "execution_count": null,
   "metadata": {
    "id": "1j3HQTCxIt3C"
   },
   "outputs": [],
   "source": [
    "! python /content/CL-TASD-MvP/model/main_train.py --task \"cl_mvp_tasd\" --num_beams \"1\" --dataset \"MABSA\" --model_prefix \"Spanish_MABSA\" --language \"Spanish\" --test_language \"Spanish\"   --top_k 5 --num_train_epochs 20 --do_inference_best_5 --train_batch_size 16 --eval_batch_size 64 --weight_decay 0.1 --warmup_steps 0.1 --model_name_or_path \"/content/drive/MyDrive/data/models/MABSAIcl_mvp_tasdIgoogle/mt5-largeIbeamsI1IwdI0.1Imax_epochsI20IesI0IaccI1IlrI0.0001Icont_lossI0.05Icont_tempI0.25IseedI42ISpanish_MABSAI5I0.1/\""
   ]
  },
  {
   "cell_type": "code",
   "execution_count": null,
   "metadata": {
    "id": "zlZqQUgIIt3C"
   },
   "outputs": [],
   "source": [
    "! python /content/CL-TASD-MvP/model/main_train.py --do_con_dec --task \"cl_mvp_tasd\" --num_beams \"1\" --dataset \"MABSA\" --model_prefix \"Spanish_MABSA\" --language \"Spanish\" --test_language \"Spanish\"   --top_k 5 --num_train_epochs 20 --do_inference_best_5 --train_batch_size 16 --eval_batch_size 64 --weight_decay 0.1 --warmup_steps 0.1 --model_name_or_path \"/content/drive/MyDrive/data/models/MABSAIcl_mvp_tasdIgoogle/mt5-largeIbeamsI1IwdI0.1Imax_epochsI20IesI0IaccI1IlrI0.0001Icont_lossI0.05Icont_tempI0.25IseedI42ISpanish_MABSAI5I0.1/\""
   ]
  },
  {
   "cell_type": "markdown",
   "metadata": {
    "id": "l0yoJAudIt3C"
   },
   "source": [
    "Evaluation on best checkpoint:\n"
   ]
  },
  {
   "cell_type": "code",
   "execution_count": null,
   "metadata": {
    "id": "2gTX8QAGIt3C"
   },
   "outputs": [],
   "source": [
    "! python /content/CL-TASD-MvP/model/main_train.py --task \"cl_mvp_tasd\" --num_beams \"1\" --dataset \"MABSA\" --model_prefix \"Spanish_MABSA\" --language \"Spanish\" --test_language \"Spanish\"   --top_k 5 --num_train_epochs 20 --do_inference_best_ckpt --train_batch_size 16 --eval_batch_size 64 --weight_decay 0.1 --warmup_steps 0.1 --model_name_or_path \"/content/drive/MyDrive/data/models/MABSAIcl_mvp_tasdIgoogle/mt5-largeIbeamsI1IwdI0.1Imax_epochsI20IesI0IaccI1IlrI0.0001Icont_lossI0.05Icont_tempI0.25IseedI42ISpanish_MABSAI5I0.1/\""
   ]
  },
  {
   "cell_type": "code",
   "execution_count": null,
   "metadata": {
    "id": "wwMebGc1It3C"
   },
   "outputs": [],
   "source": [
    "! python /content/CL-TASD-MvP/model/main_train.py --do_con_dec --task \"cl_mvp_tasd\" --num_beams \"1\" --dataset \"MABSA\" --model_prefix \"Spanish_MABSA\" --language \"Spanish\" --test_language \"Spanish\"   --top_k 5 --num_train_epochs 20 --do_inference_best_ckpt --train_batch_size 16 --eval_batch_size 64 --weight_decay 0.1 --warmup_steps 0.1 --model_name_or_path \"/content/drive/MyDrive/data/models/MABSAIcl_mvp_tasdIgoogle/mt5-largeIbeamsI1IwdI0.1Imax_epochsI20IesI0IaccI1IlrI0.0001Icont_lossI0.05Icont_tempI0.25IseedI42ISpanish_MABSAI5I0.1/\""
   ]
  },
  {
   "cell_type": "markdown",
   "metadata": {
    "id": "dgDX70iQIt3D"
   },
   "source": [
    "#### **Evaluation Only CL**"
   ]
  },
  {
   "cell_type": "markdown",
   "metadata": {
    "id": "ubqTEEW4It3D"
   },
   "source": [
    "Evaluation on final training epoch:\n"
   ]
  },
  {
   "cell_type": "code",
   "execution_count": null,
   "metadata": {
    "id": "8pbJ8G8-It3D"
   },
   "outputs": [],
   "source": [
    "! python /content/CL-TASD-MvP/model/main_train.py --task \"cl_mvp_tasd\" --num_beams \"1\" --dataset \"MABSA\" --model_prefix \"Spanish_MABSA\" --language \"Spanish\" --test_language \"Spanish\"   --top_k 1 --do_contr_sent --do_contr_aspect --num_train_epochs 20 --do_inference --train_batch_size 16 --eval_batch_size 64 --weight_decay 0.1 --warmup_steps 0.1 --model_name_or_path \"/content/drive/MyDrive/data/models/MABSAIcl_mvp_tasdIgoogle/mt5-largeIbeamsI1IwdI0.1Imax_epochsI20IesI0IaccI1IlrI0.0001Icont_lossI0.05Icont_tempI0.25IseedI42ISpanish_MABSAI1I0.1IsentIaspect/\""
   ]
  },
  {
   "cell_type": "code",
   "execution_count": null,
   "metadata": {
    "id": "wSundGStIt3D"
   },
   "outputs": [],
   "source": [
    "! python /content/CL-TASD-MvP/model/main_train.py --do_con_dec --task \"cl_mvp_tasd\" --num_beams \"1\" --dataset \"MABSA\" --model_prefix \"Spanish_MABSA\" --language \"Spanish\" --test_language \"Spanish\"   --top_k 1 --do_contr_sent --do_contr_aspect --num_train_epochs 20 --do_inference --train_batch_size 16 --eval_batch_size 64 --weight_decay 0.1 --warmup_steps 0.1 --model_name_or_path \"/content/drive/MyDrive/data/models/MABSAIcl_mvp_tasdIgoogle/mt5-largeIbeamsI1IwdI0.1Imax_epochsI20IesI0IaccI1IlrI0.0001Icont_lossI0.05Icont_tempI0.25IseedI42ISpanish_MABSAI1I0.1IsentIaspect/\""
   ]
  },
  {
   "cell_type": "markdown",
   "metadata": {
    "id": "ZhLIw-PbIt3D"
   },
   "source": [
    "Evaluation on best checkpoint of the last 5 training epochs:\n"
   ]
  },
  {
   "cell_type": "code",
   "execution_count": null,
   "metadata": {
    "id": "XR3KnUkWIt3D"
   },
   "outputs": [],
   "source": [
    "! python /content/CL-TASD-MvP/model/main_train.py --task \"cl_mvp_tasd\" --num_beams \"1\" --dataset \"MABSA\" --model_prefix \"Spanish_MABSA\" --language \"Spanish\" --test_language \"Spanish\"   --top_k 1 --do_contr_sent --do_contr_aspect --num_train_epochs 20 --do_inference_best_5 --train_batch_size 16 --eval_batch_size 64 --weight_decay 0.1 --warmup_steps 0.1 --model_name_or_path \"/content/drive/MyDrive/data/models/MABSAIcl_mvp_tasdIgoogle/mt5-largeIbeamsI1IwdI0.1Imax_epochsI20IesI0IaccI1IlrI0.0001Icont_lossI0.05Icont_tempI0.25IseedI42ISpanish_MABSAI1I0.1IsentIaspect/\""
   ]
  },
  {
   "cell_type": "code",
   "execution_count": null,
   "metadata": {
    "id": "rMfUug11It3D"
   },
   "outputs": [],
   "source": [
    "! python /content/CL-TASD-MvP/model/main_train.py --do_con_dec --task \"cl_mvp_tasd\" --num_beams \"1\" --dataset \"MABSA\" --model_prefix \"Spanish_MABSA\" --language \"Spanish\" --test_language \"Spanish\"   --top_k 1 --do_contr_sent --do_contr_aspect --num_train_epochs 20 --do_inference_best_5 --train_batch_size 16 --eval_batch_size 64 --weight_decay 0.1 --warmup_steps 0.1 --model_name_or_path \"/content/drive/MyDrive/data/models/MABSAIcl_mvp_tasdIgoogle/mt5-largeIbeamsI1IwdI0.1Imax_epochsI20IesI0IaccI1IlrI0.0001Icont_lossI0.05Icont_tempI0.25IseedI42ISpanish_MABSAI1I0.1IsentIaspect/\""
   ]
  },
  {
   "cell_type": "markdown",
   "metadata": {
    "id": "-HyXfSmGIt3D"
   },
   "source": [
    "Evaluation on best checkpoint:\n"
   ]
  },
  {
   "cell_type": "code",
   "execution_count": null,
   "metadata": {
    "id": "51G4Kua0It3D"
   },
   "outputs": [],
   "source": [
    "! python /content/CL-TASD-MvP/model/main_train.py --task \"cl_mvp_tasd\" --num_beams \"1\" --dataset \"MABSA\" --model_prefix \"Spanish_MABSA\" --language \"Spanish\" --test_language \"Spanish\"   --top_k 1 --do_contr_sent --do_contr_aspect --num_train_epochs 20 --do_inference_best_ckpt --train_batch_size 16 --eval_batch_size 64 --weight_decay 0.1 --warmup_steps 0.1 --model_name_or_path \"/content/drive/MyDrive/data/models/MABSAIcl_mvp_tasdIgoogle/mt5-largeIbeamsI1IwdI0.1Imax_epochsI20IesI0IaccI1IlrI0.0001Icont_lossI0.05Icont_tempI0.25IseedI42ISpanish_MABSAI1I0.1IsentIaspect/\""
   ]
  },
  {
   "cell_type": "code",
   "execution_count": null,
   "metadata": {
    "id": "KCAPUBYXIt3D"
   },
   "outputs": [],
   "source": [
    "! python /content/CL-TASD-MvP/model/main_train.py --do_con_dec --task \"cl_mvp_tasd\" --num_beams \"1\" --dataset \"MABSA\" --model_prefix \"Spanish_MABSA\" --language \"Spanish\" --test_language \"Spanish\"   --top_k 1 --do_contr_sent --do_contr_aspect --num_train_epochs 20 --do_inference_best_ckpt --train_batch_size 16 --eval_batch_size 64 --weight_decay 0.1 --warmup_steps 0.1 --model_name_or_path \"/content/drive/MyDrive/data/models/MABSAIcl_mvp_tasdIgoogle/mt5-largeIbeamsI1IwdI0.1Imax_epochsI20IesI0IaccI1IlrI0.0001Icont_lossI0.05Icont_tempI0.25IseedI42ISpanish_MABSAI1I0.1IsentIaspect/\""
   ]
  },
  {
   "cell_type": "markdown",
   "metadata": {
    "id": "-e2d8DE8It3D"
   },
   "source": [
    "#### **Evaluation Base MT5**"
   ]
  },
  {
   "cell_type": "markdown",
   "metadata": {
    "id": "iciYMC1kIt3E"
   },
   "source": [
    "Evaluation on final training epoch:\n"
   ]
  },
  {
   "cell_type": "code",
   "execution_count": null,
   "metadata": {
    "id": "AdANPs0RIt3E"
   },
   "outputs": [],
   "source": [
    "! python /content/CL-TASD-MvP/model/main_train.py --task \"cl_mvp_tasd\" --num_beams \"1\" --dataset \"MABSA\" --model_prefix \"Spanish_MABSA\" --language \"Spanish\" --test_language \"Spanish\"   --top_k 1 --num_train_epochs 20 --do_inference --train_batch_size 16 --eval_batch_size 64 --weight_decay 0.1 --warmup_steps 0.1 --model_name_or_path \"/content/drive/MyDrive/data/models/MABSAIcl_mvp_tasdIgoogle/mt5-largeIbeamsI1IwdI0.1Imax_epochsI20IesI0IaccI1IlrI0.0001Icont_lossI0.05Icont_tempI0.25IseedI42ISpanish_MABSAI1I0.1/\""
   ]
  },
  {
   "cell_type": "code",
   "execution_count": null,
   "metadata": {
    "id": "1NgKTHQFIt3E"
   },
   "outputs": [],
   "source": [
    "! python /content/CL-TASD-MvP/model/main_train.py --do_con_dec --task \"cl_mvp_tasd\" --num_beams \"1\" --dataset \"MABSA\" --model_prefix \"Spanish_MABSA\" --language \"Spanish\" --test_language \"Spanish\"   --top_k 1 --num_train_epochs 20 --do_inference --train_batch_size 16 --eval_batch_size 64 --weight_decay 0.1 --warmup_steps 0.1 --model_name_or_path \"/content/drive/MyDrive/data/models/MABSAIcl_mvp_tasdIgoogle/mt5-largeIbeamsI1IwdI0.1Imax_epochsI20IesI0IaccI1IlrI0.0001Icont_lossI0.05Icont_tempI0.25IseedI42ISpanish_MABSAI1I0.1/\""
   ]
  },
  {
   "cell_type": "markdown",
   "metadata": {
    "id": "x_5HqbXOIt3E"
   },
   "source": [
    "Evaluation on best checkpoint of the last 5 training epochs:\n"
   ]
  },
  {
   "cell_type": "code",
   "execution_count": null,
   "metadata": {
    "id": "MQlR7ilMIt3E"
   },
   "outputs": [],
   "source": [
    "! python /content/CL-TASD-MvP/model/main_train.py --task \"cl_mvp_tasd\" --num_beams \"1\" --dataset \"MABSA\" --model_prefix \"Spanish_MABSA\" --language \"Spanish\" --test_language \"Spanish\"   --top_k 1 --num_train_epochs 20 --do_inference_best_5 --train_batch_size 16 --eval_batch_size 64 --weight_decay 0.1 --warmup_steps 0.1 --model_name_or_path \"/content/drive/MyDrive/data/models/MABSAIcl_mvp_tasdIgoogle/mt5-largeIbeamsI1IwdI0.1Imax_epochsI20IesI0IaccI1IlrI0.0001Icont_lossI0.05Icont_tempI0.25IseedI42ISpanish_MABSAI1I0.1/\""
   ]
  },
  {
   "cell_type": "code",
   "execution_count": null,
   "metadata": {
    "id": "OqRQCfAHIt3E"
   },
   "outputs": [],
   "source": [
    "! python /content/CL-TASD-MvP/model/main_train.py --do_con_dec --task \"cl_mvp_tasd\" --num_beams \"1\" --dataset \"MABSA\" --model_prefix \"Spanish_MABSA\" --language \"Spanish\" --test_language \"Spanish\"   --top_k 1 --num_train_epochs 20 --do_inference_best_5 --train_batch_size 16 --eval_batch_size 64 --weight_decay 0.1 --warmup_steps 0.1 --model_name_or_path \"/content/drive/MyDrive/data/models/MABSAIcl_mvp_tasdIgoogle/mt5-largeIbeamsI1IwdI0.1Imax_epochsI20IesI0IaccI1IlrI0.0001Icont_lossI0.05Icont_tempI0.25IseedI42ISpanish_MABSAI1I0.1/\""
   ]
  },
  {
   "cell_type": "markdown",
   "metadata": {
    "id": "GiPA0KcIIt3E"
   },
   "source": [
    "Evaluation on best checkpoint:\n"
   ]
  },
  {
   "cell_type": "code",
   "execution_count": null,
   "metadata": {
    "id": "kgHfPGBMIt3E"
   },
   "outputs": [],
   "source": [
    "! python /content/CL-TASD-MvP/model/main_train.py --task \"cl_mvp_tasd\" --num_beams \"1\" --dataset \"MABSA\" --model_prefix \"Spanish_MABSA\" --language \"Spanish\" --test_language \"Spanish\"   --top_k 1 --num_train_epochs 20 --do_inference_best_ckpt --train_batch_size 16 --eval_batch_size 64 --weight_decay 0.1 --warmup_steps 0.1 --model_name_or_path \"/content/drive/MyDrive/data/models/MABSAIcl_mvp_tasdIgoogle/mt5-largeIbeamsI1IwdI0.1Imax_epochsI20IesI0IaccI1IlrI0.0001Icont_lossI0.05Icont_tempI0.25IseedI42ISpanish_MABSAI1I0.1/\""
   ]
  },
  {
   "cell_type": "code",
   "execution_count": null,
   "metadata": {
    "id": "a3vp78PJIt3E"
   },
   "outputs": [],
   "source": [
    "! python /content/CL-TASD-MvP/model/main_train.py --do_con_dec --task \"cl_mvp_tasd\" --num_beams \"1\" --dataset \"MABSA\" --model_prefix \"Spanish_MABSA\" --language \"Spanish\" --test_language \"Spanish\"   --top_k 1 --num_train_epochs 20 --do_inference_best_ckpt --train_batch_size 16 --eval_batch_size 64 --weight_decay 0.1 --warmup_steps 0.1 --model_name_or_path \"/content/drive/MyDrive/data/models/MABSAIcl_mvp_tasdIgoogle/mt5-largeIbeamsI1IwdI0.1Imax_epochsI20IesI0IaccI1IlrI0.0001Icont_lossI0.05Icont_tempI0.25IseedI42ISpanish_MABSAI1I0.1/\""
   ]
  }
 ],
 "metadata": {
  "accelerator": "GPU",
  "colab": {
   "authorship_tag": "ABX9TyNvKwJxcxNFU9gW3jFKKZnB",
   "collapsed_sections": [
    "v81yuufYIt3A"
   ],
   "gpuType": "A100",
   "machine_shape": "hm",
   "provenance": [
    {
     "file_id": "1eApC8g-7Y8Rp1D07bFk6HkHgmasD4LqY",
     "timestamp": 1753292985211
    },
    {
     "file_id": "1WckKKH4_ANhCROvRSsq8Bs-R3yeZcaXq",
     "timestamp": 1753171444138
    },
    {
     "file_id": "1oK-Ew2HgvmcUFkiTvKvbT59NTGDZ41sh",
     "timestamp": 1753171376483
    },
    {
     "file_id": "11Fx9fj0LnMfQfsquZK0w-Um7RyxFFFle",
     "timestamp": 1753171233299
    },
    {
     "file_id": "1iDP1fPQGnypRPcfwfPS2OwvGZLt_Yvzu",
     "timestamp": 1753169717998
    }
   ]
  },
  "kernelspec": {
   "display_name": "Python 3",
   "name": "python3"
  },
  "language_info": {
   "name": "python"
  }
 },
 "nbformat": 4,
 "nbformat_minor": 0
}
